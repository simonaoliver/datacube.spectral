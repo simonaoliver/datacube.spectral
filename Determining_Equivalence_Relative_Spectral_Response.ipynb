{
 "cells": [
  {
   "cell_type": "markdown",
   "metadata": {},
   "source": [
    "# Determining Equivalence Relative Spectral Response"
   ]
  },
  {
   "cell_type": "markdown",
   "metadata": {
    "jp-MarkdownHeadingCollapsed": true
   },
   "source": [
    "## Table of Contents\n",
    "\n",
    "- [Import sensor data](#Import-data)\n",
    "- [Sensor plots](#Sensor-plots)\n",
    "- [Solar spectrum](#Solar-spectrum)\n",
    "- [Synthetic bands](#Synthetic-bands)\n",
    "- [Hyperspectral](#Hyperspectral)\n",
    "- [Reference colours](#Reference-colours)\n",
    "- [Band equivalence](#Band-equivalence)\n",
    "- [Spectral libraries](#Spectral-libraries)\n",
    "- [NASA sensor plot emulation](#NASA-sensor-plot-emulation)"
   ]
  },
  {
   "cell_type": "markdown",
   "metadata": {},
   "source": [
    "# Imports"
   ]
  },
  {
   "cell_type": "code",
   "execution_count": null,
   "metadata": {},
   "outputs": [],
   "source": [
    "import sys, os\n",
    "import numpy as np\n",
    "import csv\n",
    "import xml.etree.ElementTree as ET\n",
    "from scipy import ndimage\n",
    "import pandas\n",
    "from pathlib import Path\n",
    "import plotly\n",
    "import zipfile\n",
    "import netCDF4 \n",
    "from ipywidgets import interact, Dropdown, FloatSlider, IntSlider, SelectMultiple, Text\n",
    "from matplotlib import figure\n",
    "import json\n",
    "\n",
    "# Import functions from common speclib functions file\n",
    "sys.path.insert(0, os.path.abspath('../../'))\n",
    "import speclib\n",
    "\n",
    "from cryptography.fernet import Fernet"
   ]
  },
  {
   "cell_type": "markdown",
   "metadata": {},
   "source": [
    "# Import-data"
   ]
  },
  {
   "cell_type": "code",
   "execution_count": null,
   "metadata": {
    "tags": []
   },
   "outputs": [],
   "source": [
    "data_folder = Path(\"data/\")"
   ]
  },
  {
   "cell_type": "code",
   "execution_count": null,
   "metadata": {},
   "outputs": [],
   "source": [
    "# Import Sentinel-3 from NetCDF\n",
    "s3aolcinc = netCDF4.Dataset(data_folder.joinpath('sentinel3olci/S3A_OL_SRF_20160713_mean_rsr.nc4'))\n",
    "s3bolcinc = netCDF4.Dataset(data_folder.joinpath('sentinel3olci/S3B_OL_SRF_0_20180109_mean_rsr.nc4'))"
   ]
  },
  {
   "cell_type": "code",
   "execution_count": null,
   "metadata": {},
   "outputs": [],
   "source": [
    "spot1 = pandas.read_excel(data_folder.joinpath('spot/r453_9_spectralsensivity.xls'), sheet_name = 'SPOT 1', header=4, skiprows=[42,43]) #hrv1, hrv2\n",
    "spot2 = pandas.read_excel(data_folder.joinpath('spot/r453_9_spectralsensivity.xls'), sheet_name = 'SPOT 2', header=4, skiprows=[42,43]) #hrv1, hrv2\n",
    "spot3 = pandas.read_excel(data_folder.joinpath('spot/r453_9_spectralsensivity.xls'), sheet_name = 'SPOT 3', header=4, skiprows=[42,43]) #hrv1, hrv2\n",
    "spot4 = pandas.read_excel(data_folder.joinpath('spot/r453_9_spectralsensivity.xls'), sheet_name = 'SPOT 4', header=4, skiprows=[68,69]) #hrvir1, hrvir2\n",
    "spot5 = pandas.read_excel(data_folder.joinpath('spot/r453_9_spectralsensivity.xls'), sheet_name = 'SPOT 5', header=6) #hrg1, hrg2\n",
    "qb02 = pandas.read_excel(data_folder.joinpath('quickbird2/QB02_WV01_WV02_Spectral_Response_Final_Correct_Jan292013.xlsx'),\\\n",
    "                               sheet_name = 'QB02 Relative Radiance Response', header=7)\n",
    "wv01 = pandas.read_excel(data_folder.joinpath('quickbird2/QB02_WV01_WV02_Spectral_Response_Final_Correct_Jan292013.xlsx'),\\\n",
    "                               sheet_name = 'WV01 Relative Radiance Response', header=7)\n",
    "wv02 = pandas.read_excel(data_folder.joinpath('quickbird2/QB02_WV01_WV02_Spectral_Response_Final_Correct_Jan292013.xlsx'),\\\n",
    "                               sheet_name = 'WV02 Relative Radiance Response', header=7)\n",
    "geoeye1 = pandas.read_excel(data_folder.joinpath('geoeye1/GeoEye-1_Relative_Spectral_Response.xls'), sheet_name = 'Sheet1', header = 26, nrows= 651)\n",
    "\n",
    "ls9oli = pandas.read_excel(data_folder.joinpath('landsat9/L9_OLI2_Ball_BA_RSR.v1.0.xlsx'), sheet_name = ['CoastalAerosol','Blue', 'Green', 'Red', 'NIR', 'Cirrus', 'SWIR1', 'SWIR2', 'Pan'])\n",
    "ls9tirs = pandas.read_excel(data_folder.joinpath('landsat9/L9_TIRS2_Relative_Spectral_Responses.BA.v1.0.xlsx'), sheet_name = ['TIRS Band 10 BA RSR','TIRS Band 11 BA RSR'])\n",
    "\n",
    "ls8oli = pandas.read_excel(data_folder.joinpath('landsat8/Ball_BA_RSR.xlsx'), sheet_name = ['CoastalAerosol','Blue', 'Green', 'Red', 'NIR', 'Cirrus', 'SWIR1', 'SWIR2', 'Pan'])\n",
    "ls8tirs = pandas.read_excel(data_folder.joinpath('landsat8/TIRS_Relative_Spectral_ResponsesBA.xlsx'), sheet_name = ['TIRS BA RSR'])\n",
    "\n",
    "ls7etm = pandas.read_excel(data_folder.joinpath('landsat7/L7_RSR.xlsx'),sheet_name = ['Blue-L7','Green-L7','Red-L7','NIR-L7', 'SWIR(5)-L7','SWIR(7)-L7','Pan-L7'])\n",
    "ls7band6 = pandas.read_excel(data_folder.joinpath('landsat7/HANDBOOK_LandsatThermalRSRs.spectral.dat.xlsx'), sheet_name = ['HANDBOOK spectral_b6.dat'], header=2, usecols=[0,1])\n",
    "\n",
    "ls5tm = pandas.read_excel(data_folder.joinpath('landsat5/L5_TM_RSR.xlsx'), sheet_name = ['Blue-L5 TM', 'Green-L5 TM','Red-L5 TM', 'NIR-L5 TM', 'SWIR(5)-L5 TM','SWIR(7)-L5 TM' ] )\n",
    "ls5band6 = pandas.read_excel(data_folder.joinpath('landsat7/HANDBOOK_LandsatThermalRSRs.spectral.dat.xlsx'), sheet_name = ['HANDBOOK spectral_b6.dat'], header=2, usecols=[0,3])\n",
    "\n",
    "ls5mss = pandas.read_excel(data_folder.joinpath('landsat5/Landsat5MSS_BandAverageRSR.xlsx'), sheet_name = ['Band 1', 'Band 2', 'Band 3', 'Band 4'], header=1)\n",
    "\n",
    "ls4tm =  pandas.read_excel(data_folder.joinpath('landsat4/L4_TM_RSR.xlsx'), sheet_name = ['Blue-L4 TM', 'Green-L4 TM','Red-L4 TM', 'NIR-L4 TM', 'SWIR(5)-L4 TM','SWIR(7)-L4 TM' ] )\n",
    "ls4band6 = pandas.read_excel(data_folder.joinpath('landsat7/HANDBOOK_LandsatThermalRSRs.spectral.dat.xlsx'), sheet_name = ['HANDBOOK spectral_b6.dat'], header=2, usecols=[0,2])\n",
    "\n",
    "ls4mss = pandas.read_excel(data_folder.joinpath('landsat4/Landsat4MSS_BandAverageRSR.xlsx'), sheet_name = ['Band 1', 'Band 2', 'Band 3', 'Band 4'], header=1) \n",
    "ls3mss = pandas.read_excel(data_folder.joinpath('landsat3/Landsat3MSS_BandAverageRSR.xlsx'), sheet_name = ['Band 4', 'Band 5', 'Band 6', 'Band 7'], header=1)\n",
    "ls2mss = pandas.read_excel(data_folder.joinpath('landsat2/Landsat2MSS_BandAverageRSR.xls'), sheet_name = ['Band 4', 'Band 5', 'Band 6', 'Band 7'], header=1)\n",
    "ls1mss = pandas.read_excel(data_folder.joinpath('landsat1/Landsat1MSS_BandAverageRSR.xls'), sheet_name = ['Band 4', 'Band 5', 'Band 6', 'Band 7'], header=1)\n",
    "\n",
    "s2amsi = pandas.read_excel(data_folder.joinpath('sentinel2msi/Sentinel-2 MSI Spectral Responses.xlsx'),sheet_name = ['Spectral Responses (S2A)'])\n",
    "s2bmsi = pandas.read_excel(data_folder.joinpath('sentinel2msi/Sentinel-2 MSI Spectral Responses.xlsx'),sheet_name = ['Spectral Responses (S2B)'])\n",
    "tmodis = pandas.read_excel(data_folder.joinpath('aquamodis/MODIS_FM1_IB_OOB_RSR_merged.xls'), sheet_name = ['modis_fm1_rsp_mid_chnl_sum'])\n",
    "nppviirs = pandas.read_excel(data_folder.joinpath('nppviirs/NG_VIIRS_NPP_RSR_filtered_Oct2011_BA.xlsx'), \n",
    "                             sheet_name = ['I1','I2', 'I3','I5', 'M1', 'M2','M3', 'M4', 'M5', 'M6', 'M7', 'M8', 'M9','M10', 'M11', 'M12', 'M13', 'M14', 'M15', 'M16A', 'M16B'],\n",
    "                             header = None)\n",
    "#AVHRR https://www.star.nesdis.noaa.gov/smcd/spb/fwu/homepage/AVHRR/spec_resp_func/index.html\n",
    "noaa18avhrr = {}\n",
    "noaa18avhrr ['1'] = pandas.read_csv(data_folder.joinpath('noaa18avhrr/NOAA_18_A306C001.csv'), usecols=[0,1])\n",
    "noaa18avhrr ['2'] = pandas.read_csv(data_folder.joinpath('noaa18avhrr/NOAA_18_A306C002.csv'), usecols=[0,1])\n",
    "noaa18avhrr ['3A'] = pandas.read_csv(data_folder.joinpath('noaa18avhrr/NOAA_18_A306C03A.csv'), usecols=[0,1])\n",
    "noaa18avhrr ['3B'] = pandas.read_csv(data_folder.joinpath('noaa18avhrr/NOAA_18_A306C03B.csv'), usecols=[0,1])\n",
    "noaa18avhrr ['4'] = pandas.read_csv(data_folder.joinpath('noaa18avhrr/NOAA_18_A306C004.csv'), usecols=[0,1])\n",
    "noaa18avhrr ['5'] = pandas.read_csv(data_folder.joinpath('noaa18avhrr/NOAA_18_A306C005.csv'), usecols=[0,1]) \n",
    "\n",
    "noaa19avhrr = {}\n",
    "noaa19avhrr ['1'] = pandas.read_csv(data_folder.joinpath('noaa19avhrr/NOAA_19_A308C001.csv'), usecols=[0,1])\n",
    "noaa19avhrr ['2'] = pandas.read_csv(data_folder.joinpath('noaa19avhrr/NOAA_19_A308C002.csv'), usecols=[0,1])\n",
    "noaa19avhrr ['3A'] = pandas.read_csv(data_folder.joinpath('noaa19avhrr/NOAA_19_A308C03A.csv'), usecols=[0,1])\n",
    "noaa19avhrr ['3B'] = pandas.read_csv(data_folder.joinpath('noaa19avhrr/NOAA_19_A308C03B.csv'), usecols=[0,1])\n",
    "noaa19avhrr ['4'] = pandas.read_csv(data_folder.joinpath('noaa19avhrr/NOAA_19_A308C004.csv'), usecols=[0,1])\n",
    "noaa19avhrr ['5'] = pandas.read_csv(data_folder.joinpath('noaa19avhrr/NOAA_19_A308C005.csv'), usecols=[0,1])                    \n",
    "                    \n",
    "#ASTER - http://asterweb.jpl.nasa.gov/content/01_mission/03_instrument/archive/swir.txt (vnir.txt, tir.txt)\n",
    "astervnir = pandas.read_csv(data_folder.joinpath('terraaster/vnir.txt'),delim_whitespace=True, header=3)\n",
    "asterswir = pandas.read_csv(data_folder.joinpath('terraaster/swir.txt'),delim_whitespace=True, header=3)\n",
    "astertir = pandas.read_csv(data_folder.joinpath('terraaster/tir.txt'),delim_whitespace=True, header=3)\n",
    "satellogic = zipfile.ZipFile(data_folder.joinpath('newsat/Satellogic_MS_SRF.zip'), 'r')\n",
    "'''\n",
    "newsat = satellogic.open('Newsat8_srf.csv')\n",
    "newsat8 = pandas.read_csv(newsat,delim_whitespace=False, usecols = ['wavelength (nm)', 'blue_srf', 'green_srf', 'red_srf', 'ir_srf'])\n",
    "newsat = satellogic.open('Newsat9_srf.csv')\n",
    "newsat9 = pandas.read_csv(newsat,delim_whitespace=False, usecols = ['wavelength (nm)', 'blue_srf', 'green_srf', 'red_srf', 'ir_srf'])\n",
    "newsat = satellogic.open('Newsat10_srf.csv')\n",
    "newsat10 = pandas.read_csv(newsat,delim_whitespace=False, usecols = ['wavelength (nm)', 'blue_srf', 'green_srf', 'red_srf', 'ir_srf'])\n",
    "newsat = satellogic.open('Newsat11_srf.csv')\n",
    "newsat11 = pandas.read_csv(newsat,delim_whitespace=False, usecols = ['wavelength (nm)', 'blue_srf', 'green_srf', 'red_srf', 'ir_srf'])\n",
    "newsat = satellogic.open('Newsat12_srf.csv')\n",
    "newsat12 = pandas.read_csv(newsat,delim_whitespace=False, usecols = ['wavelength (nm)', 'blue_srf', 'green_srf', 'red_srf', 'ir_srf'])\n",
    "newsat = satellogic.open('Newsat13_srf.csv')\n",
    "newsat13 = pandas.read_csv(newsat,delim_whitespace=False, usecols = ['wavelength (nm)', 'blue_srf', 'green_srf', 'red_srf', 'ir_srf'])\n",
    "newsat = satellogic.open('Newsat14_srf.csv')\n",
    "newsat14 = pandas.read_csv(newsat,delim_whitespace=False, usecols = ['wavelength (nm)', 'blue_srf', 'green_srf', 'red_srf', 'ir_srf'])\n",
    "newsat = satellogic.open('Newsat15_srf.csv')\n",
    "newsat15 = pandas.read_csv(newsat,delim_whitespace=False, usecols = ['wavelength (nm)', 'blue_srf', 'green_srf', 'red_srf', 'ir_srf'])\n",
    "newsat = satellogic.open('Newsat16_srf.csv')\n",
    "newsat16 = pandas.read_csv(newsat,delim_whitespace=False, usecols = ['wavelength (nm)', 'blue_srf', 'green_srf', 'red_srf', 'ir_srf'])\n",
    "newsat = satellogic.open('Newsat17_srf.csv')\n",
    "newsat17 = pandas.read_csv(newsat,delim_whitespace=False, usecols = ['wavelength (nm)', 'blue_srf', 'green_srf', 'red_srf', 'ir_srf'])\n",
    "newsat = satellogic.open('Newsat18_srf.csv')\n",
    "newsat18 = pandas.read_csv(newsat,delim_whitespace=False, usecols = ['wavelength (nm)', 'blue_srf', 'green_srf', 'red_srf', 'ir_srf'])\n",
    "newsat = satellogic.open('Newsat19_srf.csv')\n",
    "newsat19 = pandas.read_csv(newsat,delim_whitespace=False, usecols = ['wavelength (nm)', 'blue_srf', 'green_srf', 'red_srf', 'ir_srf'])\n",
    "newsat = satellogic.open('Newsat20_srf.csv')\n",
    "newsat20 = pandas.read_csv(newsat,delim_whitespace=False, usecols = ['wavelength (nm)', 'blue_srf', 'green_srf', 'red_srf', 'ir_srf'])\n",
    "newsat = satellogic.open('Newsat21_srf.csv')\n",
    "newsat21 = pandas.read_csv(newsat,delim_whitespace=False, usecols = ['wavelength (nm)', 'blue_srf', 'green_srf', 'red_srf', 'ir_srf'])\n",
    "newsat = satellogic.open('Newsat22_srf.csv')\n",
    "newsat22 = pandas.read_csv(newsat,delim_whitespace=False, usecols = ['wavelength (nm)', 'blue_srf', 'green_srf', 'red_srf', 'ir_srf'])\n",
    "'''\n",
    "#Planet - https://support.planet.com/hc/en-us/articles/360014290293-Do-you-provide-Relative-Spectral-Response-Curves-RSRs-for-your-satellites-\n",
    "dove = pandas.read_csv(data_folder.joinpath('planet/dove_r.csv'), usecols=[0,1,2,3,4])\n",
    "planetscope0c0d = pandas.read_csv(data_folder.joinpath('planet/PlanetScope_RSR_SatID_0c_0d.csv'), usecols=[0,1,2,3,4])\n",
    "planetscope0e = pandas.read_csv(data_folder.joinpath('planet/PlanetScope_RSR_SatID_0e.csv'), usecols=[0,1,2,3,4])\n",
    "planetscope0f = pandas.read_csv(data_folder.joinpath('planet/PlanetScope_RSR_SatID_0f_10.csv'), usecols=[0,1,2,3,4])\n",
    "rapideye = pandas.read_csv(data_folder.joinpath('planet/RapidEye_RSR.csv'), usecols=[0,1,2,3,4])\n",
    "skysat1 = pandas.read_csv(data_folder.joinpath('planet/Skysat_RSR_Skysat1.csv'), usecols=[0,1,2,3,4,5])\n",
    "skysat2 = pandas.read_csv(data_folder.joinpath('planet/Skysat_RSR_Skysat2.csv'), usecols=[0,1,2,3,4,5])\n",
    "skysat3 = pandas.read_csv(data_folder.joinpath('planet/Skysat_RSR_Skysat3.csv'), usecols=[0,1,2,3,4,5])\n",
    "skysat4 = pandas.read_csv(data_folder.joinpath('planet/Skysat_RSR_Skysat4.csv'), usecols=[0,1,2,3,4,5])\n",
    "skysat5 = pandas.read_csv(data_folder.joinpath('planet/Skysat_RSR_Skysat5.csv'), usecols=[0,1,2,3,4,5])\n",
    "skysat6 = pandas.read_csv(data_folder.joinpath('planet/Skysat_RSR_Skysat6.csv'), usecols=[0,1,2,3,4,5])\n",
    "skysat7 = pandas.read_csv(data_folder.joinpath('planet/Skysat_RSR_Skysat7.csv'), usecols=[0,1,2,3,4,5])\n",
    "skysat8 = pandas.read_csv(data_folder.joinpath('planet/Skysat_RSR_Skysat8.csv'), usecols=[0,1,2,3,4,5])\n",
    "skysat9 = pandas.read_csv(data_folder.joinpath('planet/Skysat_RSR_Skysat9.csv'), usecols=[0,1,2,3,4,5])\n",
    "skysat10 = pandas.read_csv(data_folder.joinpath('planet/Skysat_RSR_Skysat10.csv'), usecols=[0,1,2,3,4,5])\n",
    "skysat11 = pandas.read_csv(data_folder.joinpath('planet/Skysat_RSR_Skysat11.csv'), usecols=[0,1,2,3,4,5])\n",
    "skysat12 = pandas.read_csv(data_folder.joinpath('planet/Skysat_RSR_Skysat12.csv'), usecols=[0,1,2,3,4,5])\n",
    "skysat13 = pandas.read_csv(data_folder.joinpath('planet/Skysat_RSR_Skysat13.csv'), usecols=[0,1,2,3,4,5])\n",
    "skysat14_19 = pandas.read_csv(data_folder.joinpath('planet/Skysat_RSR_Skysat14-SkySat19.csv'), usecols=[0,1,2,3,4,5])\n",
    "superdove = pandas.read_csv(data_folder.joinpath('planet/Superdove.csv'), usecols=[0,1,2,3,4,5,6,7,8])\n",
    "\n",
    "\n",
    "#H8 - http://www.data.jma.go.jp/mscweb/en/himawari89/space_segment/spsg_ahi.html\n",
    "h8ahi = pandas.read_excel(data_folder.joinpath('himawari8ahi/AHI-8_SpectralResponsivity_Data.xlsx'), sheet_name = ['Band 1','Band 2','Band 3','Band 4','Band 5','Band 6','Band 7','Band 8','Band 9','Band 10','Band 11','Band 12','Band 13','Band 14','Band 15','Band 16'], header = [4])\n",
    "h9ahi = pandas.read_excel(data_folder.joinpath('himawari9ahi/AHI-9_SpectralResponsivity_Data.xlsx'), sheet_name = ['Band 1','Band 2','Band 3','Band 4','Band 5','Band 6','Band 7','Band 8','Band 9','Band 10','Band 11','Band 12','Band 13','Band 14','Band 15','Band 16'], header = [4])\n",
    "\n",
    "\n",
    "irradiance = pandas.read_excel(data_folder.joinpath('solar_irradiance/ASTMG173.xls'), sheet_name = ['SMARTS2'], header=1)\n",
    "solar_tsis = pandas.read_csv(data_folder.joinpath('solar_irradiance/tsis1_hsrs_p1nm.csv'), usecols = ['wavelength (nm)','irradiance (W/m^2/nm)','uncertainty (W/m^2/nm)'])\n",
    "transmission = pandas.read_excel(data_folder.joinpath('solar_irradiance/Atmos_constits.xls'), sheet_name = ['solartwo'], header=11, index_col=None, usecols =\"A,B\")\n",
    "irradianceWhi2008 = pandas.read_csv(data_folder.joinpath('solar_irradiance/ref_solar_irradiance_whi-2008_ver2.dat.txt'), sep=\"  \", header=141, index_col=None)\n",
    "\n",
    "irradianceThuillier2002 = pandas.read_excel(data_folder.joinpath('solar_irradiance/Solar_irradiance_Thuillier_2002.xls'),  sheet_name = ['Thuillier 2002'], index_col=None, usecols =\"A,B\")\n"
   ]
  },
  {
   "cell_type": "code",
   "execution_count": null,
   "metadata": {},
   "outputs": [],
   "source": [
    "'''\n",
    "print (\"NewSat 8\", newsat8.keys())\n",
    "'''\n",
    "print (\"Planet Dove\", dove.keys())\n",
    "print (\"Planetscope 0x 0d\", planetscope0c0d.keys())\n",
    "print (\"Planetscope 0e\", planetscope0e.keys())\n",
    "print (\"Planetscope 0f\", planetscope0f.keys())\n",
    "print (\"Rapideye\", rapideye.keys())\n",
    "print (\"Skysat1\", skysat1.keys())\n",
    "print (\"Skysat2\", skysat2.keys())\n",
    "print (\"Skysat3\", skysat3.keys())\n",
    "print (\"Skysat4\", skysat4.keys())\n",
    "print (\"Skysat5\", skysat5.keys())\n",
    "print (\"Skysat6\", skysat6.keys())\n",
    "print (\"Skysat7\", skysat7.keys())\n",
    "print (\"Skysat8\", skysat8.keys())\n",
    "print (\"Skysat9\", skysat9.keys())\n",
    "print (\"Skysat10\", skysat10.keys()) \n",
    "print (\"Skysat11\", skysat11.keys())\n",
    "print (\"Skysat12\", skysat12.keys()) \n",
    "print (\"Skysat13\", skysat13.keys())\n",
    "print (\"Skysat14 to 19\", skysat14_19.keys()) \n",
    "print (\"SuperDove\", superdove.keys())\n",
    "\n",
    "print (\"SPOT 1\", spot1.keys())\n",
    "print (\"SPOT 2\", spot2.keys())\n",
    "print (\"SPOT 3\", spot3.keys())\n",
    "print (\"SPOT 4\", spot4.keys())\n",
    "print (\"SPOT 5\", spot5.keys())\n",
    "print (\"Geoeye 1\", geoeye1.keys())\n",
    "print (\"Worldview 1\", wv01.keys())\n",
    "print (\"Worldview 2\", wv02.keys())\n",
    "print (\"Quickbird 2\", qb02.keys())\n",
    "print (\"ASTER VNIR\", astervnir.keys())\n",
    "print (\"ASTER TIR\", astertir.keys())\n",
    "print (\"ASTER SWIR\", asterswir.keys())\n",
    "print (\"Himawari 8 AHI\", h8ahi.keys())\n",
    "print (\"Himawari 9 AHI\", h9ahi.keys())\n",
    "print (\"OLI2 \",ls9oli.keys())\n",
    "print (\"TIRS2\", ls9tirs.keys())\n",
    "print (\"OLI \",ls8oli.keys())\n",
    "print (\"TIRS\", ls8tirs.keys())\n",
    "print (\"TM\", ls5tm.keys())\n",
    "print (\"TM Band6\", ls5band6.keys())\n",
    "print (\"ETM+\", ls7etm.keys())\n",
    "print (\"MSS\",ls1mss.keys())\n",
    "print (\"S2AMSI\", s2amsi.keys())\n",
    "print (\"S2BMSI\", s2bmsi.keys())\n",
    "print (\"Terra MODIS\", (tmodis.keys()))\n",
    "print (\"NPP VIIRS\", (nppviirs.keys()))\n",
    "print (\"NOAA18 AVHRR\", noaa18avhrr .keys())\n",
    "print (\"NOAA19 AVHRR\", noaa19avhrr .keys())\n",
    "print (\"Solar Irradiance SMARTS\", (irradiance.keys()))\n",
    "print (\"Solar Irradiance TSIS\", (solar_tsis.keys()))\n",
    "print (\"Solar Irradiance Thuillier\", (irradianceThuillier2002.keys()))\n",
    "print (\"Solar Irradiance WHI\", (irradianceWhi2008.keys()))\n",
    "print (\"Atmospheric Transmission\", (transmission.keys()))\n",
    "\n",
    "sensorlist = [spot1, spot2, spot3, spot4, spot5, geoeye1, wv01, wv02, qb02, astervnir,asterswir,astertir, h8ahi,ls8oli,ls8tirs,ls5tm,ls7etm,s2amsi,tmodis]"
   ]
  },
  {
   "cell_type": "code",
   "execution_count": null,
   "metadata": {},
   "outputs": [],
   "source": [
    "ls8oli = speclib.updatecolumns(ls8oli)\n",
    "ls9oli = speclib.updatecolumns(ls9oli)\n",
    "\n",
    "nppviirs = speclib.updatecolumns(nppviirs)\n",
    "\n",
    "for key in h8ahi.keys():\n",
    "    h8ahi[key].columns = ['Wavelength', 'Wavenumber', 'RSR']\n",
    "for key in h9ahi.keys():\n",
    "    h9ahi[key].columns = ['Wavelength', 'Wavenumber', 'RSR']\n",
    "\n",
    "for key in noaa18avhrr .keys():\n",
    "    noaa18avhrr[key].columns = ['Wavelength', 'RSR']\n",
    "    noaa19avhrr[key].columns = ['Wavelength', 'RSR']\n",
    "    \n",
    "spot5.columns = ['Wavelength', 'Pa','B1','B2','B3','MIR','Pa.1','B1.1','B2.1','B3.1','MIR.1']   \n",
    "geoeye1.columns = ['Wavelength', 'Panchromatic', 'Blue', 'Green', 'Red','Near IR']\n",
    "'''\n",
    "newsat8.columns = ['Wavelength',  'Blue', 'Green', 'Red','Near IR']\n",
    "newsat9.columns = ['Wavelength',  'Blue', 'Green', 'Red','Near IR']\n",
    "newsat10.columns = ['Wavelength',  'Blue', 'Green', 'Red','Near IR']\n",
    "newsat11.columns = ['Wavelength',  'Blue', 'Green', 'Red','Near IR']\n",
    "newsat12.columns = ['Wavelength',  'Blue', 'Green', 'Red','Near IR']\n",
    "newsat13.columns = ['Wavelength',  'Blue', 'Green', 'Red','Near IR']\n",
    "newsat14.columns = ['Wavelength',  'Blue', 'Green', 'Red','Near IR']\n",
    "newsat15.columns = ['Wavelength',  'Blue', 'Green', 'Red','Near IR']\n",
    "newsat16.columns = ['Wavelength',  'Blue', 'Green', 'Red','Near IR']\n",
    "newsat17.columns = ['Wavelength',  'Blue', 'Green', 'Red','Near IR']\n",
    "newsat18.columns = ['Wavelength',  'Blue', 'Green', 'Red','Near IR']\n",
    "newsat19.columns = ['Wavelength',  'Blue', 'Green', 'Red','Near IR']\n",
    "newsat20.columns = ['Wavelength',  'Blue', 'Green', 'Red','Near IR']\n",
    "newsat21.columns = ['Wavelength',  'Blue', 'Green', 'Red','Near IR']\n",
    "newsat22.columns = ['Wavelength',  'Blue', 'Green', 'Red','Near IR']\n",
    "'''\n",
    "dove.columns = ['Wavelength', 'Blue', 'Green', 'Red', 'NIR'] #nm\n",
    "planetscope0c0d.columns = ['Wavelength', 'Blue', 'Green', 'Red', 'NIR']\n",
    "planetscope0e.columns = ['Wavelength', 'Blue', 'Green', 'Red', 'NIR']\n",
    "planetscope0f.columns = ['Wavelength', 'Blue', 'Green', 'Red', 'NIR']\n",
    "rapideye.columns = ['Wavelength', 'Blue', 'Green', 'Red', 'NIR']\n",
    "skysat1.columns = ['Wavelength', 'Blue', 'Green', 'Red', 'NIR', 'Pan']\n",
    "skysat2.columns = ['Wavelength', 'Blue', 'Green', 'Red', 'NIR', 'Pan']\n",
    "skysat3.columns = ['Wavelength', 'Blue', 'Green', 'Red', 'NIR', 'Pan']\n",
    "skysat4.columns = ['Wavelength', 'Blue', 'Green', 'Red', 'NIR', 'Pan']\n",
    "skysat5.columns = ['Wavelength', 'Blue', 'Green', 'Red', 'NIR', 'Pan']\n",
    "skysat6.columns = ['Wavelength', 'Blue', 'Green', 'Red', 'NIR', 'Pan']\n",
    "skysat7.columns = ['Wavelength', 'Blue', 'Green', 'Red', 'NIR', 'Pan']\n",
    "skysat8.columns = ['Wavelength', 'Blue', 'Green', 'Red', 'NIR', 'Pan']\n",
    "skysat9.columns = ['Wavelength', 'Blue', 'Green', 'Red', 'NIR', 'Pan']\n",
    "skysat10.columns = ['Wavelength', 'Blue', 'Green', 'Red', 'NIR', 'Pan'] \n",
    "skysat11.columns = ['Wavelength', 'Blue', 'Green', 'Red', 'NIR', 'Pan']\n",
    "skysat12.columns = ['Wavelength', 'Blue', 'Green', 'Red', 'NIR', 'Pan'] \n",
    "skysat13.columns = ['Wavelength', 'Blue', 'Green', 'Red', 'NIR', 'Pan']\n",
    "skysat14_19.columns = ['Wavelength', 'Blue', 'Green', 'Red', 'NIR','Pan'] \n",
    "superdove.columns = ['Wavelength', 'Coastal-Blue',\t'Blue', 'Green', 'Green_ii', 'Yellow', 'Red', 'Red-edge', 'NIR'] #nm\n",
    "\n",
    "wv01.columns = ['Wavelength', 'Pan']\n",
    "wv02.columns = ['Wavelength', 'Pan', 'Blue', 'Green', 'Red', 'NIR1', 'Coastal', 'Yellow', 'RedEdge','NIR2']\n",
    "qb02.columns = ['Wavelength', 'Pan', 'Blue', 'Green', 'Red','NIR']\n",
    "astervnir.columns = ['Wavelength1','VNIR_Band1','Wavelength2','VNIR_Band2','Wavelength3','VNIR_Band3', 'Wavelength3B','VNIR_Band3B']\n",
    "asterswir.columns = ['Wavelength4','SWIR_Band4','Wavelength5','SWIR_Band5','Wavelength6','SWIR_Band6','Wavelength7','SWIR_Band7','Wavelength8','SWIR_Band8','Wavelength9','SWIR_Band9']\n",
    "astertir.columns = ['Wavelength10','TIR_Band10','Wavelength11','TIR_Band11','Wavelength12','TIR_Band12','Wavelength13','TIR_Band13','Wavelength14','TIR_Band14']\n",
    "\n",
    "ls9tirs['TIRS Band 10 BA RSR'].columns = ['Wavelength', 'Band 10 Band Average RSR', 'ignore', 'ignore']\n",
    "ls9tirs['TIRS Band 11 BA RSR'].columns = ['Wavelength', 'Band 11 Band Average RSR', 'ignore', 'ignore']\n",
    "ls8tirs['TIRS BA RSR'].columns = ['Wavelength', 'TIRS1RSR', 'TIRS2RSR', 'ignore','ignore','ignore','ignore']\n",
    "ls7band6['HANDBOOK spectral_b6.dat'].columns = ['Wavelength', 'Band6']\n",
    "ls5band6['HANDBOOK spectral_b6.dat'].columns = ['Wavelength', 'Band6']\n",
    "ls4band6['HANDBOOK spectral_b6.dat'].columns = ['Wavelength', 'Band6']\n",
    "\n",
    "ls7etm = speclib.updatecolumns( ls7etm)\n",
    "ls5tm = speclib.updatecolumns( ls5tm)\n",
    "ls4tm = speclib.updatecolumns( ls4tm)\n",
    "\n",
    "ls5mss = speclib.updatecolumns( ls5mss)\n",
    "ls4mss = speclib.updatecolumns( ls4mss)\n",
    "ls3mss = speclib.updatecolumns( ls3mss)\n",
    "ls2mss = speclib.updatecolumns( ls2mss)\n",
    "ls1mss = speclib.updatecolumns( ls1mss)\n",
    "\n",
    "\n",
    "s2amsi['Spectral Responses (S2A)'].columns = ['Wavelength', 'Band1', 'Band2', 'Band3', 'Band4', 'Band5',\n",
    "       'Band6', 'Band7', 'Band8', 'Band8A', 'Band9', 'Band10',\n",
    "       'Band11', 'Band12']\n",
    "s2bmsi['Spectral Responses (S2B)'].columns = ['Wavelength', 'Band1', 'Band2', 'Band3', 'Band4', 'Band5',\n",
    "       'Band6', 'Band7', 'Band8', 'Band8A', 'Band9', 'Band10',\n",
    "       'Band11', 'Band12']\n",
    "tmodis['modis_fm1_rsp_mid_chnl_sum'].columns = ['Wavelength1', 'Band1RSR', 'Wavelength2', 'Band2RSR', 'Wavelength3',\n",
    "       'Band3RSR', 'Wavelength4', 'Band4RSR', 'Wavelength5', 'Band5RSR',\n",
    "       'Wavelength6', 'Band6RSR', 'Wavelength7', 'Band7RSR', 'Wavelength8',\n",
    "       'Band8RSR', 'Wavelength9', 'Band9RSR', 'Wavelength10', 'Band10RSR',\n",
    "       'Wavelength11', 'Band11RSR', 'Wavelength12', 'Band12RSR', 'Wavelength13',\n",
    "       'Band13RSR', 'Wavelength14', 'Band14RSR', 'Wavelength15', 'Band15RSR',\n",
    "       'Wavelength16', 'Band16RSR', 'Wavelength17', 'Band17RSR', 'Wavelength18',\n",
    "       'Band18RSR', 'Wavelength19', 'Band19RSR', 'Wavelength20', 'Band20RSR',\n",
    "       'Wavelength21', 'Band21RSR', 'Wavelength22', 'Band22RSR', 'Wavelength23',\n",
    "       'Band23RSR', 'Wavelength24', 'Band24RSR', 'Wavelength25', 'Band25RSR',\n",
    "       'Wavelength26', 'Band26RSR', 'Wavelength27', 'Band27RSR', 'Wavelength28',\n",
    "       'Band28RSR', 'Wavelength29', 'Band29RSR', 'Wavelength30', 'Band30RSR',\n",
    "       'Wavelength31', 'Band31RSR', 'Wavelength32', 'Band32RSR', 'Wavelength33',\n",
    "       'Band33RSR', 'Wavelength34', 'Band34RSR', 'Wavelength35', 'Band35RSR',\n",
    "       'Wavelength36', 'Band36RSR']\n",
    "\n",
    "irradiance['SMARTS2'].columns = ['Wavelength', 'ETR', 'Global_Tilt', 'Direct_Circumsolar']"
   ]
  },
  {
   "cell_type": "code",
   "execution_count": null,
   "metadata": {},
   "outputs": [],
   "source": [
    "# Define a sensible dataframe to hold the sensor info - above is getting blurghy\n",
    "# Room to add sensor native sampling resolution too though we can consider that out of scope for now\n",
    "# combinedsensors = pandas.DataFrame([{ \"wavelength\": , \"rsr\":  }], dtype = 'sensor')\n",
    "# A dict of pandas frames sounds like a reasonable container for this\n",
    "\n",
    "sensordict = {}\n",
    "\n",
    "#TODO def modes/types\n",
    "\n",
    "# Type 1 - dict of bands i.e. one band per sheet, one wavelength column, one rsr columns\n",
    " \n",
    "sensor = 'ls9oli'\n",
    "sensordict[sensor] = {}\n",
    "inputdict = ls9oli\n",
    "\n",
    "for key in inputdict.keys():\n",
    "    sensorrsr = pandas.Series(inputdict[(key)].RSR)\n",
    "    sensorwavelength = pandas.Series(inputdict[(key)].Wavelength )\n",
    "    combinedsensors = pandas.DataFrame({'wavelength': sensorwavelength,'rsr': sensorrsr})\n",
    "    sensordict[sensor][(key)] = combinedsensors\n",
    "    \n",
    "sensor = 'ls8oli'\n",
    "sensordict[sensor] = {}\n",
    "inputdict = ls8oli\n",
    "\n",
    "for key in inputdict.keys():\n",
    "    sensorrsr = pandas.Series(inputdict[(key)].RSR)\n",
    "    sensorwavelength = pandas.Series(inputdict[(key)].Wavelength )\n",
    "    combinedsensors = pandas.DataFrame({'wavelength': sensorwavelength,'rsr': sensorrsr})\n",
    "    sensordict[sensor][(key)] = combinedsensors\n",
    "\n",
    "sensor = 'ls7etm'\n",
    "sensordict[sensor] = {}\n",
    "inputdict = ls7etm\n",
    "\n",
    "for key in inputdict.keys():\n",
    "    sensorrsr = pandas.Series(inputdict[(key)].RSR)\n",
    "    sensorwavelength = pandas.Series(inputdict[(key)].Wavelength)\n",
    "    combinedsensors = pandas.DataFrame({'wavelength': sensorwavelength,'rsr': sensorrsr})\n",
    "    sensordict[sensor][(key)] = combinedsensors\n",
    "\n",
    "sensor = 'ls5tm'\n",
    "sensordict[sensor] = {}\n",
    "inputdict = ls5tm\n",
    "\n",
    "for key in inputdict.keys():\n",
    "    sensorrsr = pandas.Series(inputdict[(key)].RSR)\n",
    "    sensorwavelength = pandas.Series(inputdict[(key)].Wavelength )\n",
    "    combinedsensors = pandas.DataFrame({'wavelength': sensorwavelength,'rsr': sensorrsr})\n",
    "    sensordict[sensor][(key)] = combinedsensors    \n",
    " \n",
    "sensor = 'ls5mss'\n",
    "sensordict[sensor] = {}\n",
    "inputdict = ls5mss\n",
    "\n",
    "for key in inputdict.keys():\n",
    "    sensorrsr = pandas.Series(inputdict[(key)].RSR)\n",
    "    sensorwavelength = pandas.Series(inputdict[(key)].Wavelength*1000)\n",
    "    combinedsensors = pandas.DataFrame({'wavelength': sensorwavelength,'rsr': sensorrsr})\n",
    "    sensordict[sensor][(key)] = combinedsensors\n",
    "\n",
    "sensor = 'ls4tm'\n",
    "sensordict[sensor] = {}\n",
    "inputdict = ls4tm\n",
    "\n",
    "for key in inputdict.keys():\n",
    "    sensorrsr = pandas.Series(inputdict[(key)].RSR)\n",
    "    sensorwavelength = pandas.Series(inputdict[(key)].Wavelength )\n",
    "    combinedsensors = pandas.DataFrame({'wavelength': sensorwavelength,'rsr': sensorrsr})\n",
    "    sensordict[sensor][(key)] = combinedsensors    \n",
    "\n",
    "sensor = 'ls4mss'\n",
    "sensordict[sensor] = {}\n",
    "inputdict = ls4mss\n",
    "\n",
    "for key in inputdict.keys():\n",
    "    sensorrsr = pandas.Series(inputdict[(key)].RSR)\n",
    "    sensorwavelength = pandas.Series(inputdict[(key)].Wavelength*1000 )\n",
    "    combinedsensors = pandas.DataFrame({'wavelength': sensorwavelength,'rsr': sensorrsr})\n",
    "    sensordict[sensor][(key)] = combinedsensors\n",
    "\n",
    "sensor = 'ls3mss'\n",
    "sensordict[sensor] = {}\n",
    "inputdict = ls3mss\n",
    "\n",
    "for key in inputdict.keys():\n",
    "    sensorrsr = pandas.Series(inputdict[(key)].RSR)\n",
    "    sensorwavelength = pandas.Series(inputdict[(key)].Wavelength*1000 )\n",
    "    combinedsensors = pandas.DataFrame({'wavelength': sensorwavelength,'rsr': sensorrsr})\n",
    "    sensordict[sensor][(key)] = combinedsensors    \n",
    "\n",
    "sensor = 'ls2mss'\n",
    "sensordict[sensor] = {}\n",
    "inputdict = ls2mss\n",
    "\n",
    "for key in inputdict.keys():\n",
    "    sensorrsr = pandas.Series(inputdict[(key)].RSR)\n",
    "    sensorwavelength = pandas.Series(inputdict[(key)].Wavelength*1000 )\n",
    "    combinedsensors = pandas.DataFrame({'wavelength': sensorwavelength,'rsr': sensorrsr})\n",
    "    sensordict[sensor][(key)] = combinedsensors\n",
    "    \n",
    "sensor = 'ls1mss'\n",
    "sensordict[sensor] = {}\n",
    "inputdict = ls1mss\n",
    "\n",
    "for key in inputdict.keys():\n",
    "    sensorrsr = pandas.Series(inputdict[(key)].RSR)\n",
    "    sensorwavelength = pandas.Series(inputdict[(key)].Wavelength*1000 )\n",
    "    combinedsensors = pandas.DataFrame({'wavelength': sensorwavelength,'rsr': sensorrsr})\n",
    "    sensordict[sensor][(key)] = combinedsensors\n",
    "\n",
    "sensor = 'nppviirs'\n",
    "sensordict[sensor] = {}\n",
    "inputdict = nppviirs\n",
    "\n",
    "for key in inputdict.keys():\n",
    "    sensorrsr = pandas.Series(inputdict[(key)].RSR)\n",
    "    sensorwavelength = pandas.Series(inputdict[(key)].Wavelength )\n",
    "    combinedsensors = pandas.DataFrame({'wavelength': sensorwavelength,'rsr': sensorrsr})\n",
    "    sensordict[sensor][(key)] = combinedsensors \n",
    "    \n",
    "sensor = 'h8ahi'\n",
    "sensordict[sensor] = {}\n",
    "inputdict = h8ahi\n",
    "\n",
    "for key in inputdict.keys():\n",
    "    sensorrsr = pandas.Series(inputdict[(key)].RSR)\n",
    "    sensorwavelength = pandas.Series(inputdict[(key)].Wavelength*1000 )\n",
    "    combinedsensors = pandas.DataFrame({'wavelength': sensorwavelength,'rsr': sensorrsr})\n",
    "    sensordict[sensor][(key)] = combinedsensors    \n",
    "\n",
    "sensor = 'h9ahi'\n",
    "sensordict[sensor] = {}\n",
    "inputdict = h9ahi\n",
    "\n",
    "for key in inputdict.keys():\n",
    "    sensorrsr = pandas.Series(inputdict[(key)].RSR)\n",
    "    sensorwavelength = pandas.Series(inputdict[(key)].Wavelength*1000 )\n",
    "    combinedsensors = pandas.DataFrame({'wavelength': sensorwavelength,'rsr': sensorrsr})\n",
    "    sensordict[sensor][(key)] = combinedsensors \n",
    "    \n",
    "sensor = 'noaa18avhrr'\n",
    "sensordict[sensor] = {}\n",
    "inputdict = noaa18avhrr \n",
    "\n",
    "for key in inputdict.keys():\n",
    "    sensorrsr = pandas.Series(inputdict[(key)].RSR)\n",
    "    sensorwavelength = pandas.Series(inputdict[(key)].Wavelength*1000 )\n",
    "    combinedsensors = pandas.DataFrame({'wavelength': sensorwavelength,'rsr': sensorrsr})\n",
    "    sensordict[sensor][(key)] = combinedsensors \n",
    "\n",
    "sensor = 'noaa19avhrr'\n",
    "sensordict[sensor] = {}\n",
    "inputdict = noaa19avhrr \n",
    "\n",
    "for key in inputdict.keys():\n",
    "    sensorrsr = pandas.Series(inputdict[(key)].RSR)\n",
    "    sensorwavelength = pandas.Series(inputdict[(key)].Wavelength*1000 )\n",
    "    combinedsensors = pandas.DataFrame({'wavelength': sensorwavelength,'rsr': sensorrsr})\n",
    "    sensordict[sensor][(key)] = combinedsensors\n",
    "\n",
    "   \n",
    "# Type 2 - single dict i.e. multiple bands per sheet, one wavelength column, multiple rsr columns \n",
    "    \n",
    "\n",
    "sensordict = speclib.multiplebandsonewavelength(sensordict, s2amsi, 's2amsi',1)\n",
    "sensordict = speclib.multiplebandsonewavelength(sensordict, s2bmsi, 's2bmsi',1)\n",
    "sensordict = speclib.multiplebandsonewavelength(sensordict, geoeye1, 'geoeye1',1)\n",
    "'''\n",
    "sensordict = speclib.multiplebandsonewavelength(sensordict, newsat8, 'newsat8',1)\n",
    "sensordict = speclib.multiplebandsonewavelength(sensordict, newsat9, 'newsat9',1)\n",
    "sensordict = speclib.multiplebandsonewavelength(sensordict, newsat10, 'newsat10',1)\n",
    "sensordict = speclib.multiplebandsonewavelength(sensordict, newsat11, 'newsat11',1)\n",
    "sensordict = speclib.multiplebandsonewavelength(sensordict, newsat12, 'newsat12',1)\n",
    "sensordict = speclib.multiplebandsonewavelength(sensordict, newsat13, 'newsat13',1)\n",
    "sensordict = speclib.multiplebandsonewavelength(sensordict, newsat14, 'newsat14',1)\n",
    "sensordict = speclib.multiplebandsonewavelength(sensordict, newsat15, 'newsat15',1)\n",
    "sensordict = speclib.multiplebandsonewavelength(sensordict, newsat16, 'newsat16',1)\n",
    "sensordict = speclib.multiplebandsonewavelength(sensordict, newsat17, 'newsat17',1)\n",
    "sensordict = speclib.multiplebandsonewavelength(sensordict, newsat18, 'newsat18',1)\n",
    "sensordict = speclib.multiplebandsonewavelength(sensordict, newsat19, 'newsat19',1)\n",
    "sensordict = speclib.multiplebandsonewavelength(sensordict, newsat20, 'newsat20',1)\n",
    "sensordict = speclib.multiplebandsonewavelength(sensordict, newsat21, 'newsat21',1)\n",
    "sensordict = speclib.multiplebandsonewavelength(sensordict, newsat22, 'newsat22',1)\n",
    "'''\n",
    "sensordict = speclib.multiplebandsonewavelength(sensordict,dove, 'dove',1)\n",
    "sensordict = speclib.multiplebandsonewavelength(sensordict,planetscope0c0d, 'planetscope0c0d',1000)\n",
    "sensordict = speclib.multiplebandsonewavelength(sensordict,planetscope0e, 'planetscope0e', 1000)\n",
    "sensordict = speclib.multiplebandsonewavelength(sensordict,planetscope0f, 'planetscope0f', 1000)\n",
    "sensordict = speclib.multiplebandsonewavelength(sensordict,rapideye, 'rapideye', 1000)\n",
    "sensordict = speclib.multiplebandsonewavelength(sensordict,skysat1,'skysat1', 1000)\n",
    "sensordict = speclib.multiplebandsonewavelength(sensordict,skysat2,'skysat2', 1000)\n",
    "sensordict = speclib.multiplebandsonewavelength(sensordict,skysat3,'skysat3', 1000)\n",
    "sensordict = speclib.multiplebandsonewavelength(sensordict,skysat4,'skysat4', 1000)\n",
    "sensordict = speclib.multiplebandsonewavelength(sensordict,skysat5,'skysat5', 1000)\n",
    "sensordict = speclib.multiplebandsonewavelength(sensordict,skysat6,'skysat6', 1000)\n",
    "sensordict = speclib.multiplebandsonewavelength(sensordict,skysat7,'skysat7', 1000)\n",
    "sensordict = speclib.multiplebandsonewavelength(sensordict,skysat8,'skysat8', 1000)\n",
    "sensordict = speclib.multiplebandsonewavelength(sensordict,skysat9,'skysat9', 1000)\n",
    "sensordict = speclib.multiplebandsonewavelength(sensordict,skysat10,'skysat10', 1000) \n",
    "sensordict = speclib.multiplebandsonewavelength(sensordict,skysat11,'skysat11', 1000)\n",
    "sensordict = speclib.multiplebandsonewavelength(sensordict,skysat12,'skysat12', 1000)\n",
    "sensordict = speclib.multiplebandsonewavelength(sensordict,skysat13,'skysat13', 1000)\n",
    "sensordict = speclib.multiplebandsonewavelength(sensordict,skysat14_19, 'skysat14_19', 1000)\n",
    "sensordict = speclib.multiplebandsonewavelength(sensordict,superdove,'superdove', 1)\n",
    "\n",
    "sensordict = speclib.multiplebandsonewavelength(sensordict,wv01, 'wv01',1000)\n",
    "sensordict = speclib.multiplebandsonewavelength(sensordict,wv02, 'wv02',1000)\n",
    "sensordict = speclib.multiplebandsonewavelength(sensordict, qb02,'qb02',1000)\n",
    "sensordict = speclib.multiplebandsonewavelength(sensordict, spot5, 'spot5',1)\n",
    "\n",
    "sensordict = speclib.spotdataframe(sensordict, 'spot1',spot1)\n",
    "sensordict = speclib.spotdataframe(sensordict, 'spot2',spot2)\n",
    "sensordict = speclib.spotdataframe(sensordict, 'spot3',spot3)\n",
    "sensordict = speclib.spotdataframe(sensordict, 'spot4',spot4)"
   ]
  },
  {
   "cell_type": "code",
   "execution_count": null,
   "metadata": {},
   "outputs": [],
   "source": [
    "# Type 4 - Solar Irradiance - supposing we normalise this or find a normalised source other than \n",
    "# http://www.astm.org/Standards/G173.htm \n",
    "sensor = 'irradiance'\n",
    "sensordict[sensor] = {}\n",
    "inputdict = irradiance\n",
    "sensordict[sensor][('solar')] = pandas.DataFrame({'wavelength': \\\n",
    "                                                       inputdict['SMARTS2'].Wavelength,\\\n",
    "                                                       'rsr': \\\n",
    "                                                       inputdict['SMARTS2'].Direct_Circumsolar})\n",
    "sensordict[sensor][('ETR')] = pandas.DataFrame({'wavelength': \\\n",
    "                                                       inputdict['SMARTS2'].Wavelength,\\\n",
    "                                                       'rsr': \\\n",
    "                                                       inputdict['SMARTS2'].ETR})\n",
    "sensordict[sensor][('Global_Tilt')] = pandas.DataFrame({'wavelength': \\\n",
    "                                                       inputdict['SMARTS2'].Wavelength,\\\n",
    "                                                       'rsr': \\\n",
    "                                                       inputdict['SMARTS2'].Global_Tilt})\n",
    "\n",
    "solar_curve = ndimage.filters.gaussian_filter(sensordict['irradiance'][('solar')].rsr, 20)\n",
    "\n",
    "sensor = 'irradianceThuillier2002'\n",
    "\n",
    "sensordict[sensor] = {}\n",
    "inputdict = irradianceThuillier2002\n",
    "sensordict[sensor][('Thuillier 2002')] = pandas.DataFrame({'wavelength': \\\n",
    "                                                       inputdict['Thuillier 2002'].nm,\\\n",
    "                                                       'rsr': \\\n",
    "                                                       inputdict['Thuillier 2002']['mW/m2/nm']})\n",
    "solar_curve = ndimage.filters.gaussian_filter(sensordict['irradianceThuillier2002'][('Thuillier 2002')].rsr, 20)"
   ]
  },
  {
   "cell_type": "code",
   "execution_count": null,
   "metadata": {},
   "outputs": [],
   "source": [
    "# Recreation of USGS infographic\n",
    "# https://landsat.gsfc.nasa.gov/article/the-intervening-atmosphere-tracing-the-provenance-of-a-favorite-landsat-infographic\n",
    "sensor = 'transmission'\n",
    "sensordict[sensor] = {}\n",
    "inputdict = transmission\n",
    "sensordict[sensor][('solar')] = pandas.DataFrame({'wavelength': \\\n",
    "                                                       transmission['solartwo']['Wave']*1000,\\\n",
    "                                                       'rsr': \\\n",
    "                                                       transmission['solartwo']['Tot Trans']})"
   ]
  },
  {
   "cell_type": "code",
   "execution_count": null,
   "metadata": {},
   "outputs": [],
   "source": [
    "# Solar Irradiance \n",
    "# http://www.astm.org/Standards/G173.htm \n",
    "sensor = 'solar_tsis'\n",
    "sensordict[sensor] = {}\n",
    "inputdict = solar_tsis\n",
    "sensordict[sensor][('solar')] = pandas.DataFrame({'wavelength': \\\n",
    "                                                       solar_tsis['wavelength (nm)'],\\\n",
    "                                                       'rsr': \\\n",
    "                                                       solar_tsis['irradiance (W/m^2/nm)']})"
   ]
  },
  {
   "cell_type": "code",
   "execution_count": null,
   "metadata": {},
   "outputs": [],
   "source": [
    "# Solar Spectral Irradiance Reference Spectra for Whole Heliosphere Interval (WHI) 2008 Carrington Rotation 2068 20 March 2008  to  16 April 2008\n",
    "irradianceWhi2008.reset_index(inplace=True)\n",
    "sensor = 'irradianceWhi2008'\n",
    "sensordict[sensor] = {}\n",
    "inputdict = irradianceWhi2008\n",
    "sensordict[sensor][('Irradiance Mar 25-29')] = pandas.DataFrame({'wavelength': \\\n",
    "                                                       inputdict['index'],\\\n",
    "                                                       'rsr': \\\n",
    "                                                       inputdict['5 columns : :']})\n",
    "sensordict[sensor][('Irradiance Mar 30-Apr 4')] = pandas.DataFrame({'wavelength': \\\n",
    "                                                       inputdict['index'],\\\n",
    "                                                       'rsr': \\\n",
    "                                                       inputdict['Wavelength (nm),']})\n",
    "sensordict[sensor][('Irradiance Apr 10-16')] = pandas.DataFrame({'wavelength': \\\n",
    "                                                       inputdict['index'],\\\n",
    "                                                       'rsr': \\\n",
    "                                                       inputdict['Irradiance Mar 25-29,']})"
   ]
  },
  {
   "cell_type": "code",
   "execution_count": null,
   "metadata": {},
   "outputs": [],
   "source": [
    "s3aolcidict = {}\n",
    "count = 0\n",
    "while count < 21:\n",
    "    sensorrsr = pandas.Series(s3aolcinc['mean_spectral_response_function'][count].astype('float').data)\n",
    "    sensorwavelength = pandas.Series(s3aolcinc['mean_spectral_response_function_wavelength'][count].astype('int64').data)\n",
    "    s3aolcidict['OA'+str(count+1)] = speclib.trim_zero_records(speclib.fill_nans(pandas.DataFrame({'wavelength': sensorwavelength,'rsr': sensorrsr})))\n",
    "    count = count+1\n",
    "sensordict['s3aolci'] = s3aolcidict"
   ]
  },
  {
   "cell_type": "code",
   "execution_count": null,
   "metadata": {},
   "outputs": [],
   "source": [
    "s3bolcidict = {}\n",
    "count = 0\n",
    "while count < 21:\n",
    "    sensorrsr = pandas.Series(s3bolcinc['mean_spectral_response_function'][count].astype('float').data)\n",
    "    sensorwavelength = pandas.Series(s3bolcinc['mean_spectral_response_function_wavelength'][count].astype('int64').data)\n",
    "    s3bolcidict['OA'+str(count+1)] = speclib.trim_zero_records(speclib.fill_nans(pandas.DataFrame({'wavelength': sensorwavelength,'rsr': sensorrsr})))\n",
    "    count = count+1\n",
    "sensordict['s3bolci'] = s3bolcidict"
   ]
  },
  {
   "cell_type": "code",
   "execution_count": null,
   "metadata": {},
   "outputs": [],
   "source": [
    "sensor = 'ls8tirs'\n",
    "sensordict[sensor] = {}\n",
    "inputdict = ls8tirs\n",
    "for key in inputdict.keys():\n",
    "    for column in inputdict[(key)].columns:\n",
    "        if not (column == 'Wavelength') and not (column == 'ignore'):\n",
    "            sensorrsr = pandas.Series(inputdict[(key)][column])\n",
    "            sensorwavelength = pandas.Series(inputdict[(key)].Wavelength )\n",
    "            combinedsensors = pandas.DataFrame({'wavelength': sensorwavelength*1000,'rsr': sensorrsr})\n",
    "            \n",
    "            sensordict[sensor][(column)] = combinedsensors            "
   ]
  },
  {
   "cell_type": "code",
   "execution_count": null,
   "metadata": {},
   "outputs": [],
   "source": [
    "sensor = 'ls9tirs'\n",
    "sensordict[sensor] = {}\n",
    "inputdict = ls9tirs\n",
    "for key in inputdict.keys():\n",
    "    for column in inputdict[(key)].columns:\n",
    "        if not (column == 'Wavelength') and not (column == 'ignore'):\n",
    "            sensorrsr = pandas.Series(inputdict[(key)][column])\n",
    "            sensorwavelength = pandas.Series(inputdict[(key)].Wavelength )\n",
    "            combinedsensors = pandas.DataFrame({'wavelength': sensorwavelength*1000,'rsr': sensorrsr})\n",
    "            \n",
    "            sensordict[sensor][(column)] = combinedsensors  "
   ]
  },
  {
   "cell_type": "code",
   "execution_count": null,
   "metadata": {},
   "outputs": [],
   "source": [
    "sensor = 'ls7band6'\n",
    "sensordict[sensor] = {}\n",
    "inputdict = ls7band6\n",
    "for key in inputdict.keys():\n",
    "    for column in inputdict[(key)].columns:\n",
    "        if not (column == 'Wavelength') and not (column == 'ignore'):\n",
    "            sensorrsr = pandas.Series(inputdict[(key)][column])\n",
    "            sensorwavelength = pandas.Series(inputdict[(key)].Wavelength )\n",
    "            combinedsensors = pandas.DataFrame({'wavelength': sensorwavelength*1000,'rsr': sensorrsr})\n",
    "            \n",
    "            sensordict[sensor][(column)] = combinedsensors"
   ]
  },
  {
   "cell_type": "code",
   "execution_count": null,
   "metadata": {},
   "outputs": [],
   "source": [
    "sensor = 'ls5band6'\n",
    "sensordict[sensor] = {}\n",
    "inputdict = ls5band6\n",
    "for key in inputdict.keys():\n",
    "    for column in inputdict[(key)].columns:\n",
    "        if not (column == 'Wavelength') and not (column == 'ignore'):\n",
    "            sensorrsr = pandas.Series(inputdict[(key)][column])\n",
    "            sensorwavelength = pandas.Series(inputdict[(key)].Wavelength )\n",
    "            combinedsensors = pandas.DataFrame({'wavelength': sensorwavelength*1000,'rsr': sensorrsr})\n",
    "            \n",
    "            sensordict[sensor][(column)] = combinedsensors"
   ]
  },
  {
   "cell_type": "code",
   "execution_count": null,
   "metadata": {},
   "outputs": [],
   "source": [
    "sensor = 'ls4band6'\n",
    "sensordict[sensor] = {}\n",
    "inputdict = ls4band6\n",
    "for key in inputdict.keys():\n",
    "    for column in inputdict[(key)].columns:\n",
    "        if not (column == 'Wavelength') and not (column == 'ignore'):\n",
    "            sensorrsr = pandas.Series(inputdict[(key)][column])\n",
    "            sensorwavelength = pandas.Series(inputdict[(key)].Wavelength )\n",
    "            combinedsensors = pandas.DataFrame({'wavelength': sensorwavelength*1000,'rsr': sensorrsr})\n",
    "            \n",
    "            sensordict[sensor][(column)] = combinedsensors"
   ]
  },
  {
   "cell_type": "code",
   "execution_count": null,
   "metadata": {},
   "outputs": [],
   "source": [
    "# Add Thermal Bands to Landsat"
   ]
  },
  {
   "cell_type": "code",
   "execution_count": null,
   "metadata": {},
   "outputs": [],
   "source": [
    "sensordict['ls8olitirs'] = sensordict['ls8oli']\n",
    "sensordict['ls8olitirs']['TIR1'] = sensordict['ls8tirs']['TIRS1RSR']\n",
    "sensordict['ls8olitirs']['TIR2'] = sensordict['ls8tirs']['TIRS2RSR']\n",
    "sensordict['ls9oli2tirs2'] = sensordict['ls9oli']\n",
    "sensordict['ls9oli2tirs2']['TIR1'] = sensordict['ls9tirs']['Band 10 Band Average RSR']\n",
    "sensordict['ls9oli2tirs2']['TIR2'] = sensordict['ls9tirs']['Band 11 Band Average RSR']\n",
    "sensordict['ls7etm']['TIR(6)-L7'] = sensordict['ls7band6']['Band6']\n",
    "sensordict['ls5tm']['TIR(6)-L5 TM'] = sensordict['ls5band6']['Band6']\n",
    "sensordict['ls4tm']['TIR(6)-L4 TM'] = sensordict['ls4band6']['Band6']"
   ]
  },
  {
   "cell_type": "code",
   "execution_count": null,
   "metadata": {},
   "outputs": [],
   "source": [
    "# Similar to above - could build an iterator  - some more on this below\n",
    "\n",
    "sensor = 'tmodis'\n",
    "sensordict[sensor] = {}\n",
    "inputdict = tmodis\n",
    "tmodis['modis_fm1_rsp_mid_chnl_sum'].Wavelength4*1000\n",
    "tmodis['modis_fm1_rsp_mid_chnl_sum'].Band4RSR\n",
    "\n",
    "sensordict[sensor][('Band1')] = speclib.trim_zero_records(pandas.DataFrame({'wavelength': \\\n",
    "                                                       tmodis['modis_fm1_rsp_mid_chnl_sum'].Wavelength1*1000,\\\n",
    "                                                       'rsr': \\\n",
    "                                                       tmodis['modis_fm1_rsp_mid_chnl_sum'].Band1RSR}))\n",
    "sensordict[sensor][('Band2')] = speclib.trim_zero_records(pandas.DataFrame({'wavelength': \\\n",
    "                                                       tmodis['modis_fm1_rsp_mid_chnl_sum'].Wavelength2*1000,\\\n",
    "                                                       'rsr': \\\n",
    "                                                       tmodis['modis_fm1_rsp_mid_chnl_sum'].Band2RSR}))\n",
    "sensordict[sensor][('Band3')] = speclib.trim_zero_records(pandas.DataFrame({'wavelength': \\\n",
    "                                                       tmodis['modis_fm1_rsp_mid_chnl_sum'].Wavelength3*1000,\\\n",
    "                                                       'rsr': \\\n",
    "                                                       tmodis['modis_fm1_rsp_mid_chnl_sum'].Band3RSR}))\n",
    "sensordict[sensor][('Band4')] = speclib.trim_zero_records(pandas.DataFrame({'wavelength': \\\n",
    "                                                       tmodis['modis_fm1_rsp_mid_chnl_sum'].Wavelength4*1000,\\\n",
    "                                                       'rsr': \\\n",
    "                                                       tmodis['modis_fm1_rsp_mid_chnl_sum'].Band4RSR}))\n",
    "sensordict[sensor][('Band5')] = speclib.trim_zero_records(pandas.DataFrame({'wavelength': \\\n",
    "                                                       tmodis['modis_fm1_rsp_mid_chnl_sum'].Wavelength5*1000,\\\n",
    "                                                       'rsr': \\\n",
    "                                                       tmodis['modis_fm1_rsp_mid_chnl_sum'].Band5RSR}))\n",
    "sensordict[sensor][('Band6')] = speclib.trim_zero_records(pandas.DataFrame({'wavelength': \\\n",
    "                                                       tmodis['modis_fm1_rsp_mid_chnl_sum'].Wavelength6*1000,\\\n",
    "                                                       'rsr': \\\n",
    "                                                       tmodis['modis_fm1_rsp_mid_chnl_sum'].Band6RSR}))\n",
    "sensordict[sensor][('Band7')] = speclib.trim_zero_records(pandas.DataFrame({'wavelength': \\\n",
    "                                                       tmodis['modis_fm1_rsp_mid_chnl_sum'].Wavelength7*1000,\\\n",
    "                                                       'rsr': \\\n",
    "                                                       tmodis['modis_fm1_rsp_mid_chnl_sum'].Band7RSR}))\n",
    "sensordict[sensor][('Band8')] = speclib.trim_zero_records(pandas.DataFrame({'wavelength': \\\n",
    "                                                       tmodis['modis_fm1_rsp_mid_chnl_sum'].Wavelength8*1000,\\\n",
    "                                                       'rsr': \\\n",
    "                                                       tmodis['modis_fm1_rsp_mid_chnl_sum'].Band8RSR}))\n",
    "sensordict[sensor][('Band9')] = speclib.trim_zero_records(pandas.DataFrame({'wavelength': \\\n",
    "                                                       tmodis['modis_fm1_rsp_mid_chnl_sum'].Wavelength9*1000,\\\n",
    "                                                       'rsr': \\\n",
    "                                                       tmodis['modis_fm1_rsp_mid_chnl_sum'].Band9RSR}))\n",
    "sensordict[sensor][('Band10')] = speclib.trim_zero_records(pandas.DataFrame({'wavelength': \\\n",
    "                                                       tmodis['modis_fm1_rsp_mid_chnl_sum'].Wavelength10*1000,\\\n",
    "                                                       'rsr': \\\n",
    "                                                       tmodis['modis_fm1_rsp_mid_chnl_sum'].Band10RSR}))\n",
    "sensordict[sensor][('Band11')] = speclib.trim_zero_records(pandas.DataFrame({'wavelength': \\\n",
    "                                                       tmodis['modis_fm1_rsp_mid_chnl_sum'].Wavelength11*1000,\\\n",
    "                                                       'rsr': \\\n",
    "                                                       tmodis['modis_fm1_rsp_mid_chnl_sum'].Band11RSR}))\n",
    "sensordict[sensor][('Band12')] = speclib.trim_zero_records(pandas.DataFrame({'wavelength': \\\n",
    "                                                       tmodis['modis_fm1_rsp_mid_chnl_sum'].Wavelength12*1000,\\\n",
    "                                                       'rsr': \\\n",
    "                                                       tmodis['modis_fm1_rsp_mid_chnl_sum'].Band12RSR}))\n",
    "sensordict[sensor][('Band13')] = speclib.trim_zero_records(pandas.DataFrame({'wavelength': \\\n",
    "                                                       tmodis['modis_fm1_rsp_mid_chnl_sum'].Wavelength13*1000,\\\n",
    "                                                       'rsr': \\\n",
    "                                                       tmodis['modis_fm1_rsp_mid_chnl_sum'].Band13RSR}))\n",
    "sensordict[sensor][('Band14')] = speclib.trim_zero_records(pandas.DataFrame({'wavelength': \\\n",
    "                                                       tmodis['modis_fm1_rsp_mid_chnl_sum'].Wavelength14*1000,\\\n",
    "                                                       'rsr': \\\n",
    "                                                       tmodis['modis_fm1_rsp_mid_chnl_sum'].Band14RSR}))\n",
    "sensordict[sensor][('Band15')] = speclib.trim_zero_records(pandas.DataFrame({'wavelength': \\\n",
    "                                                       tmodis['modis_fm1_rsp_mid_chnl_sum'].Wavelength15*1000,\\\n",
    "                                                       'rsr': \\\n",
    "                                                       tmodis['modis_fm1_rsp_mid_chnl_sum'].Band15RSR}))\n",
    "sensordict[sensor][('Band16')] = speclib.trim_zero_records(pandas.DataFrame({'wavelength': \\\n",
    "                                                       tmodis['modis_fm1_rsp_mid_chnl_sum'].Wavelength16*1000,\\\n",
    "                                                       'rsr': \\\n",
    "                                                       tmodis['modis_fm1_rsp_mid_chnl_sum'].Band16RSR}))\n",
    "sensordict[sensor][('Band17')] = speclib.trim_zero_records(pandas.DataFrame({'wavelength': \\\n",
    "                                                       tmodis['modis_fm1_rsp_mid_chnl_sum'].Wavelength17*1000,\\\n",
    "                                                       'rsr': \\\n",
    "                                                       tmodis['modis_fm1_rsp_mid_chnl_sum'].Band17RSR}))\n",
    "sensordict[sensor][('Band18')] = speclib.trim_zero_records(pandas.DataFrame({'wavelength': \\\n",
    "                                                       tmodis['modis_fm1_rsp_mid_chnl_sum'].Wavelength18*1000,\\\n",
    "                                                       'rsr': \\\n",
    "                                                       tmodis['modis_fm1_rsp_mid_chnl_sum'].Band18RSR}))\n",
    "sensordict[sensor][('Band19')] = speclib.trim_zero_records(pandas.DataFrame({'wavelength': \\\n",
    "                                                       tmodis['modis_fm1_rsp_mid_chnl_sum'].Wavelength19*1000,\\\n",
    "                                                       'rsr': \\\n",
    "                                                       tmodis['modis_fm1_rsp_mid_chnl_sum'].Band19RSR}))\n",
    "sensordict[sensor][('Band20')] = speclib.trim_zero_records(pandas.DataFrame({'wavelength': \\\n",
    "                                                       tmodis['modis_fm1_rsp_mid_chnl_sum'].Wavelength20*1000,\\\n",
    "                                                       'rsr': \\\n",
    "                                                       tmodis['modis_fm1_rsp_mid_chnl_sum'].Band20RSR}))\n",
    "sensordict[sensor][('Band21')] = speclib.trim_zero_records(pandas.DataFrame({'wavelength': \\\n",
    "                                                       tmodis['modis_fm1_rsp_mid_chnl_sum'].Wavelength21*1000,\\\n",
    "                                                       'rsr': \\\n",
    "                                                       tmodis['modis_fm1_rsp_mid_chnl_sum'].Band21RSR}))\n",
    "sensordict[sensor][('Band22')] = speclib.trim_zero_records(pandas.DataFrame({'wavelength': \\\n",
    "                                                       tmodis['modis_fm1_rsp_mid_chnl_sum'].Wavelength22*1000,\\\n",
    "                                                       'rsr': \\\n",
    "                                                       tmodis['modis_fm1_rsp_mid_chnl_sum'].Band22RSR}))\n",
    "sensordict[sensor][('Band23')] = speclib.trim_zero_records(pandas.DataFrame({'wavelength': \\\n",
    "                                                       tmodis['modis_fm1_rsp_mid_chnl_sum'].Wavelength23*1000,\\\n",
    "                                                       'rsr': \\\n",
    "                                                       tmodis['modis_fm1_rsp_mid_chnl_sum'].Band23RSR}))\n",
    "sensordict[sensor][('Band24')] = speclib.trim_zero_records(pandas.DataFrame({'wavelength': \\\n",
    "                                                       tmodis['modis_fm1_rsp_mid_chnl_sum'].Wavelength24*1000,\\\n",
    "                                                       'rsr': \\\n",
    "                                                       tmodis['modis_fm1_rsp_mid_chnl_sum'].Band24RSR}))\n",
    "sensordict[sensor][('Band25')] = speclib.trim_zero_records(pandas.DataFrame({'wavelength': \\\n",
    "                                                       tmodis['modis_fm1_rsp_mid_chnl_sum'].Wavelength25*1000,\\\n",
    "                                                       'rsr': \\\n",
    "                                                       tmodis['modis_fm1_rsp_mid_chnl_sum'].Band25RSR}))\n",
    "sensordict[sensor][('Band26')] = speclib.trim_zero_records(pandas.DataFrame({'wavelength': \\\n",
    "                                                       tmodis['modis_fm1_rsp_mid_chnl_sum'].Wavelength26*1000,\\\n",
    "                                                       'rsr': \\\n",
    "                                                       tmodis['modis_fm1_rsp_mid_chnl_sum'].Band26RSR}))\n",
    "sensordict[sensor][('Band27')] = speclib.trim_zero_records(pandas.DataFrame({'wavelength': \\\n",
    "                                                       tmodis['modis_fm1_rsp_mid_chnl_sum'].Wavelength27*1000,\\\n",
    "                                                       'rsr': \\\n",
    "                                                       tmodis['modis_fm1_rsp_mid_chnl_sum'].Band27RSR}))\n",
    "sensordict[sensor][('Band28')] = speclib.trim_zero_records(pandas.DataFrame({'wavelength': \\\n",
    "                                                       tmodis['modis_fm1_rsp_mid_chnl_sum'].Wavelength28*1000,\\\n",
    "                                                       'rsr': \\\n",
    "                                                       tmodis['modis_fm1_rsp_mid_chnl_sum'].Band28RSR}))\n",
    "sensordict[sensor][('Band29')] = speclib.trim_zero_records(pandas.DataFrame({'wavelength': \\\n",
    "                                                       tmodis['modis_fm1_rsp_mid_chnl_sum'].Wavelength29*1000,\\\n",
    "                                                       'rsr': \\\n",
    "                                                       tmodis['modis_fm1_rsp_mid_chnl_sum'].Band29RSR}))\n",
    "sensordict[sensor][('Band30')] = speclib.trim_zero_records(pandas.DataFrame({'wavelength': \\\n",
    "                                                       tmodis['modis_fm1_rsp_mid_chnl_sum'].Wavelength30*1000,\\\n",
    "                                                       'rsr': \\\n",
    "                                                       tmodis['modis_fm1_rsp_mid_chnl_sum'].Band30RSR}))\n",
    "sensordict[sensor][('Band31')] = speclib.trim_zero_records(pandas.DataFrame({'wavelength': \\\n",
    "                                                       tmodis['modis_fm1_rsp_mid_chnl_sum'].Wavelength31*1000,\\\n",
    "                                                       'rsr': \\\n",
    "                                                       tmodis['modis_fm1_rsp_mid_chnl_sum'].Band31RSR}))\n",
    "sensordict[sensor][('Band32')] = speclib.trim_zero_records(pandas.DataFrame({'wavelength': \\\n",
    "                                                       tmodis['modis_fm1_rsp_mid_chnl_sum'].Wavelength32*1000,\\\n",
    "                                                       'rsr': \\\n",
    "                                                       tmodis['modis_fm1_rsp_mid_chnl_sum'].Band32RSR}))\n",
    "sensordict[sensor][('Band33')] = speclib.trim_zero_records(pandas.DataFrame({'wavelength': \\\n",
    "                                                       tmodis['modis_fm1_rsp_mid_chnl_sum'].Wavelength33*1000,\\\n",
    "                                                       'rsr': \\\n",
    "                                                       tmodis['modis_fm1_rsp_mid_chnl_sum'].Band33RSR}))\n",
    "sensordict[sensor][('Band34')] = speclib.trim_zero_records(pandas.DataFrame({'wavelength': \\\n",
    "                                                       tmodis['modis_fm1_rsp_mid_chnl_sum'].Wavelength34*1000,\\\n",
    "                                                       'rsr': \\\n",
    "                                                       tmodis['modis_fm1_rsp_mid_chnl_sum'].Band34RSR}))\n",
    "sensordict[sensor][('Band35')] = speclib.trim_zero_records(pandas.DataFrame({'wavelength': \\\n",
    "                                                       tmodis['modis_fm1_rsp_mid_chnl_sum'].Wavelength35*1000,\\\n",
    "                                                       'rsr': \\\n",
    "                                                       tmodis['modis_fm1_rsp_mid_chnl_sum'].Band35RSR}))\n",
    "sensordict[sensor][('Band36')] = speclib.trim_zero_records(pandas.DataFrame({'wavelength': \\\n",
    "                                                       tmodis['modis_fm1_rsp_mid_chnl_sum'].Wavelength36*1000,\\\n",
    "                                                       'rsr': \\\n",
    "                                                       tmodis['modis_fm1_rsp_mid_chnl_sum'].Band36RSR}))\n"
   ]
  },
  {
   "cell_type": "code",
   "execution_count": null,
   "metadata": {},
   "outputs": [],
   "source": [
    "# Type 3 - one band in dict i.e. alternating wavelength and column  per sheet, one wavelength column, one rsr columns\n",
    "# Combine all of the ASTER telescope to a single dictionary - leaving OLI and TIRS seperate for now\n",
    "\n",
    "sensor = 'aster'\n",
    "sensordict[sensor] = {}\n",
    "inputdict = astervnir\n",
    "sensordict[sensor][('VNIR_Band1')] = pandas.DataFrame({'wavelength': astervnir.Wavelength1*1000, 'rsr': astervnir.VNIR_Band1})\n",
    "sensordict[sensor][('VNIR_Band2')] = pandas.DataFrame({'wavelength': astervnir.Wavelength2*1000, 'rsr': astervnir.VNIR_Band2})\n",
    "sensordict[sensor][('VNIR_Band3')] = pandas.DataFrame({'wavelength': astervnir.Wavelength3*1000, 'rsr': astervnir.VNIR_Band3})\n",
    "sensordict[sensor][('VNIR_Band3B')] = pandas.DataFrame({'wavelength': astervnir.Wavelength3B*1000, 'rsr': astervnir.VNIR_Band3B})\n",
    "sensordict[sensor][('SWIR_Band4')] = pandas.DataFrame({'wavelength': asterswir.Wavelength4*1000, 'rsr': asterswir.SWIR_Band4})\n",
    "sensordict[sensor][('SWIR_Band5')] = pandas.DataFrame({'wavelength': asterswir.Wavelength5*1000, 'rsr': asterswir.SWIR_Band5})\n",
    "sensordict[sensor][('SWIR_Band6')] = pandas.DataFrame({'wavelength': asterswir.Wavelength6*1000, 'rsr': asterswir.SWIR_Band6})\n",
    "sensordict[sensor][('SWIR_Band7')] = pandas.DataFrame({'wavelength': asterswir.Wavelength7*1000, 'rsr': asterswir.SWIR_Band7})\n",
    "sensordict[sensor][('SWIR_Band8')] = pandas.DataFrame({'wavelength': asterswir.Wavelength8*1000, 'rsr': asterswir.SWIR_Band8})\n",
    "sensordict[sensor][('SWIR_Band9')] = pandas.DataFrame({'wavelength': asterswir.Wavelength9*1000, 'rsr': asterswir.SWIR_Band9})\n",
    "sensordict[sensor][('TIR_Band10')] = pandas.DataFrame({'wavelength': astertir.Wavelength10*1000, 'rsr': astertir.TIR_Band10})\n",
    "sensordict[sensor][('TIR_Band11')] = pandas.DataFrame({'wavelength': astertir.Wavelength11*1000, 'rsr': astertir.TIR_Band11})\n",
    "sensordict[sensor][('TIR_Band12')] = pandas.DataFrame({'wavelength': astertir.Wavelength12*1000, 'rsr': astertir.TIR_Band12})\n",
    "sensordict[sensor][('TIR_Band13')] = pandas.DataFrame({'wavelength': astertir.Wavelength13*1000, 'rsr': astertir.TIR_Band13})\n",
    "sensordict[sensor][('TIR_Band14')] = pandas.DataFrame({'wavelength': astertir.Wavelength14*1000, 'rsr': astertir.TIR_Band14})"
   ]
  },
  {
   "cell_type": "code",
   "execution_count": null,
   "metadata": {},
   "outputs": [],
   "source": [
    "# Eliminate NaN wavelength records\n",
    "for key in sensordict['wv02']:\n",
    "    sensordict['wv02'][key] = sensordict['wv02'][key][sensordict['wv02'][(key)]['wavelength'].notnull()]"
   ]
  },
  {
   "cell_type": "code",
   "execution_count": null,
   "metadata": {},
   "outputs": [],
   "source": [
    "# Eliminate NaN wavelength records\n",
    "for key in sensordict['tmodis']:\n",
    "    sensordict['tmodis'][key] = sensordict['tmodis'][key][sensordict['tmodis'][(key)]['wavelength'].notnull()]"
   ]
  },
  {
   "cell_type": "code",
   "execution_count": null,
   "metadata": {},
   "outputs": [],
   "source": [
    "# Eliminate NaN rsr records\n",
    "for key in sensordict['spot5']:\n",
    "    sensordict['spot5'][key] = sensordict['spot5'][key][sensordict['spot5'][(key)]['rsr'].notnull()]"
   ]
  },
  {
   "cell_type": "code",
   "execution_count": null,
   "metadata": {},
   "outputs": [],
   "source": [
    "for sensor in sensordict:\n",
    "    for band in sensordict[sensor]:\n",
    "        sensordict[sensor][band] = speclib.trim_zero_records(speclib.fill_nans(sensordict[sensor][band]))"
   ]
  },
  {
   "cell_type": "code",
   "execution_count": null,
   "metadata": {},
   "outputs": [],
   "source": [
    "# The holy grail awaits...\n",
    "sensordict.keys()\n",
    "#sensordict[sensor][(column)]"
   ]
  },
  {
   "cell_type": "code",
   "execution_count": null,
   "metadata": {},
   "outputs": [],
   "source": [
    "# Validation of common structure\n",
    "for sensor in sensordict.keys():\n",
    "    for band in sensordict[sensor]:\n",
    "        try:\n",
    "            left, right = speclib.fwhm_gaussian(sensordict, sensor, band)\n",
    "            print(sensor, left,right, band, len(sensordict[sensor][band].rsr))\n",
    "        except:\n",
    "            print(sensor, band, len(sensordict[sensor][band].rsr))"
   ]
  },
  {
   "cell_type": "markdown",
   "metadata": {},
   "source": [
    "# Solar-spectrum"
   ]
  },
  {
   "cell_type": "code",
   "execution_count": null,
   "metadata": {},
   "outputs": [],
   "source": [
    "# Plot solar spectrum\n",
    "# http://gsics.atmos.umd.edu/bin/view/Development/ReferenceSolarSpectrum\n",
    "# -- 1. TSIS-1 Reference Solar. https://lasp.colorado.edu/lisird/data/tsis1_hsrs_p1nm\n",
    "# -- 2. Whole Heliosphere Interval spectrum https://lasp.colorado.edu/lisird/resources/whi_ref_spectra/data/ref_solar_irradiance_whi-2008_ver2.dat\n",
    "# -- 3. SAO2010 spectrum ttps ://www.cfa.harvard.edu/atmosphere/links/sao2010.solref.converted\n",
    "# -- 4. Solar Radiation Physical Modeling (SRPM) http ://lasp.colorado.edu/lisird/srpm/\n",
    "# -- 5. SCIAMACHY solar spectrum is in preparation. ??\n",
    "# -- 6. SOLSPEC solar spectrum ??\n",
    "# -- 7. Aura/OMI, SORCE SIM, SORCE SOLTICE solar spectrum comparison. ??\n",
    "\n",
    "# http://rredc.nrel.gov/solar/spectra/am1.5/\n",
    "\n",
    "solar_curve_normal = (solar_curve - solar_curve.min())/(solar_curve.max() - solar_curve.min())\n",
    "                            \n",
    "plotly.offline.iplot({\"data\": [\n",
    "    {\"x\": sensordict['irradiance'][('solar')].wavelength,\\\n",
    "          \"y\": sensordict['irradiance'][('solar')].rsr/sensordict['irradiance'][('solar')].rsr.max(),\\\n",
    "          \"name\": 'Solar Irradiance SMARTS2'},\n",
    "            \n",
    "    {\"x\": sensordict['solar_tsis'][('solar')].wavelength,\\\n",
    "          \"y\": sensordict['solar_tsis'][('solar')].rsr/sensordict['solar_tsis'][('solar')].rsr.max(),\\\n",
    "          \"name\": 'Solar Irradiance TSIS'}, \n",
    "\n",
    "    {\"x\": sensordict['irradianceWhi2008'][('Irradiance Mar 25-29')].wavelength,\\\n",
    "          \"y\": sensordict['irradianceWhi2008'][('Irradiance Mar 25-29')].rsr/sensordict['irradianceWhi2008'][('Irradiance Mar 25-29')].rsr.max(),\\\n",
    "          \"name\": 'Solar Irradiance WHI 2008'}, \n",
    "\n",
    "    {\"x\": sensordict['irradianceThuillier2002'][('Thuillier 2002')].wavelength,\\\n",
    "          \"y\": sensordict['irradianceThuillier2002'][('Thuillier 2002')].rsr/sensordict['irradianceThuillier2002'][('Thuillier 2002')].rsr.max(),\\\n",
    "          \"name\": 'Solar Irradiance Thuillier 2002'}, \n",
    "\n",
    " ],\"layout\": {\"title\": \"Solar Irradiance\"}})\n",
    "\n"
   ]
  },
  {
   "cell_type": "code",
   "execution_count": null,
   "metadata": {},
   "outputs": [],
   "source": [
    "# Example mixing sensordict and individual dict of dataframes access\n",
    "# We want a function that enables return \"sensors that are green\" for example\n",
    "\n",
    "print (plotly.__version__)            # version 1.9.4 required\n",
    "\n",
    "plotly.offline.iplot({\n",
    "\"data\": [{\"x\": ls9oli[('Green')].Wavelength,\"y\": ls9oli[('Green')].RSR, \"name\": 'ls9oli GREEN'},\\\n",
    "         {\"x\": ls8oli[('Green')].Wavelength,\"y\": ls8oli[('Green')].RSR, \"name\": 'ls8oli GREEN'},\\\n",
    "         {\"x\": ls5tm[('Green-L5 TM')].Wavelength,\"y\": ls5tm[('Green-L5 TM')].RSR, \"name\": 'ls5tm GREEN'},\\\n",
    "         {\"x\": ls7etm[('Green-L7')].Wavelength,\"y\": ls7etm[('Green-L7')].RSR, \"name\": 'ls7etm GREEN'},\\\n",
    "         {\"x\": sensordict['s2amsi'][('Band3')].wavelength,\"y\": sensordict['s2amsi'][('Band3')].rsr,\\\n",
    "          \"name\":'s2amsi Band3'},\\\n",
    "         {\"x\": sensordict['tmodis'][('Band4')].wavelength,\"y\": sensordict['tmodis'][('Band4')].rsr,\\\n",
    "          \"name\":'tmodis Band4'},\\\n",
    "         {\"x\": sensordict['h8ahi'][('Band 2')].wavelength,\"y\": sensordict['h8ahi'][('Band 2')].rsr,\\\n",
    "          \"name\": 'h8ahi Band 2'},\\\n",
    "         {\"x\": sensordict['aster'][('VNIR_Band1')].wavelength,\"y\": sensordict['aster'][('VNIR_Band1')].rsr, \\\n",
    "          \"name\": 'astervnir VNIR1'},\\\n",
    "         {\"x\": sensordict['qb02'][('Green')].wavelength,\"y\": sensordict['qb02'][('Green')].rsr, \\\n",
    "          \"name\": 'quickbird 2 Green'},\n",
    "         {\"x\": sensordict['irradiance'][('solar')].wavelength,\\\n",
    "          \"y\": sensordict['irradiance'][('solar')].rsr/sensordict['irradiance'][('solar')].rsr.max(),\\\n",
    "          \"name\": 'Solar Irradiance'},\n",
    "        ],\n",
    "\"layout\": {\"title\": \"GREEN Relative Spectral Response\"}})\n"
   ]
  },
  {
   "cell_type": "markdown",
   "metadata": {
    "tags": []
   },
   "source": [
    "# Synthetic-bands "
   ]
  },
  {
   "cell_type": "markdown",
   "metadata": {},
   "source": [
    "## Synthetic band creation from nominal centre and fwhm"
   ]
  },
  {
   "cell_type": "code",
   "execution_count": null,
   "metadata": {
    "scrolled": true
   },
   "outputs": [],
   "source": [
    "# Using typical summary sensor info, manufacture the synthetic rsr to compare with measured relative spectral response\n",
    "ls8oli_summary = pandas.read_csv(data_folder.joinpath('landsat8/l8oli_summary.txt'))\n",
    "lnext_summary = pandas.read_csv(data_folder.joinpath('landsatnext/lnext.csv'))\n",
    "eo1_hyperion_summary = pandas.read_csv(data_folder.joinpath('eo1hyperion/Hyperion_cen_fwhm_av.dat'), header=1)\n",
    "enmap_vnir = pandas.read_excel(data_folder.joinpath('enmaphsi/EnMAP_Spectral_Bands_update.xlsx'), sheet_name = 'VNIR', header=0 )\n",
    "enmap_swir = pandas.read_excel(data_folder.joinpath('enmaphsi/EnMAP_Spectral_Bands_update.xlsx'), sheet_name = 'SWIR', header=0 )\n",
    "enmap = pandas.concat([enmap_vnir, enmap_swir])"
   ]
  },
  {
   "cell_type": "code",
   "execution_count": null,
   "metadata": {},
   "outputs": [],
   "source": [
    "lnext_summary"
   ]
  },
  {
   "cell_type": "code",
   "execution_count": null,
   "metadata": {
    "scrolled": true
   },
   "outputs": [],
   "source": [
    "sensor = 'synth_lnext'\n",
    "sensordict[sensor] = {}\n",
    "wavelength = np.linspace(1,13000, 2500, dtype='int64')\n",
    "\n",
    "for band, row in lnext_summary.iterrows():\n",
    "    fwhm = lnext_summary.FWHM[band]\n",
    "    rsr = speclib.synthetic_rsr(wavelength,lnext_summary.Center[band],fwhm)\n",
    "    sensordict[sensor][(lnext_summary.Name[band])] = speclib.trim_zero_records(pandas.DataFrame({'wavelength': wavelength, 'rsr': rsr}))\n",
    "    sensordict[sensor][(lnext_summary.Name[band])] = pandas.DataFrame({'wavelength': wavelength, 'rsr': rsr})\n",
    "\n",
    "speclib.plotallbands(sensordict,'synth_lnext')\n"
   ]
  },
  {
   "cell_type": "code",
   "execution_count": null,
   "metadata": {
    "scrolled": true
   },
   "outputs": [],
   "source": [
    "sensor = 'synth_ls8oli'\n",
    "sensordict[sensor] = {}\n",
    "wavelength = np.linspace(1,2500, 2500, dtype='int64')\n",
    "\n",
    "for band, row in ls8oli_summary.iterrows():\n",
    "    fwhm = ls8oli_summary.FWHM_upper[band] - ls8oli_summary.FWHM_lower[band]\n",
    "    rsr = speclib.synthetic_rsr(wavelength,ls8oli_summary.Central_wavelength[band],fwhm)\n",
    "    sensordict[sensor][(ls8oli_summary.Band[band])] = speclib.trim_zero_records(pandas.DataFrame({'wavelength': wavelength, 'rsr': rsr}))"
   ]
  },
  {
   "cell_type": "code",
   "execution_count": null,
   "metadata": {},
   "outputs": [],
   "source": [
    "# https://earth.esa.int/eogateway/missions/resourcesat-2\n",
    "# https://earth.esa.int/eogateway/missions/irs-p6-resourcesat-1#instruments-section\n",
    "# TODO replace with actual RSR\n",
    "\n",
    "sensor = 'synth_irs_p6r2_liss3'\n",
    "sensordict[sensor] = {}\n",
    "wavelength = np.linspace(1,2500, 2500, dtype='int64')\n",
    "rsr = speclib.synthetic_rsr(wavelength,(520+590)/2, 590-520)\n",
    "sensordict[sensor]['B2'] = speclib.trim_zero_records(pandas.DataFrame({'wavelength': wavelength, 'rsr': rsr}))\n",
    "rsr = speclib.synthetic_rsr(wavelength,(620+680)/2, 680-620)\n",
    "sensordict[sensor]['B3'] = speclib.trim_zero_records(pandas.DataFrame({'wavelength': wavelength, 'rsr': rsr}))\n",
    "rsr = speclib.synthetic_rsr(wavelength,(770+860)/2, 860-770)\n",
    "sensordict[sensor]['B4'] = speclib.trim_zero_records(pandas.DataFrame({'wavelength': wavelength, 'rsr': rsr}))\n",
    "rsr = speclib.synthetic_rsr(wavelength,(1550+1700)/2, 1700-1550)\n",
    "sensordict[sensor]['B5'] = speclib.trim_zero_records(pandas.DataFrame({'wavelength': wavelength, 'rsr': rsr}))\n",
    "\n",
    "sensor = 'synth_irs_p6r2_liss4'\n",
    "sensordict[sensor] = {}\n",
    "wavelength = np.linspace(1,2500, 2500, dtype='int64')\n",
    "rsr = speclib.synthetic_rsr(wavelength,(520+590)/2, 590-520)\n",
    "sensordict[sensor]['B2'] = speclib.trim_zero_records(pandas.DataFrame({'wavelength': wavelength, 'rsr': rsr}))\n",
    "rsr = speclib.synthetic_rsr(wavelength,(620+680)/2, 680-620)\n",
    "sensordict[sensor]['B3'] = speclib.trim_zero_records(pandas.DataFrame({'wavelength': wavelength, 'rsr': rsr}))\n",
    "rsr = speclib.synthetic_rsr(wavelength,(770+860)/2, 860-770)\n",
    "sensordict[sensor]['B4'] = speclib.trim_zero_records(pandas.DataFrame({'wavelength': wavelength, 'rsr': rsr}))\n",
    "\n",
    "sensor = 'synth_irs_p6r2_awifs'\n",
    "sensordict[sensor] = {}\n",
    "wavelength = np.linspace(1,2500, 2500, dtype='int64')\n",
    "rsr = speclib.synthetic_rsr(wavelength,(520+590)/2, 590-520)\n",
    "sensordict[sensor]['B2'] = speclib.trim_zero_records(pandas.DataFrame({'wavelength': wavelength, 'rsr': rsr}))\n",
    "rsr = speclib.synthetic_rsr(wavelength,(620+680)/2, 680-620)\n",
    "sensordict[sensor]['B3'] = speclib.trim_zero_records(pandas.DataFrame({'wavelength': wavelength, 'rsr': rsr}))\n",
    "rsr = speclib.synthetic_rsr(wavelength,(770+860)/2, 860-770)\n",
    "sensordict[sensor]['B4'] = speclib.trim_zero_records(pandas.DataFrame({'wavelength': wavelength, 'rsr': rsr}))\n",
    "rsr = speclib.synthetic_rsr(wavelength,(1550+1700)/2, 1700-1550)\n",
    "sensordict[sensor]['B5'] = speclib.trim_zero_records(pandas.DataFrame({'wavelength': wavelength, 'rsr': rsr}))\n"
   ]
  },
  {
   "cell_type": "code",
   "execution_count": null,
   "metadata": {
    "scrolled": true
   },
   "outputs": [],
   "source": [
    "# Sentinel-2 NG from https://earth.esa.int/living-planet-symposium-2022-presentations/26.05.Thursday/Geneva/1040-1220/02_Celesti.pdf\n",
    "sentinel2ng = pandas.read_excel(data_folder.joinpath('sentinel2ng/sentinel2ng.xlsx'),skiprows=[0])\n",
    "sentinel2ng['Band'] = sentinel2ng['Band'].astype('str')\n",
    "sentinel2ng = sentinel2ng.rename(columns={\"Center Wavelength\":\"cwl\", \"Bandwidth\":\"fwhm\"})\n",
    "sensor = 'synth_sentinel2ng'\n",
    "sensordict[sensor] = {}\n",
    "wavelength = np.linspace(1,2500, 2500, dtype='int64')\n",
    "for band, row in sentinel2ng.iterrows():\n",
    "    fwhm = sentinel2ng.fwhm[band]\n",
    "    rsr = speclib.synthetic_rsr(wavelength,sentinel2ng.cwl[band],fwhm)\n",
    "    sensordict[sensor][(sentinel2ng.Band[band])] = speclib.trim_zero_records(pandas.DataFrame({'wavelength': wavelength, 'rsr': rsr}))\n",
    "    sensordict[sensor][(sentinel2ng.Band[band])] = pandas.DataFrame({'wavelength': wavelength, 'rsr': rsr})\n",
    "speclib.plotallbands(sensordict,'synth_sentinel2ng')"
   ]
  },
  {
   "cell_type": "code",
   "execution_count": null,
   "metadata": {
    "scrolled": true
   },
   "outputs": [],
   "source": [
    "# TRISHA, LSTM, SBG, CHIME\n",
    "chime = pandas.read_excel(data_folder.joinpath('chime/chime.xlsx'),skiprows=[3,4])\n",
    "chime = chime.transpose().reset_index()\n",
    "chime = chime.rename(columns={\"index\": \"Band\", 0: \"cwl\", 1: \"fwhm\"})\n",
    "chime['cwl'] = chime['cwl'].astype('float64')\n",
    "\n",
    "sensor = 'synth_chime'\n",
    "sensordict[sensor] = {}\n",
    "wavelength = np.linspace(350,2600, 2600, dtype='int64')\n",
    "for band, row in chime.iterrows():\n",
    "    rsr = speclib.synthetic_rsr(wavelength,chime.cwl[band],chime.fwhm[band])\n",
    "    sensordict[sensor][str((chime.Band[band]))] = speclib.trim_zero_records(pandas.DataFrame({'wavelength': wavelength, 'rsr': rsr}))\n",
    "speclib.plotallbands(sensordict,'synth_chime')\n",
    "\n",
    "sbg_vswir = pandas.read_excel(data_folder.joinpath('sbg/sbg.xlsx'), sheet_name='VSWIR',skiprows=[3,4])\n",
    "sbg_vswir = sbg_vswir.transpose().reset_index()\n",
    "sbg_vswir = sbg_vswir.rename(columns={\"index\": \"Band\", 0: \"cwl\", 1: \"fwhm\"})\n",
    "sbg_vswir['cwl'] = sbg_vswir['cwl'].astype('float64')\n",
    "sbg_vswir['Band']= sbg_vswir['Band'].astype('str')\n",
    "\n",
    "sensor = 'synth_sbg_vswir'\n",
    "sensordict[sensor] = {}\n",
    "wavelength = np.linspace(350,2600, 2600, dtype='int64')\n",
    "for band, row in sbg_vswir.iterrows():\n",
    "    rsr = speclib.synthetic_rsr(wavelength,sbg_vswir.cwl[band],sbg_vswir.fwhm[band])\n",
    "    sensordict[sensor][str((sbg_vswir.Band[band]))] = speclib.trim_zero_records(pandas.DataFrame({'wavelength': wavelength, 'rsr': rsr}))\n",
    "speclib.plotallbands(sensordict,'synth_sbg_vswir')\n",
    "\n",
    "trishna = pandas.read_excel(data_folder.joinpath('trishna/trishna.xlsx'),skiprows=[3,4])\n",
    "trishna = trishna.transpose().reset_index()\n",
    "trishna = trishna.rename(columns={\"index\": \"Band\", 0: \"cwl\", 1: \"fwhm\"})\n",
    "trishna['cwl'] = trishna['cwl'].astype('float64')\n",
    "sensor = 'synth_trishna'\n",
    "sensordict[sensor] = {}\n",
    "wavelength = np.linspace(1,14000, 2500, dtype='int64')\n",
    "for band, row in trishna.iterrows():\n",
    "    fwhm = trishna.fwhm[band]\n",
    "    rsr = speclib.synthetic_rsr(wavelength,trishna.cwl[band],fwhm)\n",
    "    sensordict[sensor][(trishna.Band[band])] = speclib.trim_zero_records(pandas.DataFrame({'wavelength': wavelength, 'rsr': rsr}))\n",
    "    sensordict[sensor][(trishna.Band[band])] = pandas.DataFrame({'wavelength': wavelength, 'rsr': rsr})\n",
    "speclib.plotallbands(sensordict,'synth_trishna')\n",
    "\n",
    "lstm = pandas.read_excel(data_folder.joinpath('lstm/lstm.xlsx'),skiprows=[3,4])\n",
    "lstm = lstm.transpose().reset_index()\n",
    "lstm = lstm.rename(columns={\"index\": \"Band\", 0: \"cwl\", 1: \"fwhm\"})\n",
    "lstm['cwl'] = lstm['cwl'].astype('float64')\n",
    "sensor = 'synth_lstm'\n",
    "sensordict[sensor] = {}\n",
    "for band, row in lstm.iterrows():\n",
    "    fwhm = lstm.fwhm[band]\n",
    "    rsr = speclib.synthetic_rsr(wavelength,lstm.cwl[band],fwhm)\n",
    "    sensordict[sensor][(lstm.Band[band])] = speclib.trim_zero_records(pandas.DataFrame({'wavelength': wavelength, 'rsr': rsr}))\n",
    "    sensordict[sensor][(lstm.Band[band])] = pandas.DataFrame({'wavelength': wavelength, 'rsr': rsr})\n",
    "speclib.plotallbands(sensordict,'synth_lstm')\n",
    "\n",
    "sbg_tir = pandas.read_excel(data_folder.joinpath('sbg/sbg.xlsx'), sheet_name='TIR', skiprows=[0,1])\n",
    "sbg_tir = sbg_tir.rename(columns={\"Band#\": \"Band\", \" Center_Wavelength(µm)\":\"cwl\", \" Spectral_Width(FWHM)(nm)\":\"fwhm\"})\n",
    "sbg_tir['Band#']= sbg_tir['Band'].astype('str')\n",
    "sbg_tir['cwl'] = sbg_tir.cwl*1000\n",
    "sensor = 'synth_sbg_tir'\n",
    "sensordict[sensor] = {}\n",
    "wavelength = np.linspace(3500,14000, 2500, dtype='int64')\n",
    "for band, row in sbg_tir.iterrows():\n",
    "    fwhm = sbg_tir.fwhm[band]\n",
    "    rsr = speclib.synthetic_rsr(wavelength,sbg_tir.cwl[band],fwhm)\n",
    "    sensordict[sensor][(sbg_tir.Band[band])] = speclib.trim_zero_records(pandas.DataFrame({'wavelength': wavelength, 'rsr': rsr}))\n",
    "    sensordict[sensor][(sbg_tir.Band[band])] = pandas.DataFrame({'wavelength': wavelength, 'rsr': rsr})\n",
    "speclib.plotallbands(sensordict,'synth_sbg_tir')\n",
    "\n"
   ]
  },
  {
   "cell_type": "code",
   "execution_count": null,
   "metadata": {},
   "outputs": [],
   "source": [
    "sbg_vswir['Band'][0]"
   ]
  },
  {
   "cell_type": "code",
   "execution_count": null,
   "metadata": {},
   "outputs": [],
   "source": [
    "# Order sensordict to improve ease of selection and plot order\n",
    "newsensordict={}\n",
    "for key in sorted(list(sensordict.keys())):\n",
    "    newsensordict[key] = sensordict[key]\n",
    "sensordict = newsensordict"
   ]
  },
  {
   "cell_type": "markdown",
   "metadata": {},
   "source": [
    "# Hyperspectral"
   ]
  },
  {
   "cell_type": "markdown",
   "metadata": {},
   "source": [
    "## Hyperspectral example with EnMap"
   ]
  },
  {
   "cell_type": "code",
   "execution_count": null,
   "metadata": {
    "tags": []
   },
   "outputs": [],
   "source": [
    "enmapvnir = pandas.read_excel(data_folder.joinpath('enmaphsi/EnMap_Spectral_Bands_update.xlsx'), sheet_name = 'VNIR', dtype = {'BAND #': str, 'CW (nm)': float, 'FWHM(nm)': float})\n",
    "enmapswir = pandas.read_excel(data_folder.joinpath('enmaphsi/EnMap_Spectral_Bands_update.xlsx'), sheet_name = 'SWIR', dtype = {'BAND #': str, 'CW (nm)': float, 'FWHM(nm)': float})"
   ]
  },
  {
   "cell_type": "code",
   "execution_count": null,
   "metadata": {
    "tags": []
   },
   "outputs": [],
   "source": [
    "for index, row in enmapvnir.iterrows():\n",
    "    enmapvnir.loc[index, ['BAND #']] = ('VNIR' + enmapvnir.loc[index, ['BAND #']])"
   ]
  },
  {
   "cell_type": "code",
   "execution_count": null,
   "metadata": {
    "tags": []
   },
   "outputs": [],
   "source": [
    "for index, row in enmapswir.iterrows():\n",
    "    enmapswir.loc[index, ['BAND #']] = ('SWIR' + enmapswir.loc[index, ['BAND #']])"
   ]
  },
  {
   "cell_type": "code",
   "execution_count": null,
   "metadata": {
    "tags": []
   },
   "outputs": [],
   "source": [
    "enmap = pandas.concat([enmapvnir,enmapswir])"
   ]
  },
  {
   "cell_type": "code",
   "execution_count": null,
   "metadata": {
    "tags": []
   },
   "outputs": [],
   "source": [
    "enmap = enmap.rename(columns={\"BAND #\": \"band\", \"CW (nm)\": \"cwl\", \"FWHM (nm)\": \"fwhm\"})"
   ]
  },
  {
   "cell_type": "code",
   "execution_count": null,
   "metadata": {
    "tags": []
   },
   "outputs": [],
   "source": [
    "enmap.reset_index(inplace=True)"
   ]
  },
  {
   "cell_type": "code",
   "execution_count": null,
   "metadata": {
    "tags": []
   },
   "outputs": [],
   "source": [
    "sensor = 'enmap'\n",
    "sensordict[sensor] = {}\n",
    "wavelength = np.linspace(1,2700, 2700, dtype='int64')\n",
    "\n",
    "for band, row in enmap.iterrows():\n",
    "    rsr = speclib.synthetic_rsr(wavelength,enmap.cwl[band],enmap.fwhm[band])\n",
    "    sensordict[sensor][str((enmap.band[band]))] = speclib.trim_zero_records(pandas.DataFrame({'wavelength': wavelength, 'rsr': rsr}))\n",
    "speclib.plotallbands(sensordict, 'enmap')"
   ]
  },
  {
   "cell_type": "markdown",
   "metadata": {},
   "source": [
    "## Hyperspectral example with EMIT"
   ]
  },
  {
   "cell_type": "code",
   "execution_count": null,
   "metadata": {},
   "outputs": [],
   "source": [
    "emit = pandas.read_csv(data_folder.joinpath('emit/emit.csv'),delim_whitespace=False)#, dtype = {'col1': str, 'col2': float, 'col3': int}))"
   ]
  },
  {
   "cell_type": "code",
   "execution_count": null,
   "metadata": {},
   "outputs": [],
   "source": [
    "emit = emit.transpose().reset_index()"
   ]
  },
  {
   "cell_type": "code",
   "execution_count": null,
   "metadata": {},
   "outputs": [],
   "source": [
    "emit = emit.rename(columns={\"index\": \"cwl\", 0: \"fwhm\", 1: \"good\"})\n",
    "emit['Band'] = emit.index+1"
   ]
  },
  {
   "cell_type": "code",
   "execution_count": null,
   "metadata": {},
   "outputs": [],
   "source": [
    "emit['cwl'] = emit['cwl'].astype('float64')"
   ]
  },
  {
   "cell_type": "code",
   "execution_count": null,
   "metadata": {},
   "outputs": [],
   "source": [
    "sensor = 'emit'\n",
    "sensordict[sensor] = {}\n",
    "wavelength = np.linspace(350,2600, 2600, dtype='int64')\n",
    "\n",
    "for band, row in emit.iterrows():\n",
    "    rsr = speclib.synthetic_rsr(wavelength,emit.cwl[band],emit.fwhm[band])\n",
    "    sensordict[sensor][str((emit.Band[band]))] = speclib.trim_zero_records(pandas.DataFrame({'wavelength': wavelength, 'rsr': rsr}))\n",
    "speclib.plotallbands(sensordict,'emit')"
   ]
  },
  {
   "cell_type": "markdown",
   "metadata": {},
   "source": [
    "## Hyperspectral example with PRISMA"
   ]
  },
  {
   "cell_type": "code",
   "execution_count": null,
   "metadata": {},
   "outputs": [],
   "source": [
    "prisma = pandas.read_csv(data_folder.joinpath('prismahyc/prisma.csv'),delim_whitespace=False)#, dtype = {'col1': str, 'col2': float, 'col3': int}))"
   ]
  },
  {
   "cell_type": "code",
   "execution_count": null,
   "metadata": {},
   "outputs": [],
   "source": [
    "prisma = prisma.transpose().reset_index()"
   ]
  },
  {
   "cell_type": "code",
   "execution_count": null,
   "metadata": {},
   "outputs": [],
   "source": [
    "prisma = prisma.rename(columns={\"index\": \"cwl\", 0: \"fwhm\", 1: \"good\"})\n",
    "prisma['Band'] = prisma.index+1"
   ]
  },
  {
   "cell_type": "code",
   "execution_count": null,
   "metadata": {},
   "outputs": [],
   "source": [
    "prisma['cwl'] = prisma['cwl'].astype('float64')"
   ]
  },
  {
   "cell_type": "code",
   "execution_count": null,
   "metadata": {},
   "outputs": [],
   "source": [
    "sensor = 'prisma'\n",
    "sensordict[sensor] = {}\n",
    "wavelength = np.linspace(350,2600, 2600, dtype='int64')\n",
    "\n",
    "for band, row in prisma.iterrows():\n",
    "    rsr = speclib.synthetic_rsr(wavelength,prisma.cwl[band],prisma.fwhm[band])\n",
    "    sensordict[sensor][str((prisma.Band[band]))] = speclib.trim_zero_records(pandas.DataFrame({'wavelength': wavelength, 'rsr': rsr}))\n",
    "speclib.plotallbands(sensordict, 'prisma')"
   ]
  },
  {
   "cell_type": "markdown",
   "metadata": {},
   "source": [
    "## Hyperspectral example with DESIS"
   ]
  },
  {
   "cell_type": "code",
   "execution_count": null,
   "metadata": {},
   "outputs": [],
   "source": [
    "# XML from DESIS \n",
    "tree = ET.parse(data_folder.joinpath('desis/DESIS-HSI-V0220-METADATA.xml'))\n",
    "root = tree.getroot()\n"
   ]
  },
  {
   "cell_type": "code",
   "execution_count": null,
   "metadata": {},
   "outputs": [],
   "source": [
    "dfDESIS = pandas.DataFrame()\n",
    "dftemp = pandas.DataFrame()\n",
    "dictDESIS = {}\n",
    "tempdict = {}\n",
    "#intialise dataframe\n",
    "count = 0\n",
    "for child in root[3][11]:\n",
    "    for band in child:\n",
    "        if count == 0: \n",
    "            dfDESIS[band.tag] = [band.text]\n",
    "        else:\n",
    "            dftemp[band.tag] = [band.text]\n",
    "    if count != 0:\n",
    "        dfDESIS = pandas.concat([dfDESIS, dftemp])\n",
    "        dictDESIS[str(count)] = dftemp\n",
    "    count = count+1 "
   ]
  },
  {
   "cell_type": "code",
   "execution_count": null,
   "metadata": {},
   "outputs": [],
   "source": [
    "dfDESIS.reset_index(inplace=True)"
   ]
  },
  {
   "cell_type": "code",
   "execution_count": null,
   "metadata": {},
   "outputs": [],
   "source": [
    "for index, row in dfDESIS.iterrows():\n",
    "    dfDESIS.at[index,'wavelengthCenterOfBand'] = float(row['wavelengthCenterOfBand'])\n",
    "    dfDESIS.at[index,'wavelengthWidthOfBand'] = float(row['wavelengthWidthOfBand'])"
   ]
  },
  {
   "cell_type": "code",
   "execution_count": null,
   "metadata": {},
   "outputs": [],
   "source": [
    "sensor = 'desis'\n",
    "sensordict[sensor] = {}\n",
    "wavelength = np.linspace(350,1100, 1100, dtype='int64')\n",
    "\n",
    "for band, row in dfDESIS.iterrows():\n",
    "    rsr = speclib.synthetic_rsr(wavelength,dfDESIS.wavelengthCenterOfBand[band],dfDESIS.wavelengthWidthOfBand[band])\n",
    "    sensordict[sensor][str((dfDESIS.bandNumber[band]))] = speclib.trim_zero_records(pandas.DataFrame({'wavelength': wavelength, 'rsr': rsr}))\n",
    "speclib.plotallbands(sensordict, 'desis')"
   ]
  },
  {
   "cell_type": "markdown",
   "metadata": {},
   "source": [
    "## Hyperspectral example with EO-1 Hyperion"
   ]
  },
  {
   "cell_type": "code",
   "execution_count": null,
   "metadata": {},
   "outputs": [],
   "source": [
    "sensor = 'synth_eo1_hyperion'\n",
    "sensordict[sensor] = {}\n",
    "wavelength = np.linspace(1,2700, 2700, dtype='int64')\n",
    "\n",
    "for band, row in eo1_hyperion_summary.iterrows():\n",
    "    rsr = speclib.synthetic_rsr(wavelength,eo1_hyperion_summary.cwl[band],eo1_hyperion_summary.fwhm[band])\n",
    "    sensordict[sensor][str((eo1_hyperion_summary.Band[band]))] = speclib.trim_zero_records(pandas.DataFrame({'wavelength': wavelength, 'rsr': rsr}))\n",
    "speclib.plotallbands(sensordict, 'synth_eo1_hyperion')"
   ]
  },
  {
   "cell_type": "markdown",
   "metadata": {},
   "source": [
    "# Reference-colours"
   ]
  },
  {
   "cell_type": "markdown",
   "metadata": {},
   "source": [
    "## User reference band for matching"
   ]
  },
  {
   "cell_type": "code",
   "execution_count": null,
   "metadata": {
    "scrolled": true
   },
   "outputs": [],
   "source": [
    "# https://en.wikipedia.org/wiki/Blue 450–495 nm\n",
    "# https://en.wikipedia.org/wiki/Green 495–570 nm\n",
    "# https://en.wikipedia.org/wiki/Red 620–740 nm\n",
    "# https://en.wikipedia.org/wiki/Infrared 750–1400 nm\n",
    "sensor = 'user_reference'\n",
    "sensordict[sensor] = {}\n",
    "\n",
    "wavelength = np.linspace(1,2500, 2500, dtype='int64')\n",
    "rsr = speclib.synthetic_rsr(wavelength,478,45)\n",
    "sensordict[sensor]['BLUE'] = speclib.trim_zero_records(pandas.DataFrame({'wavelength': wavelength, 'rsr': rsr}))\n",
    "rsr = speclib.synthetic_rsr(wavelength,533,75)\n",
    "sensordict[sensor]['GREEN'] = speclib.trim_zero_records(pandas.DataFrame({'wavelength': wavelength, 'rsr': rsr}))\n",
    "rsr = speclib.synthetic_rsr(wavelength,680,120)\n",
    "sensordict[sensor]['RED'] = speclib.trim_zero_records(pandas.DataFrame({'wavelength': wavelength, 'rsr': rsr}))\n",
    "rsr = speclib.synthetic_rsr(wavelength,1075,651)\n",
    "sensordict[sensor]['NIR'] = speclib.trim_zero_records(pandas.DataFrame({'wavelength': wavelength, 'rsr': rsr}))\n",
    "\n",
    "speclib.plotallbands(sensordict, 'user_reference')"
   ]
  },
  {
   "cell_type": "markdown",
   "metadata": {
    "tags": []
   },
   "source": [
    "# Sensor-plots"
   ]
  },
  {
   "cell_type": "code",
   "execution_count": null,
   "metadata": {
    "scrolled": true,
    "tags": []
   },
   "outputs": [],
   "source": [
    "sensorlistW = SelectMultiple(options = sensordict.keys())\n",
    "startW = Dropdown(options = ['Pause', 'Go'])\n",
    "titleW = Text(\n",
    "    value='Label your plot',\n",
    "    placeholder='Plot label',\n",
    "    description='String:',\n",
    "    disabled=False   \n",
    ")\n",
    "\n",
    "@interact(sensorlist = sensorlistW, title=titleW, start = startW)\n",
    "\n",
    "def print_sample(title, sensorlist, start):\n",
    "    sensorlistW = list(sensordict.keys())\n",
    "    titleW = title\n",
    "    startW.options\n",
    "    if start == 'Go':\n",
    "        speclib.plotallbandslist(sensordict, sensorlist, title)\n",
    "        "
   ]
  },
  {
   "cell_type": "markdown",
   "metadata": {},
   "source": [
    "# Band-equivalence"
   ]
  },
  {
   "cell_type": "markdown",
   "metadata": {},
   "source": [
    "## Compute equivalence metrics for target and reference spectra"
   ]
  },
  {
   "cell_type": "code",
   "execution_count": null,
   "metadata": {
    "tags": []
   },
   "outputs": [],
   "source": [
    "referenceW = SelectMultiple(options = sensordict.keys())\n",
    "targetW = SelectMultiple(options = sensordict.keys())\n",
    "startW = Dropdown(options = ['Pause', 'Go'])\n",
    "pearson = 0.3\n",
    "\n",
    "@interact(reference = referenceW, target = targetW, start = startW)\n",
    "\n",
    "def print_sample(reference, target, start):\n",
    "    referenceW.options = sensordict.keys()\n",
    "    targetW.options = sensordict.keys()\n",
    "    startW.options\n",
    "    if start == 'Go':\n",
    "        global spectrumcomparison\n",
    "        spectrumcomparison = speclib.equivalence(sensordict,reference,target,pearson)\n",
    "    return(reference, target, start)\n"
   ]
  },
  {
   "cell_type": "markdown",
   "metadata": {},
   "source": [
    "## Summarize the equivalence metrics"
   ]
  },
  {
   "cell_type": "code",
   "execution_count": null,
   "metadata": {
    "tags": []
   },
   "outputs": [],
   "source": [
    "try:\n",
    "    spectrumcomparison = spectrumcomparison.sort_values('weightedcentredelta', ascending=True)\n",
    "    display(spectrumcomparison)\n",
    "except:\n",
    "    print('spectrumcomparison not computed - go to previous step')"
   ]
  },
  {
   "cell_type": "markdown",
   "metadata": {},
   "source": [
    "## Set the matching threshold here for the equivalence metrics"
   ]
  },
  {
   "cell_type": "code",
   "execution_count": null,
   "metadata": {
    "tags": []
   },
   "outputs": [],
   "source": [
    "style = {'description_width': 'initial'}\n",
    "pcorrelationW = FloatSlider(\n",
    "    value=0.6,\n",
    "    min=0.01,\n",
    "    max=1.0,\n",
    "    step=0.01,\n",
    "    description='Pearsons correlation:',\n",
    "    disabled=False,\n",
    "    continuous_update=False,\n",
    "    orientation='horizontal',\n",
    "    readout=True,\n",
    "    readout_format='.1f',\n",
    "    tooltip='Pearsons correlation coefficient minimum threshold',\n",
    "    style=style\n",
    ")\n",
    "\n",
    "distanceW = FloatSlider(\n",
    "    value=20.0,\n",
    "    min=0.0,\n",
    "    max=1,\n",
    "    step=0.01,\n",
    "    description='Earthmover distance:',\n",
    "    disabled=False,\n",
    "    continuous_update=False,\n",
    "    orientation='horizontal',\n",
    "    readout=True,\n",
    "    readout_format='d',\n",
    "    style=style\n",
    ")\n",
    "\n",
    "weightedcentredeltaW = IntSlider(\n",
    "    value=70,\n",
    "    min=0,\n",
    "    max=500,\n",
    "    step=5,\n",
    "    description='Weighted centre delta:',\n",
    "    disabled=False,\n",
    "    continuous_update=False,\n",
    "    orientation='horizontal',\n",
    "    readout=True,\n",
    "    readout_format='d',\n",
    "    style=style\n",
    ")\n",
    "\n",
    "areadeltaW = IntSlider(\n",
    "    value=70,\n",
    "    min=0,\n",
    "    max=500,\n",
    "    step=5,\n",
    "    description='Area delta:',\n",
    "    disabled=False,\n",
    "    continuous_update=False,\n",
    "    orientation='horizontal',\n",
    "    readout=True,\n",
    "    readout_format='d',\n",
    "    style=style\n",
    ")\n",
    "\n",
    "fwhmdeltaW = IntSlider(\n",
    "    value=70,\n",
    "    min=0,\n",
    "    max=500,\n",
    "    step=5,\n",
    "    description='FWHM Delta:',\n",
    "    disabled=False,\n",
    "    continuous_update=False,\n",
    "    orientation='horizontal',\n",
    "    readout=True,\n",
    "    readout_format='d',\n",
    "    style=style\n",
    ")\n",
    "\n",
    "startW = Dropdown(options = ['Pause', 'Go'])\n",
    "\n",
    "@interact(pcorrelation = pcorrelationW, distance = distanceW, weightedcentredelta = weightedcentredeltaW, areadelta = areadeltaW, fwhmdelta = fwhmdeltaW, start = startW)\n",
    "\n",
    "def print_settings(pcorrelation, distance, weightedcentredelta, areadelta, fwhmdelta, start):\n",
    "    pcorrelationW = pcorrelation\n",
    "    distanceW = distance\n",
    "    weightedcentredeltaW = weightedcentredelta\n",
    "    areadeltaW = areadelta\n",
    "    fwhmdeltaW = fwhmdelta\n",
    "    startW.options\n",
    "    if start == 'Go':    \n",
    "        \n",
    "        display(spectrumcomparison[(spectrumcomparison.pcorrelation > pcorrelationW) &\\\n",
    "                   (spectrumcomparison.distance < distanceW) &\\\n",
    "                   (spectrumcomparison.weightedcentredelta < weightedcentredeltaW) &\\\n",
    "                   (spectrumcomparison.areadelta < areadeltaW) &\\\n",
    "                   (spectrumcomparison.areadelta < fwhmdeltaW)\n",
    "                   ])\n",
    "    try:\n",
    "        print(\"Reference/Sensor1: \"+referenceW.value[0], \"Target/Sensor2: \"+targetW.value[0], pcorrelation, distance, weightedcentredelta, areadelta, fwhmdelta)\n",
    "    except:\n",
    "        print(\"Select a Reference and Target sensor from the 'Compute equivalence metrics for target and reference spectra' dialogue above\")"
   ]
  },
  {
   "cell_type": "markdown",
   "metadata": {},
   "source": [
    "### Preserve the sensordict as a pickle for use elsewhere"
   ]
  },
  {
   "cell_type": "code",
   "execution_count": null,
   "metadata": {},
   "outputs": [],
   "source": [
    "import pickle\n",
    "\n",
    "with open('sensordict.pickle', 'wb') as handle:\n",
    "    pickle.dump(sensordict, handle, protocol=pickle.HIGHEST_PROTOCOL)"
   ]
  },
  {
   "cell_type": "markdown",
   "metadata": {},
   "source": [
    "#### Create an encryption key"
   ]
  },
  {
   "cell_type": "code",
   "execution_count": null,
   "metadata": {},
   "outputs": [],
   "source": [
    "# Generate the key to unlock the encrypted file\n",
    "key = Fernet.generate_key()\n",
    "\n",
    "# string the key in a file\n",
    "with open('filekey.key', 'wb') as filekey:\n",
    "    filekey.write(key)\n",
    "# opening the key\n",
    "with open('filekey.key', 'rb') as filekey:\n",
    "    key = filekey.read()"
   ]
  },
  {
   "cell_type": "markdown",
   "metadata": {},
   "source": [
    "#### Encrypt the pickle file to make it secure"
   ]
  },
  {
   "cell_type": "code",
   "execution_count": null,
   "metadata": {},
   "outputs": [],
   "source": [
    "# Encrypt the pickled file using the encrption key.\n",
    "\n",
    "# opening the key\n",
    "with open('filekey.key', 'rb') as filekey:\n",
    "    key = filekey.read()\n",
    "# using the key\n",
    "fernet = Fernet(key)\n",
    "\n",
    "# opening the original file to encrypt\n",
    "with open('sensordict.pickle', 'rb') as file:\n",
    "    original = file.read()\n",
    "\n",
    "# encrypting the file\n",
    "encrypted = fernet.encrypt(original)\n",
    "\n",
    "# opening the file in write mode and\n",
    "\n",
    "# writing the encrypted data\n",
    "with open('sensordict.pickle', 'wb') as encrypted_file:\n",
    "    encrypted_file.write(encrypted)\n",
    "\n",
    "# The pickle is now encrypted"
   ]
  },
  {
   "cell_type": "code",
   "execution_count": null,
   "metadata": {},
   "outputs": [],
   "source": [
    "# http://www.eoc.csiro.au/hswww/oz_pi/docs/fwhm_notes.pdf From David Jupp\n",
    "# P.M.  Teillet,  G.  Fedosejevs,  K.J.  Thome,  and  J.L.  Barker,  “Impacts  of  spectral  band  difference  effects  on  radiometric  \n",
    "#cross-calibration between satellite sensors in the solar-reflective spectral domain,” \n",
    "#Remote Sensing of Environment\n",
    "#, 110, pp. \n",
    "#393–409, 2007\n",
    "# http://stackoverflow.com/questions/10623448/making-gaussians-constrained-by-the-fwhm"
   ]
  },
  {
   "cell_type": "code",
   "execution_count": null,
   "metadata": {},
   "outputs": [],
   "source": [
    "# Solar irradiance curve - how much radiant energy is hitting the sensor...proportionally? \n",
    "# http://rredc.nrel.gov/solar/spectra/am1.5/\n",
    "# TODO - done above but difficult to track down the normalised transmission data for a representative atmosphere\n",
    "# across the 300 to 15000 nanometer spectrum"
   ]
  },
  {
   "cell_type": "code",
   "execution_count": null,
   "metadata": {},
   "outputs": [],
   "source": [
    "# TODO Band resampling to provide proportional inclusion of multiple summed bands in synthetic band (i.e. with pan band,\n",
    "# or hyperspectral, narrow bands to broad band)"
   ]
  },
  {
   "cell_type": "markdown",
   "metadata": {},
   "source": [
    "# Spectral-libraries"
   ]
  },
  {
   "cell_type": "markdown",
   "metadata": {},
   "source": [
    "## USGS Spectral Library Version 7\n",
    "https://pubs.er.usgs.gov/publication/ds1035\n",
    "- Chapter 1: M = Minerals.\n",
    "- Chapter 2: S = Soils (including rocks, and mineral mixtures).\n",
    "- Chapter 3: C = Coatings.\n",
    "- Chapter 4: L = Liquids (including mixtures of liquids, water and other volatiles, and frozen volatiles).\n",
    "- Chapter 5: O = Organics (including biochemical constituents of plants and chemical compounds). This chapter includes mixtures of organic compounds with basalt as well as the reference basalt. The spectra of the mixtures with basalt show the fundamental absorptions of the organic compounds, which can be saturated in the spectra of the pure substances.\n",
    "- Chapter 6: A = Artificial (manmade materials, including construction materials, fabrics, manufactured chemicals, processed materials, paint pigments, plastics, and materials introduced into the environment by human activity).\n",
    "- Chapter 7: V = Vegetation (including biological materials, plant components such as leaves, flowers, and bark, vegetated areas having more than one species present, lichens, biological soil crusts, and mixtures with vegetation)."
   ]
  },
  {
   "cell_type": "code",
   "execution_count": null,
   "metadata": {},
   "outputs": [],
   "source": [
    "# Download from here https://www.sciencebase.gov/catalog/item/5807a2a2e4b0841e59e3a18d to \"spectra/.\"\n",
    "usgs_splib07 = zipfile.ZipFile(data_folder.joinpath('spectra/usgs_splib07.zip'), 'r')"
   ]
  },
  {
   "cell_type": "code",
   "execution_count": null,
   "metadata": {},
   "outputs": [],
   "source": [
    "txtfiles = [item for item in usgs_splib07.namelist() if 'txt' in item]"
   ]
  },
  {
   "cell_type": "code",
   "execution_count": null,
   "metadata": {},
   "outputs": [],
   "source": [
    "# Clean, cubic spline interpolated spectra\n",
    "splib07b = [item for item in txtfiles if 'splib07b/' in item]"
   ]
  },
  {
   "cell_type": "code",
   "execution_count": null,
   "metadata": {},
   "outputs": [],
   "source": [
    "# Spectra obtained with a range of sensors\n",
    "wavelength_asdfr = pandas.read_csv(usgs_splib07.open(([item for item in splib07b if 'ASDFR_0.35-2.5microns_2151ch' in item])[0]))*1000\n",
    "wavelength_aviris = pandas.read_csv(usgs_splib07.open(([item for item in splib07b if 'AVIRIS_1996_interp_to_2203ch' in item])[0]))*1000\n",
    "wavelength_beck = pandas.read_csv(usgs_splib07.open(([item for item in splib07b if 'BECK_Beckman_interp._3961_ch' in item])[0]))*1000\n",
    "wavelength_nic4 = pandas.read_csv(usgs_splib07.open(([item for item in splib07b if 'NIC4_Nicolet_1.12-216microns' in item])[0]))*1000\n"
   ]
  },
  {
   "cell_type": "markdown",
   "metadata": {},
   "source": [
    "## List Chapter contents"
   ]
  },
  {
   "cell_type": "code",
   "execution_count": null,
   "metadata": {},
   "outputs": [],
   "source": [
    "minerals_files = [item for item in splib07b if 'ChapterM_' in item]"
   ]
  },
  {
   "cell_type": "code",
   "execution_count": null,
   "metadata": {},
   "outputs": [],
   "source": [
    "soils_files = [item for item in splib07b if 'ChapterS_' in item]"
   ]
  },
  {
   "cell_type": "code",
   "execution_count": null,
   "metadata": {},
   "outputs": [],
   "source": [
    "coatings_files = [item for item in splib07b if 'ChapterC_' in item]"
   ]
  },
  {
   "cell_type": "code",
   "execution_count": null,
   "metadata": {},
   "outputs": [],
   "source": [
    "liquids_files = [item for item in splib07b if 'ChapterL_' in item]"
   ]
  },
  {
   "cell_type": "code",
   "execution_count": null,
   "metadata": {},
   "outputs": [],
   "source": [
    "organics_files = [item for item in splib07b if 'ChapterO_' in item]"
   ]
  },
  {
   "cell_type": "code",
   "execution_count": null,
   "metadata": {},
   "outputs": [],
   "source": [
    "artificial_files = [item for item in splib07b if 'ChapterA_' in item]"
   ]
  },
  {
   "cell_type": "code",
   "execution_count": null,
   "metadata": {},
   "outputs": [],
   "source": [
    "vegetation_files = [item for item in splib07b if 'ChapterV_' in item]"
   ]
  },
  {
   "cell_type": "code",
   "execution_count": null,
   "metadata": {},
   "outputs": [],
   "source": [
    "# Concatenate all files\n",
    "samplefiles = minerals_files + soils_files + coatings_files + liquids_files + organics_files + artificial_files + vegetation_files"
   ]
  },
  {
   "cell_type": "code",
   "execution_count": null,
   "metadata": {},
   "outputs": [],
   "source": [
    "chapterfiles = {'minerals': minerals_files, 'soils': soils_files, 'coatings': coatings_files, 'liquids': liquids_files, 'organics': organics_files, 'artificial': artificial_files, 'vegetation': vegetation_files }"
   ]
  },
  {
   "cell_type": "code",
   "execution_count": null,
   "metadata": {},
   "outputs": [],
   "source": [
    "# Create a dict of dataframes representing the wavelength and response of the sample spectra \n",
    "instrument_list = []\n",
    "sampledict = {}\n",
    "\n",
    "for chapter in chapterfiles.keys():\n",
    "    sampledict[chapter] = {}\n",
    "    for file in chapterfiles[chapter]:\n",
    "        openfile = pandas.read_csv(usgs_splib07.open(file),delim_whitespace=False)\n",
    "        \n",
    "        instrument_index = len(openfile.keys()[0].split())-2\n",
    "        instrument_name = openfile.keys()[0].split()[instrument_index]\n",
    "        instrument_list.append(instrument_name)\n",
    "        \n",
    "        if 'ASD' in instrument_name:\n",
    "            wavelength = wavelength_asdfr\n",
    "        elif 'AVIRIS' in instrument_name:\n",
    "            wavelength = wavelength_aviris\n",
    "        elif 'BECK' in instrument_name:\n",
    "            wavelength = wavelength_beck\n",
    "        elif 'NIC4' in instrument_name:\n",
    "            wavelength = wavelength_nic4\n",
    "                \n",
    "        \n",
    "        sample_name = ' '.join(openfile.keys()[0].split()[2:instrument_index])\n",
    "\n",
    "        openfile.columns.values[0] = 'rsr'\n",
    "\n",
    "        rsr = openfile\n",
    "\n",
    "        \n",
    "        sampledict[chapter][sample_name] = pandas.DataFrame({'wavelength': wavelength.squeeze(), 'rsr': rsr.squeeze()})\n",
    "        sampledict[chapter][sample_name] = sampledict[chapter][sample_name].where(sampledict[chapter][sample_name]['rsr'] != -1.23e+34)"
   ]
  },
  {
   "cell_type": "code",
   "execution_count": null,
   "metadata": {},
   "outputs": [],
   "source": [
    "# TODO Enable instrument specific discrimination\n",
    "instrument_list = set(instrument_list)\n",
    "instrument_list\n",
    "#for instrument in instrument_list:"
   ]
  },
  {
   "cell_type": "code",
   "execution_count": null,
   "metadata": {
    "scrolled": true,
    "tags": []
   },
   "outputs": [],
   "source": [
    "from ipywidgets import interact, Dropdown\n",
    "\n",
    "sensorW = Dropdown(options = sensordict.keys())\n",
    "chapterW = Dropdown(options = sampledict.keys())\n",
    "\n",
    "sampleW = Dropdown(options = sampledict[chapterW.value].keys())\n",
    "\n",
    "@interact(sensor = sensorW, chapter = chapterW, sample = sampleW)\n",
    "\n",
    "def print_sample(sensor, chapter, sample):\n",
    "    sensorW.options = sensordict.keys()\n",
    "    chapterW.options = sampledict.keys()\n",
    "    sampleW.options = sampledict[chapter].keys()\n",
    "    speclib.plotallbandsplussample(sensordict, sampledict, sensor, chapter, sample)\n",
    "    return(sensor,  chapter, sample)"
   ]
  },
  {
   "cell_type": "markdown",
   "metadata": {},
   "source": [
    "# NASA-sensor-plot-emulation"
   ]
  },
  {
   "cell_type": "markdown",
   "metadata": {},
   "source": [
    "## Sensor Intercomparison"
   ]
  },
  {
   "cell_type": "code",
   "execution_count": null,
   "metadata": {},
   "outputs": [],
   "source": [
    "# Import sensor dict from JSON\n",
    "# TODO integrate into sensordict\n",
    "\n",
    "def js_r(fp: str):\n",
    "    with open(fp) as f_in:\n",
    "        return json.load(f_in)\n",
    "\n",
    "sensor_print_dict = js_r('sensor_plot_spec.json')"
   ]
  },
  {
   "cell_type": "code",
   "execution_count": null,
   "metadata": {},
   "outputs": [],
   "source": [
    "sensorlistW = SelectMultiple(options = sensordict.keys())\n",
    "#sensorlistW = SelectMultiple(options = plotdict.keys())\n",
    "startW = Dropdown(options = ['Pause', 'Go'])\n",
    "\n",
    "plotlimitminW = Text(\n",
    "    value='350',\n",
    "    description='PlotLimitMin Value:',style={'description_width': 'initial'},\n",
    "    disabled=False   \n",
    ")    \n",
    "plotlimitmaxW = Text(\n",
    "    value='2500',\n",
    "    description='PlotLimitMax Value:',\n",
    "    disabled=False   \n",
    ") \n",
    "plotlimitminW2 = Text(\n",
    "    value='7500',\n",
    "    description='PlotLimitMin Value:',\n",
    "    disabled=False   \n",
    ")    \n",
    "plotlimitmaxW2 = Text(\n",
    "    value='14000',\n",
    "    description='PlotLimitMax Value:',\n",
    "    disabled=False   \n",
    ") \n",
    "plotticklistW = Text(\n",
    "    value='400,900,1500,1900,2400',\n",
    "    description='PlotTickLlistX List:',\n",
    "    disabled=False   \n",
    ")\n",
    "plotticklistW2 = Text(\n",
    "    value='8000,9000,10000,11000,12000,13000',\n",
    "    description='PlotTickLlistX List:',\n",
    "    disabled=False   \n",
    ")\n",
    "\n",
    "titleW = Text(\n",
    "    value='Sensor bands at Full Width Half Maximum',\n",
    "    placeholder='Plot label',\n",
    "    description='String:',\n",
    "    disabled=False   \n",
    ")\n",
    "\n",
    "heightW = Text(\n",
    "    value='4',\n",
    "    description='Height of sensor band block',\n",
    "    disabled=False   \n",
    ")\n",
    "\n",
    "figureHeightW = Text(\n",
    "    value='10',\n",
    "    description='Figure Y size',\n",
    "    disabled=False   \n",
    ")\n",
    "\n",
    "figureWidthW = Text(\n",
    "    value='20',\n",
    "    description='Figure X size',\n",
    "    disabled=False   \n",
    ")\n",
    "lineWidthW = Text(\n",
    "    value='0.5',\n",
    "    description='Box line width',\n",
    "    disabled=False   \n",
    ")\n",
    "# Create a LUT to be used to determine the colour of a block in the chart based on proximity of centre wavelength to the LUT value\n",
    "colourlut = { 1: {'hexcolour': '#008FA2'}\n",
    "              , #Pan\n",
    "              420: #coastal\n",
    "              {'hexcolour':'#72A1C7'}\n",
    "             ,\n",
    "              478: \n",
    "               {'hexcolour':'#00648D'}\n",
    "              , #blue\n",
    "              590:\n",
    "               {'hexcolour':'#4B9F5F'}\n",
    "              , #green\n",
    "              660:\n",
    "               {'hexcolour':'#C21E37'}\n",
    "              , #red\n",
    "              740:\n",
    "             { 'hexcolour': '#7D2652'}\n",
    "             , # dark red\n",
    "              850:\n",
    "               {'hexcolour': '#C5A2BD'}\n",
    "              , #NIR\n",
    "              1650:\n",
    "               {'hexcolour': '#D39979'}\n",
    "              , #SWIR1\n",
    "              2200:\n",
    "               {'hexcolour': '#999C96'}\n",
    "              , #SWIR2\n",
    "              8500:\n",
    "                   {'hexcolour':'#BC7A82'}\n",
    "              , #TIR\n",
    "             }\n",
    "\n",
    "@interact(sensorlist = sensorlistW, title=titleW, plotlimitmin=plotlimitminW, plotlimitmax=plotlimitmaxW, plotticklist=plotticklistW,plotlimitmin2=plotlimitminW2,\n",
    "          plotlimitmax2=plotlimitmaxW2, plotticklist2=plotticklistW2, start = startW, height=heightW, figureWidth=figureWidthW, figureHeight=figureHeightW, lineWidth=lineWidthW)\n",
    "\n",
    "def print_sample( sensorlist, plotlimitmin, plotlimitmax, plotticklist ,plotlimitmin2, plotlimitmax2, plotticklist2, start, title, height, figureWidth, figureHeight, lineWidth):\n",
    "    titleW = title\n",
    "    sensorlistW = list(sensordict.keys())\n",
    "    plotlimitminW = plotlimitmin\n",
    "    plotlimitmaxW = plotlimitmax\n",
    "    plotticklistW = plotticklist\n",
    "    plotlimitminW2 = plotlimitmin2\n",
    "    plotlimitmaxW2 = plotlimitmax2\n",
    "    plotticklistW2 = plotticklist2\n",
    "    heightW = height\n",
    "    figureWidthW = figureWidth\n",
    "    figureHeightW = figureHeight\n",
    "    lineWidthW = lineWidth\n",
    "    startW.options\n",
    "    if start == 'Go':\n",
    "        plotticklist = [int(i) for i in plotticklist.split(',')]\n",
    "\n",
    "        #Reorder the sensorlist by launch date\n",
    "        ordered_sensordict = {}\n",
    "        launched = []\n",
    "        for sensor in sensorlist:\n",
    "            year = sensor_print_dict[sensor]['launched']\n",
    "            launched.append((year, sensor))\n",
    "        launched = sorted(launched)\n",
    "        sensorlist = []\n",
    "        for year, sensor in launched:\n",
    "\n",
    "            sensorlist.append(sensor)\n",
    "        \n",
    "        speclib.plothorizontalallbands( sensordict,  sensorlist, int(plotlimitmin), int(plotlimitmax), plotticklist, int(plotlimitmin2), int(plotlimitmax2), plotticklist2, sensor_print_dict, title, height, figureWidth, figureHeight, colourlut, lineWidth)\n",
    "\n",
    "# Note\n",
    "# Rectangles may not display because the Limits are insufficient to enable them to be drawn (i.e. to fix simply increase limits).\n",
    "# Similarly, if text is overlapping, simply increase the Xlimit"
   ]
  }
 ],
 "metadata": {
  "kernelspec": {
   "display_name": "Python 3 (ipykernel)",
   "language": "python",
   "name": "python3"
  },
  "language_info": {
   "codemirror_mode": {
    "name": "ipython",
    "version": 3
   },
   "file_extension": ".py",
   "mimetype": "text/x-python",
   "name": "python",
   "nbconvert_exporter": "python",
   "pygments_lexer": "ipython3",
   "version": "3.11.6"
  }
 },
 "nbformat": 4,
 "nbformat_minor": 4
}
