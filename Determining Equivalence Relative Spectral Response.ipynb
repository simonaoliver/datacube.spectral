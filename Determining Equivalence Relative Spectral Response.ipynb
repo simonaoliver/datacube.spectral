{
 "cells": [
  {
   "cell_type": "markdown",
   "metadata": {},
   "source": [
    "# Determining Equivalence Relative Spectral Response"
   ]
  },
  {
   "cell_type": "code",
   "execution_count": null,
   "metadata": {},
   "outputs": [],
   "source": [
    "import numpy as np\n",
    "import math\n",
    "from scipy.interpolate import UnivariateSpline\n",
    "from scipy import signal\n",
    "from scipy import ndimage\n",
    "from scipy import stats\n",
    "from scipy.stats import norm\n",
    "from scipy.stats import wasserstein_distance\n",
    "import pandas\n",
    "import plotly\n",
    "import zipfile\n",
    "import netCDF4 \n",
    "import csv\n",
    "\n",
    "import warnings\n",
    "warnings.simplefilter(\"ignore\")\n",
    "\n",
    "from cryptography.fernet import Fernet"
   ]
  },
  {
   "cell_type": "code",
   "execution_count": null,
   "metadata": {},
   "outputs": [],
   "source": [
    "# Plot every sensor band for a given sensor\n",
    "def plotallbands(sensor):\n",
    "    plotlydatalist = []\n",
    "    for key in sensordict[sensor].keys():\n",
    "        plotlydatalist.append({\"x\": sensordict[sensor][(key)].wavelength,\\\n",
    "                                \"y\": sensordict[sensor][(key)].rsr,\\\n",
    "                                \"name\": (key)})\n",
    "\n",
    "    plotly.offline.iplot({ \"data\": plotlydatalist,\"layout\": {\"title\": sensor}})\n"
   ]
  },
  {
   "cell_type": "code",
   "execution_count": null,
   "metadata": {},
   "outputs": [],
   "source": [
    "# Plot every sample for a given chapter (theme)\n",
    "def plotallsamples(chapter):\n",
    "    plotlydatalist = []\n",
    "    for key in sampledict[chapter].keys():\n",
    "        plotlydatalist.append({\"x\": sampledict[chapter][(key)].wavelength,\\\n",
    "                                \"y\": sampledict[chapter][(key)].rsr,\\\n",
    "                                \"name\": (key)})\n",
    "\n",
    "    plotly.offline.iplot({ \"data\": plotlydatalist,\"layout\": {\"title\": chapter}})\n"
   ]
  },
  {
   "cell_type": "code",
   "execution_count": null,
   "metadata": {},
   "outputs": [],
   "source": [
    "def plotallbandslist(sensorlist):\n",
    "\n",
    "    plotlydatalist = []\n",
    "    red = 255\n",
    "    green = 255\n",
    "    blue = 255\n",
    "    greenorange = 165\n",
    "    for sensor in sensorlist:\n",
    "        red = red - 10\n",
    "        green = green - 10\n",
    "        blue = blue -10 \n",
    "        greenorange = greenorange - 2\n",
    "\n",
    "        for key in sensordict[sensor].keys():\n",
    "            if key == 'Near IR':\n",
    "                color = 'rgb(255,'+str(greenorange)+', 0)'\n",
    "            if key == 'Blue':\n",
    "                color = 'rgb(0,0,'+str(blue)+')'\n",
    "            if key == 'Green':\n",
    "                color = 'rgb(0,'+str(green)+', 0)'\n",
    "            if key == 'Red':\n",
    "                color = 'rgb('+str(red)+', 0, 0)'\n",
    "            \n",
    "            plotlydatalist.append({\"x\": sensordict[sensor][(key)].wavelength,\\\n",
    "                                    \"y\": sensordict[sensor][(key)].rsr,\n",
    "                                    \"name\": (key),\\\n",
    "                                    \"line\": {'color': color, 'width': 0.25}})\n",
    "\n",
    "    plotly.offline.iplot({ \"data\": plotlydatalist,\"layout\": {\"title\": sensor}})\n",
    "    "
   ]
  },
  {
   "cell_type": "markdown",
   "metadata": {},
   "source": [
    "## Import data and configure for common access"
   ]
  },
  {
   "cell_type": "code",
   "execution_count": null,
   "metadata": {},
   "outputs": [],
   "source": [
    "# Import Sentinel-3 from NetCDF\n",
    "s3aolcinc = netCDF4.Dataset('S3A_OL_SRF_20160713_mean_rsr.nc4')\n",
    "s3bolcinc = netCDF4.Dataset('S3B_OL_SRF_0_20180109_mean_rsr.nc4') "
   ]
  },
  {
   "cell_type": "code",
   "execution_count": null,
   "metadata": {},
   "outputs": [],
   "source": [
    "spot1 = pandas.read_excel('r453_9_spectralsensivity.xls', sheet_name = 'SPOT 1', header=4, skiprows=[42,43]) #hrv1, hrv2\n",
    "spot2 = pandas.read_excel('r453_9_spectralsensivity.xls', sheet_name = 'SPOT 2', header=4, skiprows=[42,43]) #hrv1, hrv2\n",
    "spot3 = pandas.read_excel('r453_9_spectralsensivity.xls', sheet_name = 'SPOT 3', header=4, skiprows=[42,43]) #hrv1, hrv2\n",
    "spot4 = pandas.read_excel('r453_9_spectralsensivity.xls', sheet_name = 'SPOT 4', header=4, skiprows=[68,69]) #hrvir1, hrvir2\n",
    "spot5 = pandas.read_excel('r453_9_spectralsensivity.xls', sheet_name = 'SPOT 5', header=6) #hrg1, hrg2\n",
    "qb02 = pandas.read_excel('QB02_WV01_WV02_Spectral_Response_Final_Correct_Jan292013.xlsx',\\\n",
    "                               sheet_name = 'QB02 Relative Radiance Response', header=7)\n",
    "wv01 = pandas.read_excel('QB02_WV01_WV02_Spectral_Response_Final_Correct_Jan292013.xlsx',\\\n",
    "                               sheet_name = 'WV01 Relative Radiance Response', header=7)\n",
    "wv02 = pandas.read_excel('QB02_WV01_WV02_Spectral_Response_Final_Correct_Jan292013.xlsx',\\\n",
    "                               sheet_name = 'WV02 Relative Radiance Response', header=7)\n",
    "geoeye1 = pandas.read_excel('GeoEye-1_Relative_Spectral_Response.xls', sheet_name = 'Sheet1', header = 26, nrows= 651)\n",
    "\n",
    "ls9oli = pandas.read_excel('L9_OLI2_Ball_BA_RSR.v1.0.xlsx', sheet_name = ['CoastalAerosol','Blue', 'Green', 'Red', 'NIR', 'Cirrus', 'SWIR1', 'SWIR2', 'Pan'])\n",
    "ls9tirs = pandas.read_excel('L9_TIRS2_Relative_Spectral_Responses.BA.v1.0.xlsx', sheet_name = ['TIRS Band 10 BA RSR','TIRS Band 11 BA RSR'])\n",
    "\n",
    "ls8oli = pandas.read_excel('Ball_BA_RSR.xlsx', sheet_name = ['CoastalAerosol','Blue', 'Green', 'Red', 'NIR', 'Cirrus', 'SWIR1', 'SWIR2', 'Pan'])\n",
    "ls8tirs = pandas.read_excel('TIRS_Relative_Spectral_ResponsesBA.xlsx', sheet_name = ['TIRS BA RSR'])\n",
    "ls5tm = pandas.read_excel('L5_TM_RSR.xlsx', sheet_name = ['Blue-L5 TM', 'Green-L5 TM','Red-L5 TM', 'NIR-L5 TM', 'SWIR(5)-L5 TM','SWIR(7)-L5 TM' ] )\n",
    "ls7etm = pandas.read_excel('L7_RSR.xlsx',sheet_name = ['Blue-L7','Green-L7','Red-L7','NIR-L7', 'SWIR(5)-L7','SWIR(7)-L7','Pan-L7'])\n",
    "s2amsi = pandas.read_excel('Sentinel-2 MSI Spectral Responses.xlsx',sheet_name = ['Spectral Responses (S2A)'])\n",
    "s2bmsi = pandas.read_excel('Sentinel-2 MSI Spectral Responses.xlsx',sheet_name = ['Spectral Responses (S2B)'])\n",
    "tmodis = pandas.read_excel('MODIS_FM1_IB_OOB_RSR_merged.xls', sheet_name = ['modis_fm1_rsp_mid_chnl_sum'])\n",
    "nppviirs = pandas.read_excel('NG_VIIRS_NPP_RSR_filtered_Oct2011_BA.xlsx', \n",
    "                             sheet_name = ['I1','I2', 'I3','I5', 'M1', 'M2','M3', 'M4', 'M5', 'M6', 'M7', 'M8', 'M9','M10', 'M11', 'M12', 'M13', 'M14', 'M15', 'M16A', 'M16B'],\n",
    "                             header = None)\n",
    "#AVHRR https://www.star.nesdis.noaa.gov/smcd/spb/fwu/homepage/AVHRR/spec_resp_func/index.html\n",
    "noaa18avhrr = {}\n",
    "noaa18avhrr ['1'] = pandas.read_csv('NOAA18/NOAA_18_A306C001.csv', usecols=[0,1])\n",
    "noaa18avhrr ['2'] = pandas.read_csv('NOAA18/NOAA_18_A306C002.csv', usecols=[0,1])\n",
    "noaa18avhrr ['3A'] = pandas.read_csv('NOAA18/NOAA_18_A306C03A.csv', usecols=[0,1])\n",
    "noaa18avhrr ['3B'] = pandas.read_csv('NOAA18/NOAA_18_A306C03B.csv', usecols=[0,1])\n",
    "noaa18avhrr ['4'] = pandas.read_csv('NOAA18/NOAA_18_A306C004.csv', usecols=[0,1])\n",
    "noaa18avhrr ['5'] = pandas.read_csv('NOAA18/NOAA_18_A306C005.csv', usecols=[0,1]) \n",
    "\n",
    "noaa19avhrr = {}\n",
    "noaa19avhrr ['1'] = pandas.read_csv('NOAA19/NOAA_19_A308C001.csv', usecols=[0,1])\n",
    "noaa19avhrr ['2'] = pandas.read_csv('NOAA19/NOAA_19_A308C002.csv', usecols=[0,1])\n",
    "noaa19avhrr ['3A'] = pandas.read_csv('NOAA19/NOAA_19_A308C03A.csv', usecols=[0,1])\n",
    "noaa19avhrr ['3B'] = pandas.read_csv('NOAA19/NOAA_19_A308C03B.csv', usecols=[0,1])\n",
    "noaa19avhrr ['4'] = pandas.read_csv('NOAA19/NOAA_19_A308C004.csv', usecols=[0,1])\n",
    "noaa19avhrr ['5'] = pandas.read_csv('NOAA19/NOAA_19_A308C005.csv', usecols=[0,1])                    \n",
    "                    \n",
    "#ASTER - http://asterweb.jpl.nasa.gov/content/01_mission/03_instrument/archive/swir.txt (vnir.txt, tir.txt)\n",
    "astervnir = pandas.read_csv('aster/vnir.txt',delim_whitespace=True, header=3)\n",
    "asterswir = pandas.read_csv('aster/swir.txt',delim_whitespace=True, header=3)\n",
    "astertir = pandas.read_csv('aster/tir.txt',delim_whitespace=True, header=3)\n",
    "satellogic = zipfile.ZipFile('Satellogic_MS_SRF.zip', 'r')\n",
    "newsat = satellogic.open('Newsat8_srf.csv')\n",
    "newsat8 = pandas.read_csv(newsat,delim_whitespace=False, usecols = ['wavelength (nm)', 'blue_srf', 'green_srf', 'red_srf', 'ir_srf'])\n",
    "newsat = satellogic.open('Newsat9_srf.csv')\n",
    "newsat9 = pandas.read_csv(newsat,delim_whitespace=False, usecols = ['wavelength (nm)', 'blue_srf', 'green_srf', 'red_srf', 'ir_srf'])\n",
    "newsat = satellogic.open('Newsat10_srf.csv')\n",
    "newsat10 = pandas.read_csv(newsat,delim_whitespace=False, usecols = ['wavelength (nm)', 'blue_srf', 'green_srf', 'red_srf', 'ir_srf'])\n",
    "newsat = satellogic.open('Newsat11_srf.csv')\n",
    "newsat11 = pandas.read_csv(newsat,delim_whitespace=False, usecols = ['wavelength (nm)', 'blue_srf', 'green_srf', 'red_srf', 'ir_srf'])\n",
    "newsat = satellogic.open('Newsat12_srf.csv')\n",
    "newsat12 = pandas.read_csv(newsat,delim_whitespace=False, usecols = ['wavelength (nm)', 'blue_srf', 'green_srf', 'red_srf', 'ir_srf'])\n",
    "newsat = satellogic.open('Newsat13_srf.csv')\n",
    "newsat13 = pandas.read_csv(newsat,delim_whitespace=False, usecols = ['wavelength (nm)', 'blue_srf', 'green_srf', 'red_srf', 'ir_srf'])\n",
    "newsat = satellogic.open('Newsat14_srf.csv')\n",
    "newsat14 = pandas.read_csv(newsat,delim_whitespace=False, usecols = ['wavelength (nm)', 'blue_srf', 'green_srf', 'red_srf', 'ir_srf'])\n",
    "newsat = satellogic.open('Newsat15_srf.csv')\n",
    "newsat15 = pandas.read_csv(newsat,delim_whitespace=False, usecols = ['wavelength (nm)', 'blue_srf', 'green_srf', 'red_srf', 'ir_srf'])\n",
    "newsat = satellogic.open('Newsat16_srf.csv')\n",
    "newsat16 = pandas.read_csv(newsat,delim_whitespace=False, usecols = ['wavelength (nm)', 'blue_srf', 'green_srf', 'red_srf', 'ir_srf'])\n",
    "newsat = satellogic.open('Newsat17_srf.csv')\n",
    "newsat17 = pandas.read_csv(newsat,delim_whitespace=False, usecols = ['wavelength (nm)', 'blue_srf', 'green_srf', 'red_srf', 'ir_srf'])\n",
    "newsat = satellogic.open('Newsat18_srf.csv')\n",
    "newsat18 = pandas.read_csv(newsat,delim_whitespace=False, usecols = ['wavelength (nm)', 'blue_srf', 'green_srf', 'red_srf', 'ir_srf'])\n",
    "newsat = satellogic.open('Newsat19_srf.csv')\n",
    "newsat19 = pandas.read_csv(newsat,delim_whitespace=False, usecols = ['wavelength (nm)', 'blue_srf', 'green_srf', 'red_srf', 'ir_srf'])\n",
    "newsat = satellogic.open('Newsat20_srf.csv')\n",
    "newsat20 = pandas.read_csv(newsat,delim_whitespace=False, usecols = ['wavelength (nm)', 'blue_srf', 'green_srf', 'red_srf', 'ir_srf'])\n",
    "newsat = satellogic.open('Newsat21_srf.csv')\n",
    "newsat21 = pandas.read_csv(newsat,delim_whitespace=False, usecols = ['wavelength (nm)', 'blue_srf', 'green_srf', 'red_srf', 'ir_srf'])\n",
    "newsat = satellogic.open('Newsat22_srf.csv')\n",
    "newsat22 = pandas.read_csv(newsat,delim_whitespace=False, usecols = ['wavelength (nm)', 'blue_srf', 'green_srf', 'red_srf', 'ir_srf'])\n",
    "#H8 - http://www.data.jma.go.jp/mscweb/en/himawari89/space_segment/spsg_ahi.html\n",
    "h8ahi = pandas.read_excel('h8/AHI-8_SpectralResponsivity_Data.xlsx', sheet_name = ['Band 1','Band 2','Band 3','Band 4','Band 5','Band 6','Band 7','Band 8','Band 9','Band 10','Band 11','Band 12','Band 13','Band 14','Band 15','Band 16'], header = [4])\n",
    "irradiance = pandas.read_excel('solar_irradiance/ASTMG173.xls', sheet_name = ['SMARTS2'], header=1)\n",
    "#print (\"MODIS:\",type(tmodis),\"ASTER:\",type(astervnir), \"Irradiance:\", type(irradiance))"
   ]
  },
  {
   "cell_type": "code",
   "execution_count": null,
   "metadata": {},
   "outputs": [],
   "source": [
    "print (\"NewSat 8\", newsat8.keys())\n",
    "print (\"SPOT 1\", spot1.keys())\n",
    "print (\"SPOT 2\", spot2.keys())\n",
    "print (\"SPOT 3\", spot3.keys())\n",
    "print (\"SPOT 4\", spot4.keys())\n",
    "print (\"SPOT 5\", spot5.keys())\n",
    "print (\"Geoeye 1\", geoeye1.keys())\n",
    "print (\"Worldview 1\", wv01.keys())\n",
    "print (\"Worldview 2\", wv01.keys())\n",
    "print (\"Quickbird 2\", qb02.keys())\n",
    "print (\"ASTER VNIR\", astervnir.keys())\n",
    "print (\"ASTER TIR\", astertir.keys())\n",
    "print (\"ASTER SWIR\", asterswir.keys())\n",
    "print (\"Himawari 8 AHI\", h8ahi.keys())\n",
    "print (\"OLI2 \",ls9oli.keys())\n",
    "print (\"TIRS2\", ls9tirs.keys())\n",
    "print (\"OLI \",ls8oli.keys())\n",
    "print (\"TIRS\", ls8tirs.keys())\n",
    "print (\"TM\", ls5tm.keys())\n",
    "print (\"ETM+\", ls7etm.keys())\n",
    "print (\"S2AMSI\", s2amsi.keys())\n",
    "print (\"S2BMSI\", s2bmsi.keys())\n",
    "print (\"Terra MODIS\", (tmodis.keys()))\n",
    "print (\"NPP VIIRS\", (nppviirs.keys()))\n",
    "print (\"NOAA18 AVHRR\", noaa18avhrr .keys())\n",
    "print (\"NOAA19 AVHRR\", noaa19avhrr .keys())\n",
    "print (\"Solar Irradiance\", (irradiance.keys()))\n",
    "sensorlist = [spot1, spot2, spot3, spot4, spot5, geoeye1, wv01, qb02, astervnir,asterswir,astertir, h8ahi,ls8oli,ls8tirs,ls5tm,ls7etm,s2amsi,tmodis]"
   ]
  },
  {
   "cell_type": "code",
   "execution_count": null,
   "metadata": {},
   "outputs": [],
   "source": [
    "def updatecolumns(df):\n",
    "    for key in df.keys():\n",
    "        if len(df[key].columns) == 3:\n",
    "            df[key].columns = ['Wavelength', 'RSR', 'std']   \n",
    "        if len(df[key].columns) == 2:\n",
    "            df[key].columns = ['Wavelength', 'RSR']\n",
    "    return(df)\n",
    "\n",
    "ls8oli = updatecolumns(ls8oli)\n",
    "ls9oli = updatecolumns(ls9oli)\n",
    "\n",
    "nppviirs = updatecolumns(nppviirs)\n",
    "\n",
    "\n",
    "for key in h8ahi.keys():\n",
    "    h8ahi[key].columns = ['Wavelength', 'Wavenumber', 'RSR']\n",
    "\n",
    "for key in noaa18avhrr .keys():\n",
    "    noaa18avhrr[key].columns = ['Wavelength', 'RSR']\n",
    "    noaa19avhrr[key].columns = ['Wavelength', 'RSR']\n",
    "    \n",
    "spot5.columns = ['Wavelength', 'Pa','B1','B2','B3','MIR','Pa.1','B1.1','B2.1','B3.1','MIR.1']   \n",
    "geoeye1.columns = ['Wavelength', 'Panchromatic', 'Blue', 'Green', 'Red','Near IR']\n",
    "newsat8.columns = ['Wavelength',  'Blue', 'Green', 'Red','Near IR']\n",
    "newsat9.columns = ['Wavelength',  'Blue', 'Green', 'Red','Near IR']\n",
    "newsat10.columns = ['Wavelength',  'Blue', 'Green', 'Red','Near IR']\n",
    "newsat11.columns = ['Wavelength',  'Blue', 'Green', 'Red','Near IR']\n",
    "newsat12.columns = ['Wavelength',  'Blue', 'Green', 'Red','Near IR']\n",
    "newsat13.columns = ['Wavelength',  'Blue', 'Green', 'Red','Near IR']\n",
    "newsat14.columns = ['Wavelength',  'Blue', 'Green', 'Red','Near IR']\n",
    "newsat15.columns = ['Wavelength',  'Blue', 'Green', 'Red','Near IR']\n",
    "newsat16.columns = ['Wavelength',  'Blue', 'Green', 'Red','Near IR']\n",
    "newsat17.columns = ['Wavelength',  'Blue', 'Green', 'Red','Near IR']\n",
    "newsat18.columns = ['Wavelength',  'Blue', 'Green', 'Red','Near IR']\n",
    "newsat19.columns = ['Wavelength',  'Blue', 'Green', 'Red','Near IR']\n",
    "newsat20.columns = ['Wavelength',  'Blue', 'Green', 'Red','Near IR']\n",
    "newsat21.columns = ['Wavelength',  'Blue', 'Green', 'Red','Near IR']\n",
    "newsat22.columns = ['Wavelength',  'Blue', 'Green', 'Red','Near IR']\n",
    "wv01.columns = ['Wavelength', 'Pan']\n",
    "qb02.columns = ['Wavelength', 'Pan', 'Blue', 'Green', 'Red','NIR']\n",
    "astervnir.columns = ['Wavelength1','VNIR_Band1','Wavelength2','VNIR_Band2','Wavelength3','VNIR_Band3', 'Wavelength3B','VNIR_Band3B']\n",
    "asterswir.columns = ['Wavelength4','SWIR_Band4','Wavelength5','SWIR_Band5','Wavelength6','SWIR_Band6','Wavelength7','SWIR_Band7','Wavelength8','SWIR_Band8','Wavelength9','SWIR_Band9']\n",
    "astertir.columns = ['Wavelength10','TIR_Band10','Wavelength11','TIR_Band11','Wavelength12','TIR_Band12','Wavelength13','TIR_Band13','Wavelength14','TIR_Band14']\n",
    "ls9tirs['TIRS Band 10 BA RSR'].columns = ['Wavelength', 'Band 10 Band Average RSR', 'ignore', 'ignore']\n",
    "ls9tirs['TIRS Band 11 BA RSR'].columns = ['Wavelength', 'Band 11 Band Average RSR', 'ignore', 'ignore']\n",
    "ls8tirs['TIRS BA RSR'].columns = ['Wavelength', 'TIRS1RSR', 'TIRS2RSR', 'ignore','ignore','ignore','ignore']\n",
    "ls7etm = updatecolumns(ls7etm)\n",
    "ls5tm = updatecolumns(ls5tm)\n",
    "s2amsi['Spectral Responses (S2A)'].columns = ['Wavelength', 'Band1', 'Band2', 'Band3', 'Band4', 'Band5',\n",
    "       'Band6', 'Band7', 'Band8', 'Band8A', 'Band9', 'Band10',\n",
    "       'Band11', 'Band12']\n",
    "s2bmsi['Spectral Responses (S2B)'].columns = ['Wavelength', 'Band1', 'Band2', 'Band3', 'Band4', 'Band5',\n",
    "       'Band6', 'Band7', 'Band8', 'Band8A', 'Band9', 'Band10',\n",
    "       'Band11', 'Band12']\n",
    "tmodis['modis_fm1_rsp_mid_chnl_sum'].columns = ['Wavelength1', 'Band1RSR', 'Wavelength2', 'Band2RSR', 'Wavelength3',\n",
    "       'Band3RSR', 'Wavelength4', 'Band4RSR', 'Wavelength5', 'Band5RSR',\n",
    "       'Wavelength6', 'Band6RSR', 'Wavelength7', 'Band7RSR', 'Wavelength8',\n",
    "       'Band8RSR', 'Wavelength9', 'Band9RSR', 'Wavelength10', 'Band10RSR',\n",
    "       'Wavelength11', 'Band11RSR', 'Wavelength12', 'Band12RSR', 'Wavelength13',\n",
    "       'Band13RSR', 'Wavelength14', 'Band14RSR', 'Wavelength15', 'Band15RSR',\n",
    "       'Wavelength16', 'Band16RSR', 'Wavelength17', 'Band17RSR', 'Wavelength18',\n",
    "       'Band18RSR', 'Wavelength19', 'Band19RSR', 'Wavelength20', 'Band20RSR',\n",
    "       'Wavelength21', 'Band21RSR', 'Wavelength22', 'Band22RSR', 'Wavelength23',\n",
    "       'Band23RSR', 'Wavelength24', 'Band24RSR', 'Wavelength25', 'Band25RSR',\n",
    "       'Wavelength26', 'Band26RSR', 'Wavelength27', 'Band27RSR', 'Wavelength28',\n",
    "       'Band28RSR', 'Wavelength29', 'Band29RSR', 'Wavelength30', 'Band30RSR',\n",
    "       'Wavelength31', 'Band31RSR', 'Wavelength32', 'Band32RSR', 'Wavelength33',\n",
    "       'Band33RSR', 'Wavelength34', 'Band34RSR', 'Wavelength35', 'Band35RSR',\n",
    "       'Wavelength36', 'Band36RSR']\n",
    "\n",
    "irradiance['SMARTS2'].columns = ['Wavelength', 'ETR', 'Global_Tilt', 'Direct_Circumsolar']\n"
   ]
  },
  {
   "cell_type": "code",
   "execution_count": null,
   "metadata": {},
   "outputs": [],
   "source": [
    "# Combine as commonly references dict of dataframes combinedsensors['sensor_band'].wavelength\n",
    "# Define a sensible dataframe to hold the sensor info - above is getting blurghy\n",
    "# Room to add sensor native sampling resolution too though we can consider that out of scope for now\n",
    "\n",
    "# combinedsensors = pandas.DataFrame([{ \"wavelength\": , \"rsr\":  }], dtype = 'sensor')\n",
    "\n",
    "# A dict of pandas frames sounds like a reasonable container for this\n",
    "\n",
    "sensordict = {}\n",
    "\n",
    "#TODO def modes/types\n",
    "\n",
    "# Type 1 - dict of bands i.e. one band per sheet, one wavelength column, one rsr columns\n",
    " \n",
    "sensor = 'ls9oli'\n",
    "sensordict[sensor] = {}\n",
    "inputdict = ls9oli\n",
    "\n",
    "for key in inputdict.keys():\n",
    "    sensorrsr = pandas.Series(inputdict[(key)].RSR)\n",
    "    sensorwavelength = pandas.Series(inputdict[(key)].Wavelength )\n",
    "    combinedsensors = pandas.DataFrame({'wavelength': sensorwavelength,'rsr': sensorrsr})\n",
    "    sensordict[sensor][(key)] = combinedsensors\n",
    "    \n",
    "sensor = 'ls8oli'\n",
    "sensordict[sensor] = {}\n",
    "inputdict = ls8oli\n",
    "\n",
    "for key in inputdict.keys():\n",
    "    sensorrsr = pandas.Series(inputdict[(key)].RSR)\n",
    "    sensorwavelength = pandas.Series(inputdict[(key)].Wavelength )\n",
    "    combinedsensors = pandas.DataFrame({'wavelength': sensorwavelength,'rsr': sensorrsr})\n",
    "    sensordict[sensor][(key)] = combinedsensors\n",
    "\n",
    "sensor = 'ls5tm'\n",
    "sensordict[sensor] = {}\n",
    "inputdict = ls5tm\n",
    "\n",
    "for key in inputdict.keys():\n",
    "    sensorrsr = pandas.Series(inputdict[(key)].RSR)\n",
    "    sensorwavelength = pandas.Series(inputdict[(key)].Wavelength )\n",
    "    combinedsensors = pandas.DataFrame({'wavelength': sensorwavelength,'rsr': sensorrsr})\n",
    "    sensordict[sensor][(key)] = combinedsensors\n",
    "\n",
    "sensor = 'ls7etm'\n",
    "sensordict[sensor] = {}\n",
    "inputdict = ls7etm\n",
    "\n",
    "for key in inputdict.keys():\n",
    "    sensorrsr = pandas.Series(inputdict[(key)].RSR)\n",
    "    sensorwavelength = pandas.Series(inputdict[(key)].Wavelength)\n",
    "    combinedsensors = pandas.DataFrame({'wavelength': sensorwavelength,'rsr': sensorrsr})\n",
    "    sensordict[sensor][(key)] = combinedsensors\n",
    "    \n",
    "sensor = 'nppviirs'\n",
    "sensordict[sensor] = {}\n",
    "inputdict = nppviirs\n",
    "\n",
    "for key in inputdict.keys():\n",
    "    sensorrsr = pandas.Series(inputdict[(key)].RSR)\n",
    "    sensorwavelength = pandas.Series(inputdict[(key)].Wavelength )\n",
    "    combinedsensors = pandas.DataFrame({'wavelength': sensorwavelength,'rsr': sensorrsr})\n",
    "    sensordict[sensor][(key)] = combinedsensors \n",
    "    \n",
    "sensor = 'h8ahi'\n",
    "sensordict[sensor] = {}\n",
    "inputdict = h8ahi\n",
    "\n",
    "for key in inputdict.keys():\n",
    "    sensorrsr = pandas.Series(inputdict[(key)].RSR)\n",
    "    sensorwavelength = pandas.Series(inputdict[(key)].Wavelength*1000 )\n",
    "    combinedsensors = pandas.DataFrame({'wavelength': sensorwavelength,'rsr': sensorrsr})\n",
    "    sensordict[sensor][(key)] = combinedsensors    \n",
    "\n",
    "sensor = 'noaa18avhrr'\n",
    "sensordict[sensor] = {}\n",
    "inputdict = noaa18avhrr \n",
    "\n",
    "for key in inputdict.keys():\n",
    "    sensorrsr = pandas.Series(inputdict[(key)].RSR)\n",
    "    sensorwavelength = pandas.Series(inputdict[(key)].Wavelength*1000 )\n",
    "    combinedsensors = pandas.DataFrame({'wavelength': sensorwavelength,'rsr': sensorrsr})\n",
    "    sensordict[sensor][(key)] = combinedsensors \n",
    "\n",
    "sensor = 'noaa19avhrr'\n",
    "sensordict[sensor] = {}\n",
    "inputdict = noaa19avhrr \n",
    "\n",
    "for key in inputdict.keys():\n",
    "    sensorrsr = pandas.Series(inputdict[(key)].RSR)\n",
    "    sensorwavelength = pandas.Series(inputdict[(key)].Wavelength*1000 )\n",
    "    combinedsensors = pandas.DataFrame({'wavelength': sensorwavelength,'rsr': sensorrsr})\n",
    "    sensordict[sensor][(key)] = combinedsensors\n",
    "    \n",
    "# Type 2 - single dict i.e. multiple bands per sheet, one wavelength column, multiple rsr columns \n",
    "    \n",
    "\n",
    "def multiplebandsonewavelength(inputdict, sensor, wvscale):\n",
    "    sensordict[sensor] = {}\n",
    "    for key in inputdict.keys():\n",
    "\n",
    "        if (type(inputdict) is dict) or (str(type(inputdict)) == \"<class 'collections.OrderedDict'>\"):\n",
    "            for column in inputdict[(key)].columns:\n",
    "                \n",
    "                if not (column == 'Wavelength'):\n",
    "\n",
    "                    sensorrsr = pandas.Series(inputdict[(key)][column])\n",
    "                    \n",
    "                    sensorwavelength = pandas.Series(inputdict[(key)].Wavelength*wvscale )\n",
    "                    combinedsensors = pandas.DataFrame({'wavelength': sensorwavelength,'rsr': sensorrsr})    \n",
    "                    sensordict[sensor][(column)] = combinedsensors\n",
    "        else:\n",
    "\n",
    "            for column in inputdict.columns:\n",
    "                if not (column == 'Wavelength'):\n",
    "\n",
    "                    sensorrsr = pandas.Series(inputdict[column])\n",
    "\n",
    "                    sensorwavelength = pandas.Series(inputdict.Wavelength*wvscale )\n",
    "                    combinedsensors = pandas.DataFrame({'wavelength': sensorwavelength,'rsr': sensorrsr})\n",
    "\n",
    "                    sensordict[sensor][(column)] = combinedsensors\n",
    "\n",
    "multiplebandsonewavelength(s2amsi, 's2amsi',1)\n",
    "multiplebandsonewavelength(s2bmsi, 's2bmsi',1)\n",
    "multiplebandsonewavelength(geoeye1, 'geoeye1',1)\n",
    "multiplebandsonewavelength(newsat8, 'newsat8',1)\n",
    "multiplebandsonewavelength(newsat9, 'newsat9',1)\n",
    "multiplebandsonewavelength(newsat10, 'newsat10',1)\n",
    "multiplebandsonewavelength(newsat11, 'newsat11',1)\n",
    "multiplebandsonewavelength(newsat12, 'newsat12',1)\n",
    "multiplebandsonewavelength(newsat13, 'newsat13',1)\n",
    "multiplebandsonewavelength(newsat14, 'newsat14',1)\n",
    "multiplebandsonewavelength(newsat15, 'newsat15',1)\n",
    "multiplebandsonewavelength(newsat16, 'newsat16',1)\n",
    "multiplebandsonewavelength(newsat17, 'newsat17',1)\n",
    "multiplebandsonewavelength(newsat18, 'newsat18',1)\n",
    "multiplebandsonewavelength(newsat19, 'newsat19',1)\n",
    "multiplebandsonewavelength(newsat20, 'newsat20',1)\n",
    "multiplebandsonewavelength(newsat21, 'newsat21',1)\n",
    "multiplebandsonewavelength(newsat22, 'newsat22',1)\n",
    "multiplebandsonewavelength(wv01, 'wv01',1000)\n",
    "multiplebandsonewavelength(qb02,'qb02',1000)\n",
    "multiplebandsonewavelength(spot5, 'spot5',1)"
   ]
  },
  {
   "cell_type": "code",
   "execution_count": null,
   "metadata": {},
   "outputs": [],
   "source": [
    "# Trim records with rsr close to equal to zero from pandas dataframe\n",
    "def trim_zero_records(dataframe):\n",
    "    dataframe[dataframe['rsr'] != 0]\n",
    "    return(dataframe)"
   ]
  },
  {
   "cell_type": "code",
   "execution_count": null,
   "metadata": {},
   "outputs": [],
   "source": [
    "for sensor in sensordict:\n",
    "    for band in sensordict[sensor]:\n",
    "        sensordict[sensor][band] = trim_zero_records(sensordict[sensor][band])"
   ]
  },
  {
   "cell_type": "code",
   "execution_count": null,
   "metadata": {},
   "outputs": [],
   "source": [
    "s3aolcidict = {}\n",
    "count = 0\n",
    "while count < 21:\n",
    "    sensorrsr = pandas.Series(s3aolcinc['mean_spectral_response_function'][count].astype('float').data)\n",
    "    sensorwavelength = pandas.Series(s3aolcinc['mean_spectral_response_function_wavelength'][count].astype('int64').data)\n",
    "    s3aolcidict['OA'+str(count+1)] = trim_zero_records(pandas.DataFrame({'wavelength': sensorwavelength,'rsr': sensorrsr}))\n",
    "    count = count+1\n",
    "sensordict['s3aolci'] = s3aolcidict"
   ]
  },
  {
   "cell_type": "code",
   "execution_count": null,
   "metadata": {},
   "outputs": [],
   "source": [
    "s3bolcidict = {}\n",
    "count = 0\n",
    "while count < 21:\n",
    "    sensorrsr = pandas.Series(s3bolcinc['mean_spectral_response_function'][count].astype('float').data)\n",
    "    sensorwavelength = pandas.Series(s3bolcinc['mean_spectral_response_function_wavelength'][count].astype('int64').data)\n",
    "    s3bolcidict['OA'+str(count+1)] = trim_zero_records(pandas.DataFrame({'wavelength': sensorwavelength,'rsr': sensorrsr}))\n",
    "    count = count+1\n",
    "sensordict['s3bolci'] = s3bolcidict"
   ]
  },
  {
   "cell_type": "code",
   "execution_count": null,
   "metadata": {
    "scrolled": true
   },
   "outputs": [],
   "source": [
    "plotallbandslist(['newsat8','newsat9','newsat10','newsat11','newsat12','newsat13','newsat14','newsat15','newsat16','newsat17','newsat18','newsat19','newsat20','newsat21','newsat22'])\n"
   ]
  },
  {
   "cell_type": "code",
   "execution_count": null,
   "metadata": {},
   "outputs": [],
   "source": [
    "# SPOT needs reorganisation\n",
    "\n",
    "def spotdataframe(sensor,inputframe):\n",
    "    sensordict[sensor] = {}\n",
    "    inputdict = inputframe\n",
    "    for column in inputdict.columns:\n",
    "        if not (column == 'Spectral band'):\n",
    "            start = inputdict[column][0]\n",
    "            step = inputdict[column][1]\n",
    "            offset=2\n",
    "            numsteps = inputdict[column].count()-offset\n",
    "            wavelength = np.linspace(start,start+((numsteps-1)*step),numsteps)\n",
    "            rsr = inputdict[column][2:len(wavelength)+2]\n",
    "            sensordict[sensor][column] = pandas.DataFrame({'wavelength': wavelength, 'rsr': rsr})\n",
    "spotdataframe('spot1',spot1)\n",
    "spotdataframe('spot2',spot2)\n",
    "spotdataframe('spot3',spot3)\n",
    "spotdataframe('spot4',spot4)\n",
    "plotallbands('spot4')"
   ]
  },
  {
   "cell_type": "code",
   "execution_count": null,
   "metadata": {},
   "outputs": [],
   "source": [
    "plotallbands('h8ahi')"
   ]
  },
  {
   "cell_type": "code",
   "execution_count": null,
   "metadata": {},
   "outputs": [],
   "source": [
    "sensor = 'ls8tirs'\n",
    "sensordict[sensor] = {}\n",
    "inputdict = ls8tirs\n",
    "for key in inputdict.keys():\n",
    "    for column in inputdict[(key)].columns:\n",
    "        if not (column == 'Wavelength') and not (column == 'ignore'):\n",
    "            sensorrsr = pandas.Series(inputdict[(key)][column])\n",
    "            sensorwavelength = pandas.Series(inputdict[(key)].Wavelength )\n",
    "            combinedsensors = pandas.DataFrame({'wavelength': sensorwavelength,'rsr': sensorrsr})\n",
    "            \n",
    "            sensordict[sensor][(column)] = combinedsensors            "
   ]
  },
  {
   "cell_type": "code",
   "execution_count": null,
   "metadata": {},
   "outputs": [],
   "source": [
    "# Type 3 - one band in dict i.e. alternating wavelength and column  per sheet, one wavelength column, one rsr columns\n",
    "# Combine all of the ASTER telescope to a single dictionary - leaving OLI and TIRS seperate for now\n",
    "\n",
    "sensor = 'aster'\n",
    "sensordict[sensor] = {}\n",
    "inputdict = astervnir\n",
    "sensordict[sensor][('VNIR_Band1')] = pandas.DataFrame({'wavelength': astervnir.Wavelength1*1000, 'rsr': astervnir.VNIR_Band1})\n",
    "sensordict[sensor][('VNIR_Band2')] = pandas.DataFrame({'wavelength': astervnir.Wavelength2*1000, 'rsr': astervnir.VNIR_Band2})\n",
    "sensordict[sensor][('VNIR_Band3')] = pandas.DataFrame({'wavelength': astervnir.Wavelength3*1000, 'rsr': astervnir.VNIR_Band3})\n",
    "sensordict[sensor][('VNIR_Band3B')] = pandas.DataFrame({'wavelength': astervnir.Wavelength3B*1000, 'rsr': astervnir.VNIR_Band3B})\n",
    "sensordict[sensor][('SWIR_Band4')] = pandas.DataFrame({'wavelength': asterswir.Wavelength4*1000, 'rsr': asterswir.SWIR_Band4})\n",
    "sensordict[sensor][('SWIR_Band5')] = pandas.DataFrame({'wavelength': asterswir.Wavelength5*1000, 'rsr': asterswir.SWIR_Band5})\n",
    "sensordict[sensor][('SWIR_Band6')] = pandas.DataFrame({'wavelength': asterswir.Wavelength6*1000, 'rsr': asterswir.SWIR_Band6})\n",
    "sensordict[sensor][('SWIR_Band7')] = pandas.DataFrame({'wavelength': asterswir.Wavelength7*1000, 'rsr': asterswir.SWIR_Band7})\n",
    "sensordict[sensor][('SWIR_Band8')] = pandas.DataFrame({'wavelength': asterswir.Wavelength8*1000, 'rsr': asterswir.SWIR_Band8})\n",
    "sensordict[sensor][('SWIR_Band9')] = pandas.DataFrame({'wavelength': asterswir.Wavelength9*1000, 'rsr': asterswir.SWIR_Band9})\n",
    "sensordict[sensor][('TIR_Band10')] = pandas.DataFrame({'wavelength': astertir.Wavelength10*1000, 'rsr': astertir.TIR_Band10})\n",
    "sensordict[sensor][('TIR_Band11')] = pandas.DataFrame({'wavelength': astertir.Wavelength11*1000, 'rsr': astertir.TIR_Band11})\n",
    "sensordict[sensor][('TIR_Band12')] = pandas.DataFrame({'wavelength': astertir.Wavelength12*1000, 'rsr': astertir.TIR_Band12})\n",
    "sensordict[sensor][('TIR_Band13')] = pandas.DataFrame({'wavelength': astertir.Wavelength13*1000, 'rsr': astertir.TIR_Band13})\n",
    "sensordict[sensor][('TIR_Band14')] = pandas.DataFrame({'wavelength': astertir.Wavelength14*1000, 'rsr': astertir.TIR_Band14})\n"
   ]
  },
  {
   "cell_type": "code",
   "execution_count": null,
   "metadata": {},
   "outputs": [],
   "source": [
    "# Type 4 - Solar Irradiance - supposing we normalise this or find a normalised source other than \n",
    "# http://www.astm.org/Standards/G173.htm \n",
    "sensor = 'irradiance'\n",
    "sensordict[sensor] = {}\n",
    "inputdict = irradiance\n",
    "sensordict[sensor][('solar')] = pandas.DataFrame({'wavelength': \\\n",
    "                                                       irradiance['SMARTS2'].Wavelength,\\\n",
    "                                                       'rsr': \\\n",
    "                                                       irradiance['SMARTS2'].Direct_Circumsolar})\n",
    "solar_curve = ndimage.filters.gaussian_filter(sensordict['irradiance'][('solar')].rsr, 20)\n"
   ]
  },
  {
   "cell_type": "code",
   "execution_count": null,
   "metadata": {},
   "outputs": [],
   "source": [
    "# Similar to above - could build an iterator  - some more on this below\n",
    "\n",
    "sensor = 'tmodis'\n",
    "sensordict[sensor] = {}\n",
    "inputdict = tmodis\n",
    "tmodis['modis_fm1_rsp_mid_chnl_sum'].Wavelength4*1000\n",
    "tmodis['modis_fm1_rsp_mid_chnl_sum'].Band4RSR\n",
    "\n",
    "sensordict[sensor][('Band1')] = trim_zero_records(pandas.DataFrame({'wavelength': \\\n",
    "                                                       tmodis['modis_fm1_rsp_mid_chnl_sum'].Wavelength1*1000,\\\n",
    "                                                       'rsr': \\\n",
    "                                                       tmodis['modis_fm1_rsp_mid_chnl_sum'].Band1RSR}))\n",
    "sensordict[sensor][('Band2')] = trim_zero_records(pandas.DataFrame({'wavelength': \\\n",
    "                                                       tmodis['modis_fm1_rsp_mid_chnl_sum'].Wavelength2*1000,\\\n",
    "                                                       'rsr': \\\n",
    "                                                       tmodis['modis_fm1_rsp_mid_chnl_sum'].Band2RSR}))\n",
    "sensordict[sensor][('Band3')] = trim_zero_records(pandas.DataFrame({'wavelength': \\\n",
    "                                                       tmodis['modis_fm1_rsp_mid_chnl_sum'].Wavelength3*1000,\\\n",
    "                                                       'rsr': \\\n",
    "                                                       tmodis['modis_fm1_rsp_mid_chnl_sum'].Band3RSR}))\n",
    "sensordict[sensor][('Band4')] = trim_zero_records(pandas.DataFrame({'wavelength': \\\n",
    "                                                       tmodis['modis_fm1_rsp_mid_chnl_sum'].Wavelength4*1000,\\\n",
    "                                                       'rsr': \\\n",
    "                                                       tmodis['modis_fm1_rsp_mid_chnl_sum'].Band4RSR}))\n",
    "sensordict[sensor][('Band5')] = trim_zero_records(pandas.DataFrame({'wavelength': \\\n",
    "                                                       tmodis['modis_fm1_rsp_mid_chnl_sum'].Wavelength5*1000,\\\n",
    "                                                       'rsr': \\\n",
    "                                                       tmodis['modis_fm1_rsp_mid_chnl_sum'].Band5RSR}))\n",
    "sensordict[sensor][('Band6')] = trim_zero_records(pandas.DataFrame({'wavelength': \\\n",
    "                                                       tmodis['modis_fm1_rsp_mid_chnl_sum'].Wavelength6*1000,\\\n",
    "                                                       'rsr': \\\n",
    "                                                       tmodis['modis_fm1_rsp_mid_chnl_sum'].Band6RSR}))\n",
    "sensordict[sensor][('Band7')] = trim_zero_records(pandas.DataFrame({'wavelength': \\\n",
    "                                                       tmodis['modis_fm1_rsp_mid_chnl_sum'].Wavelength7*1000,\\\n",
    "                                                       'rsr': \\\n",
    "                                                       tmodis['modis_fm1_rsp_mid_chnl_sum'].Band7RSR}))\n",
    "sensordict[sensor][('Band8')] = trim_zero_records(pandas.DataFrame({'wavelength': \\\n",
    "                                                       tmodis['modis_fm1_rsp_mid_chnl_sum'].Wavelength8*1000,\\\n",
    "                                                       'rsr': \\\n",
    "                                                       tmodis['modis_fm1_rsp_mid_chnl_sum'].Band8RSR}))\n",
    "sensordict[sensor][('Band9')] = trim_zero_records(pandas.DataFrame({'wavelength': \\\n",
    "                                                       tmodis['modis_fm1_rsp_mid_chnl_sum'].Wavelength9*1000,\\\n",
    "                                                       'rsr': \\\n",
    "                                                       tmodis['modis_fm1_rsp_mid_chnl_sum'].Band9RSR}))\n",
    "sensordict[sensor][('Band10')] = trim_zero_records(pandas.DataFrame({'wavelength': \\\n",
    "                                                       tmodis['modis_fm1_rsp_mid_chnl_sum'].Wavelength10*1000,\\\n",
    "                                                       'rsr': \\\n",
    "                                                       tmodis['modis_fm1_rsp_mid_chnl_sum'].Band10RSR}))\n",
    "sensordict[sensor][('Band11')] = trim_zero_records(pandas.DataFrame({'wavelength': \\\n",
    "                                                       tmodis['modis_fm1_rsp_mid_chnl_sum'].Wavelength11*1000,\\\n",
    "                                                       'rsr': \\\n",
    "                                                       tmodis['modis_fm1_rsp_mid_chnl_sum'].Band11RSR}))\n",
    "sensordict[sensor][('Band12')] = trim_zero_records(pandas.DataFrame({'wavelength': \\\n",
    "                                                       tmodis['modis_fm1_rsp_mid_chnl_sum'].Wavelength12*1000,\\\n",
    "                                                       'rsr': \\\n",
    "                                                       tmodis['modis_fm1_rsp_mid_chnl_sum'].Band12RSR}))\n",
    "sensordict[sensor][('Band13')] = trim_zero_records(pandas.DataFrame({'wavelength': \\\n",
    "                                                       tmodis['modis_fm1_rsp_mid_chnl_sum'].Wavelength13*1000,\\\n",
    "                                                       'rsr': \\\n",
    "                                                       tmodis['modis_fm1_rsp_mid_chnl_sum'].Band13RSR}))\n",
    "sensordict[sensor][('Band14')] = trim_zero_records(pandas.DataFrame({'wavelength': \\\n",
    "                                                       tmodis['modis_fm1_rsp_mid_chnl_sum'].Wavelength14*1000,\\\n",
    "                                                       'rsr': \\\n",
    "                                                       tmodis['modis_fm1_rsp_mid_chnl_sum'].Band14RSR}))\n",
    "sensordict[sensor][('Band15')] = trim_zero_records(pandas.DataFrame({'wavelength': \\\n",
    "                                                       tmodis['modis_fm1_rsp_mid_chnl_sum'].Wavelength15*1000,\\\n",
    "                                                       'rsr': \\\n",
    "                                                       tmodis['modis_fm1_rsp_mid_chnl_sum'].Band15RSR}))\n",
    "sensordict[sensor][('Band16')] = trim_zero_records(pandas.DataFrame({'wavelength': \\\n",
    "                                                       tmodis['modis_fm1_rsp_mid_chnl_sum'].Wavelength16*1000,\\\n",
    "                                                       'rsr': \\\n",
    "                                                       tmodis['modis_fm1_rsp_mid_chnl_sum'].Band16RSR}))\n",
    "sensordict[sensor][('Band17')] = trim_zero_records(pandas.DataFrame({'wavelength': \\\n",
    "                                                       tmodis['modis_fm1_rsp_mid_chnl_sum'].Wavelength17*1000,\\\n",
    "                                                       'rsr': \\\n",
    "                                                       tmodis['modis_fm1_rsp_mid_chnl_sum'].Band17RSR}))\n",
    "sensordict[sensor][('Band18')] = trim_zero_records(pandas.DataFrame({'wavelength': \\\n",
    "                                                       tmodis['modis_fm1_rsp_mid_chnl_sum'].Wavelength18*1000,\\\n",
    "                                                       'rsr': \\\n",
    "                                                       tmodis['modis_fm1_rsp_mid_chnl_sum'].Band18RSR}))\n",
    "sensordict[sensor][('Band19')] = trim_zero_records(pandas.DataFrame({'wavelength': \\\n",
    "                                                       tmodis['modis_fm1_rsp_mid_chnl_sum'].Wavelength19*1000,\\\n",
    "                                                       'rsr': \\\n",
    "                                                       tmodis['modis_fm1_rsp_mid_chnl_sum'].Band19RSR}))\n",
    "sensordict[sensor][('Band20')] = trim_zero_records(pandas.DataFrame({'wavelength': \\\n",
    "                                                       tmodis['modis_fm1_rsp_mid_chnl_sum'].Wavelength20*1000,\\\n",
    "                                                       'rsr': \\\n",
    "                                                       tmodis['modis_fm1_rsp_mid_chnl_sum'].Band20RSR}))\n",
    "sensordict[sensor][('Band21')] = trim_zero_records(pandas.DataFrame({'wavelength': \\\n",
    "                                                       tmodis['modis_fm1_rsp_mid_chnl_sum'].Wavelength21*1000,\\\n",
    "                                                       'rsr': \\\n",
    "                                                       tmodis['modis_fm1_rsp_mid_chnl_sum'].Band21RSR}))\n",
    "sensordict[sensor][('Band22')] = trim_zero_records(pandas.DataFrame({'wavelength': \\\n",
    "                                                       tmodis['modis_fm1_rsp_mid_chnl_sum'].Wavelength22*1000,\\\n",
    "                                                       'rsr': \\\n",
    "                                                       tmodis['modis_fm1_rsp_mid_chnl_sum'].Band22RSR}))\n",
    "sensordict[sensor][('Band23')] = trim_zero_records(pandas.DataFrame({'wavelength': \\\n",
    "                                                       tmodis['modis_fm1_rsp_mid_chnl_sum'].Wavelength23*1000,\\\n",
    "                                                       'rsr': \\\n",
    "                                                       tmodis['modis_fm1_rsp_mid_chnl_sum'].Band23RSR}))\n",
    "sensordict[sensor][('Band24')] = trim_zero_records(pandas.DataFrame({'wavelength': \\\n",
    "                                                       tmodis['modis_fm1_rsp_mid_chnl_sum'].Wavelength24*1000,\\\n",
    "                                                       'rsr': \\\n",
    "                                                       tmodis['modis_fm1_rsp_mid_chnl_sum'].Band24RSR}))\n",
    "sensordict[sensor][('Band25')] = trim_zero_records(pandas.DataFrame({'wavelength': \\\n",
    "                                                       tmodis['modis_fm1_rsp_mid_chnl_sum'].Wavelength25*1000,\\\n",
    "                                                       'rsr': \\\n",
    "                                                       tmodis['modis_fm1_rsp_mid_chnl_sum'].Band25RSR}))\n",
    "sensordict[sensor][('Band26')] = trim_zero_records(pandas.DataFrame({'wavelength': \\\n",
    "                                                       tmodis['modis_fm1_rsp_mid_chnl_sum'].Wavelength26*1000,\\\n",
    "                                                       'rsr': \\\n",
    "                                                       tmodis['modis_fm1_rsp_mid_chnl_sum'].Band26RSR}))\n",
    "sensordict[sensor][('Band27')] = trim_zero_records(pandas.DataFrame({'wavelength': \\\n",
    "                                                       tmodis['modis_fm1_rsp_mid_chnl_sum'].Wavelength27*1000,\\\n",
    "                                                       'rsr': \\\n",
    "                                                       tmodis['modis_fm1_rsp_mid_chnl_sum'].Band27RSR}))\n",
    "sensordict[sensor][('Band28')] = trim_zero_records(pandas.DataFrame({'wavelength': \\\n",
    "                                                       tmodis['modis_fm1_rsp_mid_chnl_sum'].Wavelength28*1000,\\\n",
    "                                                       'rsr': \\\n",
    "                                                       tmodis['modis_fm1_rsp_mid_chnl_sum'].Band28RSR}))\n",
    "sensordict[sensor][('Band29')] = trim_zero_records(pandas.DataFrame({'wavelength': \\\n",
    "                                                       tmodis['modis_fm1_rsp_mid_chnl_sum'].Wavelength29*1000,\\\n",
    "                                                       'rsr': \\\n",
    "                                                       tmodis['modis_fm1_rsp_mid_chnl_sum'].Band29RSR}))\n",
    "sensordict[sensor][('Band30')] = trim_zero_records(pandas.DataFrame({'wavelength': \\\n",
    "                                                       tmodis['modis_fm1_rsp_mid_chnl_sum'].Wavelength30*1000,\\\n",
    "                                                       'rsr': \\\n",
    "                                                       tmodis['modis_fm1_rsp_mid_chnl_sum'].Band30RSR}))\n",
    "sensordict[sensor][('Band31')] = trim_zero_records(pandas.DataFrame({'wavelength': \\\n",
    "                                                       tmodis['modis_fm1_rsp_mid_chnl_sum'].Wavelength31*1000,\\\n",
    "                                                       'rsr': \\\n",
    "                                                       tmodis['modis_fm1_rsp_mid_chnl_sum'].Band31RSR}))\n",
    "sensordict[sensor][('Band32')] = trim_zero_records(pandas.DataFrame({'wavelength': \\\n",
    "                                                       tmodis['modis_fm1_rsp_mid_chnl_sum'].Wavelength32*1000,\\\n",
    "                                                       'rsr': \\\n",
    "                                                       tmodis['modis_fm1_rsp_mid_chnl_sum'].Band32RSR}))\n",
    "sensordict[sensor][('Band33')] = trim_zero_records(pandas.DataFrame({'wavelength': \\\n",
    "                                                       tmodis['modis_fm1_rsp_mid_chnl_sum'].Wavelength33*1000,\\\n",
    "                                                       'rsr': \\\n",
    "                                                       tmodis['modis_fm1_rsp_mid_chnl_sum'].Band33RSR}))\n",
    "sensordict[sensor][('Band34')] = trim_zero_records(pandas.DataFrame({'wavelength': \\\n",
    "                                                       tmodis['modis_fm1_rsp_mid_chnl_sum'].Wavelength34*1000,\\\n",
    "                                                       'rsr': \\\n",
    "                                                       tmodis['modis_fm1_rsp_mid_chnl_sum'].Band34RSR}))\n",
    "sensordict[sensor][('Band35')] = trim_zero_records(pandas.DataFrame({'wavelength': \\\n",
    "                                                       tmodis['modis_fm1_rsp_mid_chnl_sum'].Wavelength35*1000,\\\n",
    "                                                       'rsr': \\\n",
    "                                                       tmodis['modis_fm1_rsp_mid_chnl_sum'].Band35RSR}))\n",
    "sensordict[sensor][('Band36')] = trim_zero_records(pandas.DataFrame({'wavelength': \\\n",
    "                                                       tmodis['modis_fm1_rsp_mid_chnl_sum'].Wavelength36*1000,\\\n",
    "                                                       'rsr': \\\n",
    "                                                       tmodis['modis_fm1_rsp_mid_chnl_sum'].Band36RSR}))\n"
   ]
  },
  {
   "cell_type": "code",
   "execution_count": null,
   "metadata": {},
   "outputs": [],
   "source": [
    "# Eliminate NaN wavelength records\n",
    "for key in sensordict['tmodis']:\n",
    "    sensordict['tmodis'][key] = sensordict['tmodis'][key][sensordict['tmodis'][(key)]['wavelength'].notnull()]"
   ]
  },
  {
   "cell_type": "code",
   "execution_count": null,
   "metadata": {},
   "outputs": [],
   "source": [
    "# Eliminate NaN rsr records\n",
    "for key in sensordict['spot5']:\n",
    "    sensordict['spot5'][key] = sensordict['spot5'][key][sensordict['spot5'][(key)]['rsr'].notnull()]"
   ]
  },
  {
   "cell_type": "code",
   "execution_count": null,
   "metadata": {},
   "outputs": [],
   "source": [
    "# Plot solar spectrum\n",
    "# http://rredc.nrel.gov/solar/spectra/am1.5/\n",
    "\n",
    "solar_curve_normal = (solar_curve - solar_curve.min())/(solar_curve.max() - solar_curve.min())\n",
    "                            \n",
    "plotly.offline.iplot({\n",
    "\"data\": [{\"x\": sensordict['irradiance'][('solar')].wavelength,\\\n",
    "          \"y\": sensordict['irradiance'][('solar')].rsr/sensordict['irradiance'][('solar')].rsr.max(),\\\n",
    "          \"name\": 'Solar Irradiance'},\n",
    "         #{\"x\": sensordict['irradiance'][('solar')].wavelength,\"y\":solar_atmospheric_normal, \"name\": 'Solar Irradiance'},\n",
    "         {\"x\": sensordict['irradiance'][('solar')].wavelength,\"y\":solar_curve_normal, \"name\": 'Solar Irradiance'},\n",
    "        ],\n",
    "\"layout\": {\"title\": \"SMARTS Solar Irradiance\"}})\n"
   ]
  },
  {
   "cell_type": "code",
   "execution_count": null,
   "metadata": {},
   "outputs": [],
   "source": [
    "# The holy grail awaits...\n",
    "sensordict.keys()\n",
    "#sensordict[sensor][(column)]"
   ]
  },
  {
   "cell_type": "code",
   "execution_count": null,
   "metadata": {},
   "outputs": [],
   "source": [
    "# Example mixing sensordict and individual dict of dataframes access\n",
    "# We want a function that enables return \"sensors that are green\" for example\n",
    "\n",
    "print (plotly.__version__)            # version 1.9.4 required\n",
    "\n",
    "plotly.offline.iplot({\n",
    "\"data\": [{\"x\": ls9oli[('Green')].Wavelength,\"y\": ls9oli[('Green')].RSR, \"name\": 'ls9oli GREEN'},\\\n",
    "         {\"x\": ls8oli[('Green')].Wavelength,\"y\": ls8oli[('Green')].RSR, \"name\": 'ls8oli GREEN'},\\\n",
    "         {\"x\": ls5tm[('Green-L5 TM')].Wavelength,\"y\": ls5tm[('Green-L5 TM')].RSR, \"name\": 'ls5tm GREEN'},\\\n",
    "         {\"x\": ls7etm[('Green-L7')].Wavelength,\"y\": ls7etm[('Green-L7')].RSR, \"name\": 'ls7etm GREEN'},\\\n",
    "         {\"x\": sensordict['s2amsi'][('Band3')].wavelength,\"y\": sensordict['s2amsi'][('Band3')].rsr,\\\n",
    "          \"name\":'s2amsi Band3'},\\\n",
    "         {\"x\": sensordict['tmodis'][('Band4')].wavelength,\"y\": sensordict['tmodis'][('Band4')].rsr,\\\n",
    "          \"name\":'tmodis Band4'},\\\n",
    "         {\"x\": sensordict['h8ahi'][('Band 2')].wavelength,\"y\": sensordict['h8ahi'][('Band 2')].rsr,\\\n",
    "          \"name\": 'h8ahi Band 2'},\\\n",
    "         {\"x\": sensordict['aster'][('VNIR_Band1')].wavelength,\"y\": sensordict['aster'][('VNIR_Band1')].rsr, \\\n",
    "          \"name\": 'astervnir VNIR1'},\\\n",
    "         {\"x\": sensordict['qb02'][('Green')].wavelength,\"y\": sensordict['qb02'][('Green')].rsr, \\\n",
    "          \"name\": 'quickbird 2 Green'},\n",
    "         {\"x\": sensordict['irradiance'][('solar')].wavelength,\\\n",
    "          \"y\": sensordict['irradiance'][('solar')].rsr/sensordict['irradiance'][('solar')].rsr.max(),\\\n",
    "          \"name\": 'Solar Irradiance'},\n",
    "        ],\n",
    "\"layout\": {\"title\": \"GREEN Relative Spectral Response\"}})\n"
   ]
  },
  {
   "cell_type": "code",
   "execution_count": null,
   "metadata": {
    "scrolled": true
   },
   "outputs": [],
   "source": [
    "plotallbands('tmodis')"
   ]
  },
  {
   "cell_type": "code",
   "execution_count": null,
   "metadata": {},
   "outputs": [],
   "source": [
    "plotallbands('nppviirs')"
   ]
  },
  {
   "cell_type": "code",
   "execution_count": null,
   "metadata": {},
   "outputs": [],
   "source": [
    "plotallbands('s3aolci' )"
   ]
  },
  {
   "cell_type": "code",
   "execution_count": null,
   "metadata": {},
   "outputs": [],
   "source": [
    "plotallbands('noaa18avhrr')"
   ]
  },
  {
   "cell_type": "markdown",
   "metadata": {},
   "source": [
    "## Synthetic band creation from nominal centre and fwhm"
   ]
  },
  {
   "cell_type": "code",
   "execution_count": null,
   "metadata": {
    "scrolled": true
   },
   "outputs": [],
   "source": [
    "# Using typical summary sensor info, manufacture the synthetic rsr to compare with measured relative spectral response\n",
    "ls8oli_summary = pandas.read_csv('l8oli_summary.txt')\n",
    "lnext_summary = pandas.read_csv('lnext.csv')\n",
    "eo1_hyperion_summary = pandas.read_csv('Hyperion_cen_fwhm_av.dat', header=1)"
   ]
  },
  {
   "cell_type": "code",
   "execution_count": null,
   "metadata": {},
   "outputs": [],
   "source": [
    "lnext_summary"
   ]
  },
  {
   "cell_type": "code",
   "execution_count": null,
   "metadata": {},
   "outputs": [],
   "source": [
    "# Synthetic band from centre wavelength and spline roots for fwhm\n",
    "def synthetic_rsr(samples, bandcentrewavelength,fwhm):\n",
    "    #returns 1d normalized relative spectral response assuming normal distibution\n",
    "    sigma = fwhm / 2.35\n",
    "    normdist = stats.norm.pdf(samples, loc=bandcentrewavelength, scale=sigma)\n",
    "    response = (normdist - normdist.min())/(normdist.max() - normdist.min())\n",
    "    return(response)"
   ]
  },
  {
   "cell_type": "code",
   "execution_count": null,
   "metadata": {
    "scrolled": true
   },
   "outputs": [],
   "source": [
    "sensor = 'synth_lnext'\n",
    "sensordict[sensor] = {}\n",
    "wavelength = np.linspace(1,13000, 2500, dtype='int64')\n",
    "\n",
    "for band, row in lnext_summary.iterrows():\n",
    "    fwhm = lnext_summary.FWHM[band]\n",
    "    rsr = synthetic_rsr(wavelength,lnext_summary.Center[band],fwhm)\n",
    "    sensordict[sensor][(lnext_summary.Name[band])] = trim_zero_records(pandas.DataFrame({'wavelength': wavelength, 'rsr': rsr}))\n",
    "    sensordict[sensor][(lnext_summary.Name[band])] = pandas.DataFrame({'wavelength': wavelength, 'rsr': rsr})\n",
    "\n",
    "plotallbands('synth_lnext')\n"
   ]
  },
  {
   "cell_type": "code",
   "execution_count": null,
   "metadata": {},
   "outputs": [],
   "source": [
    "sensor = 'synth_ls8oli'\n",
    "sensordict[sensor] = {}\n",
    "wavelength = np.linspace(1,2500, 2500, dtype='int64')\n",
    "\n",
    "for band, row in ls8oli_summary.iterrows():\n",
    "    fwhm = ls8oli_summary.FWHM_upper[band] - ls8oli_summary.FWHM_lower[band]\n",
    "    rsr = synthetic_rsr(wavelength,ls8oli_summary.Central_wavelength[band],fwhm)\n",
    "    sensordict[sensor][(ls8oli_summary.Band[band])] = trim_zero_records(pandas.DataFrame({'wavelength': wavelength, 'rsr': rsr}))\n",
    "plotallbands('synth_ls8oli')\n",
    "plotallbands('ls8oli')\n",
    "plotallbands('ls9oli')"
   ]
  },
  {
   "cell_type": "markdown",
   "metadata": {},
   "source": [
    "## Hyperspectral example with EO-1 Hyperion"
   ]
  },
  {
   "cell_type": "code",
   "execution_count": null,
   "metadata": {},
   "outputs": [],
   "source": [
    "sensor = 'synth_eo1_hyperion'\n",
    "sensordict[sensor] = {}\n",
    "wavelength = np.linspace(1,2700, 2700, dtype='int64')\n",
    "\n",
    "for band, row in eo1_hyperion_summary.iterrows():\n",
    "    rsr = synthetic_rsr(wavelength,eo1_hyperion_summary.cwl[band],eo1_hyperion_summary.fwhm[band])\n",
    "    sensordict[sensor][str((eo1_hyperion_summary.Band[band]))] = trim_zero_records(pandas.DataFrame({'wavelength': wavelength, 'rsr': rsr}))\n",
    "plotallbands('synth_eo1_hyperion')"
   ]
  },
  {
   "cell_type": "code",
   "execution_count": null,
   "metadata": {},
   "outputs": [],
   "source": [
    "def reshape_interpolate(start, stop, samples, npdatatype, input1dwavelength,input1drsr,wlscalefactor):\n",
    "    wavelength = np.linspace(start,stop,samples, dtype=float)\n",
    "    rsr = np.nan_to_num(np.interp(wavelength,input1dwavelength*wlscalefactor, input1drsr))\n",
    "\n",
    "    return wavelength, rsr"
   ]
  },
  {
   "cell_type": "markdown",
   "metadata": {},
   "source": [
    "## User reference band for matching"
   ]
  },
  {
   "cell_type": "code",
   "execution_count": null,
   "metadata": {},
   "outputs": [],
   "source": [
    "# https://en.wikipedia.org/wiki/Blue 450–495 nm\n",
    "# https://en.wikipedia.org/wiki/Green 495–570 nm\n",
    "# https://en.wikipedia.org/wiki/Red 620–740 nm\n",
    "# https://en.wikipedia.org/wiki/Infrared 750–1400 nm\n",
    "sensor = 'user_reference'\n",
    "sensordict[sensor] = {}\n",
    "\n",
    "wavelength = np.linspace(1,2500, 2500, dtype='int64')\n",
    "rsr = synthetic_rsr(wavelength,478,45)\n",
    "sensordict[sensor]['BLUE'] = trim_zero_records(pandas.DataFrame({'wavelength': wavelength, 'rsr': rsr}))\n",
    "rsr = synthetic_rsr(wavelength,533,75)\n",
    "sensordict[sensor]['GREEN'] = trim_zero_records(pandas.DataFrame({'wavelength': wavelength, 'rsr': rsr}))\n",
    "rsr = synthetic_rsr(wavelength,680,120)\n",
    "sensordict[sensor]['RED'] = trim_zero_records(pandas.DataFrame({'wavelength': wavelength, 'rsr': rsr}))\n",
    "rsr = synthetic_rsr(wavelength,1075,651)\n",
    "sensordict[sensor]['NIR'] = trim_zero_records(pandas.DataFrame({'wavelength': wavelength, 'rsr': rsr}))\n",
    "\n",
    "plotallbands('user_reference')"
   ]
  },
  {
   "cell_type": "markdown",
   "metadata": {},
   "source": [
    "## Compute equivalence metrics for target and reference spectra"
   ]
  },
  {
   "cell_type": "code",
   "execution_count": null,
   "metadata": {},
   "outputs": [],
   "source": [
    "#reference = ['ls5tm']\n",
    "#reference = ['user_reference']\n",
    "\n",
    "#reference = ['newsat8','newsat9','newsat10','newsat11','newsat12','newsat13','newsat14','newsat15','newsat16','newsat17','newsat18','newsat19','newsat20','newsat21','newsat22']\n",
    "#target = ['newsat8','newsat9','newsat10','newsat11','newsat12','newsat13','newsat14','newsat15','newsat16','newsat17','newsat18','newsat19','newsat20','newsat21','newsat22']\n",
    "#reference = ['ls9oli']\n",
    "#reference = ['s3aolci']\n",
    "#reference = ['nppviirs']\n",
    "#reference = ['noaa18avhrr']\n",
    "reference = ['user_reference']\n",
    "#reference = ['synth_ls8oli']\n",
    "#target = ['ls8oli'] #ultimately make this the sensorlist for all potential matches\n",
    "#target = ['tmodis']\n",
    "#target = ['ls9oli', 'ls8oli', 'ls5tm', 'ls7etm', 'nppviirs', 'h8ahi', 'noaa18avhrr', 'noaa19avhrr', 's2amsi', 's2bmsi', 'geoeye1', 'newsat8', 'newsat9', 'newsat10', 'newsat11', 'newsat12', 'newsat13', 'newsat14', 'newsat15', 'newsat16', 'newsat17', 'newsat18', 'newsat19', 'newsat20', 'newsat21', 'newsat22', 'wv01', 'qb02', 'spot5', 's3aolci', 's3bolci', 'spot1', 'spot2', 'spot3', 'spot4', 'ls8tirs', 'aster', 'irradiance', 'tmodis', 'synth_lnext', 'synth_ls8oli', 'synth_eo1_hyperion']\n",
    "target = ['ls8oli']\n",
    "#target = ['noaa19avhrr', 'geoeye1', 'newsat8', 'newsat9', 'newsat10', 'newsat11', 'newsat12', 'newsat13', 'newsat14', 'newsat15', 'newsat16', 'newsat17', 'newsat18', 'newsat19', 'newsat20', 'newsat21', 'newsat22', 'wv01', 'qb02', 'spot5', 's3aolci', 's3bolci', 'spot1', 'spot2', 'spot3', 'spot4', 'ls8tirs', 'aster', 'irradiance', 'tmodis', 'synth_lnext', 'synth_ls8oli', 'synth_eo1_hyperion']\n",
    "#target = ['noaa19avhrr', 'geoeye1', 'newsat8', 'newsat9', 'newsat10', 'newsat11', 'newsat12', 'newsat13', 'newsat14', 'newsat15', 'newsat16', 'newsat17', 'newsat18', 'newsat19', 'newsat20', 'newsat21', 'newsat22', 'wv01', 'qb02', 'spot5', 's3aolci', 's3bolci', 'spot1', 'spot2', 'spot3', 'spot4', 'ls8tirs', 'aster', 'irradiance', 'tmodis', 'synth_lnext',  'synth_eo1_hyperion']"
   ]
  },
  {
   "cell_type": "code",
   "execution_count": null,
   "metadata": {},
   "outputs": [],
   "source": [
    "# TODO make a def() out of this:\n",
    "# lists to hold inputs to dataframe once we're done\n",
    "\n",
    "sensor1list = []\n",
    "sensor1keys = []\n",
    "sensor2list = []\n",
    "sensor2keys = []\n",
    "pcorrelation = []\n",
    "emdistance = []\n",
    "weightedcentredelta = []\n",
    "areadelta = []\n",
    "fwhmdelta = []\n",
    "ks_pvalue= []\n",
    "ks_statistic = []\n",
    "\n",
    "# TODO update the interpolation range to fit the min and max wavelength range for the input pairwise comparison\n",
    "for sensor1 in reference:\n",
    "    for key1 in sensordict[sensor1].keys():\n",
    "        for sensor2 in target:\n",
    "            \n",
    "            for key2 in sensordict[sensor2].keys():\n",
    "                sensor1list.append(sensor1)\n",
    "                sensor1keys.append(key1)\n",
    "                sensor2list.append(sensor2)\n",
    "                sensor2keys.append(key2)\n",
    "                # Find the wavelength range of the rsr values and interpolate within it\n",
    "\n",
    "                bounds = []\n",
    "                bounds.append(sensordict[sensor1][(key1)].wavelength\\\n",
    "                              [sensordict[sensor1][(key1)].rsr.replace(0., np.nan).first_valid_index()].astype(int))\n",
    "                bounds.append(sensordict[sensor1][(key1)].wavelength\\\n",
    "                              [sensordict[sensor1][(key1)].rsr.replace(0., np.nan).last_valid_index()].astype(int))\n",
    "                bounds.append(sensordict[sensor2][(key2)].wavelength\\\n",
    "                              [sensordict[sensor2][(key2)].rsr.replace(0., np.nan).first_valid_index()].astype(int))\n",
    "                bounds.append(sensordict[sensor2][(key2)].wavelength\\\n",
    "                              [sensordict[sensor2][(key2)].rsr.replace(0., np.nan).last_valid_index()].astype(int))\n",
    "\n",
    "                # Interpolate rsr \n",
    "                sensor1wl, sensor1rsr = \\\n",
    "                reshape_interpolate(min(bounds),max(bounds),max(bounds)-min(bounds)+1,'float', (sensordict[sensor1][(key1)].wavelength).astype(int),\\\n",
    "                                    sensordict[sensor1][(key1)].rsr.replace(0., np.nan), 1)\n",
    "                sensor2wl, sensor2rsr = \\\n",
    "                reshape_interpolate(min(bounds),max(bounds),max(bounds)-min(bounds)+1,'float', (sensordict[sensor2][(key2)].wavelength).astype(int),\\\n",
    "                                    sensordict[sensor2][(key2)].rsr.replace(0., np.nan), 1)\n",
    "\n",
    "                # A smoothed distrubution seems important for Earth Mover Distance\n",
    "                A = ndimage.filters.gaussian_filter(sensor1rsr, 10)\n",
    "                B = ndimage.filters.gaussian_filter(sensor2rsr, 10)\n",
    "\n",
    "                print (\"Calculating equivalence metrics for :\", sensor1, key1, \"with\", sensor2, key2)\n",
    "                # Earth Mover Distance \n",
    "                try:\n",
    "                    # normalise - confirm with someone who has maths skills that doing this makes sense - seems to be required for EMD\n",
    "                    A = (A - A.min())/(A.max() - A.min())\n",
    "                    B = (B - B.min())/(B.max() - B.min())\n",
    "                    EMD = wasserstein_distance(signal.resample(A,500), signal.resample(B,500))\n",
    "                except:\n",
    "                    EMD = 0\n",
    "                    pass\n",
    "                EMD = wasserstein_distance(signal.resample(A,500), signal.resample(B,500))\n",
    "                emdistance.append(EMD)\n",
    "                # Pearson correlation coefficient\n",
    "                pearson = stats.pearsonr(sensor1rsr, sensor2rsr)\n",
    "                kstest = stats.ks_2samp(sensor1rsr, sensor2rsr)\n",
    "                ks_pvalue.append(kstest.pvalue)\n",
    "                ks_statistic.append(kstest.statistic)\n",
    "                pcorrelation.append(pearson[0])\n",
    "                \n",
    "                # \"Area\" under each curve\n",
    "                sensor1trapz = np.trapz(sensor1rsr, sensor1wl)\n",
    "                sensor2trapz = np.trapz(sensor2rsr, sensor2wl)\n",
    "                areadelta.append(abs(sensor1trapz - sensor2trapz))\n",
    "                sensor1mean = np.average(sensor1wl, weights=sensor1rsr)\n",
    "                sensor2mean = np.average(sensor2wl, weights=sensor2rsr)\n",
    "                weightedcentredelta.append(abs(sensor1mean - sensor2mean))\n",
    "\n",
    "                #FWHM as spline roots\n",
    "                spline1 = UnivariateSpline(sensor1wl, A-A.max()/2, s=0)\n",
    "                spline2 = UnivariateSpline(sensor2wl, B-B.max()/2, s=0)\n",
    "                try:\n",
    "                    sensor1r1, sensor1r2 = spline1.roots()\n",
    "                    sensor2r1, sensor2r2 = spline2.roots()\n",
    "                except:\n",
    "                    sensor1r1 = 100.\n",
    "                    sensor1r2 = 100. \n",
    "                    sensor2r1 = 100.\n",
    "                    sensor2r2 = 100. \n",
    "                    pass\n",
    "                fwhmdelta.append(abs((sensor1r2-sensor1r1)-(sensor2r2-sensor2r1)))\n",
    "    \n",
    "                # Reduce the number of plots output, use a correlation threshold to determine whether to display\n",
    "\n",
    "                if (pearson[0] > 0.5):\n",
    "                    plotly.offline.iplot({\n",
    "                        \"data\": [{\"x\": sensor1wl,\"y\": sensor1rsr, \"name\": sensor1+\"-\"+key1, \"line\": dict(color = ('rgb(255, 1, 1)'))},\\\n",
    "                                 {\"x\": pandas.Series([sensor1mean, sensor1mean]),\"y\": pandas.Series([0,1]), \"name\": 'mean wavelength',\\\n",
    "                                  \"line\": dict(color = ('rgb(255, 1, 1)'), width = 1, dash = 'dash')},\\\n",
    "                                 {\"x\": sensor1wl,\"y\": A, \"name\": 'A',\\\n",
    "                                  \"name\": 'gaussian', \"line\": dict(color = ('rgb(255, 1, 1)'), width = 1, dash = 'dot')},\\\n",
    "                                 {\"x\": pandas.Series([sensor1r1, sensor1r1]),\"y\": pandas.Series([0,1]), \"name\": 'fwhm root1',\\\n",
    "                                  \"line\": dict(color = ('rgb(255, 1, 1)'), width = 1, dash = 'dashdot')},\n",
    "                                 {\"x\": pandas.Series([sensor1r2, sensor1r2]),\"y\": pandas.Series([0,1]), \"name\": 'fwhm root2',\\\n",
    "                                  \"line\": dict(color = ('rgb(255, 1, 1)'), width = 1, dash = 'dashdot')},\n",
    "\n",
    "\n",
    "                                 {\"x\": sensor2wl,\"y\": sensor2rsr, \"name\": sensor2+\"-\"+key2, \"line\": dict(color = ('rgb(1, 1, 255)'))},\\\n",
    "                                 {\"x\": pandas.Series([sensor2mean, sensor2mean]),\"y\": pandas.Series([0,1]) , \"name\": 'mean wavelength',\\\n",
    "                                  \"line\": dict(color = ('rgb(1, 1, 255)'), width = 1, dash = 'dash')},\n",
    "                                 {\"x\": sensor2wl,\"y\": B, \"name\": 'B',\\\n",
    "                                  \"name\": 'gaussian', \"line\": dict(color = ('rgb(1, 1, 255)'), width = 1, dash = 'dot')},\\\n",
    "                                 {\"x\": pandas.Series([sensor2r1, sensor2r1]),\"y\": pandas.Series([0,1]), \"name\": 'fwhm root1',\\\n",
    "                                  \"line\": dict(color = ('rgb(1, 1, 255)'), width = 1, dash = 'dashdot')},\n",
    "                                 {\"x\": pandas.Series([sensor2r2, sensor2r2]),\"y\": pandas.Series([0,1]), \"name\": 'fwhm root2',\\\n",
    "                                  \"line\": dict(color = ('rgb(1, 1, 255)'), width = 1, dash = 'dashdot')},\\\n",
    "\n",
    "                                ],\n",
    "\n",
    "                        \"layout\": {\"title\": 'Equivalence match: '+sensor1+' '+key1+' and '+sensor2+' '+key2}})\n",
    "\n",
    "                del bounds, EMD, sensor1trapz, sensor2trapz, pearson, A, B, sensor1wl, sensor1rsr,sensor2wl, sensor2rsr,\\\n",
    "                sensor1r1, sensor1r2, sensor2r1, sensor2r2\n",
    "\n",
    "    spectrumcomparison = pandas.DataFrame({'sensor1' : sensor1list, 'sensor1keys' : sensor1keys, 'sensor2': sensor2list,\\\n",
    "                                           'sensor2keys': sensor2keys, 'pcorrelation' : pcorrelation, 'ks_pvalue': ks_pvalue,\\\n",
    "                                           'ks_statistic': ks_statistic, 'distance': emdistance,\\\n",
    "                                           'areadelta': areadelta, 'weightedcentredelta': weightedcentredelta, 'fwhmdelta': fwhmdelta})\n"
   ]
  },
  {
   "cell_type": "markdown",
   "metadata": {},
   "source": [
    "## Summarize the equivalence metrics"
   ]
  },
  {
   "cell_type": "code",
   "execution_count": null,
   "metadata": {},
   "outputs": [],
   "source": [
    "#spectrumcomparison.sort_values('sensor1keys', ascending=True)\n",
    "spectrumcomparison.sort_values('weightedcentredelta', ascending=True)"
   ]
  },
  {
   "cell_type": "markdown",
   "metadata": {},
   "source": [
    "## Set the matching threshold here for the equivalence metrics"
   ]
  },
  {
   "cell_type": "code",
   "execution_count": null,
   "metadata": {},
   "outputs": [],
   "source": [
    "match_limits = {'pcorrelation': 0.3, 'distance': 50, 'weightedcentredelta': 70, 'areadelta': 100, 'fwhmdelta': 50}\n",
    "spectrumcomparison[(spectrumcomparison.pcorrelation > match_limits['pcorrelation']) &\\\n",
    "                   (spectrumcomparison.distance < match_limits['distance']) &\\\n",
    "                   (spectrumcomparison.weightedcentredelta < match_limits['weightedcentredelta']) &\\\n",
    "                   (spectrumcomparison.areadelta < match_limits['areadelta']) &\\\n",
    "                   (spectrumcomparison.areadelta < match_limits['fwhmdelta'])\n",
    "                   ]"
   ]
  },
  {
   "cell_type": "markdown",
   "metadata": {},
   "source": [
    "### Preserve the sensordict as a pickle for use elsewhere"
   ]
  },
  {
   "cell_type": "code",
   "execution_count": null,
   "metadata": {},
   "outputs": [],
   "source": [
    "import pickle\n",
    "\n",
    "with open('sensordict.pickle', 'wb') as handle:\n",
    "    pickle.dump(sensordict, handle, protocol=pickle.HIGHEST_PROTOCOL)"
   ]
  },
  {
   "cell_type": "markdown",
   "metadata": {},
   "source": [
    "#### Create an encryption key"
   ]
  },
  {
   "cell_type": "code",
   "execution_count": null,
   "metadata": {},
   "outputs": [],
   "source": [
    "# Generate the key to unlock the encrypted file\n",
    "key = Fernet.generate_key()\n",
    "\n",
    "# string the key in a file\n",
    "with open('filekey.key', 'wb') as filekey:\n",
    "    filekey.write(key)\n",
    "# opening the key\n",
    "with open('filekey.key', 'rb') as filekey:\n",
    "    key = filekey.read()"
   ]
  },
  {
   "cell_type": "markdown",
   "metadata": {},
   "source": [
    "#### Encrypt the pickle file to make it secure"
   ]
  },
  {
   "cell_type": "code",
   "execution_count": null,
   "metadata": {},
   "outputs": [],
   "source": [
    "# Encrypt the pickled file using the encrption key.\n",
    "\n",
    "# opening the key\n",
    "with open('filekey.key', 'rb') as filekey:\n",
    "    key = filekey.read()\n",
    "# using the key\n",
    "fernet = Fernet(key)\n",
    "\n",
    "# opening the original file to encrypt\n",
    "with open('sensordict.pickle', 'rb') as file:\n",
    "    original = file.read()\n",
    "\n",
    "# encrypting the file\n",
    "encrypted = fernet.encrypt(original)\n",
    "\n",
    "# opening the file in write mode and\n",
    "\n",
    "# writing the encrypted data\n",
    "with open('sensordict.pickle', 'wb') as encrypted_file:\n",
    "    encrypted_file.write(encrypted)\n",
    "\n",
    "# The pickle is now encrypted"
   ]
  },
  {
   "cell_type": "code",
   "execution_count": null,
   "metadata": {},
   "outputs": [],
   "source": [
    "# http://www.eoc.csiro.au/hswww/oz_pi/docs/fwhm_notes.pdf From David Jupp\n",
    "# P.M.  Teillet,  G.  Fedosejevs,  K.J.  Thome,  and  J.L.  Barker,  “Impacts  of  spectral  band  difference  effects  on  radiometric  \n",
    "#cross-calibration between satellite sensors in the solar-reflective spectral domain,” \n",
    "#Remote Sensing of Environment\n",
    "#, 110, pp. \n",
    "#393–409, 2007\n",
    "# http://stackoverflow.com/questions/10623448/making-gaussians-constrained-by-the-fwhm"
   ]
  },
  {
   "cell_type": "code",
   "execution_count": null,
   "metadata": {},
   "outputs": [],
   "source": [
    "# Solar irradiance curve - how much radiant energy is hitting the sensor...proportionally? \n",
    "# http://rredc.nrel.gov/solar/spectra/am1.5/\n",
    "# TODO - done above but difficult to track down the normalised transmission data for a representative atmosphere\n",
    "# across the 300 to 15000 nanometer spectrum"
   ]
  },
  {
   "cell_type": "code",
   "execution_count": null,
   "metadata": {},
   "outputs": [],
   "source": [
    "# TODO Band resampling to provide proportional inclusion of multiple summed bands in synthetic band (i.e. with pan band,\n",
    "# or hyperspectral, narrow bands to broad band)"
   ]
  },
  {
   "cell_type": "code",
   "execution_count": null,
   "metadata": {},
   "outputs": [],
   "source": [
    "# Spectral library stuff for much later - http://speclab.cr.usgs.gov/ "
   ]
  },
  {
   "cell_type": "markdown",
   "metadata": {},
   "source": [
    "# USGS Spectral Library Version 7\n",
    "https://pubs.er.usgs.gov/publication/ds1035\n",
    "- Chapter 1: M = Minerals.\n",
    "- Chapter 2: S = Soils (including rocks, and mineral mixtures).\n",
    "- Chapter 3: C = Coatings.\n",
    "- Chapter 4: L = Liquids (including mixtures of liquids, water and other volatiles, and frozen volatiles).\n",
    "- Chapter 5: O = Organics (including biochemical constituents of plants and chemical compounds). This chapter includes mixtures of organic compounds with basalt as well as the reference basalt. The spectra of the mixtures with basalt show the fundamental absorptions of the organic compounds, which can be saturated in the spectra of the pure substances.\n",
    "- Chapter 6: A = Artificial (manmade materials, including construction materials, fabrics, manufactured chemicals, processed materials, paint pigments, plastics, and materials introduced into the environment by human activity).\n",
    "- Chapter 7: V = Vegetation (including biological materials, plant components such as leaves, flowers, and bark, vegetated areas having more than one species present, lichens, biological soil crusts, and mixtures with vegetation)."
   ]
  },
  {
   "cell_type": "code",
   "execution_count": null,
   "metadata": {},
   "outputs": [],
   "source": [
    "\"usgs_splib07.zip\"\n",
    "usgs_splib07 = zipfile.ZipFile('usgs_splib07.zip', 'r')"
   ]
  },
  {
   "cell_type": "code",
   "execution_count": null,
   "metadata": {},
   "outputs": [],
   "source": [
    "txtfiles = [item for item in usgs_splib07.namelist() if 'txt' in item]"
   ]
  },
  {
   "cell_type": "code",
   "execution_count": null,
   "metadata": {},
   "outputs": [],
   "source": [
    "# Clean, cubic spline interpolated spectra\n",
    "splib07b = [item for item in txtfiles if 'splib07b/' in item]"
   ]
  },
  {
   "cell_type": "code",
   "execution_count": null,
   "metadata": {},
   "outputs": [],
   "source": [
    "#bandpass_files = [item for item in splib07b if 'Bandpass' in item]\n",
    "#wavelength_files = [item for item in splib07b if 'Wavelength' in item]"
   ]
  },
  {
   "cell_type": "code",
   "execution_count": null,
   "metadata": {},
   "outputs": [],
   "source": [
    "# Spectra obtained with a range of sensors\n",
    "wavelength_asdfr = pandas.read_csv(usgs_splib07.open(([item for item in splib07b if 'ASDFR_0.35-2.5microns_2151ch' in item])[0]))*1000\n",
    "wavelength_aviris = pandas.read_csv(usgs_splib07.open(([item for item in splib07b if 'AVIRIS_1996_interp_to_2203ch' in item])[0]))*1000\n",
    "wavelength_beck = pandas.read_csv(usgs_splib07.open(([item for item in splib07b if 'BECK_Beckman_interp._3961_ch' in item])[0]))*1000\n",
    "wavelength_nic4 = pandas.read_csv(usgs_splib07.open(([item for item in splib07b if 'NIC4_Nicolet_1.12-216microns' in item])[0]))*1000\n"
   ]
  },
  {
   "cell_type": "code",
   "execution_count": null,
   "metadata": {},
   "outputs": [],
   "source": [
    "# List Chapter contents"
   ]
  },
  {
   "cell_type": "code",
   "execution_count": null,
   "metadata": {},
   "outputs": [],
   "source": [
    "minerals_files = [item for item in splib07b if 'ChapterM_Minerals' in item]"
   ]
  },
  {
   "cell_type": "code",
   "execution_count": null,
   "metadata": {},
   "outputs": [],
   "source": [
    "soils_files = [item for item in splib07b if 'ChapterS_Soils' in item]"
   ]
  },
  {
   "cell_type": "code",
   "execution_count": null,
   "metadata": {},
   "outputs": [],
   "source": [
    "coatings_files = [item for item in splib07b if 'ChapterC_Soils' in item]"
   ]
  },
  {
   "cell_type": "code",
   "execution_count": null,
   "metadata": {},
   "outputs": [],
   "source": [
    "liquids_files = [item for item in splib07b if 'ChapterL_Liquids' in item]"
   ]
  },
  {
   "cell_type": "code",
   "execution_count": null,
   "metadata": {},
   "outputs": [],
   "source": [
    "organics_files = [item for item in splib07b if 'ChaterO_Organic' in item]"
   ]
  },
  {
   "cell_type": "code",
   "execution_count": null,
   "metadata": {},
   "outputs": [],
   "source": [
    "artificial_files = [item for item in splib07b if 'ChapterA_ArtificialMaterials' in item]"
   ]
  },
  {
   "cell_type": "code",
   "execution_count": null,
   "metadata": {},
   "outputs": [],
   "source": [
    "vegetation_files = [item for item in splib07b if 'ChapterV_Vegetation' in item]"
   ]
  },
  {
   "cell_type": "code",
   "execution_count": null,
   "metadata": {},
   "outputs": [],
   "source": [
    "# Concatenate all files\n",
    "samplefiles = minerals_files + soils_files + coatings_files + liquids_files + organics_files + artificial_files + vegetation_files"
   ]
  },
  {
   "cell_type": "code",
   "execution_count": null,
   "metadata": {},
   "outputs": [],
   "source": [
    "chapterfiles = {'minerals': minerals_files, 'soils': soils_files, 'coatings': coatings_files, 'liquids': liquids_files, 'organics': organics_files, 'artificial': artificial_files, 'vegetation': vegetation_files }"
   ]
  },
  {
   "cell_type": "code",
   "execution_count": null,
   "metadata": {},
   "outputs": [],
   "source": [
    "# Create a dict of dataframes representing the wavelength and response of the sample spectra \n",
    "instrument_list = []\n",
    "sampledict = {}\n",
    "\n",
    "for chapter in chapterfiles.keys():\n",
    "    sampledict[chapter] = {}\n",
    "    for file in chapterfiles[chapter]:\n",
    "        openfile = pandas.read_csv(usgs_splib07.open(file),delim_whitespace=False)\n",
    "        \n",
    "        instrument_index = len(openfile.keys()[0].split())-2\n",
    "        instrument_name = openfile.keys()[0].split()[instrument_index]\n",
    "        instrument_list.append(instrument_name)\n",
    "        \n",
    "        if 'ASD' in instrument_name:\n",
    "            wavelength = wavelength_asdfr\n",
    "        elif 'AVIRIS' in instrument_name:\n",
    "            wavelength = wavelength_aviris\n",
    "        elif 'BECK' in instrument_name:\n",
    "            wavelength = wavelength_beck\n",
    "        elif 'NIC4' in instrument_name:\n",
    "            wavelength = wavelength_nic4\n",
    "                \n",
    "        \n",
    "        sample_name = ' '.join(openfile.keys()[0].split()[2:instrument_index])\n",
    "\n",
    "        openfile.columns.values[0] = 'rsr'\n",
    "\n",
    "        rsr = openfile\n",
    "\n",
    "        \n",
    "        sampledict[chapter][sample_name] = pandas.DataFrame({'wavelength': wavelength.squeeze(), 'rsr': rsr.squeeze()})\n",
    "        sampledict[chapter][sample_name] = sampledict[chapter][sample_name].where(sampledict[chapter][sample_name]['rsr'] != -1.23e+34)"
   ]
  },
  {
   "cell_type": "code",
   "execution_count": null,
   "metadata": {},
   "outputs": [],
   "source": [
    "# Enable instrument specific discrimination\n",
    "instrument_list = set(instrument_list)\n",
    "instrument_list\n",
    "#for instrument in instrument_list:"
   ]
  },
  {
   "cell_type": "code",
   "execution_count": null,
   "metadata": {},
   "outputs": [],
   "source": [
    "plotallsamples('vegetation')"
   ]
  },
  {
   "cell_type": "code",
   "execution_count": null,
   "metadata": {},
   "outputs": [],
   "source": [
    "for key in sampledict.keys():\n",
    "    for key2 in sampledict[key].keys():\n",
    "        print(sampledict[key][key2][sampledict[key][key2]['rsr'] < 1.0])"
   ]
  },
  {
   "cell_type": "code",
   "execution_count": null,
   "metadata": {},
   "outputs": [],
   "source": []
  }
 ],
 "metadata": {
  "kernelspec": {
   "display_name": "Python 3 (ipykernel)",
   "language": "python",
   "name": "python3"
  },
  "language_info": {
   "codemirror_mode": {
    "name": "ipython",
    "version": 3
   },
   "file_extension": ".py",
   "mimetype": "text/x-python",
   "name": "python",
   "nbconvert_exporter": "python",
   "pygments_lexer": "ipython3",
   "version": "3.9.12"
  }
 },
 "nbformat": 4,
 "nbformat_minor": 4
}
