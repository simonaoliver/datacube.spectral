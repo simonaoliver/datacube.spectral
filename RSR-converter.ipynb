{
 "cells": [
  {
   "cell_type": "code",
   "execution_count": 1,
   "metadata": {
    "collapsed": false
   },
   "outputs": [
    {
     "name": "stdout",
     "output_type": "stream",
     "text": [
      "Populating the interactive namespace from numpy and matplotlib\n"
     ]
    }
   ],
   "source": [
    "import numpy\n",
    "import math\n",
    "from scipy.interpolate import UnivariateSpline\n",
    "import scipy.optimize as opt\n",
    "from scipy.optimize import fsolve\n",
    "from scipy import signal\n",
    "from scipy import ndimage\n",
    "import pandas\n",
    "%pylab inline"
   ]
  },
  {
   "cell_type": "markdown",
   "metadata": {},
   "source": [
    "### Landsat"
   ]
  },
  {
   "cell_type": "code",
   "execution_count": 2,
   "metadata": {
    "collapsed": false,
    "scrolled": true
   },
   "outputs": [],
   "source": [
    "# ls8oli = pandas.read_excel('Ball_BA_RSR.xlsx', sheetname=None)\n",
    "# ls8tirs = pandas.read_excel('TIRS_Relative_Spectral_ResponsesBA.xlsx', sheetname=['TIRS BA RSR'])\n",
    "# ls5tm = pandas.read_excel('L5_TM_RSR.xlsx', sheetname=None)\n",
    "# ls7etm = pandas.read_excel('L7_RSR.xlsx', sheetname=['Blue-L7','Green-L7','Red-L7','NIR-L7',\n",
    "#                                                      'SWIR(5)-L7','SWIR(7)-L7','Pan-L7'])"
   ]
  },
  {
   "cell_type": "markdown",
   "metadata": {},
   "source": [
    "### MODIS"
   ]
  },
  {
   "cell_type": "code",
   "execution_count": 3,
   "metadata": {
    "collapsed": true
   },
   "outputs": [],
   "source": [
    "sname = 'modis_fm1_rsp_mid_chnl_sum'\n",
    "modis_df = pandas.read_excel('MODIS_FM1_IB_OOB_RSR_merged.xls', sheetname=[sname])[sname]"
   ]
  },
  {
   "cell_type": "code",
   "execution_count": 4,
   "metadata": {
    "collapsed": false
   },
   "outputs": [
    {
     "data": {
      "text/html": [
       "<div style=\"max-height:1000px;max-width:1500px;overflow:auto;\">\n",
       "<table border=\"1\" class=\"dataframe\">\n",
       "  <thead>\n",
       "    <tr style=\"text-align: right;\">\n",
       "      <th></th>\n",
       "      <th>Band 1</th>\n",
       "      <th>Band 1RSR</th>\n",
       "      <th>Band 2</th>\n",
       "      <th>Band 2RSR</th>\n",
       "      <th>Band 3</th>\n",
       "      <th>Band 3RSR</th>\n",
       "      <th>Band 4</th>\n",
       "      <th>Band 4RSR</th>\n",
       "      <th>Band 5</th>\n",
       "      <th>Band 5RSR</th>\n",
       "      <th>...</th>\n",
       "      <th>Band 32</th>\n",
       "      <th>Band 32RSR</th>\n",
       "      <th>Band 33</th>\n",
       "      <th>Band 33RSR</th>\n",
       "      <th>Band 34</th>\n",
       "      <th>Band 34RSR</th>\n",
       "      <th>Band 35</th>\n",
       "      <th>Band 35RSR</th>\n",
       "      <th>Band 36</th>\n",
       "      <th>Band 36RSR</th>\n",
       "    </tr>\n",
       "  </thead>\n",
       "  <tbody>\n",
       "    <tr>\n",
       "      <th>0</th>\n",
       "      <td>0.35</td>\n",
       "      <td>5.270000e-04</td>\n",
       "      <td>0.35</td>\n",
       "      <td>0.000614</td>\n",
       "      <td>0.35</td>\n",
       "      <td>0.000632</td>\n",
       "      <td>0.35</td>\n",
       "      <td>0.000626</td>\n",
       "      <td>1.196514</td>\n",
       "      <td>0.00004</td>\n",
       "      <td>...</td>\n",
       "      <td>1.10</td>\n",
       "      <td>0.000035</td>\n",
       "      <td>1.10</td>\n",
       "      <td>0.000063</td>\n",
       "      <td>1.10</td>\n",
       "      <td>0.000024</td>\n",
       "      <td>1.10</td>\n",
       "      <td>0.000012</td>\n",
       "      <td>1.10</td>\n",
       "      <td>0.000086</td>\n",
       "    </tr>\n",
       "    <tr>\n",
       "      <th>1</th>\n",
       "      <td>0.36</td>\n",
       "      <td>1.000000e-08</td>\n",
       "      <td>0.36</td>\n",
       "      <td>0.000153</td>\n",
       "      <td>0.36</td>\n",
       "      <td>0.000158</td>\n",
       "      <td>0.36</td>\n",
       "      <td>0.000644</td>\n",
       "      <td>1.197975</td>\n",
       "      <td>0.00012</td>\n",
       "      <td>...</td>\n",
       "      <td>1.12</td>\n",
       "      <td>0.000025</td>\n",
       "      <td>1.12</td>\n",
       "      <td>0.000032</td>\n",
       "      <td>1.12</td>\n",
       "      <td>0.000074</td>\n",
       "      <td>1.12</td>\n",
       "      <td>0.000046</td>\n",
       "      <td>1.12</td>\n",
       "      <td>0.000082</td>\n",
       "    </tr>\n",
       "    <tr>\n",
       "      <th>2</th>\n",
       "      <td>0.37</td>\n",
       "      <td>8.130000e-04</td>\n",
       "      <td>0.37</td>\n",
       "      <td>0.000276</td>\n",
       "      <td>0.37</td>\n",
       "      <td>0.000569</td>\n",
       "      <td>0.37</td>\n",
       "      <td>0.000091</td>\n",
       "      <td>1.199481</td>\n",
       "      <td>0.00016</td>\n",
       "      <td>...</td>\n",
       "      <td>1.14</td>\n",
       "      <td>0.000031</td>\n",
       "      <td>1.14</td>\n",
       "      <td>0.000003</td>\n",
       "      <td>1.14</td>\n",
       "      <td>0.000065</td>\n",
       "      <td>1.14</td>\n",
       "      <td>0.000121</td>\n",
       "      <td>1.14</td>\n",
       "      <td>0.000043</td>\n",
       "    </tr>\n",
       "    <tr>\n",
       "      <th>3</th>\n",
       "      <td>0.38</td>\n",
       "      <td>7.350000e-05</td>\n",
       "      <td>0.38</td>\n",
       "      <td>0.000200</td>\n",
       "      <td>0.38</td>\n",
       "      <td>0.000382</td>\n",
       "      <td>0.38</td>\n",
       "      <td>0.000033</td>\n",
       "      <td>1.200981</td>\n",
       "      <td>0.00019</td>\n",
       "      <td>...</td>\n",
       "      <td>1.16</td>\n",
       "      <td>0.000067</td>\n",
       "      <td>1.16</td>\n",
       "      <td>0.000025</td>\n",
       "      <td>1.16</td>\n",
       "      <td>0.000036</td>\n",
       "      <td>1.16</td>\n",
       "      <td>0.000031</td>\n",
       "      <td>1.16</td>\n",
       "      <td>0.000011</td>\n",
       "    </tr>\n",
       "    <tr>\n",
       "      <th>4</th>\n",
       "      <td>0.39</td>\n",
       "      <td>4.630000e-04</td>\n",
       "      <td>0.39</td>\n",
       "      <td>0.000220</td>\n",
       "      <td>0.39</td>\n",
       "      <td>0.000268</td>\n",
       "      <td>0.39</td>\n",
       "      <td>0.000206</td>\n",
       "      <td>1.202475</td>\n",
       "      <td>0.00043</td>\n",
       "      <td>...</td>\n",
       "      <td>1.18</td>\n",
       "      <td>0.000002</td>\n",
       "      <td>1.18</td>\n",
       "      <td>0.000012</td>\n",
       "      <td>1.18</td>\n",
       "      <td>0.000048</td>\n",
       "      <td>1.18</td>\n",
       "      <td>0.000008</td>\n",
       "      <td>1.18</td>\n",
       "      <td>0.000015</td>\n",
       "    </tr>\n",
       "  </tbody>\n",
       "</table>\n",
       "<p>5 rows × 72 columns</p>\n",
       "</div>"
      ],
      "text/plain": [
       "   Band 1     Band 1RSR  Band 2  Band 2RSR  Band 3  Band 3RSR  Band 4  \\\n",
       "0    0.35  5.270000e-04    0.35   0.000614    0.35   0.000632    0.35   \n",
       "1    0.36  1.000000e-08    0.36   0.000153    0.36   0.000158    0.36   \n",
       "2    0.37  8.130000e-04    0.37   0.000276    0.37   0.000569    0.37   \n",
       "3    0.38  7.350000e-05    0.38   0.000200    0.38   0.000382    0.38   \n",
       "4    0.39  4.630000e-04    0.39   0.000220    0.39   0.000268    0.39   \n",
       "\n",
       "   Band 4RSR    Band 5  Band 5RSR     ...      Band 32  Band 32RSR  Band 33  \\\n",
       "0   0.000626  1.196514    0.00004     ...         1.10    0.000035     1.10   \n",
       "1   0.000644  1.197975    0.00012     ...         1.12    0.000025     1.12   \n",
       "2   0.000091  1.199481    0.00016     ...         1.14    0.000031     1.14   \n",
       "3   0.000033  1.200981    0.00019     ...         1.16    0.000067     1.16   \n",
       "4   0.000206  1.202475    0.00043     ...         1.18    0.000002     1.18   \n",
       "\n",
       "   Band 33RSR  Band 34  Band 34RSR  Band 35  Band 35RSR  Band 36  Band 36RSR  \n",
       "0    0.000063     1.10    0.000024     1.10    0.000012     1.10    0.000086  \n",
       "1    0.000032     1.12    0.000074     1.12    0.000046     1.12    0.000082  \n",
       "2    0.000003     1.14    0.000065     1.14    0.000121     1.14    0.000043  \n",
       "3    0.000025     1.16    0.000036     1.16    0.000031     1.16    0.000011  \n",
       "4    0.000012     1.18    0.000048     1.18    0.000008     1.18    0.000015  \n",
       "\n",
       "[5 rows x 72 columns]"
      ]
     },
     "execution_count": 4,
     "metadata": {},
     "output_type": "execute_result"
    }
   ],
   "source": [
    "modis_df.head()"
   ]
  },
  {
   "cell_type": "code",
   "execution_count": 5,
   "metadata": {
    "collapsed": true
   },
   "outputs": [],
   "source": [
    "# 'Wavelength1', 'Band1RSR', 'Wavelength2', 'Band2RSR'\n",
    "cols = {}\n",
    "for i in range(1, 37):\n",
    "    key1 = 'Band {}'.format(i)\n",
    "    key2 = 'Band {}RSR'.format(i)\n",
    "    value1 = 'Wavelength{}'.format(i)\n",
    "    value2 = 'Band{}'.format(i)\n",
    "    cols[key1] = value1\n",
    "    cols[key2] = value2\n",
    "modis_df.rename(columns=cols, inplace=True)"
   ]
  },
  {
   "cell_type": "code",
   "execution_count": 6,
   "metadata": {
    "collapsed": false
   },
   "outputs": [
    {
     "data": {
      "text/html": [
       "<div style=\"max-height:1000px;max-width:1500px;overflow:auto;\">\n",
       "<table border=\"1\" class=\"dataframe\">\n",
       "  <thead>\n",
       "    <tr style=\"text-align: right;\">\n",
       "      <th></th>\n",
       "      <th>Wavelength1</th>\n",
       "      <th>Band1</th>\n",
       "      <th>Wavelength2</th>\n",
       "      <th>Band2</th>\n",
       "      <th>Wavelength3</th>\n",
       "      <th>Band3</th>\n",
       "      <th>Wavelength4</th>\n",
       "      <th>Band4</th>\n",
       "      <th>Wavelength5</th>\n",
       "      <th>Band5</th>\n",
       "      <th>...</th>\n",
       "      <th>Wavelength32</th>\n",
       "      <th>Band32</th>\n",
       "      <th>Wavelength33</th>\n",
       "      <th>Band33</th>\n",
       "      <th>Wavelength34</th>\n",
       "      <th>Band34</th>\n",
       "      <th>Wavelength35</th>\n",
       "      <th>Band35</th>\n",
       "      <th>Wavelength36</th>\n",
       "      <th>Band36</th>\n",
       "    </tr>\n",
       "  </thead>\n",
       "  <tbody>\n",
       "    <tr>\n",
       "      <th>0</th>\n",
       "      <td>0.35</td>\n",
       "      <td>5.270000e-04</td>\n",
       "      <td>0.35</td>\n",
       "      <td>0.000614</td>\n",
       "      <td>0.35</td>\n",
       "      <td>0.000632</td>\n",
       "      <td>0.35</td>\n",
       "      <td>0.000626</td>\n",
       "      <td>1.196514</td>\n",
       "      <td>0.00004</td>\n",
       "      <td>...</td>\n",
       "      <td>1.10</td>\n",
       "      <td>0.000035</td>\n",
       "      <td>1.10</td>\n",
       "      <td>0.000063</td>\n",
       "      <td>1.10</td>\n",
       "      <td>0.000024</td>\n",
       "      <td>1.10</td>\n",
       "      <td>0.000012</td>\n",
       "      <td>1.10</td>\n",
       "      <td>0.000086</td>\n",
       "    </tr>\n",
       "    <tr>\n",
       "      <th>1</th>\n",
       "      <td>0.36</td>\n",
       "      <td>1.000000e-08</td>\n",
       "      <td>0.36</td>\n",
       "      <td>0.000153</td>\n",
       "      <td>0.36</td>\n",
       "      <td>0.000158</td>\n",
       "      <td>0.36</td>\n",
       "      <td>0.000644</td>\n",
       "      <td>1.197975</td>\n",
       "      <td>0.00012</td>\n",
       "      <td>...</td>\n",
       "      <td>1.12</td>\n",
       "      <td>0.000025</td>\n",
       "      <td>1.12</td>\n",
       "      <td>0.000032</td>\n",
       "      <td>1.12</td>\n",
       "      <td>0.000074</td>\n",
       "      <td>1.12</td>\n",
       "      <td>0.000046</td>\n",
       "      <td>1.12</td>\n",
       "      <td>0.000082</td>\n",
       "    </tr>\n",
       "    <tr>\n",
       "      <th>2</th>\n",
       "      <td>0.37</td>\n",
       "      <td>8.130000e-04</td>\n",
       "      <td>0.37</td>\n",
       "      <td>0.000276</td>\n",
       "      <td>0.37</td>\n",
       "      <td>0.000569</td>\n",
       "      <td>0.37</td>\n",
       "      <td>0.000091</td>\n",
       "      <td>1.199481</td>\n",
       "      <td>0.00016</td>\n",
       "      <td>...</td>\n",
       "      <td>1.14</td>\n",
       "      <td>0.000031</td>\n",
       "      <td>1.14</td>\n",
       "      <td>0.000003</td>\n",
       "      <td>1.14</td>\n",
       "      <td>0.000065</td>\n",
       "      <td>1.14</td>\n",
       "      <td>0.000121</td>\n",
       "      <td>1.14</td>\n",
       "      <td>0.000043</td>\n",
       "    </tr>\n",
       "    <tr>\n",
       "      <th>3</th>\n",
       "      <td>0.38</td>\n",
       "      <td>7.350000e-05</td>\n",
       "      <td>0.38</td>\n",
       "      <td>0.000200</td>\n",
       "      <td>0.38</td>\n",
       "      <td>0.000382</td>\n",
       "      <td>0.38</td>\n",
       "      <td>0.000033</td>\n",
       "      <td>1.200981</td>\n",
       "      <td>0.00019</td>\n",
       "      <td>...</td>\n",
       "      <td>1.16</td>\n",
       "      <td>0.000067</td>\n",
       "      <td>1.16</td>\n",
       "      <td>0.000025</td>\n",
       "      <td>1.16</td>\n",
       "      <td>0.000036</td>\n",
       "      <td>1.16</td>\n",
       "      <td>0.000031</td>\n",
       "      <td>1.16</td>\n",
       "      <td>0.000011</td>\n",
       "    </tr>\n",
       "    <tr>\n",
       "      <th>4</th>\n",
       "      <td>0.39</td>\n",
       "      <td>4.630000e-04</td>\n",
       "      <td>0.39</td>\n",
       "      <td>0.000220</td>\n",
       "      <td>0.39</td>\n",
       "      <td>0.000268</td>\n",
       "      <td>0.39</td>\n",
       "      <td>0.000206</td>\n",
       "      <td>1.202475</td>\n",
       "      <td>0.00043</td>\n",
       "      <td>...</td>\n",
       "      <td>1.18</td>\n",
       "      <td>0.000002</td>\n",
       "      <td>1.18</td>\n",
       "      <td>0.000012</td>\n",
       "      <td>1.18</td>\n",
       "      <td>0.000048</td>\n",
       "      <td>1.18</td>\n",
       "      <td>0.000008</td>\n",
       "      <td>1.18</td>\n",
       "      <td>0.000015</td>\n",
       "    </tr>\n",
       "  </tbody>\n",
       "</table>\n",
       "<p>5 rows × 72 columns</p>\n",
       "</div>"
      ],
      "text/plain": [
       "   Wavelength1         Band1  Wavelength2     Band2  Wavelength3     Band3  \\\n",
       "0         0.35  5.270000e-04         0.35  0.000614         0.35  0.000632   \n",
       "1         0.36  1.000000e-08         0.36  0.000153         0.36  0.000158   \n",
       "2         0.37  8.130000e-04         0.37  0.000276         0.37  0.000569   \n",
       "3         0.38  7.350000e-05         0.38  0.000200         0.38  0.000382   \n",
       "4         0.39  4.630000e-04         0.39  0.000220         0.39  0.000268   \n",
       "\n",
       "   Wavelength4     Band4  Wavelength5    Band5    ...     Wavelength32  \\\n",
       "0         0.35  0.000626     1.196514  0.00004    ...             1.10   \n",
       "1         0.36  0.000644     1.197975  0.00012    ...             1.12   \n",
       "2         0.37  0.000091     1.199481  0.00016    ...             1.14   \n",
       "3         0.38  0.000033     1.200981  0.00019    ...             1.16   \n",
       "4         0.39  0.000206     1.202475  0.00043    ...             1.18   \n",
       "\n",
       "     Band32  Wavelength33    Band33  Wavelength34    Band34  Wavelength35  \\\n",
       "0  0.000035          1.10  0.000063          1.10  0.000024          1.10   \n",
       "1  0.000025          1.12  0.000032          1.12  0.000074          1.12   \n",
       "2  0.000031          1.14  0.000003          1.14  0.000065          1.14   \n",
       "3  0.000067          1.16  0.000025          1.16  0.000036          1.16   \n",
       "4  0.000002          1.18  0.000012          1.18  0.000048          1.18   \n",
       "\n",
       "     Band35  Wavelength36    Band36  \n",
       "0  0.000012          1.10  0.000086  \n",
       "1  0.000046          1.12  0.000082  \n",
       "2  0.000121          1.14  0.000043  \n",
       "3  0.000031          1.16  0.000011  \n",
       "4  0.000008          1.18  0.000015  \n",
       "\n",
       "[5 rows x 72 columns]"
      ]
     },
     "execution_count": 6,
     "metadata": {},
     "output_type": "execute_result"
    }
   ],
   "source": [
    "modis_df.head()"
   ]
  },
  {
   "cell_type": "markdown",
   "metadata": {},
   "source": [
    "### Sentinel 2A"
   ]
  },
  {
   "cell_type": "code",
   "execution_count": 7,
   "metadata": {
    "collapsed": true
   },
   "outputs": [],
   "source": [
    "sname = 'Spectral Responses'\n",
    "s2amsi_df = pandas.read_excel('Sentinel-2A MSI Spectral Responses.xlsx', sheetname=[sname])[sname]"
   ]
  },
  {
   "cell_type": "code",
   "execution_count": 8,
   "metadata": {
    "collapsed": false
   },
   "outputs": [
    {
     "data": {
      "text/html": [
       "<div style=\"max-height:1000px;max-width:1500px;overflow:auto;\">\n",
       "<table border=\"1\" class=\"dataframe\">\n",
       "  <thead>\n",
       "    <tr style=\"text-align: right;\">\n",
       "      <th></th>\n",
       "      <th>SR_WL</th>\n",
       "      <th>Band 1</th>\n",
       "      <th>Band 2</th>\n",
       "      <th>Band 3</th>\n",
       "      <th>Band 4</th>\n",
       "      <th>Band 5</th>\n",
       "      <th>Band 6</th>\n",
       "      <th>Band 7</th>\n",
       "      <th>Band 8</th>\n",
       "      <th>Band 8A</th>\n",
       "      <th>Band 9</th>\n",
       "      <th>Band 10</th>\n",
       "      <th>Band 11</th>\n",
       "      <th>Band 12</th>\n",
       "    </tr>\n",
       "  </thead>\n",
       "  <tbody>\n",
       "    <tr>\n",
       "      <th>0</th>\n",
       "      <td>300</td>\n",
       "      <td>0</td>\n",
       "      <td>0</td>\n",
       "      <td>0</td>\n",
       "      <td>0</td>\n",
       "      <td>0</td>\n",
       "      <td>0</td>\n",
       "      <td>0</td>\n",
       "      <td>0</td>\n",
       "      <td>0</td>\n",
       "      <td>0</td>\n",
       "      <td>0</td>\n",
       "      <td>0</td>\n",
       "      <td>0</td>\n",
       "    </tr>\n",
       "    <tr>\n",
       "      <th>1</th>\n",
       "      <td>301</td>\n",
       "      <td>0</td>\n",
       "      <td>0</td>\n",
       "      <td>0</td>\n",
       "      <td>0</td>\n",
       "      <td>0</td>\n",
       "      <td>0</td>\n",
       "      <td>0</td>\n",
       "      <td>0</td>\n",
       "      <td>0</td>\n",
       "      <td>0</td>\n",
       "      <td>0</td>\n",
       "      <td>0</td>\n",
       "      <td>0</td>\n",
       "    </tr>\n",
       "    <tr>\n",
       "      <th>2</th>\n",
       "      <td>302</td>\n",
       "      <td>0</td>\n",
       "      <td>0</td>\n",
       "      <td>0</td>\n",
       "      <td>0</td>\n",
       "      <td>0</td>\n",
       "      <td>0</td>\n",
       "      <td>0</td>\n",
       "      <td>0</td>\n",
       "      <td>0</td>\n",
       "      <td>0</td>\n",
       "      <td>0</td>\n",
       "      <td>0</td>\n",
       "      <td>0</td>\n",
       "    </tr>\n",
       "    <tr>\n",
       "      <th>3</th>\n",
       "      <td>303</td>\n",
       "      <td>0</td>\n",
       "      <td>0</td>\n",
       "      <td>0</td>\n",
       "      <td>0</td>\n",
       "      <td>0</td>\n",
       "      <td>0</td>\n",
       "      <td>0</td>\n",
       "      <td>0</td>\n",
       "      <td>0</td>\n",
       "      <td>0</td>\n",
       "      <td>0</td>\n",
       "      <td>0</td>\n",
       "      <td>0</td>\n",
       "    </tr>\n",
       "    <tr>\n",
       "      <th>4</th>\n",
       "      <td>304</td>\n",
       "      <td>0</td>\n",
       "      <td>0</td>\n",
       "      <td>0</td>\n",
       "      <td>0</td>\n",
       "      <td>0</td>\n",
       "      <td>0</td>\n",
       "      <td>0</td>\n",
       "      <td>0</td>\n",
       "      <td>0</td>\n",
       "      <td>0</td>\n",
       "      <td>0</td>\n",
       "      <td>0</td>\n",
       "      <td>0</td>\n",
       "    </tr>\n",
       "  </tbody>\n",
       "</table>\n",
       "</div>"
      ],
      "text/plain": [
       "   SR_WL  Band 1  Band 2  Band 3  Band 4  Band 5  Band 6  Band 7  Band 8  \\\n",
       "0    300       0       0       0       0       0       0       0       0   \n",
       "1    301       0       0       0       0       0       0       0       0   \n",
       "2    302       0       0       0       0       0       0       0       0   \n",
       "3    303       0       0       0       0       0       0       0       0   \n",
       "4    304       0       0       0       0       0       0       0       0   \n",
       "\n",
       "   Band 8A  Band 9  Band 10  Band 11  Band 12  \n",
       "0        0       0        0        0        0  \n",
       "1        0       0        0        0        0  \n",
       "2        0       0        0        0        0  \n",
       "3        0       0        0        0        0  \n",
       "4        0       0        0        0        0  "
      ]
     },
     "execution_count": 8,
     "metadata": {},
     "output_type": "execute_result"
    }
   ],
   "source": [
    "s2amsi_df.head()"
   ]
  },
  {
   "cell_type": "code",
   "execution_count": 9,
   "metadata": {
    "collapsed": false
   },
   "outputs": [],
   "source": [
    "cols = {'SR_WL': 'Wavelength1',\n",
    "        'Band 8A': 'Band8A'}\n",
    "for i in range(1, 13):\n",
    "    key = 'Band {}'.format(i)\n",
    "    value = 'Band{}'.format(i)\n",
    "    cols[key] = value\n",
    "s2amsi_df.rename(columns=cols, inplace=True)"
   ]
  },
  {
   "cell_type": "markdown",
   "metadata": {},
   "source": [
    "Create wavelength columns for each band"
   ]
  },
  {
   "cell_type": "code",
   "execution_count": 10,
   "metadata": {
    "collapsed": false
   },
   "outputs": [],
   "source": [
    "for i in range(2, 13):\n",
    "    col = 'Wavelength{}'.format(i)\n",
    "    s2amsi_df[col] = s2amsi_df['Wavelength1']\n",
    "s2amsi_df['Wavelength8A'] = s2amsi_df['Wavelength1']"
   ]
  },
  {
   "cell_type": "markdown",
   "metadata": {},
   "source": [
    "Reorder the columns to keep the same format as other dataframes eg ['Wavelength1', 'Band1']"
   ]
  },
  {
   "cell_type": "code",
   "execution_count": 11,
   "metadata": {
    "collapsed": false
   },
   "outputs": [],
   "source": [
    "tmp = [(['Wavelength{}'.format(i), 'Band{}'.format(i)]) for i in range(1, 13)]\n",
    "cols = []\n",
    "for i in tmp:\n",
    "    cols.extend(i)\n",
    "cols.insert(16, 'Wavelength8A')\n",
    "cols.insert(17, 'Band8A')\n",
    "s2amsi_df = s2amsi_df[cols]"
   ]
  },
  {
   "cell_type": "code",
   "execution_count": 12,
   "metadata": {
    "collapsed": false
   },
   "outputs": [
    {
     "data": {
      "text/html": [
       "<div style=\"max-height:1000px;max-width:1500px;overflow:auto;\">\n",
       "<table border=\"1\" class=\"dataframe\">\n",
       "  <thead>\n",
       "    <tr style=\"text-align: right;\">\n",
       "      <th></th>\n",
       "      <th>Wavelength1</th>\n",
       "      <th>Band1</th>\n",
       "      <th>Wavelength2</th>\n",
       "      <th>Band2</th>\n",
       "      <th>Wavelength3</th>\n",
       "      <th>Band3</th>\n",
       "      <th>Wavelength4</th>\n",
       "      <th>Band4</th>\n",
       "      <th>Wavelength5</th>\n",
       "      <th>Band5</th>\n",
       "      <th>...</th>\n",
       "      <th>Wavelength8A</th>\n",
       "      <th>Band8A</th>\n",
       "      <th>Wavelength9</th>\n",
       "      <th>Band9</th>\n",
       "      <th>Wavelength10</th>\n",
       "      <th>Band10</th>\n",
       "      <th>Wavelength11</th>\n",
       "      <th>Band11</th>\n",
       "      <th>Wavelength12</th>\n",
       "      <th>Band12</th>\n",
       "    </tr>\n",
       "  </thead>\n",
       "  <tbody>\n",
       "    <tr>\n",
       "      <th>0</th>\n",
       "      <td>300</td>\n",
       "      <td>0</td>\n",
       "      <td>300</td>\n",
       "      <td>0</td>\n",
       "      <td>300</td>\n",
       "      <td>0</td>\n",
       "      <td>300</td>\n",
       "      <td>0</td>\n",
       "      <td>300</td>\n",
       "      <td>0</td>\n",
       "      <td>...</td>\n",
       "      <td>300</td>\n",
       "      <td>0</td>\n",
       "      <td>300</td>\n",
       "      <td>0</td>\n",
       "      <td>300</td>\n",
       "      <td>0</td>\n",
       "      <td>300</td>\n",
       "      <td>0</td>\n",
       "      <td>300</td>\n",
       "      <td>0</td>\n",
       "    </tr>\n",
       "    <tr>\n",
       "      <th>1</th>\n",
       "      <td>301</td>\n",
       "      <td>0</td>\n",
       "      <td>301</td>\n",
       "      <td>0</td>\n",
       "      <td>301</td>\n",
       "      <td>0</td>\n",
       "      <td>301</td>\n",
       "      <td>0</td>\n",
       "      <td>301</td>\n",
       "      <td>0</td>\n",
       "      <td>...</td>\n",
       "      <td>301</td>\n",
       "      <td>0</td>\n",
       "      <td>301</td>\n",
       "      <td>0</td>\n",
       "      <td>301</td>\n",
       "      <td>0</td>\n",
       "      <td>301</td>\n",
       "      <td>0</td>\n",
       "      <td>301</td>\n",
       "      <td>0</td>\n",
       "    </tr>\n",
       "    <tr>\n",
       "      <th>2</th>\n",
       "      <td>302</td>\n",
       "      <td>0</td>\n",
       "      <td>302</td>\n",
       "      <td>0</td>\n",
       "      <td>302</td>\n",
       "      <td>0</td>\n",
       "      <td>302</td>\n",
       "      <td>0</td>\n",
       "      <td>302</td>\n",
       "      <td>0</td>\n",
       "      <td>...</td>\n",
       "      <td>302</td>\n",
       "      <td>0</td>\n",
       "      <td>302</td>\n",
       "      <td>0</td>\n",
       "      <td>302</td>\n",
       "      <td>0</td>\n",
       "      <td>302</td>\n",
       "      <td>0</td>\n",
       "      <td>302</td>\n",
       "      <td>0</td>\n",
       "    </tr>\n",
       "    <tr>\n",
       "      <th>3</th>\n",
       "      <td>303</td>\n",
       "      <td>0</td>\n",
       "      <td>303</td>\n",
       "      <td>0</td>\n",
       "      <td>303</td>\n",
       "      <td>0</td>\n",
       "      <td>303</td>\n",
       "      <td>0</td>\n",
       "      <td>303</td>\n",
       "      <td>0</td>\n",
       "      <td>...</td>\n",
       "      <td>303</td>\n",
       "      <td>0</td>\n",
       "      <td>303</td>\n",
       "      <td>0</td>\n",
       "      <td>303</td>\n",
       "      <td>0</td>\n",
       "      <td>303</td>\n",
       "      <td>0</td>\n",
       "      <td>303</td>\n",
       "      <td>0</td>\n",
       "    </tr>\n",
       "    <tr>\n",
       "      <th>4</th>\n",
       "      <td>304</td>\n",
       "      <td>0</td>\n",
       "      <td>304</td>\n",
       "      <td>0</td>\n",
       "      <td>304</td>\n",
       "      <td>0</td>\n",
       "      <td>304</td>\n",
       "      <td>0</td>\n",
       "      <td>304</td>\n",
       "      <td>0</td>\n",
       "      <td>...</td>\n",
       "      <td>304</td>\n",
       "      <td>0</td>\n",
       "      <td>304</td>\n",
       "      <td>0</td>\n",
       "      <td>304</td>\n",
       "      <td>0</td>\n",
       "      <td>304</td>\n",
       "      <td>0</td>\n",
       "      <td>304</td>\n",
       "      <td>0</td>\n",
       "    </tr>\n",
       "  </tbody>\n",
       "</table>\n",
       "<p>5 rows × 26 columns</p>\n",
       "</div>"
      ],
      "text/plain": [
       "   Wavelength1  Band1  Wavelength2  Band2  Wavelength3  Band3  Wavelength4  \\\n",
       "0          300      0          300      0          300      0          300   \n",
       "1          301      0          301      0          301      0          301   \n",
       "2          302      0          302      0          302      0          302   \n",
       "3          303      0          303      0          303      0          303   \n",
       "4          304      0          304      0          304      0          304   \n",
       "\n",
       "   Band4  Wavelength5  Band5   ...    Wavelength8A  Band8A  Wavelength9  \\\n",
       "0      0          300      0   ...             300       0          300   \n",
       "1      0          301      0   ...             301       0          301   \n",
       "2      0          302      0   ...             302       0          302   \n",
       "3      0          303      0   ...             303       0          303   \n",
       "4      0          304      0   ...             304       0          304   \n",
       "\n",
       "   Band9  Wavelength10  Band10  Wavelength11  Band11  Wavelength12  Band12  \n",
       "0      0           300       0           300       0           300       0  \n",
       "1      0           301       0           301       0           301       0  \n",
       "2      0           302       0           302       0           302       0  \n",
       "3      0           303       0           303       0           303       0  \n",
       "4      0           304       0           304       0           304       0  \n",
       "\n",
       "[5 rows x 26 columns]"
      ]
     },
     "execution_count": 12,
     "metadata": {},
     "output_type": "execute_result"
    }
   ],
   "source": [
    "s2amsi_df.head()"
   ]
  },
  {
   "cell_type": "markdown",
   "metadata": {},
   "source": [
    "### ASTER\n",
    "* http://asterweb.jpl.nasa.gov/content/01_mission/03_instrument/archive/swir.txt\n",
    "* http://asterweb.jpl.nasa.gov/content/01_mission/03_instrument/archive/vnir.txt\n",
    "* http://asterweb.jpl.nasa.gov/content/01_mission/03_instrument/archive/tir.txt"
   ]
  },
  {
   "cell_type": "markdown",
   "metadata": {},
   "source": [
    "#### ASTER VNIR"
   ]
  },
  {
   "cell_type": "code",
   "execution_count": 13,
   "metadata": {
    "collapsed": false
   },
   "outputs": [],
   "source": [
    "astervnir = pandas.read_csv('aster/vnir.txt', delim_whitespace=True, header=3)"
   ]
  },
  {
   "cell_type": "code",
   "execution_count": 14,
   "metadata": {
    "collapsed": false
   },
   "outputs": [
    {
     "data": {
      "text/html": [
       "<div style=\"max-height:1000px;max-width:1500px;overflow:auto;\">\n",
       "<table border=\"1\" class=\"dataframe\">\n",
       "  <thead>\n",
       "    <tr style=\"text-align: right;\">\n",
       "      <th></th>\n",
       "      <th>[um]</th>\n",
       "      <th>Response</th>\n",
       "      <th>[um].1</th>\n",
       "      <th>Response.1</th>\n",
       "      <th>[um].2</th>\n",
       "      <th>Response.2</th>\n",
       "      <th>[um].3</th>\n",
       "      <th>Response.3</th>\n",
       "    </tr>\n",
       "  </thead>\n",
       "  <tbody>\n",
       "    <tr>\n",
       "      <th>0</th>\n",
       "      <td>0.480</td>\n",
       "      <td>0.0000</td>\n",
       "      <td>0.590</td>\n",
       "      <td>0.0038</td>\n",
       "      <td>0.720</td>\n",
       "      <td>0.0022</td>\n",
       "      <td>0.720</td>\n",
       "      <td>0.0099</td>\n",
       "    </tr>\n",
       "    <tr>\n",
       "      <th>1</th>\n",
       "      <td>0.484</td>\n",
       "      <td>0.0069</td>\n",
       "      <td>0.593</td>\n",
       "      <td>0.0032</td>\n",
       "      <td>0.724</td>\n",
       "      <td>0.0000</td>\n",
       "      <td>0.724</td>\n",
       "      <td>0.0088</td>\n",
       "    </tr>\n",
       "    <tr>\n",
       "      <th>2</th>\n",
       "      <td>0.488</td>\n",
       "      <td>0.0078</td>\n",
       "      <td>0.596</td>\n",
       "      <td>0.0000</td>\n",
       "      <td>0.728</td>\n",
       "      <td>0.0093</td>\n",
       "      <td>0.728</td>\n",
       "      <td>0.0206</td>\n",
       "    </tr>\n",
       "    <tr>\n",
       "      <th>3</th>\n",
       "      <td>0.492</td>\n",
       "      <td>0.0073</td>\n",
       "      <td>0.599</td>\n",
       "      <td>0.0019</td>\n",
       "      <td>0.732</td>\n",
       "      <td>0.0258</td>\n",
       "      <td>0.732</td>\n",
       "      <td>0.0384</td>\n",
       "    </tr>\n",
       "    <tr>\n",
       "      <th>4</th>\n",
       "      <td>0.496</td>\n",
       "      <td>0.0107</td>\n",
       "      <td>0.602</td>\n",
       "      <td>0.0031</td>\n",
       "      <td>0.736</td>\n",
       "      <td>0.0480</td>\n",
       "      <td>0.736</td>\n",
       "      <td>0.0657</td>\n",
       "    </tr>\n",
       "  </tbody>\n",
       "</table>\n",
       "</div>"
      ],
      "text/plain": [
       "    [um]  Response  [um].1  Response.1  [um].2  Response.2  [um].3  Response.3\n",
       "0  0.480    0.0000   0.590      0.0038   0.720      0.0022   0.720      0.0099\n",
       "1  0.484    0.0069   0.593      0.0032   0.724      0.0000   0.724      0.0088\n",
       "2  0.488    0.0078   0.596      0.0000   0.728      0.0093   0.728      0.0206\n",
       "3  0.492    0.0073   0.599      0.0019   0.732      0.0258   0.732      0.0384\n",
       "4  0.496    0.0107   0.602      0.0031   0.736      0.0480   0.736      0.0657"
      ]
     },
     "execution_count": 14,
     "metadata": {},
     "output_type": "execute_result"
    }
   ],
   "source": [
    "astervnir.head()"
   ]
  },
  {
   "cell_type": "code",
   "execution_count": 15,
   "metadata": {
    "collapsed": true
   },
   "outputs": [],
   "source": [
    "cols = {'[um]': 'Wavelength1',\n",
    "        'Response': 'Band1',\n",
    "        '[um].3': 'Wavelength3B',\n",
    "        'Response.3': 'Band3B'}\n",
    "for i in range(1, 3):\n",
    "    key1 = '[um].{}'.format(i)\n",
    "    key2 = 'Response.{}'.format(i)\n",
    "    value1 = 'Wavelength{}'.format(i + 1)\n",
    "    value2 = 'Band{}'.format(i + 1)\n",
    "    cols[key1] = value1\n",
    "    cols[key2] = value2\n",
    "astervnir.rename(columns=cols, inplace=True)"
   ]
  },
  {
   "cell_type": "code",
   "execution_count": 16,
   "metadata": {
    "collapsed": false
   },
   "outputs": [
    {
     "data": {
      "text/html": [
       "<div style=\"max-height:1000px;max-width:1500px;overflow:auto;\">\n",
       "<table border=\"1\" class=\"dataframe\">\n",
       "  <thead>\n",
       "    <tr style=\"text-align: right;\">\n",
       "      <th></th>\n",
       "      <th>Wavelength1</th>\n",
       "      <th>Band1</th>\n",
       "      <th>Wavelength2</th>\n",
       "      <th>Band2</th>\n",
       "      <th>Wavelength3</th>\n",
       "      <th>Band3</th>\n",
       "      <th>Wavelength3B</th>\n",
       "      <th>Band3B</th>\n",
       "    </tr>\n",
       "  </thead>\n",
       "  <tbody>\n",
       "    <tr>\n",
       "      <th>0</th>\n",
       "      <td>0.480</td>\n",
       "      <td>0.0000</td>\n",
       "      <td>0.590</td>\n",
       "      <td>0.0038</td>\n",
       "      <td>0.720</td>\n",
       "      <td>0.0022</td>\n",
       "      <td>0.720</td>\n",
       "      <td>0.0099</td>\n",
       "    </tr>\n",
       "    <tr>\n",
       "      <th>1</th>\n",
       "      <td>0.484</td>\n",
       "      <td>0.0069</td>\n",
       "      <td>0.593</td>\n",
       "      <td>0.0032</td>\n",
       "      <td>0.724</td>\n",
       "      <td>0.0000</td>\n",
       "      <td>0.724</td>\n",
       "      <td>0.0088</td>\n",
       "    </tr>\n",
       "    <tr>\n",
       "      <th>2</th>\n",
       "      <td>0.488</td>\n",
       "      <td>0.0078</td>\n",
       "      <td>0.596</td>\n",
       "      <td>0.0000</td>\n",
       "      <td>0.728</td>\n",
       "      <td>0.0093</td>\n",
       "      <td>0.728</td>\n",
       "      <td>0.0206</td>\n",
       "    </tr>\n",
       "    <tr>\n",
       "      <th>3</th>\n",
       "      <td>0.492</td>\n",
       "      <td>0.0073</td>\n",
       "      <td>0.599</td>\n",
       "      <td>0.0019</td>\n",
       "      <td>0.732</td>\n",
       "      <td>0.0258</td>\n",
       "      <td>0.732</td>\n",
       "      <td>0.0384</td>\n",
       "    </tr>\n",
       "    <tr>\n",
       "      <th>4</th>\n",
       "      <td>0.496</td>\n",
       "      <td>0.0107</td>\n",
       "      <td>0.602</td>\n",
       "      <td>0.0031</td>\n",
       "      <td>0.736</td>\n",
       "      <td>0.0480</td>\n",
       "      <td>0.736</td>\n",
       "      <td>0.0657</td>\n",
       "    </tr>\n",
       "  </tbody>\n",
       "</table>\n",
       "</div>"
      ],
      "text/plain": [
       "   Wavelength1   Band1  Wavelength2   Band2  Wavelength3   Band3  \\\n",
       "0        0.480  0.0000        0.590  0.0038        0.720  0.0022   \n",
       "1        0.484  0.0069        0.593  0.0032        0.724  0.0000   \n",
       "2        0.488  0.0078        0.596  0.0000        0.728  0.0093   \n",
       "3        0.492  0.0073        0.599  0.0019        0.732  0.0258   \n",
       "4        0.496  0.0107        0.602  0.0031        0.736  0.0480   \n",
       "\n",
       "   Wavelength3B  Band3B  \n",
       "0         0.720  0.0099  \n",
       "1         0.724  0.0088  \n",
       "2         0.728  0.0206  \n",
       "3         0.732  0.0384  \n",
       "4         0.736  0.0657  "
      ]
     },
     "execution_count": 16,
     "metadata": {},
     "output_type": "execute_result"
    }
   ],
   "source": [
    "astervnir.head()"
   ]
  },
  {
   "cell_type": "markdown",
   "metadata": {},
   "source": [
    "#### ASTER SWIR"
   ]
  },
  {
   "cell_type": "code",
   "execution_count": 17,
   "metadata": {
    "collapsed": true
   },
   "outputs": [],
   "source": [
    "asterswir = pandas.read_csv('aster/swir.txt', delim_whitespace=True, header=3)"
   ]
  },
  {
   "cell_type": "code",
   "execution_count": 18,
   "metadata": {
    "collapsed": true
   },
   "outputs": [],
   "source": [
    "cols = {'(um)': 'Wavelength4',\n",
    "        'Resp': 'Band4'}\n",
    "for i in range(1, 6):\n",
    "    key1 = '(um).{}'.format(i)\n",
    "    key2 = 'Resp.{}'.format(i)\n",
    "    value1 = 'Wavelength{}'.format(i + 4)\n",
    "    value2 = 'Band{}'.format(i + 4)\n",
    "    cols[key1] = value1\n",
    "    cols[key2] = value2\n",
    "asterswir.rename(columns=cols, inplace=True)"
   ]
  },
  {
   "cell_type": "code",
   "execution_count": 19,
   "metadata": {
    "collapsed": false
   },
   "outputs": [
    {
     "data": {
      "text/html": [
       "<div style=\"max-height:1000px;max-width:1500px;overflow:auto;\">\n",
       "<table border=\"1\" class=\"dataframe\">\n",
       "  <thead>\n",
       "    <tr style=\"text-align: right;\">\n",
       "      <th></th>\n",
       "      <th>Wavelength4</th>\n",
       "      <th>Band4</th>\n",
       "      <th>Wavelength5</th>\n",
       "      <th>Band5</th>\n",
       "      <th>Wavelength6</th>\n",
       "      <th>Band6</th>\n",
       "      <th>Wavelength7</th>\n",
       "      <th>Band7</th>\n",
       "      <th>Wavelength8</th>\n",
       "      <th>Band8</th>\n",
       "      <th>Wavelength9</th>\n",
       "      <th>Band9</th>\n",
       "    </tr>\n",
       "  </thead>\n",
       "  <tbody>\n",
       "    <tr>\n",
       "      <th>0</th>\n",
       "      <td>1.000</td>\n",
       "      <td>0</td>\n",
       "      <td>1.000</td>\n",
       "      <td>0</td>\n",
       "      <td>1.000</td>\n",
       "      <td>0</td>\n",
       "      <td>1.000</td>\n",
       "      <td>0</td>\n",
       "      <td>1.000</td>\n",
       "      <td>0</td>\n",
       "      <td>1.000</td>\n",
       "      <td>0</td>\n",
       "    </tr>\n",
       "    <tr>\n",
       "      <th>1</th>\n",
       "      <td>1.048</td>\n",
       "      <td>0</td>\n",
       "      <td>1.048</td>\n",
       "      <td>0</td>\n",
       "      <td>1.048</td>\n",
       "      <td>0</td>\n",
       "      <td>1.048</td>\n",
       "      <td>0</td>\n",
       "      <td>1.048</td>\n",
       "      <td>0</td>\n",
       "      <td>1.048</td>\n",
       "      <td>0</td>\n",
       "    </tr>\n",
       "    <tr>\n",
       "      <th>2</th>\n",
       "      <td>1.096</td>\n",
       "      <td>0</td>\n",
       "      <td>1.096</td>\n",
       "      <td>0</td>\n",
       "      <td>1.096</td>\n",
       "      <td>0</td>\n",
       "      <td>1.096</td>\n",
       "      <td>0</td>\n",
       "      <td>1.096</td>\n",
       "      <td>0</td>\n",
       "      <td>1.096</td>\n",
       "      <td>0</td>\n",
       "    </tr>\n",
       "    <tr>\n",
       "      <th>3</th>\n",
       "      <td>1.144</td>\n",
       "      <td>0</td>\n",
       "      <td>1.144</td>\n",
       "      <td>0</td>\n",
       "      <td>1.144</td>\n",
       "      <td>0</td>\n",
       "      <td>1.144</td>\n",
       "      <td>0</td>\n",
       "      <td>1.144</td>\n",
       "      <td>0</td>\n",
       "      <td>1.144</td>\n",
       "      <td>0</td>\n",
       "    </tr>\n",
       "    <tr>\n",
       "      <th>4</th>\n",
       "      <td>1.192</td>\n",
       "      <td>0</td>\n",
       "      <td>1.192</td>\n",
       "      <td>0</td>\n",
       "      <td>1.192</td>\n",
       "      <td>0</td>\n",
       "      <td>1.192</td>\n",
       "      <td>0</td>\n",
       "      <td>1.192</td>\n",
       "      <td>0</td>\n",
       "      <td>1.192</td>\n",
       "      <td>0</td>\n",
       "    </tr>\n",
       "  </tbody>\n",
       "</table>\n",
       "</div>"
      ],
      "text/plain": [
       "   Wavelength4  Band4  Wavelength5  Band5  Wavelength6  Band6  Wavelength7  \\\n",
       "0        1.000      0        1.000      0        1.000      0        1.000   \n",
       "1        1.048      0        1.048      0        1.048      0        1.048   \n",
       "2        1.096      0        1.096      0        1.096      0        1.096   \n",
       "3        1.144      0        1.144      0        1.144      0        1.144   \n",
       "4        1.192      0        1.192      0        1.192      0        1.192   \n",
       "\n",
       "   Band7  Wavelength8  Band8  Wavelength9  Band9  \n",
       "0      0        1.000      0        1.000      0  \n",
       "1      0        1.048      0        1.048      0  \n",
       "2      0        1.096      0        1.096      0  \n",
       "3      0        1.144      0        1.144      0  \n",
       "4      0        1.192      0        1.192      0  "
      ]
     },
     "execution_count": 19,
     "metadata": {},
     "output_type": "execute_result"
    }
   ],
   "source": [
    "asterswir.head()"
   ]
  },
  {
   "cell_type": "markdown",
   "metadata": {},
   "source": [
    "#### ASTER TIR"
   ]
  },
  {
   "cell_type": "code",
   "execution_count": 20,
   "metadata": {
    "collapsed": true
   },
   "outputs": [],
   "source": [
    "astertir = pandas.read_csv('aster/tir.txt', delim_whitespace=True, header=3)"
   ]
  },
  {
   "cell_type": "code",
   "execution_count": 21,
   "metadata": {
    "collapsed": true
   },
   "outputs": [],
   "source": [
    "cols = {'(um)': 'Wavelength10',\n",
    "        'Resp': 'Band10'}\n",
    "for i in range(1, 5):\n",
    "    key1 = '(um).{}'.format(i)\n",
    "    key2 = 'Resp.{}'.format(i)\n",
    "    value1 = 'Wavelength{}'.format(i + 10)\n",
    "    value2 = 'Band{}'.format(i + 10)\n",
    "    cols[key1] = value1\n",
    "    cols[key2] = value2\n",
    "astertir.rename(columns=cols, inplace=True)"
   ]
  },
  {
   "cell_type": "code",
   "execution_count": 22,
   "metadata": {
    "collapsed": false
   },
   "outputs": [
    {
     "data": {
      "text/html": [
       "<div style=\"max-height:1000px;max-width:1500px;overflow:auto;\">\n",
       "<table border=\"1\" class=\"dataframe\">\n",
       "  <thead>\n",
       "    <tr style=\"text-align: right;\">\n",
       "      <th></th>\n",
       "      <th>Wavelength10</th>\n",
       "      <th>Band10</th>\n",
       "      <th>Wavelength11</th>\n",
       "      <th>Band11</th>\n",
       "      <th>Wavelength12</th>\n",
       "      <th>Band12</th>\n",
       "      <th>Wavelength13</th>\n",
       "      <th>Band13</th>\n",
       "      <th>Wavelength14</th>\n",
       "      <th>Band14</th>\n",
       "    </tr>\n",
       "  </thead>\n",
       "  <tbody>\n",
       "    <tr>\n",
       "      <th>0</th>\n",
       "      <td>8.00</td>\n",
       "      <td>0.0000</td>\n",
       "      <td>8.00</td>\n",
       "      <td>0.0000</td>\n",
       "      <td>8.00</td>\n",
       "      <td>0.0000</td>\n",
       "      <td>8.00</td>\n",
       "      <td>0.0000</td>\n",
       "      <td>8.00</td>\n",
       "      <td>0.0000</td>\n",
       "    </tr>\n",
       "    <tr>\n",
       "      <th>1</th>\n",
       "      <td>8.01</td>\n",
       "      <td>0.0000</td>\n",
       "      <td>8.01</td>\n",
       "      <td>0.0003</td>\n",
       "      <td>8.01</td>\n",
       "      <td>0.0014</td>\n",
       "      <td>8.01</td>\n",
       "      <td>0.0003</td>\n",
       "      <td>8.01</td>\n",
       "      <td>0.0000</td>\n",
       "    </tr>\n",
       "    <tr>\n",
       "      <th>2</th>\n",
       "      <td>8.02</td>\n",
       "      <td>0.0000</td>\n",
       "      <td>8.02</td>\n",
       "      <td>0.0001</td>\n",
       "      <td>8.02</td>\n",
       "      <td>0.0009</td>\n",
       "      <td>8.02</td>\n",
       "      <td>0.0002</td>\n",
       "      <td>8.02</td>\n",
       "      <td>0.0001</td>\n",
       "    </tr>\n",
       "    <tr>\n",
       "      <th>3</th>\n",
       "      <td>8.03</td>\n",
       "      <td>0.0022</td>\n",
       "      <td>8.03</td>\n",
       "      <td>0.0000</td>\n",
       "      <td>8.03</td>\n",
       "      <td>0.0009</td>\n",
       "      <td>8.03</td>\n",
       "      <td>0.0000</td>\n",
       "      <td>8.03</td>\n",
       "      <td>0.0000</td>\n",
       "    </tr>\n",
       "    <tr>\n",
       "      <th>4</th>\n",
       "      <td>8.04</td>\n",
       "      <td>0.0123</td>\n",
       "      <td>8.04</td>\n",
       "      <td>0.0000</td>\n",
       "      <td>8.04</td>\n",
       "      <td>0.0008</td>\n",
       "      <td>8.04</td>\n",
       "      <td>0.0002</td>\n",
       "      <td>8.04</td>\n",
       "      <td>0.0000</td>\n",
       "    </tr>\n",
       "  </tbody>\n",
       "</table>\n",
       "</div>"
      ],
      "text/plain": [
       "   Wavelength10  Band10  Wavelength11  Band11  Wavelength12  Band12  \\\n",
       "0          8.00  0.0000          8.00  0.0000          8.00  0.0000   \n",
       "1          8.01  0.0000          8.01  0.0003          8.01  0.0014   \n",
       "2          8.02  0.0000          8.02  0.0001          8.02  0.0009   \n",
       "3          8.03  0.0022          8.03  0.0000          8.03  0.0009   \n",
       "4          8.04  0.0123          8.04  0.0000          8.04  0.0008   \n",
       "\n",
       "   Wavelength13  Band13  Wavelength14  Band14  \n",
       "0          8.00  0.0000          8.00  0.0000  \n",
       "1          8.01  0.0003          8.01  0.0000  \n",
       "2          8.02  0.0002          8.02  0.0001  \n",
       "3          8.03  0.0000          8.03  0.0000  \n",
       "4          8.04  0.0002          8.04  0.0000  "
      ]
     },
     "execution_count": 22,
     "metadata": {},
     "output_type": "execute_result"
    }
   ],
   "source": [
    "astertir.head()"
   ]
  },
  {
   "cell_type": "markdown",
   "metadata": {},
   "source": [
    "### Himawari 8 \n",
    "* http://www.data.jma.go.jp/mscweb/en/himawari89/space_segment/spsg_ahi.html"
   ]
  },
  {
   "cell_type": "code",
   "execution_count": 23,
   "metadata": {
    "collapsed": false
   },
   "outputs": [],
   "source": [
    "h8ahi = pandas.read_excel('h8/AHI-8_SpectralResponsivity_Data.xlsx', sheetname=['Band 1','Band 2','Band 3',\n",
    "                                                                                'Band 4','Band 5','Band 6',\n",
    "                                                                                'Band 7','Band 8','Band 9',\n",
    "                                                                                'Band 10','Band 11','Band 12',\n",
    "                                                                                'Band 13','Band 14','Band 15',\n",
    "                                                                                'Band 16'], header=2)\n",
    "for key in h8ahi:\n",
    "    h8ahi[key].drop(0, inplace=True)\n",
    "    h8ahi[key].drop('Wavenumber', axis=1, inplace=True)\n",
    "    h8ahi[key] = h8ahi[key].convert_objects(convert_numeric=True)"
   ]
  },
  {
   "cell_type": "code",
   "execution_count": 24,
   "metadata": {
    "collapsed": false
   },
   "outputs": [
    {
     "data": {
      "text/html": [
       "<div style=\"max-height:1000px;max-width:1500px;overflow:auto;\">\n",
       "<table border=\"1\" class=\"dataframe\">\n",
       "  <thead>\n",
       "    <tr style=\"text-align: right;\">\n",
       "      <th></th>\n",
       "      <th>Wavelength</th>\n",
       "      <th>Relative Responsivity</th>\n",
       "    </tr>\n",
       "  </thead>\n",
       "  <tbody>\n",
       "    <tr>\n",
       "      <th>1</th>\n",
       "      <td>2.187705</td>\n",
       "      <td>0.000617</td>\n",
       "    </tr>\n",
       "    <tr>\n",
       "      <th>2</th>\n",
       "      <td>2.188184</td>\n",
       "      <td>0.000617</td>\n",
       "    </tr>\n",
       "    <tr>\n",
       "      <th>3</th>\n",
       "      <td>2.188663</td>\n",
       "      <td>0.000535</td>\n",
       "    </tr>\n",
       "  </tbody>\n",
       "</table>\n",
       "</div>"
      ],
      "text/plain": [
       "   Wavelength  Relative Responsivity\n",
       "1    2.187705               0.000617\n",
       "2    2.188184               0.000617\n",
       "3    2.188663               0.000535"
      ]
     },
     "execution_count": 24,
     "metadata": {},
     "output_type": "execute_result"
    }
   ],
   "source": [
    "h8ahi['Band 6'].head(3)"
   ]
  },
  {
   "cell_type": "code",
   "execution_count": 25,
   "metadata": {
    "collapsed": false
   },
   "outputs": [],
   "source": [
    "for key in h8ahi:\n",
    "    b, n = key.split(' ')\n",
    "    cols = {'Wavelength': 'Wavelength{}'.format(n),\n",
    "            'Relative Responsivity': 'Band{}'.format(n)}\n",
    "    h8ahi[key].rename(columns=cols, inplace=True)"
   ]
  },
  {
   "cell_type": "code",
   "execution_count": 26,
   "metadata": {
    "collapsed": false
   },
   "outputs": [
    {
     "data": {
      "text/html": [
       "<div style=\"max-height:1000px;max-width:1500px;overflow:auto;\">\n",
       "<table border=\"1\" class=\"dataframe\">\n",
       "  <thead>\n",
       "    <tr style=\"text-align: right;\">\n",
       "      <th></th>\n",
       "      <th>Wavelength6</th>\n",
       "      <th>Band6</th>\n",
       "    </tr>\n",
       "  </thead>\n",
       "  <tbody>\n",
       "    <tr>\n",
       "      <th>1</th>\n",
       "      <td>2.187705</td>\n",
       "      <td>0.000617</td>\n",
       "    </tr>\n",
       "    <tr>\n",
       "      <th>2</th>\n",
       "      <td>2.188184</td>\n",
       "      <td>0.000617</td>\n",
       "    </tr>\n",
       "    <tr>\n",
       "      <th>3</th>\n",
       "      <td>2.188663</td>\n",
       "      <td>0.000535</td>\n",
       "    </tr>\n",
       "  </tbody>\n",
       "</table>\n",
       "</div>"
      ],
      "text/plain": [
       "   Wavelength6     Band6\n",
       "1     2.187705  0.000617\n",
       "2     2.188184  0.000617\n",
       "3     2.188663  0.000535"
      ]
     },
     "execution_count": 26,
     "metadata": {},
     "output_type": "execute_result"
    }
   ],
   "source": [
    "h8ahi['Band 6'].head(3)"
   ]
  },
  {
   "cell_type": "markdown",
   "metadata": {},
   "source": [
    "### Writing pandas dataframes to disk"
   ]
  },
  {
   "cell_type": "code",
   "execution_count": 27,
   "metadata": {
    "collapsed": false
   },
   "outputs": [],
   "source": [
    "store = pandas.HDFStore('spectral-responses.h5', 'w', complevel=4, complib='blosc')"
   ]
  },
  {
   "cell_type": "code",
   "execution_count": 28,
   "metadata": {
    "collapsed": false
   },
   "outputs": [],
   "source": [
    "# store['landsat5/tm']\n",
    "store['terra/modis'] = modis_df\n",
    "store['sentinel_2a/msi'] = s2amsi_df\n",
    "store['terra/astervnir'] = astervnir\n",
    "store['terra/asterswir'] = asterswir\n",
    "store['terra/astertir'] = astertir\n",
    "for key in h8ahi:\n",
    "    bname = key.replace(' ', '')\n",
    "    pth_name = 'himawari8/{}'.format(bname)\n",
    "    store[pth_name] = h8ahi[key]"
   ]
  },
  {
   "cell_type": "code",
   "execution_count": 29,
   "metadata": {
    "collapsed": false
   },
   "outputs": [],
   "source": [
    "node = store.get_storer('terra/modis')\n",
    "node.attrs.units = u\"\\u03BCm\"\n",
    "node.attrs.scale_factor = 1000"
   ]
  },
  {
   "cell_type": "code",
   "execution_count": 30,
   "metadata": {
    "collapsed": false
   },
   "outputs": [],
   "source": [
    "node = store.get_storer('sentinel_2a/msi')\n",
    "node.attrs.units = 'nm'\n",
    "node.attrs.scale_factor = 1"
   ]
  },
  {
   "cell_type": "code",
   "execution_count": 31,
   "metadata": {
    "collapsed": false
   },
   "outputs": [],
   "source": [
    "node = store.get_storer('terra/astervnir')\n",
    "node.attrs.units = u\"\\u03BCm\"\n",
    "node.attrs.scale_factor = 1000"
   ]
  },
  {
   "cell_type": "code",
   "execution_count": 32,
   "metadata": {
    "collapsed": false
   },
   "outputs": [],
   "source": [
    "node = store.get_storer('terra/asterswir')\n",
    "node.attrs.units = u\"\\u03BCm\"\n",
    "node.attrs.scale_factor = 1000"
   ]
  },
  {
   "cell_type": "code",
   "execution_count": 33,
   "metadata": {
    "collapsed": false
   },
   "outputs": [],
   "source": [
    "node = store.get_storer('terra/astertir')\n",
    "node.attrs.units = u\"\\u03BCm\"\n",
    "node.attrs.scale_factor = 1000"
   ]
  },
  {
   "cell_type": "code",
   "execution_count": 34,
   "metadata": {
    "collapsed": false
   },
   "outputs": [],
   "source": [
    "for i in range(1, 17):\n",
    "    pth = 'himawari8/Band{}'.format(i)\n",
    "    node = store.get_storer(pth)\n",
    "    node.attrs.units = u\"\\u03BCm\"\n",
    "    node.attrs.scale_factor = 1000"
   ]
  },
  {
   "cell_type": "code",
   "execution_count": 35,
   "metadata": {
    "collapsed": true
   },
   "outputs": [],
   "source": [
    "store.close()"
   ]
  },
  {
   "cell_type": "markdown",
   "metadata": {},
   "source": [
    "### Reading"
   ]
  },
  {
   "cell_type": "code",
   "execution_count": 36,
   "metadata": {
    "collapsed": false
   },
   "outputs": [
    {
     "data": {
      "text/plain": [
       "<class 'pandas.io.pytables.HDFStore'>\n",
       "File path: spectral-responses.h5\n",
       "/himawari8/Band1             frame        (shape->[5449,2]) \n",
       "/himawari8/Band10            frame        (shape->[1332,2]) \n",
       "/himawari8/Band11            frame        (shape->[1291,2]) \n",
       "/himawari8/Band12            frame        (shape->[991,2])  \n",
       "/himawari8/Band13            frame        (shape->[981,2])  \n",
       "/himawari8/Band14            frame        (shape->[1491,2]) \n",
       "/himawari8/Band15            frame        (shape->[1631,2]) \n",
       "/himawari8/Band16            frame        (shape->[771,2])  \n",
       "/himawari8/Band2             frame        (shape->[3279,2]) \n",
       "/himawari8/Band3             frame        (shape->[4143,2]) \n",
       "/himawari8/Band4             frame        (shape->[1489,2]) \n",
       "/himawari8/Band5             frame        (shape->[507,2])  \n",
       "/himawari8/Band6             frame        (shape->[276,2])  \n",
       "/himawari8/Band7             frame        (shape->[3557,2]) \n",
       "/himawari8/Band8             frame        (shape->[4201,2]) \n",
       "/himawari8/Band9             frame        (shape->[2001,2]) \n",
       "/sentinel_2a/msi             frame        (shape->[2301,26])\n",
       "/terra/asterswir             frame        (shape->[146,12]) \n",
       "/terra/astertir              frame        (shape->[401,10]) \n",
       "/terra/astervnir             frame        (shape->[52,8])   \n",
       "/terra/modis                 frame        (shape->[331,72]) "
      ]
     },
     "execution_count": 36,
     "metadata": {},
     "output_type": "execute_result"
    }
   ],
   "source": [
    "store = pandas.HDFStore('spectral-responses.h5', 'r')\n",
    "store"
   ]
  },
  {
   "cell_type": "code",
   "execution_count": 37,
   "metadata": {
    "collapsed": false
   },
   "outputs": [
    {
     "name": "stdout",
     "output_type": "stream",
     "text": [
      "Wavelength Units: μm\n",
      "Scale factor: 1000\n"
     ]
    }
   ],
   "source": [
    "node = store.get_storer('terra/astertir')\n",
    "print u\"Wavelength Units: {}\".format(node.attrs.units)\n",
    "print \"Scale factor: {}\".format(node.attrs.scale_factor)"
   ]
  },
  {
   "cell_type": "markdown",
   "metadata": {},
   "source": [
    "We could also define some reader that will apply scale factors to the wavelengths on the fly"
   ]
  },
  {
   "cell_type": "code",
   "execution_count": 38,
   "metadata": {
    "collapsed": true
   },
   "outputs": [],
   "source": [
    "def read_specral_resonse(store, pth):\n",
    "    df = store[pth]\n",
    "    sf = store.get_storer(pth).attrs.scale_factor\n",
    "    res = df.filter(regex='Wavelength*') * sf\n",
    "    for col in res.columns:\n",
    "        df[col] = res[col]\n",
    "    return df"
   ]
  },
  {
   "cell_type": "code",
   "execution_count": 39,
   "metadata": {
    "collapsed": false
   },
   "outputs": [
    {
     "data": {
      "text/html": [
       "<div style=\"max-height:1000px;max-width:1500px;overflow:auto;\">\n",
       "<table border=\"1\" class=\"dataframe\">\n",
       "  <thead>\n",
       "    <tr style=\"text-align: right;\">\n",
       "      <th></th>\n",
       "      <th>Wavelength1</th>\n",
       "      <th>Band1</th>\n",
       "      <th>Wavelength2</th>\n",
       "      <th>Band2</th>\n",
       "      <th>Wavelength3</th>\n",
       "      <th>Band3</th>\n",
       "      <th>Wavelength3B</th>\n",
       "      <th>Band3B</th>\n",
       "    </tr>\n",
       "  </thead>\n",
       "  <tbody>\n",
       "    <tr>\n",
       "      <th>0</th>\n",
       "      <td>0.480</td>\n",
       "      <td>0.0000</td>\n",
       "      <td>0.590</td>\n",
       "      <td>0.0038</td>\n",
       "      <td>0.720</td>\n",
       "      <td>0.0022</td>\n",
       "      <td>0.720</td>\n",
       "      <td>0.0099</td>\n",
       "    </tr>\n",
       "    <tr>\n",
       "      <th>1</th>\n",
       "      <td>0.484</td>\n",
       "      <td>0.0069</td>\n",
       "      <td>0.593</td>\n",
       "      <td>0.0032</td>\n",
       "      <td>0.724</td>\n",
       "      <td>0.0000</td>\n",
       "      <td>0.724</td>\n",
       "      <td>0.0088</td>\n",
       "    </tr>\n",
       "    <tr>\n",
       "      <th>2</th>\n",
       "      <td>0.488</td>\n",
       "      <td>0.0078</td>\n",
       "      <td>0.596</td>\n",
       "      <td>0.0000</td>\n",
       "      <td>0.728</td>\n",
       "      <td>0.0093</td>\n",
       "      <td>0.728</td>\n",
       "      <td>0.0206</td>\n",
       "    </tr>\n",
       "    <tr>\n",
       "      <th>3</th>\n",
       "      <td>0.492</td>\n",
       "      <td>0.0073</td>\n",
       "      <td>0.599</td>\n",
       "      <td>0.0019</td>\n",
       "      <td>0.732</td>\n",
       "      <td>0.0258</td>\n",
       "      <td>0.732</td>\n",
       "      <td>0.0384</td>\n",
       "    </tr>\n",
       "    <tr>\n",
       "      <th>4</th>\n",
       "      <td>0.496</td>\n",
       "      <td>0.0107</td>\n",
       "      <td>0.602</td>\n",
       "      <td>0.0031</td>\n",
       "      <td>0.736</td>\n",
       "      <td>0.0480</td>\n",
       "      <td>0.736</td>\n",
       "      <td>0.0657</td>\n",
       "    </tr>\n",
       "  </tbody>\n",
       "</table>\n",
       "</div>"
      ],
      "text/plain": [
       "   Wavelength1   Band1  Wavelength2   Band2  Wavelength3   Band3  \\\n",
       "0        0.480  0.0000        0.590  0.0038        0.720  0.0022   \n",
       "1        0.484  0.0069        0.593  0.0032        0.724  0.0000   \n",
       "2        0.488  0.0078        0.596  0.0000        0.728  0.0093   \n",
       "3        0.492  0.0073        0.599  0.0019        0.732  0.0258   \n",
       "4        0.496  0.0107        0.602  0.0031        0.736  0.0480   \n",
       "\n",
       "   Wavelength3B  Band3B  \n",
       "0         0.720  0.0099  \n",
       "1         0.724  0.0088  \n",
       "2         0.728  0.0206  \n",
       "3         0.732  0.0384  \n",
       "4         0.736  0.0657  "
      ]
     },
     "execution_count": 39,
     "metadata": {},
     "output_type": "execute_result"
    }
   ],
   "source": [
    "store['terra/astervnir'].head(5)"
   ]
  },
  {
   "cell_type": "code",
   "execution_count": 40,
   "metadata": {
    "collapsed": false
   },
   "outputs": [
    {
     "data": {
      "text/html": [
       "<div style=\"max-height:1000px;max-width:1500px;overflow:auto;\">\n",
       "<table border=\"1\" class=\"dataframe\">\n",
       "  <thead>\n",
       "    <tr style=\"text-align: right;\">\n",
       "      <th></th>\n",
       "      <th>Wavelength1</th>\n",
       "      <th>Band1</th>\n",
       "      <th>Wavelength2</th>\n",
       "      <th>Band2</th>\n",
       "      <th>Wavelength3</th>\n",
       "      <th>Band3</th>\n",
       "      <th>Wavelength3B</th>\n",
       "      <th>Band3B</th>\n",
       "    </tr>\n",
       "  </thead>\n",
       "  <tbody>\n",
       "    <tr>\n",
       "      <th>0</th>\n",
       "      <td>480</td>\n",
       "      <td>0.0000</td>\n",
       "      <td>590</td>\n",
       "      <td>0.0038</td>\n",
       "      <td>720</td>\n",
       "      <td>0.0022</td>\n",
       "      <td>720</td>\n",
       "      <td>0.0099</td>\n",
       "    </tr>\n",
       "    <tr>\n",
       "      <th>1</th>\n",
       "      <td>484</td>\n",
       "      <td>0.0069</td>\n",
       "      <td>593</td>\n",
       "      <td>0.0032</td>\n",
       "      <td>724</td>\n",
       "      <td>0.0000</td>\n",
       "      <td>724</td>\n",
       "      <td>0.0088</td>\n",
       "    </tr>\n",
       "    <tr>\n",
       "      <th>2</th>\n",
       "      <td>488</td>\n",
       "      <td>0.0078</td>\n",
       "      <td>596</td>\n",
       "      <td>0.0000</td>\n",
       "      <td>728</td>\n",
       "      <td>0.0093</td>\n",
       "      <td>728</td>\n",
       "      <td>0.0206</td>\n",
       "    </tr>\n",
       "    <tr>\n",
       "      <th>3</th>\n",
       "      <td>492</td>\n",
       "      <td>0.0073</td>\n",
       "      <td>599</td>\n",
       "      <td>0.0019</td>\n",
       "      <td>732</td>\n",
       "      <td>0.0258</td>\n",
       "      <td>732</td>\n",
       "      <td>0.0384</td>\n",
       "    </tr>\n",
       "    <tr>\n",
       "      <th>4</th>\n",
       "      <td>496</td>\n",
       "      <td>0.0107</td>\n",
       "      <td>602</td>\n",
       "      <td>0.0031</td>\n",
       "      <td>736</td>\n",
       "      <td>0.0480</td>\n",
       "      <td>736</td>\n",
       "      <td>0.0657</td>\n",
       "    </tr>\n",
       "  </tbody>\n",
       "</table>\n",
       "</div>"
      ],
      "text/plain": [
       "   Wavelength1   Band1  Wavelength2   Band2  Wavelength3   Band3  \\\n",
       "0          480  0.0000          590  0.0038          720  0.0022   \n",
       "1          484  0.0069          593  0.0032          724  0.0000   \n",
       "2          488  0.0078          596  0.0000          728  0.0093   \n",
       "3          492  0.0073          599  0.0019          732  0.0258   \n",
       "4          496  0.0107          602  0.0031          736  0.0480   \n",
       "\n",
       "   Wavelength3B  Band3B  \n",
       "0           720  0.0099  \n",
       "1           724  0.0088  \n",
       "2           728  0.0206  \n",
       "3           732  0.0384  \n",
       "4           736  0.0657  "
      ]
     },
     "execution_count": 40,
     "metadata": {},
     "output_type": "execute_result"
    }
   ],
   "source": [
    "read_specral_resonse(store, 'terra/astervnir').head(5)"
   ]
  },
  {
   "cell_type": "code",
   "execution_count": 41,
   "metadata": {
    "collapsed": true
   },
   "outputs": [],
   "source": [
    "store.close()"
   ]
  },
  {
   "cell_type": "code",
   "execution_count": null,
   "metadata": {
    "collapsed": true
   },
   "outputs": [],
   "source": []
  }
 ],
 "metadata": {
  "kernelspec": {
   "display_name": "Python 2",
   "language": "python",
   "name": "python2"
  },
  "language_info": {
   "codemirror_mode": {
    "name": "ipython",
    "version": 2
   },
   "file_extension": ".py",
   "mimetype": "text/x-python",
   "name": "python",
   "nbconvert_exporter": "python",
   "pygments_lexer": "ipython2",
   "version": "2.7.11"
  }
 },
 "nbformat": 4,
 "nbformat_minor": 0
}
