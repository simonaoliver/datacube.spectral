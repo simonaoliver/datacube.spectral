{
 "cells": [
  {
   "cell_type": "markdown",
   "metadata": {},
   "source": [
    "Determining Equivalance Relative Spectral Response"
   ]
  },
  {
   "cell_type": "code",
   "execution_count": null,
   "metadata": {
    "collapsed": true
   },
   "outputs": [],
   "source": [
    "%matplotlib inline\n",
    "from matplotlib import pyplot as pl\n",
    "import numpy as np\n",
    "#import math\n",
    "from scipy.interpolate import UnivariateSpline\n",
    "import scipy.optimize as opt\n",
    "from scipy.optimize import fsolve\n",
    "\n",
    "import mpld3\n",
    "\n",
    "mpld3.enable_notebook()"
   ]
  },
  {
   "cell_type": "code",
   "execution_count": null,
   "metadata": {
    "collapsed": false
   },
   "outputs": [],
   "source": [
    "# Created structured array with names\n",
    "s2amsi = np.genfromtxt('S2AMSI.rsr', dtype=float, delimiter=',', names=True) \n",
    "ls8oli = np.genfromtxt('LS8OLI.rsr', dtype=float, delimiter=',', names=True)\n",
    "terra_modis = np.genfromtxt('MODIS_FM1_IB_OOB_RSR_merged.csv', dtype=float, delimiter=',', names=True)\n",
    "\n",
    "# reshape and interpolate to enable comparison \n",
    "def reshape_interpolate(start, stop, samples, npdatatype, input1dwavelength,input1drsr,wlscalefactor):\n",
    "    wavelength = np.linspace(start,stop,samples, dtype=float)\n",
    "    rsr = np.nan_to_num(np.interp(wavelength,input1dwavelength*wlscalefactor, input1drsr))\n",
    "    return wavelength, rsr\n",
    "\n",
    "wl, response = reshape_interpolate(300,1500,12000,'float', terra_modis['Band_1'] , terra_modis['Band_1RSR'], 1000 )\n",
    "\n",
    "#print terra_modis.dtype.names\n",
    "\n",
    "pl.plot(wl,response)\n",
    "pl.show()\n"
   ]
  },
  {
   "cell_type": "code",
   "execution_count": null,
   "metadata": {
    "collapsed": true
   },
   "outputs": [],
   "source": [
    "# Single band example\n",
    "wavelength = s2amsi['SR_WL']\n",
    "target_band = s2amsi['Band_2']"
   ]
  },
  {
   "cell_type": "code",
   "execution_count": null,
   "metadata": {
    "collapsed": false
   },
   "outputs": [],
   "source": [
    "# FWHM calculation\n",
    "def make_norm_dist(x, mean, sd):\n",
    "    return 1.0/(sd*np.sqrt(2*np.pi))*np.exp(-(x - mean)**2/(2*sd**2))\n",
    "\n",
    "#target_band.max()\n",
    "# create a spline of wavelength and blue-np.max(blue)/2 \n",
    "spline = UnivariateSpline(wavelength, target_band-target_band.max()/2, s=0)\n",
    "\n",
    "# find the roots\n",
    "r1, r2 = spline.roots()"
   ]
  },
  {
   "cell_type": "code",
   "execution_count": null,
   "metadata": {
    "collapsed": false
   },
   "outputs": [],
   "source": [
    "# FWHM calculation\n",
    "fwhm = 2*np.sqrt(2*(math.log(2)))*target_band.std()\n",
    "\n",
    "print \"FWHM\",fwhm"
   ]
  },
  {
   "cell_type": "code",
   "execution_count": null,
   "metadata": {
    "collapsed": false
   },
   "outputs": [],
   "source": [
    "shapex = np.shape(wavelength)\n",
    "shapey = np.shape(target_band)\n",
    "\n",
    "# Power weighted mean wavelength\n",
    "mean_wavelength = np.average(wavelength, weights=target_band)\n",
    "\n",
    "# axhline, axvline don't play nicely with mpld3 - make arrays instead\n",
    "fwhm_array = np.full(shapex,fwhm, dtype=np.float)\n",
    "mean_wavelength_array = np.full(shapey, mean_wavelength, dtype=np.float)\n",
    "r1_array = np.full(shapey, r1, dtype=np.float)\n",
    "r2_array = np.full(shapey, r2, dtype=np.float)\n",
    "\n",
    "pl.plot(wavelength,target_band,linewidth=0.5)\n",
    "pl.plot(wavelength, fwhm_array,linewidth=0.5)\n",
    "pl.plot(mean_wavelength_array, target_band,linewidth=0.5)\n",
    "pl.plot(r1_array, target_band, 'r--',linewidth=0.5)\n",
    "pl.plot(r2_array, target_band, 'r--',linewidth=0.5)\n",
    "pl.xlabel('wavelength (microns)')\n",
    "pl.ylabel('reflectance')\n",
    "pl.show()"
   ]
  },
  {
   "cell_type": "code",
   "execution_count": null,
   "metadata": {
    "collapsed": false
   },
   "outputs": [],
   "source": [
    "#TODO - Dodgy Eart Mover Distance example\n",
    "\n",
    "# From - https://github.com/andreasjansson/python-emd\n",
    "import emd\n",
    "#looks like need to make these gaussian distributions otherwise - blurgh\n",
    "emd.emd(range(500), range(500), signal.resample(ls8oli['blue'],500), signal.resample(ls8oli['blue'],500))"
   ]
  },
  {
   "cell_type": "code",
   "execution_count": null,
   "metadata": {
    "collapsed": false
   },
   "outputs": [],
   "source": [
    "def plotcomparison(x,y,colour):\n",
    "    spline = UnivariateSpline(x, y-y.max()/2, s=0)\n",
    "    # find the roots\n",
    "    r1, r2 = spline.roots()\n",
    "    fwhm = 2*np.sqrt(2*(math.log(2)))*y.std()\n",
    "    shapex = np.shape(x)\n",
    "    shapey = np.shape(y)\n",
    "\n",
    "    # Power weighted mean wavelength\n",
    "    mean_wavelength = np.average(x, weights=y)\n",
    "    fwhm_array = np.full(shapex,fwhm, dtype=np.float)\n",
    "    mean_wavelength_array = np.full(shapey, mean_wavelength, dtype=np.float)\n",
    "    r1_array = np.full(shapey, r1, dtype=np.float)\n",
    "    r2_array = np.full(shapey, r2, dtype=np.float)\n",
    "\n",
    "    pl.plot(x,y, linewidth=1)\n",
    "    pl.plot(x, fwhm_array, linewidth=1)\n",
    "    pl.plot(mean_wavelength_array, y, colour, linewidth=1)\n",
    "    pl.plot(r1_array, y, 'r--', linewidth=1)\n",
    "    pl.plot(r2_array, y, 'r--', linewidth=1)\n",
    "\n",
    "    pl.xlabel('wavelength (microns)')\n",
    "    pl.ylabel('reflectance')"
   ]
  },
  {
   "cell_type": "code",
   "execution_count": null,
   "metadata": {
    "collapsed": false
   },
   "outputs": [],
   "source": [
    "sensor1 = s2amsi\n",
    "sensor2 = ls8oli\n",
    "for i in sensor1.dtype.names:\n",
    "    for j in sensor2.dtype.names:\n",
    "        if (i == 'SR_WL') or (j == 'SR_WL'):\n",
    "            print\n",
    "        else:\n",
    "            \n",
    "            plotcomparison(wavelength,sensor1[i],'g')\n",
    "            plotcomparison(wavelength,sensor2[j],'b')\n",
    "            pl.show()\n",
    "            print \"correlate:\", np.correlate(sensor1[i],sensor2[j]), \"trapz:\", i, np.trapz(sensor1[i], wavelength), j, np.trapz(sensor2[j], wavelength) \n"
   ]
  }
 ],
 "metadata": {
  "kernelspec": {
   "display_name": "Python 2",
   "language": "python",
   "name": "python2"
  },
  "language_info": {
   "codemirror_mode": {
    "name": "ipython",
    "version": 2
   },
   "file_extension": ".py",
   "mimetype": "text/x-python",
   "name": "python",
   "nbconvert_exporter": "python",
   "pygments_lexer": "ipython2",
   "version": "2.7.9"
  }
 },
 "nbformat": 4,
 "nbformat_minor": 0
}
