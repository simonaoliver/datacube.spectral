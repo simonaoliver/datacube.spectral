{
 "cells": [
  {
   "cell_type": "code",
   "execution_count": 105,
   "metadata": {
    "collapsed": true
   },
   "outputs": [],
   "source": [
    "import pandas\n",
    "import numpy\n",
    "from scipy.interpolate import UnivariateSpline"
   ]
  },
  {
   "cell_type": "markdown",
   "metadata": {},
   "source": [
    "Read the data"
   ]
  },
  {
   "cell_type": "code",
   "execution_count": 106,
   "metadata": {
    "collapsed": true
   },
   "outputs": [],
   "source": [
    "ls8_df = pandas.read_csv('LS8OLI.rsr', header=0)\n",
    "s2a = pandas.read_csv('S2AMSI.rsr', header=0)"
   ]
  },
  {
   "cell_type": "markdown",
   "metadata": {},
   "source": [
    "What column names do we have"
   ]
  },
  {
   "cell_type": "code",
   "execution_count": 107,
   "metadata": {
    "collapsed": false
   },
   "outputs": [
    {
     "data": {
      "text/plain": [
       "Index([u'SR_WL', u'coastal', u'blue', u'green', u'red', u'nir', u'cirrus',\n",
       "       u'swir1', u'swir2', u'pan'],\n",
       "      dtype='object')"
      ]
     },
     "execution_count": 107,
     "metadata": {},
     "output_type": "execute_result"
    }
   ],
   "source": [
    "ls8_df.columns"
   ]
  },
  {
   "cell_type": "code",
   "execution_count": 109,
   "metadata": {
    "collapsed": false
   },
   "outputs": [
    {
     "data": {
      "text/plain": [
       "Index([u'SR_WL', u'Band 1', u'Band 2', u'Band 3', u'Band 4', u'Band 5',\n",
       "       u'Band 6', u'Band 7', u'Band 8', u'Band 8A', u'Band 9', u'Band 10',\n",
       "       u'Band 11', u'Band 12'],\n",
       "      dtype='object')"
      ]
     },
     "execution_count": 109,
     "metadata": {},
     "output_type": "execute_result"
    }
   ],
   "source": [
    "s2a.columns"
   ]
  },
  {
   "cell_type": "markdown",
   "metadata": {},
   "source": [
    "# # Coastal band"
   ]
  },
  {
   "cell_type": "markdown",
   "metadata": {},
   "source": [
    "Calculate upper, lower and centre wavelengths"
   ]
  },
  {
   "cell_type": "code",
   "execution_count": 110,
   "metadata": {
    "collapsed": false
   },
   "outputs": [
    {
     "name": "stdout",
     "output_type": "stream",
     "text": [
      "Target lower: 434.935475992\n",
      "Target upper: 450.900006753\n",
      "Targe centre: 442.982211078\n"
     ]
    }
   ],
   "source": [
    "spline = UnivariateSpline(ls8_df['SR_WL'], ls8_df['coastal'] - ls8_df['coastal'].max()/2, s=0)\n",
    "target_lower, target_upper = spline.roots()\n",
    "target_lower, target_upper = spline.roots()\n",
    "print \"Target lower: {}\".format(target_lower)\n",
    "print \"Target upper: {}\".format(target_upper)\n",
    "print \"Targe centre: {}\".format(target_mean_wavelength)"
   ]
  },
  {
   "cell_type": "code",
   "execution_count": 111,
   "metadata": {
    "collapsed": false
   },
   "outputs": [],
   "source": [
    "lower = []\n",
    "upper = []\n",
    "centre = []\n",
    "idx = []\n",
    "for col in s2a.columns:\n",
    "    if col == 'SR_WL':\n",
    "        continue\n",
    "    spline = UnivariateSpline(s2a['SR_WL'], s2a[col] - s2a[col].max() / 2, s=0)\n",
    "    xbar = numpy.average(s2a['SR_WL'], weights=s2a[col])\n",
    "    roots = spline.roots()\n",
    "    lower.append(roots[0])\n",
    "    upper.append(roots[1])\n",
    "    centre.append(xbar)\n",
    "    idx.append(col)"
   ]
  },
  {
   "cell_type": "code",
   "execution_count": 112,
   "metadata": {
    "collapsed": true
   },
   "outputs": [],
   "source": [
    "df = pandas.DataFrame({'lower': lower, 'upper': upper, 'centre':centre}, index=idx)"
   ]
  },
  {
   "cell_type": "markdown",
   "metadata": {},
   "source": [
    "Using the upper and lower wavelengths, calculate overlaps"
   ]
  },
  {
   "cell_type": "code",
   "execution_count": 113,
   "metadata": {
    "collapsed": false
   },
   "outputs": [],
   "source": [
    "df['result'] = (target_lower - df['lower']).abs() + (target_upper - df['upper']).abs()"
   ]
  },
  {
   "cell_type": "code",
   "execution_count": 114,
   "metadata": {
    "collapsed": false
   },
   "outputs": [
    {
     "data": {
      "text/html": [
       "<div>\n",
       "<table border=\"1\" class=\"dataframe\">\n",
       "  <thead>\n",
       "    <tr style=\"text-align: right;\">\n",
       "      <th></th>\n",
       "      <th>centre</th>\n",
       "      <th>lower</th>\n",
       "      <th>upper</th>\n",
       "      <th>result</th>\n",
       "    </tr>\n",
       "  </thead>\n",
       "  <tbody>\n",
       "    <tr>\n",
       "      <th>Band 1</th>\n",
       "      <td>443.929445</td>\n",
       "      <td>434.721273</td>\n",
       "      <td>452.668945</td>\n",
       "      <td>1.983141</td>\n",
       "    </tr>\n",
       "    <tr>\n",
       "      <th>Band 2</th>\n",
       "      <td>496.541070</td>\n",
       "      <td>469.750194</td>\n",
       "      <td>523.910362</td>\n",
       "      <td>107.825073</td>\n",
       "    </tr>\n",
       "    <tr>\n",
       "      <th>Band 3</th>\n",
       "      <td>560.006375</td>\n",
       "      <td>542.681353</td>\n",
       "      <td>577.526008</td>\n",
       "      <td>234.371878</td>\n",
       "    </tr>\n",
       "    <tr>\n",
       "      <th>Band 4</th>\n",
       "      <td>664.449162</td>\n",
       "      <td>649.091803</td>\n",
       "      <td>679.732731</td>\n",
       "      <td>442.989051</td>\n",
       "    </tr>\n",
       "    <tr>\n",
       "      <th>Band 5</th>\n",
       "      <td>703.886979</td>\n",
       "      <td>697.056647</td>\n",
       "      <td>711.066815</td>\n",
       "      <td>522.287979</td>\n",
       "    </tr>\n",
       "    <tr>\n",
       "      <th>Band 6</th>\n",
       "      <td>740.223453</td>\n",
       "      <td>733.372889</td>\n",
       "      <td>747.016050</td>\n",
       "      <td>594.553457</td>\n",
       "    </tr>\n",
       "    <tr>\n",
       "      <th>Band 7</th>\n",
       "      <td>782.473512</td>\n",
       "      <td>773.286005</td>\n",
       "      <td>792.222771</td>\n",
       "      <td>679.673293</td>\n",
       "    </tr>\n",
       "    <tr>\n",
       "      <th>Band 8</th>\n",
       "      <td>835.110187</td>\n",
       "      <td>782.359328</td>\n",
       "      <td>891.536672</td>\n",
       "      <td>788.060517</td>\n",
       "    </tr>\n",
       "    <tr>\n",
       "      <th>Band 8A</th>\n",
       "      <td>864.801258</td>\n",
       "      <td>854.583171</td>\n",
       "      <td>874.894181</td>\n",
       "      <td>843.641869</td>\n",
       "    </tr>\n",
       "    <tr>\n",
       "      <th>Band 9</th>\n",
       "      <td>945.027529</td>\n",
       "      <td>935.337343</td>\n",
       "      <td>954.817768</td>\n",
       "      <td>1004.319628</td>\n",
       "    </tr>\n",
       "    <tr>\n",
       "      <th>Band 10</th>\n",
       "      <td>1373.461883</td>\n",
       "      <td>1358.960898</td>\n",
       "      <td>1388.049700</td>\n",
       "      <td>1861.175115</td>\n",
       "    </tr>\n",
       "    <tr>\n",
       "      <th>Band 11</th>\n",
       "      <td>1613.659407</td>\n",
       "      <td>1568.657503</td>\n",
       "      <td>1658.315780</td>\n",
       "      <td>2341.137800</td>\n",
       "    </tr>\n",
       "    <tr>\n",
       "      <th>Band 12</th>\n",
       "      <td>2202.366687</td>\n",
       "      <td>2112.873458</td>\n",
       "      <td>2286.454271</td>\n",
       "      <td>3513.492246</td>\n",
       "    </tr>\n",
       "  </tbody>\n",
       "</table>\n",
       "</div>"
      ],
      "text/plain": [
       "              centre        lower        upper       result\n",
       "Band 1    443.929445   434.721273   452.668945     1.983141\n",
       "Band 2    496.541070   469.750194   523.910362   107.825073\n",
       "Band 3    560.006375   542.681353   577.526008   234.371878\n",
       "Band 4    664.449162   649.091803   679.732731   442.989051\n",
       "Band 5    703.886979   697.056647   711.066815   522.287979\n",
       "Band 6    740.223453   733.372889   747.016050   594.553457\n",
       "Band 7    782.473512   773.286005   792.222771   679.673293\n",
       "Band 8    835.110187   782.359328   891.536672   788.060517\n",
       "Band 8A   864.801258   854.583171   874.894181   843.641869\n",
       "Band 9    945.027529   935.337343   954.817768  1004.319628\n",
       "Band 10  1373.461883  1358.960898  1388.049700  1861.175115\n",
       "Band 11  1613.659407  1568.657503  1658.315780  2341.137800\n",
       "Band 12  2202.366687  2112.873458  2286.454271  3513.492246"
      ]
     },
     "execution_count": 114,
     "metadata": {},
     "output_type": "execute_result"
    }
   ],
   "source": [
    "df"
   ]
  },
  {
   "cell_type": "code",
   "execution_count": 115,
   "metadata": {
    "collapsed": false
   },
   "outputs": [
    {
     "data": {
      "text/plain": [
       "'Band 1'"
      ]
     },
     "execution_count": 115,
     "metadata": {},
     "output_type": "execute_result"
    }
   ],
   "source": [
    "df['result'].argmin()"
   ]
  },
  {
   "cell_type": "code",
   "execution_count": 123,
   "metadata": {
    "collapsed": false
   },
   "outputs": [
    {
     "name": "stdout",
     "output_type": "stream",
     "text": [
      "Target lower: 1363.32892973\n",
      "Target upper: 1383.72516973\n",
      "Targe centre: 442.982211078\n",
      "\n",
      "Closest matching result:\n"
     ]
    },
    {
     "data": {
      "text/plain": [
       "centre      443.929445\n",
       "lower       434.721273\n",
       "upper       452.668945\n",
       "result        1.983141\n",
       "result2    1859.663882\n",
       "Name: Band 1, dtype: float64"
      ]
     },
     "execution_count": 123,
     "metadata": {},
     "output_type": "execute_result"
    }
   ],
   "source": [
    "print \"Target lower: {}\".format(target_lower)\n",
    "print \"Target upper: {}\".format(target_upper)\n",
    "print \"Targe centre: {}\".format(target_mean_wavelength)\n",
    "print \"\\nClosest matching result:\"\n",
    "df.loc[df['result'].argmin()]"
   ]
  },
  {
   "cell_type": "markdown",
   "metadata": {},
   "source": [
    "## Cirrus band"
   ]
  },
  {
   "cell_type": "code",
   "execution_count": 117,
   "metadata": {
    "collapsed": false
   },
   "outputs": [
    {
     "name": "stdout",
     "output_type": "stream",
     "text": [
      "Target lower: 1363.32892973\n",
      "Target upper: 1383.72516973\n",
      "Targe centre: 442.982211078\n"
     ]
    }
   ],
   "source": [
    "spline = UnivariateSpline(ls8_df['SR_WL'], ls8_df['cirrus'] - ls8_df['cirrus'].max()/2, s=0)\n",
    "target_lower, target_upper = spline.roots()\n",
    "target_mean_wavelength = numpy.average(ls8_df['SR_WL'], weights=ls8_df['coastal'])\n",
    "print \"Target lower: {}\".format(target_lower)\n",
    "print \"Target upper: {}\".format(target_upper)\n",
    "print \"Targe centre: {}\".format(target_mean_wavelength)"
   ]
  },
  {
   "cell_type": "code",
   "execution_count": 118,
   "metadata": {
    "collapsed": true
   },
   "outputs": [],
   "source": [
    "df['result2'] = (target_lower - df['lower']).abs() + (target_upper - df['upper']).abs()"
   ]
  },
  {
   "cell_type": "code",
   "execution_count": 119,
   "metadata": {
    "collapsed": false
   },
   "outputs": [
    {
     "data": {
      "text/html": [
       "<div>\n",
       "<table border=\"1\" class=\"dataframe\">\n",
       "  <thead>\n",
       "    <tr style=\"text-align: right;\">\n",
       "      <th></th>\n",
       "      <th>centre</th>\n",
       "      <th>lower</th>\n",
       "      <th>upper</th>\n",
       "      <th>result</th>\n",
       "      <th>result2</th>\n",
       "    </tr>\n",
       "  </thead>\n",
       "  <tbody>\n",
       "    <tr>\n",
       "      <th>Band 1</th>\n",
       "      <td>443.929445</td>\n",
       "      <td>434.721273</td>\n",
       "      <td>452.668945</td>\n",
       "      <td>1.983141</td>\n",
       "      <td>1859.663882</td>\n",
       "    </tr>\n",
       "    <tr>\n",
       "      <th>Band 2</th>\n",
       "      <td>496.541070</td>\n",
       "      <td>469.750194</td>\n",
       "      <td>523.910362</td>\n",
       "      <td>107.825073</td>\n",
       "      <td>1753.393544</td>\n",
       "    </tr>\n",
       "    <tr>\n",
       "      <th>Band 3</th>\n",
       "      <td>560.006375</td>\n",
       "      <td>542.681353</td>\n",
       "      <td>577.526008</td>\n",
       "      <td>234.371878</td>\n",
       "      <td>1626.846738</td>\n",
       "    </tr>\n",
       "    <tr>\n",
       "      <th>Band 4</th>\n",
       "      <td>664.449162</td>\n",
       "      <td>649.091803</td>\n",
       "      <td>679.732731</td>\n",
       "      <td>442.989051</td>\n",
       "      <td>1418.229565</td>\n",
       "    </tr>\n",
       "    <tr>\n",
       "      <th>Band 5</th>\n",
       "      <td>703.886979</td>\n",
       "      <td>697.056647</td>\n",
       "      <td>711.066815</td>\n",
       "      <td>522.287979</td>\n",
       "      <td>1338.930638</td>\n",
       "    </tr>\n",
       "    <tr>\n",
       "      <th>Band 6</th>\n",
       "      <td>740.223453</td>\n",
       "      <td>733.372889</td>\n",
       "      <td>747.016050</td>\n",
       "      <td>594.553457</td>\n",
       "      <td>1266.665160</td>\n",
       "    </tr>\n",
       "    <tr>\n",
       "      <th>Band 7</th>\n",
       "      <td>782.473512</td>\n",
       "      <td>773.286005</td>\n",
       "      <td>792.222771</td>\n",
       "      <td>679.673293</td>\n",
       "      <td>1181.545323</td>\n",
       "    </tr>\n",
       "    <tr>\n",
       "      <th>Band 8</th>\n",
       "      <td>835.110187</td>\n",
       "      <td>782.359328</td>\n",
       "      <td>891.536672</td>\n",
       "      <td>788.060517</td>\n",
       "      <td>1073.158100</td>\n",
       "    </tr>\n",
       "    <tr>\n",
       "      <th>Band 8A</th>\n",
       "      <td>864.801258</td>\n",
       "      <td>854.583171</td>\n",
       "      <td>874.894181</td>\n",
       "      <td>843.641869</td>\n",
       "      <td>1017.576748</td>\n",
       "    </tr>\n",
       "    <tr>\n",
       "      <th>Band 9</th>\n",
       "      <td>945.027529</td>\n",
       "      <td>935.337343</td>\n",
       "      <td>954.817768</td>\n",
       "      <td>1004.319628</td>\n",
       "      <td>856.898988</td>\n",
       "    </tr>\n",
       "    <tr>\n",
       "      <th>Band 10</th>\n",
       "      <td>1373.461883</td>\n",
       "      <td>1358.960898</td>\n",
       "      <td>1388.049700</td>\n",
       "      <td>1861.175115</td>\n",
       "      <td>8.692562</td>\n",
       "    </tr>\n",
       "    <tr>\n",
       "      <th>Band 11</th>\n",
       "      <td>1613.659407</td>\n",
       "      <td>1568.657503</td>\n",
       "      <td>1658.315780</td>\n",
       "      <td>2341.137800</td>\n",
       "      <td>479.919184</td>\n",
       "    </tr>\n",
       "    <tr>\n",
       "      <th>Band 12</th>\n",
       "      <td>2202.366687</td>\n",
       "      <td>2112.873458</td>\n",
       "      <td>2286.454271</td>\n",
       "      <td>3513.492246</td>\n",
       "      <td>1652.273630</td>\n",
       "    </tr>\n",
       "  </tbody>\n",
       "</table>\n",
       "</div>"
      ],
      "text/plain": [
       "              centre        lower        upper       result      result2\n",
       "Band 1    443.929445   434.721273   452.668945     1.983141  1859.663882\n",
       "Band 2    496.541070   469.750194   523.910362   107.825073  1753.393544\n",
       "Band 3    560.006375   542.681353   577.526008   234.371878  1626.846738\n",
       "Band 4    664.449162   649.091803   679.732731   442.989051  1418.229565\n",
       "Band 5    703.886979   697.056647   711.066815   522.287979  1338.930638\n",
       "Band 6    740.223453   733.372889   747.016050   594.553457  1266.665160\n",
       "Band 7    782.473512   773.286005   792.222771   679.673293  1181.545323\n",
       "Band 8    835.110187   782.359328   891.536672   788.060517  1073.158100\n",
       "Band 8A   864.801258   854.583171   874.894181   843.641869  1017.576748\n",
       "Band 9    945.027529   935.337343   954.817768  1004.319628   856.898988\n",
       "Band 10  1373.461883  1358.960898  1388.049700  1861.175115     8.692562\n",
       "Band 11  1613.659407  1568.657503  1658.315780  2341.137800   479.919184\n",
       "Band 12  2202.366687  2112.873458  2286.454271  3513.492246  1652.273630"
      ]
     },
     "execution_count": 119,
     "metadata": {},
     "output_type": "execute_result"
    }
   ],
   "source": [
    "df"
   ]
  },
  {
   "cell_type": "code",
   "execution_count": 120,
   "metadata": {
    "collapsed": false
   },
   "outputs": [
    {
     "data": {
      "text/plain": [
       "'Band 10'"
      ]
     },
     "execution_count": 120,
     "metadata": {},
     "output_type": "execute_result"
    }
   ],
   "source": [
    "df['result2'].argmin()"
   ]
  },
  {
   "cell_type": "code",
   "execution_count": 124,
   "metadata": {
    "collapsed": false
   },
   "outputs": [
    {
     "name": "stdout",
     "output_type": "stream",
     "text": [
      "Target lower: 1363.32892973\n",
      "Target upper: 1383.72516973\n",
      "Targe centre: 442.982211078\n",
      "\n",
      "Closest matching result:\n"
     ]
    },
    {
     "data": {
      "text/plain": [
       "centre     1373.461883\n",
       "lower      1358.960898\n",
       "upper      1388.049700\n",
       "result     1861.175115\n",
       "result2       8.692562\n",
       "Name: Band 10, dtype: float64"
      ]
     },
     "execution_count": 124,
     "metadata": {},
     "output_type": "execute_result"
    }
   ],
   "source": [
    "print \"Target lower: {}\".format(target_lower)\n",
    "print \"Target upper: {}\".format(target_upper)\n",
    "print \"Targe centre: {}\".format(target_mean_wavelength)\n",
    "print \"\\nClosest matching result:\"\n",
    "df.loc[df['result2'].argmin()]"
   ]
  },
  {
   "cell_type": "markdown",
   "metadata": {},
   "source": [
    "## NIR band"
   ]
  },
  {
   "cell_type": "code",
   "execution_count": 125,
   "metadata": {
    "collapsed": false
   },
   "outputs": [
    {
     "name": "stdout",
     "output_type": "stream",
     "text": [
      "Target lower: 850.537132246\n",
      "Target upper: 878.722304117\n",
      "Targe centre: 442.982211078\n"
     ]
    }
   ],
   "source": [
    "spline = UnivariateSpline(ls8_df['SR_WL'], ls8_df['nir'] - ls8_df['nir'].max()/2, s=0)\n",
    "target_lower, target_upper = spline.roots()\n",
    "target_mean_wavelength = numpy.average(ls8_df['SR_WL'], weights=ls8_df['coastal'])\n",
    "print \"Target lower: {}\".format(target_lower)\n",
    "print \"Target upper: {}\".format(target_upper)\n",
    "print \"Targe centre: {}\".format(target_mean_wavelength)"
   ]
  },
  {
   "cell_type": "code",
   "execution_count": 126,
   "metadata": {
    "collapsed": true
   },
   "outputs": [],
   "source": [
    "df['result3'] = (target_lower - df['lower']).abs() + (target_upper - df['upper']).abs()"
   ]
  },
  {
   "cell_type": "code",
   "execution_count": 127,
   "metadata": {
    "collapsed": false
   },
   "outputs": [
    {
     "data": {
      "text/html": [
       "<div>\n",
       "<table border=\"1\" class=\"dataframe\">\n",
       "  <thead>\n",
       "    <tr style=\"text-align: right;\">\n",
       "      <th></th>\n",
       "      <th>centre</th>\n",
       "      <th>lower</th>\n",
       "      <th>upper</th>\n",
       "      <th>result</th>\n",
       "      <th>result2</th>\n",
       "      <th>result3</th>\n",
       "    </tr>\n",
       "  </thead>\n",
       "  <tbody>\n",
       "    <tr>\n",
       "      <th>Band 1</th>\n",
       "      <td>443.929445</td>\n",
       "      <td>434.721273</td>\n",
       "      <td>452.668945</td>\n",
       "      <td>1.983141</td>\n",
       "      <td>1859.663882</td>\n",
       "      <td>841.869219</td>\n",
       "    </tr>\n",
       "    <tr>\n",
       "      <th>Band 2</th>\n",
       "      <td>496.541070</td>\n",
       "      <td>469.750194</td>\n",
       "      <td>523.910362</td>\n",
       "      <td>107.825073</td>\n",
       "      <td>1753.393544</td>\n",
       "      <td>735.598881</td>\n",
       "    </tr>\n",
       "    <tr>\n",
       "      <th>Band 3</th>\n",
       "      <td>560.006375</td>\n",
       "      <td>542.681353</td>\n",
       "      <td>577.526008</td>\n",
       "      <td>234.371878</td>\n",
       "      <td>1626.846738</td>\n",
       "      <td>609.052075</td>\n",
       "    </tr>\n",
       "    <tr>\n",
       "      <th>Band 4</th>\n",
       "      <td>664.449162</td>\n",
       "      <td>649.091803</td>\n",
       "      <td>679.732731</td>\n",
       "      <td>442.989051</td>\n",
       "      <td>1418.229565</td>\n",
       "      <td>400.434902</td>\n",
       "    </tr>\n",
       "    <tr>\n",
       "      <th>Band 5</th>\n",
       "      <td>703.886979</td>\n",
       "      <td>697.056647</td>\n",
       "      <td>711.066815</td>\n",
       "      <td>522.287979</td>\n",
       "      <td>1338.930638</td>\n",
       "      <td>321.135975</td>\n",
       "    </tr>\n",
       "    <tr>\n",
       "      <th>Band 6</th>\n",
       "      <td>740.223453</td>\n",
       "      <td>733.372889</td>\n",
       "      <td>747.016050</td>\n",
       "      <td>594.553457</td>\n",
       "      <td>1266.665160</td>\n",
       "      <td>248.870497</td>\n",
       "    </tr>\n",
       "    <tr>\n",
       "      <th>Band 7</th>\n",
       "      <td>782.473512</td>\n",
       "      <td>773.286005</td>\n",
       "      <td>792.222771</td>\n",
       "      <td>679.673293</td>\n",
       "      <td>1181.545323</td>\n",
       "      <td>163.750660</td>\n",
       "    </tr>\n",
       "    <tr>\n",
       "      <th>Band 8</th>\n",
       "      <td>835.110187</td>\n",
       "      <td>782.359328</td>\n",
       "      <td>891.536672</td>\n",
       "      <td>788.060517</td>\n",
       "      <td>1073.158100</td>\n",
       "      <td>80.992173</td>\n",
       "    </tr>\n",
       "    <tr>\n",
       "      <th>Band 8A</th>\n",
       "      <td>864.801258</td>\n",
       "      <td>854.583171</td>\n",
       "      <td>874.894181</td>\n",
       "      <td>843.641869</td>\n",
       "      <td>1017.576748</td>\n",
       "      <td>7.874161</td>\n",
       "    </tr>\n",
       "    <tr>\n",
       "      <th>Band 9</th>\n",
       "      <td>945.027529</td>\n",
       "      <td>935.337343</td>\n",
       "      <td>954.817768</td>\n",
       "      <td>1004.319628</td>\n",
       "      <td>856.898988</td>\n",
       "      <td>160.895675</td>\n",
       "    </tr>\n",
       "    <tr>\n",
       "      <th>Band 10</th>\n",
       "      <td>1373.461883</td>\n",
       "      <td>1358.960898</td>\n",
       "      <td>1388.049700</td>\n",
       "      <td>1861.175115</td>\n",
       "      <td>8.692562</td>\n",
       "      <td>1017.751162</td>\n",
       "    </tr>\n",
       "    <tr>\n",
       "      <th>Band 11</th>\n",
       "      <td>1613.659407</td>\n",
       "      <td>1568.657503</td>\n",
       "      <td>1658.315780</td>\n",
       "      <td>2341.137800</td>\n",
       "      <td>479.919184</td>\n",
       "      <td>1497.713847</td>\n",
       "    </tr>\n",
       "    <tr>\n",
       "      <th>Band 12</th>\n",
       "      <td>2202.366687</td>\n",
       "      <td>2112.873458</td>\n",
       "      <td>2286.454271</td>\n",
       "      <td>3513.492246</td>\n",
       "      <td>1652.273630</td>\n",
       "      <td>2670.068293</td>\n",
       "    </tr>\n",
       "  </tbody>\n",
       "</table>\n",
       "</div>"
      ],
      "text/plain": [
       "              centre        lower        upper       result      result2  \\\n",
       "Band 1    443.929445   434.721273   452.668945     1.983141  1859.663882   \n",
       "Band 2    496.541070   469.750194   523.910362   107.825073  1753.393544   \n",
       "Band 3    560.006375   542.681353   577.526008   234.371878  1626.846738   \n",
       "Band 4    664.449162   649.091803   679.732731   442.989051  1418.229565   \n",
       "Band 5    703.886979   697.056647   711.066815   522.287979  1338.930638   \n",
       "Band 6    740.223453   733.372889   747.016050   594.553457  1266.665160   \n",
       "Band 7    782.473512   773.286005   792.222771   679.673293  1181.545323   \n",
       "Band 8    835.110187   782.359328   891.536672   788.060517  1073.158100   \n",
       "Band 8A   864.801258   854.583171   874.894181   843.641869  1017.576748   \n",
       "Band 9    945.027529   935.337343   954.817768  1004.319628   856.898988   \n",
       "Band 10  1373.461883  1358.960898  1388.049700  1861.175115     8.692562   \n",
       "Band 11  1613.659407  1568.657503  1658.315780  2341.137800   479.919184   \n",
       "Band 12  2202.366687  2112.873458  2286.454271  3513.492246  1652.273630   \n",
       "\n",
       "             result3  \n",
       "Band 1    841.869219  \n",
       "Band 2    735.598881  \n",
       "Band 3    609.052075  \n",
       "Band 4    400.434902  \n",
       "Band 5    321.135975  \n",
       "Band 6    248.870497  \n",
       "Band 7    163.750660  \n",
       "Band 8     80.992173  \n",
       "Band 8A     7.874161  \n",
       "Band 9    160.895675  \n",
       "Band 10  1017.751162  \n",
       "Band 11  1497.713847  \n",
       "Band 12  2670.068293  "
      ]
     },
     "execution_count": 127,
     "metadata": {},
     "output_type": "execute_result"
    }
   ],
   "source": [
    "df"
   ]
  },
  {
   "cell_type": "code",
   "execution_count": 129,
   "metadata": {
    "collapsed": false
   },
   "outputs": [
    {
     "data": {
      "text/plain": [
       "'Band 8A'"
      ]
     },
     "execution_count": 129,
     "metadata": {},
     "output_type": "execute_result"
    }
   ],
   "source": [
    "df['result3'].argmin()"
   ]
  },
  {
   "cell_type": "code",
   "execution_count": 131,
   "metadata": {
    "collapsed": false
   },
   "outputs": [
    {
     "name": "stdout",
     "output_type": "stream",
     "text": [
      "Target lower: 850.537132246\n",
      "Target upper: 878.722304117\n",
      "Targe centre: 442.982211078\n",
      "\n",
      "Closest matching result:\n"
     ]
    },
    {
     "data": {
      "text/plain": [
       "centre      864.801258\n",
       "lower       854.583171\n",
       "upper       874.894181\n",
       "result      843.641869\n",
       "result2    1017.576748\n",
       "result3       7.874161\n",
       "Name: Band 8A, dtype: float64"
      ]
     },
     "execution_count": 131,
     "metadata": {},
     "output_type": "execute_result"
    }
   ],
   "source": [
    "print \"Target lower: {}\".format(target_lower)\n",
    "print \"Target upper: {}\".format(target_upper)\n",
    "print \"Targe centre: {}\".format(target_mean_wavelength)\n",
    "print \"\\nClosest matching result:\"\n",
    "df.loc[df['result3'].argmin()]"
   ]
  },
  {
   "cell_type": "code",
   "execution_count": null,
   "metadata": {
    "collapsed": true
   },
   "outputs": [],
   "source": []
  }
 ],
 "metadata": {
  "kernelspec": {
   "display_name": "Python 2",
   "language": "python",
   "name": "python2"
  },
  "language_info": {
   "codemirror_mode": {
    "name": "ipython",
    "version": 2
   },
   "file_extension": ".py",
   "mimetype": "text/x-python",
   "name": "python",
   "nbconvert_exporter": "python",
   "pygments_lexer": "ipython2",
   "version": "2.7.11"
  }
 },
 "nbformat": 4,
 "nbformat_minor": 0
}
