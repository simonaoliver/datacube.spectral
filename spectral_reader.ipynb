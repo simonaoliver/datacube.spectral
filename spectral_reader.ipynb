{
 "cells": [
  {
   "cell_type": "code",
   "execution_count": 1,
   "metadata": {
    "collapsed": false
   },
   "outputs": [
    {
     "name": "stdout",
     "output_type": "stream",
     "text": [
      "Populating the interactive namespace from numpy and matplotlib\n"
     ]
    }
   ],
   "source": [
    "import numpy\n",
    "import math\n",
    "from scipy.interpolate import UnivariateSpline\n",
    "import scipy.optimize as opt\n",
    "from scipy.optimize import fsolve\n",
    "from scipy import signal\n",
    "from scipy import ndimage\n",
    "import pandas\n",
    "from posixpath import join as ppjoin\n",
    "%pylab inline"
   ]
  },
  {
   "cell_type": "code",
   "execution_count": 2,
   "metadata": {
    "collapsed": true
   },
   "outputs": [],
   "source": [
    "def read_specral_resonse(store, pth):\n",
    "    df = store[pth]\n",
    "    sf = store.get_storer(pth).attrs.scale_factor\n",
    "    res = df.filter(regex='Wavelength*') * sf\n",
    "    for col in res.columns:\n",
    "        df[col] = res[col]\n",
    "    return df"
   ]
  },
  {
   "cell_type": "code",
   "execution_count": 3,
   "metadata": {
    "collapsed": false
   },
   "outputs": [],
   "source": [
    "store = pandas.HDFStore('spectral-responses-v2.h5', 'r')"
   ]
  },
  {
   "cell_type": "code",
   "execution_count": 4,
   "metadata": {
    "collapsed": false
   },
   "outputs": [
    {
     "name": "stdout",
     "output_type": "stream",
     "text": [
      "['terra', 'sentinel_2a', 'himawari8']\n"
     ]
    }
   ],
   "source": [
    "platforms = store.root.__members__\n",
    "print platforms"
   ]
  },
  {
   "cell_type": "code",
   "execution_count": 5,
   "metadata": {
    "collapsed": false
   },
   "outputs": [
    {
     "name": "stdout",
     "output_type": "stream",
     "text": [
      "Number of sensors for terra: 4\n",
      "Number of bands in modis: 36\n",
      "Number of bands in astervnir: 4\n",
      "Number of bands in astertir: 5\n",
      "Number of bands in asterswir: 6\n",
      "Number of sensors for sentinel_2a: 1\n",
      "Number of bands in msi: 13\n",
      "Number of sensors for himawari8: 1\n",
      "Number of bands in ahi: 16\n"
     ]
    }
   ],
   "source": [
    "for platform in platforms:\n",
    "    node = store.get_node(platform)\n",
    "    sensors = node.__members__\n",
    "    print \"Number of sensors for {}: {}\".format(platform, len(sensors))\n",
    "    for sensor in sensors:\n",
    "        node2 = store.get_node(ppjoin(platform, sensor))\n",
    "        bands = node2.__members__\n",
    "        print \"Number of bands in {}: {}\".format(sensor, len(bands))"
   ]
  },
  {
   "cell_type": "code",
   "execution_count": 6,
   "metadata": {
    "collapsed": false
   },
   "outputs": [
    {
     "data": {
      "image/png": "[encoded data removed]",
      "text/plain": [
       "<matplotlib.figure.Figure at 0x7fcb28cff650>"
      ]
     },
     "metadata": {},
     "output_type": "display_data"
    }
   ],
   "source": [
    "pth = ppjoin('terra', 'astervnir')\n",
    "node = store.get_node(pth)\n",
    "bands = len(node.__members__)\n",
    "for i in range(1, bands + 1):\n",
    "    bname = 'Band{}'.format(i)\n",
    "    wname = 'Wavelength{}'.format(i)\n",
    "    pth_name = ppjoin(pth, bname)\n",
    "    df = read_specral_resonse(store, pth_name)\n",
    "    plot(df[wname].values, df[bname].values)"
   ]
  },
  {
   "cell_type": "code",
   "execution_count": 7,
   "metadata": {
    "collapsed": true
   },
   "outputs": [],
   "source": [
    "store.close()"
   ]
  },
  {
   "cell_type": "code",
   "execution_count": null,
   "metadata": {
    "collapsed": true
   },
   "outputs": [],
   "source": []
  }
 ],
 "metadata": {
  "kernelspec": {
   "display_name": "Python 2",
   "language": "python",
   "name": "python2"
  },
  "language_info": {
   "codemirror_mode": {
    "name": "ipython",
    "version": 2
   },
   "file_extension": ".py",
   "mimetype": "text/x-python",
   "name": "python",
   "nbconvert_exporter": "python",
   "pygments_lexer": "ipython2",
   "version": "2.7.11"
  }
 },
 "nbformat": 4,
 "nbformat_minor": 0
}
