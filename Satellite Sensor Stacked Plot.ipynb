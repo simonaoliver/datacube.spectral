{
 "cells": [
  {
   "cell_type": "code",
   "execution_count": 1,
   "id": "47c1b939",
   "metadata": {
    "tags": []
   },
   "outputs": [],
   "source": [
    "import pandas\n",
    "import plotly\n",
    "import pickle"
   ]
  },
  {
   "cell_type": "code",
   "execution_count": 2,
   "id": "304d4c91",
   "metadata": {
    "tags": []
   },
   "outputs": [],
   "source": [
    "from cryptography.fernet import Fernet"
   ]
  },
  {
   "cell_type": "code",
   "execution_count": 3,
   "id": "06628172",
   "metadata": {
    "tags": []
   },
   "outputs": [],
   "source": [
    "with open('filekey.key', 'rb') as filekey:\n",
    "    key = filekey.read()"
   ]
  },
  {
   "cell_type": "code",
   "execution_count": 4,
   "id": "4eccbcc8",
   "metadata": {
    "tags": []
   },
   "outputs": [],
   "source": [
    "# Decrypting the pickle file and writing it back to enable access\n",
    "\n",
    "# using the key\n",
    "fernet = Fernet(key)\n",
    "\n",
    "# opening the encrypted file\n",
    "with open('sensordict.pickle', 'rb') as enc_file:\n",
    "    encrypted = enc_file.read()\n",
    "\n",
    "# decrypting the file\n",
    "decrypted = fernet.decrypt(encrypted)\n",
    "\n",
    "# opening the file in write mode and\n",
    "# writing the decrypted data\n",
    "with open('sensordict.pickle', 'wb') as dec_file:\n",
    "    dec_file.write(decrypted)\n",
    "    \n",
    "# The file has been decrypted and is available for unpickling"
   ]
  },
  {
   "cell_type": "code",
   "execution_count": 5,
   "id": "a18fa781",
   "metadata": {
    "tags": []
   },
   "outputs": [],
   "source": [
    "with open('sensordict.pickle', 'rb') as handle:\n",
    "    sensordict = pickle.load(handle)"
   ]
  },
  {
   "cell_type": "markdown",
   "id": "73b6f04a",
   "metadata": {},
   "source": [
    "# USGS Spectral Library Version 7\n",
    "https://pubs.er.usgs.gov/publication/ds1035"
   ]
  }
 ],
 "metadata": {
  "kernelspec": {
   "display_name": "Python 3 (ipykernel)",
   "language": "python",
   "name": "python3"
  },
  "language_info": {
   "codemirror_mode": {
    "name": "ipython",
    "version": 3
   },
   "file_extension": ".py",
   "mimetype": "text/x-python",
   "name": "python",
   "nbconvert_exporter": "python",
   "pygments_lexer": "ipython3",
   "version": "3.11.5"
  }
 },
 "nbformat": 4,
 "nbformat_minor": 5
}
