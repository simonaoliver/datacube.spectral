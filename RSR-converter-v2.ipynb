{
 "cells": [
  {
   "cell_type": "code",
   "execution_count": 1,
   "metadata": {
    "collapsed": false
   },
   "outputs": [
    {
     "name": "stdout",
     "output_type": "stream",
     "text": [
      "Populating the interactive namespace from numpy and matplotlib\n"
     ]
    }
   ],
   "source": [
    "import numpy\n",
    "import math\n",
    "from scipy.interpolate import UnivariateSpline\n",
    "import scipy.optimize as opt\n",
    "from scipy.optimize import fsolve\n",
    "from scipy import signal\n",
    "from scipy import ndimage\n",
    "import pandas\n",
    "from posixpath import join as ppjoin\n",
    "%pylab inline"
   ]
  },
  {
   "cell_type": "code",
   "execution_count": 2,
   "metadata": {
    "collapsed": true
   },
   "outputs": [],
   "source": [
    "store = pandas.HDFStore('spectral-responses.h5', 'r')"
   ]
  },
  {
   "cell_type": "code",
   "execution_count": 3,
   "metadata": {
    "collapsed": false
   },
   "outputs": [],
   "source": [
    "store2 = pandas.HDFStore('spectral-responses-v2.h5', 'w', complevel=4, complib='blosc')"
   ]
  },
  {
   "cell_type": "code",
   "execution_count": 4,
   "metadata": {
    "collapsed": false
   },
   "outputs": [],
   "source": [
    "satellite = 'himawari8'\n",
    "sensor = 'ahi'\n",
    "base = ppjoin(satellite, sensor)\n",
    "bname_fmt = 'Band{}'\n",
    "for i in range(1, 17):\n",
    "    bname = bname_fmt.format(i)\n",
    "    pth = ppjoin(base, bname)\n",
    "    in_pth = ppjoin(satellite, bname)\n",
    "    store2[pth] = store[in_pth]\n",
    "    node = store.get_storer(in_pth)\n",
    "    out_node = store2.get_storer(pth)\n",
    "    out_node.attrs.units = node.attrs.units\n",
    "    out_node.attrs.scale_factor = node.attrs.scale_factor"
   ]
  },
  {
   "cell_type": "code",
   "execution_count": 5,
   "metadata": {
    "collapsed": false
   },
   "outputs": [],
   "source": [
    "satellite = 'sentinel_2a'\n",
    "sensor = 'msi'\n",
    "base = ppjoin(satellite, sensor)\n",
    "df = store[base]\n",
    "node = store.get_storer(base)\n",
    "for i in range(1, 13):\n",
    "    bname = 'Band{}'.format(i)\n",
    "    wavelength = 'Wavelength{}'.format(i)\n",
    "    pth = ppjoin(base, bname)\n",
    "    store2[pth] = df[[wavelength, bname]]\n",
    "    out_node = store2.get_storer(pth)\n",
    "    out_node.attrs.units = node.attrs.units\n",
    "    out_node.attrs.scale_factor = node.attrs.scale_factor\n",
    "df.rename(columns={'Wavelength8A': 'Wavelength13', 'Band8A': 'Band13'}, inplace=True)\n",
    "store2[ppjoin(base, 'Band13')] = df[['Wavelength13', 'Band13']]\n",
    "out_node = store2.get_storer(ppjoin(base, 'Band13'))\n",
    "out_node.attrs.units = node.attrs.units\n",
    "out_node.attrs.scale_factor = node.attrs.scale_factor"
   ]
  },
  {
   "cell_type": "code",
   "execution_count": 6,
   "metadata": {
    "collapsed": false
   },
   "outputs": [],
   "source": [
    "satellite = 'terra'\n",
    "sensor = 'modis'\n",
    "base = ppjoin(satellite, sensor)\n",
    "df = store[base]\n",
    "node = store.get_storer(base)\n",
    "for i in range(1, 37):\n",
    "    bname = 'Band{}'.format(i)\n",
    "    wavelength = 'Wavelength{}'.format(i)\n",
    "    pth = ppjoin(base, bname)\n",
    "    store2[pth] = df[[wavelength, bname]]\n",
    "    out_node = store2.get_storer(pth)\n",
    "    out_node.attrs.units = node.attrs.units\n",
    "    out_node.attrs.scale_factor = node.attrs.scale_factor"
   ]
  },
  {
   "cell_type": "code",
   "execution_count": 7,
   "metadata": {
    "collapsed": false
   },
   "outputs": [],
   "source": [
    "satellite = 'terra'\n",
    "sensor = 'astervnir'\n",
    "base = ppjoin(satellite, sensor)\n",
    "df = store[base]\n",
    "node = store.get_storer(base)\n",
    "for i in range(1, 4):\n",
    "    bname = 'Band{}'.format(i)\n",
    "    wavelength = 'Wavelength{}'.format(i)\n",
    "    pth = ppjoin(base, bname)\n",
    "    store2[pth] = df[[wavelength, bname]]\n",
    "    out_node = store2.get_storer(pth)\n",
    "    out_node.attrs.units = node.attrs.units\n",
    "    out_node.attrs.scale_factor = node.attrs.scale_factor\n",
    "df.rename(columns={'Wavelength3B': 'Wavelength4', 'Band3B': 'Band4'}, inplace=True)\n",
    "store2[ppjoin(base, 'Band4')] = df[['Wavelength4', 'Band4']]\n",
    "out_node = store2.get_storer(ppjoin(base, 'Band4'))\n",
    "out_node.attrs.units = node.attrs.units\n",
    "out_node.attrs.scale_factor = node.attrs.scale_factor"
   ]
  },
  {
   "cell_type": "code",
   "execution_count": 8,
   "metadata": {
    "collapsed": false
   },
   "outputs": [],
   "source": [
    "satellite = 'terra'\n",
    "sensor = 'asterswir'\n",
    "base = ppjoin(satellite, sensor)\n",
    "df = store[base]\n",
    "cols = {}\n",
    "for i in range(4, 10):\n",
    "    cols['Wavelength{}'.format(i)] = 'Wavelength{}'.format(i - 3)\n",
    "    cols['Band{}'.format(i)] = 'Band{}'.format(i - 3)\n",
    "df.rename(columns=cols, inplace=True)\n",
    "node = store.get_storer(base)\n",
    "for i in range(1, 7):\n",
    "    bname = 'Band{}'.format(i)\n",
    "    wavelength = 'Wavelength{}'.format(i)\n",
    "    pth = ppjoin(base, bname)\n",
    "    store2[pth] = df[[wavelength, bname]]\n",
    "    out_node = store2.get_storer(pth)\n",
    "    out_node.attrs.units = node.attrs.units\n",
    "    out_node.attrs.scale_factor = node.attrs.scale_factor"
   ]
  },
  {
   "cell_type": "code",
   "execution_count": 9,
   "metadata": {
    "collapsed": false
   },
   "outputs": [],
   "source": [
    "satellite = 'terra'\n",
    "sensor = 'astertir'\n",
    "base = ppjoin(satellite, sensor)\n",
    "df = store[base]\n",
    "cols = {}\n",
    "for i in range(10, 15):\n",
    "    cols['Wavelength{}'.format(i)] = 'Wavelength{}'.format(i - 9)\n",
    "    cols['Band{}'.format(i)] = 'Band{}'.format(i - 9)\n",
    "df.rename(columns=cols, inplace=True)\n",
    "node = store.get_storer(base)\n",
    "for i in range(1, 6):\n",
    "    bname = 'Band{}'.format(i)\n",
    "    wavelength = 'Wavelength{}'.format(i)\n",
    "    pth = ppjoin(base, bname)\n",
    "    store2[pth] = df[[wavelength, bname]]\n",
    "    out_node = store2.get_storer(pth)\n",
    "    out_node.attrs.units = node.attrs.units\n",
    "    out_node.attrs.scale_factor = node.attrs.scale_factor"
   ]
  },
  {
   "cell_type": "code",
   "execution_count": 10,
   "metadata": {
    "collapsed": true
   },
   "outputs": [],
   "source": [
    "store.close()\n",
    "store2.close()"
   ]
  },
  {
   "cell_type": "code",
   "execution_count": null,
   "metadata": {
    "collapsed": true
   },
   "outputs": [],
   "source": []
  }
 ],
 "metadata": {
  "kernelspec": {
   "display_name": "Python 2",
   "language": "python",
   "name": "python2"
  },
  "language_info": {
   "codemirror_mode": {
    "name": "ipython",
    "version": 2
   },
   "file_extension": ".py",
   "mimetype": "text/x-python",
   "name": "python",
   "nbconvert_exporter": "python",
   "pygments_lexer": "ipython2",
   "version": "2.7.11"
  }
 },
 "nbformat": 4,
 "nbformat_minor": 0
}
