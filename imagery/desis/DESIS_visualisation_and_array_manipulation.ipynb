{
 "cells": [
  {
   "cell_type": "code",
   "execution_count": null,
   "id": "6c62c423-975c-4817-9884-7af0cfdabe67",
   "metadata": {},
   "outputs": [],
   "source": [
    "import os, sys\n",
    "import numpy as np\n",
    "import xarray \n",
    "import rioxarray\n",
    "import holoviews as hv\n",
    "from holoviews import opts\n",
    "import geoviews as gv\n",
    "import datashader as ds\n",
    "import cartopy.crs as ccrs\n",
    "import hvplot\n",
    "from holoviews.operation.datashader import regrid, shade\n",
    "from bokeh.tile_providers import STAMEN_TONER\n",
    "import rasterio\n",
    "from osgeo import gdal\n",
    "from pathlib import Path\n",
    "import panel\n",
    "import hvplot.xarray\n",
    "from ipywidgets import interact, Dropdown, FloatSlider, IntSlider, SelectMultiple, Text\n",
    "import matplotlib.pyplot as plt\n",
    "import xmltodict\n",
    "import zipfile\n",
    "import tarfile\n",
    "import pandas\n",
    "import cv2\n",
    "from skimage import exposure, img_as_float\n",
    "\n",
    "# Import functions from common speclib functions file\n",
    "sys.path.insert(0, os.path.abspath('../../'))\n",
    "import speclib\n",
    "\n",
    "hv.extension('bokeh', width=1000)"
   ]
  },
  {
   "cell_type": "markdown",
   "id": "83e9a6a8-3ec6-4dbd-803b-bb562b9985a4",
   "metadata": {},
   "source": [
    "# DESIS L2"
   ]
  },
  {
   "cell_type": "markdown",
   "id": "edec200e-c27d-498f-a69a-479991993401",
   "metadata": {},
   "source": [
    "## Download from FTP\n",
    "ftps://DESIS_Oliver@download.dsda.dlr.de//dims_op_oc_dfd2_694312879_1.tar.gz\n",
    "ftps://DESIS_Oliver@download.dsda.dlr.de//dims_op_oc_dfd2_694398439_1.tar.gz"
   ]
  },
  {
   "cell_type": "code",
   "execution_count": null,
   "id": "b611ef05-c95b-424b-9672-7e59e728b01e",
   "metadata": {},
   "outputs": [],
   "source": [
    "usernameText = Text(value='username')\n",
    "passwordText = Text(value='password')\n",
    "filename = Text(value='filename')\n",
    "display(usernameText)\n",
    "display(passwordText)"
   ]
  },
  {
   "cell_type": "code",
   "execution_count": null,
   "id": "30f12178-f6a9-4a5c-b086-e39522c49a98",
   "metadata": {},
   "outputs": [],
   "source": [
    "username = usernameText.value\n",
    "password = passwordText.value"
   ]
  },
  {
   "cell_type": "code",
   "execution_count": null,
   "id": "df419c7c-5911-42a5-a7b2-1954368e3ff6",
   "metadata": {},
   "outputs": [],
   "source": [
    "!wget --user=$username --password=$password ftps://DESIS_Oliver@download.dsda.dlr.de//dims_op_oc_dfd2_694398439_1.tar.gz"
   ]
  },
  {
   "cell_type": "markdown",
   "id": "8a11b40e-53a1-402c-b9f7-980932aa20c6",
   "metadata": {},
   "source": [
    "## Unzip"
   ]
  },
  {
   "cell_type": "code",
   "execution_count": null,
   "id": "d899ce6d-aa44-491e-87f0-b86eacb6a0fa",
   "metadata": {},
   "outputs": [],
   "source": [
    "targzfiles = []\n",
    "targzfiles += [each for each in os.listdir() if each.endswith('.tar.gz')]"
   ]
  },
  {
   "cell_type": "code",
   "execution_count": null,
   "id": "e205b170-fe7c-4557-bdd6-9bef37e0570c",
   "metadata": {},
   "outputs": [],
   "source": [
    "targzfiles"
   ]
  },
  {
   "cell_type": "code",
   "execution_count": null,
   "id": "ea7cac55-c9d5-49bd-af0e-55191320f390",
   "metadata": {},
   "outputs": [],
   "source": [
    "# Extract the Zip archive from the tar.gz - extract the required files from the Zip archive\n",
    "filenames = []\n",
    "for filename in targzfiles:\n",
    "    desistarfile = tarfile.open(filename, 'r')\n",
    "    for i in desistarfile.getnames():\n",
    "        if 'zip' in i:\n",
    "            print(i)\n",
    "            desistarfilezip = i\n",
    "            if not Path(desiszipfile.filename).is_file():\n",
    "                desiszipfile = zipfile.ZipFile(desistarfilezip, 'r')\n",
    "            else:\n",
    "                desistarfile.extract(desistarfilezip)\n",
    "            \n",
    "            if not Path(desiszipfile.filename).is_file():\n",
    "                desistarfile.extract(desiszipfile.filename)\n",
    "            \n",
    "            for index, value in enumerate(desiszipfile.filelist):\n",
    "                if 'SPECTRAL_IMAGE.tif' in str(value.filename):\n",
    "                    desisspectralzipfile = value.filename\n",
    "                if 'METADATA.xml' in str(value.filename):\n",
    "                    desismetadatazipfile = str(value.filename)\n",
    "            \n",
    "            if Path(desisspectralzipfile).is_file():\n",
    "                filename = desisspectralzipfile\n",
    "\n",
    "            else:\n",
    "                filename = desiszipfile.extract(desisspectralzipfile) \n",
    "            \n",
    "            if Path(desismetadatazipfile).is_file():\n",
    "                filenamexml = desiszipfile.extract(desismetadatazipfile)   \n",
    "\n",
    "            \n",
    "            file = filename.split('/')[-1]\n",
    "\n",
    "            filenames.append({'file':file,'filename':filename,'xml': filenamexml})"
   ]
  },
  {
   "cell_type": "code",
   "execution_count": null,
   "id": "6ca5bad8-02d5-4851-be00-af1761cfef2e",
   "metadata": {},
   "outputs": [],
   "source": [
    "filenamespd = pandas.DataFrame(filenames)"
   ]
  },
  {
   "cell_type": "code",
   "execution_count": null,
   "id": "e3202e4c-8393-47d6-992e-aef71f577454",
   "metadata": {},
   "outputs": [],
   "source": [
    "filenamesText = Dropdown(options = list(filenamespd.file))\n",
    "display(filenamesText)"
   ]
  },
  {
   "cell_type": "code",
   "execution_count": null,
   "id": "1543f7a3-20b9-4573-afa4-3262ad31891f",
   "metadata": {},
   "outputs": [],
   "source": [
    "filename = (filenamespd[filenamespd['file']==filenamesText.value]).reset_index().filename[0]\n",
    "filenamexml = (filenamespd[filenamespd['file']==filenamesText.value]).reset_index().xml[0]"
   ]
  },
  {
   "cell_type": "code",
   "execution_count": null,
   "id": "45d90560-b5e4-44d1-8d4a-75c71dad1c4c",
   "metadata": {},
   "outputs": [],
   "source": [
    "fileptr = open(filenamexml,\"r\")\n",
    "xml_content= fileptr.read()\n",
    "desisdict = xmltodict.parse(xml_content)"
   ]
  },
  {
   "cell_type": "code",
   "execution_count": null,
   "id": "06130bda-e88f-415d-805e-12f53bddbaec",
   "metadata": {},
   "outputs": [],
   "source": [
    "#desisdict"
   ]
  },
  {
   "cell_type": "markdown",
   "id": "15fba53e-8cbd-4363-a28f-8fb9fc72d013",
   "metadata": {},
   "source": [
    "## Create useful band names and apply to GeoTIFF"
   ]
  },
  {
   "cell_type": "code",
   "execution_count": null,
   "id": "35991e5e-4692-4382-9c53-17bb5f5397d5",
   "metadata": {},
   "outputs": [],
   "source": [
    "bands = []\n",
    "for item in desisdict['hsi_doc']['specific']['bandCharacterisation']['band']:\n",
    "    print(item['bandNumber'], item['wavelengthCenterOfBand'])#, item['response'], item['wavelengths'], item['gainOfBand'], item['offsetOfBand'])\n",
    "    bandnumber = (int(item['bandNumber']))\n",
    "    bands.append((bandnumber, 'VNIR'+str(bandnumber)+' '+str(int(item['wavelengthCenterOfBand'].split('.')[0]))))"
   ]
  },
  {
   "cell_type": "code",
   "execution_count": null,
   "id": "9863f6ca-7135-44bb-924f-bdf98b263cfc",
   "metadata": {},
   "outputs": [],
   "source": [
    "def set_band_descriptions(filepath, bands):\n",
    "    \"\"\"\n",
    "    filepath: path/virtual path/uri to raster\n",
    "    bands:    ((band, description), (band, description),...)\n",
    "    \"\"\"\n",
    "    ds = gdal.Open(filepath, gdal.GA_Update)\n",
    "    for band, desc in bands:\n",
    "        rb = ds.GetRasterBand(band)\n",
    "        rb.SetDescription(desc)\n",
    "    del ds"
   ]
  },
  {
   "cell_type": "code",
   "execution_count": null,
   "id": "a81c7be7-d198-487a-901e-72ee3f1e0f09",
   "metadata": {},
   "outputs": [],
   "source": [
    "# Update the GeoTIFF band names to enable easier correspondence with other bands - use cwl for bands from metadata\n",
    "speclib.set_band_descriptions(filename, bands)"
   ]
  },
  {
   "cell_type": "code",
   "execution_count": null,
   "id": "c7ea85ef-af15-48ab-813f-db4e276c1d53",
   "metadata": {},
   "outputs": [],
   "source": [
    "#gdal.Info(filename).split('\\n')"
   ]
  },
  {
   "cell_type": "code",
   "execution_count": null,
   "id": "d88ccdb7-1863-4e56-ba65-4192a82e2727",
   "metadata": {},
   "outputs": [],
   "source": [
    "geofilename = filename.replace('.tif', '_geo.tif')\n",
    "mercfilename = filename.replace('.tif', '_3857.tif')"
   ]
  },
  {
   "cell_type": "markdown",
   "id": "345f3dbe-5532-4b6a-b3d4-e0c70b8c6d26",
   "metadata": {},
   "source": [
    "## Warp GeoTIFF to lat/lon"
   ]
  },
  {
   "cell_type": "code",
   "execution_count": null,
   "id": "e6477d71-5186-4547-b660-3752ae3a4b09",
   "metadata": {},
   "outputs": [],
   "source": [
    "if not Path(geofilename).is_file():\n",
    "    gdal.Warp(geofilename, filename, options=\"-t_srs EPSG:4326 -overwrite -tr 0.0003 0.0003 -wo WRITE_FLUSH=YES\")\n",
    "if not Path(mercfilename).is_file():\n",
    "    gdal.Warp(mercfilename, filename, options=\"-t_srs EPSG:3857 -overwrite -wo WRITE_FLUSH=YES\")"
   ]
  },
  {
   "cell_type": "code",
   "execution_count": null,
   "id": "b128b03f-69cd-4347-a7a6-b09490479e9c",
   "metadata": {},
   "outputs": [],
   "source": [
    "desisxarray =  xarray.open_dataset(filename)"
   ]
  },
  {
   "cell_type": "code",
   "execution_count": null,
   "id": "852c8b52-cded-49db-826c-97832d36d29c",
   "metadata": {},
   "outputs": [],
   "source": [
    "desisxarraygeo = xarray.open_dataset(geofilename)"
   ]
  },
  {
   "cell_type": "code",
   "execution_count": null,
   "id": "3f23d2e9-9a8b-4baf-b050-fee358cdaaa2",
   "metadata": {},
   "outputs": [],
   "source": [
    "desisxarraymerc =  xarray.open_dataset(mercfilename)"
   ]
  },
  {
   "cell_type": "code",
   "execution_count": null,
   "id": "5f5e1de0-809f-4353-af16-212f45e72699",
   "metadata": {},
   "outputs": [],
   "source": [
    "desisxarraymerc"
   ]
  },
  {
   "cell_type": "code",
   "execution_count": null,
   "id": "e19fdc24-6faa-477b-b5fd-176e277e5cb9",
   "metadata": {},
   "outputs": [],
   "source": [
    "speclib.rgbhsi(desisxarraymerc.band_data, 210, 85, 210, 0.1, 0.99).hvplot.rgb( x='x', y='y', bands='band', data_aspect=1, flip_yaxis=False, xaxis=False, yaxis=None, title=\"RGB Plot with HVPlot\", width=1200)"
   ]
  },
  {
   "cell_type": "code",
   "execution_count": null,
   "id": "0bacd0eb-4f5c-4a3f-bbfb-5319bde8ef94",
   "metadata": {},
   "outputs": [],
   "source": [
    "speclib.rgbhsi(desisxarraygeo.band_data, 150, 90, 50, 0.1, 0.99).hvplot.rgb( geo=True, x='x', y='y', bands='band',  title=\"RGB Plot with HVPlot\", width=1200, tiles='ESRI', alpha=0.5)"
   ]
  },
  {
   "cell_type": "markdown",
   "id": "4c29ad45-18b1-4d6d-ace6-c39323d7f0e7",
   "metadata": {},
   "source": [
    "## Make an interactive RGB plot"
   ]
  },
  {
   "cell_type": "code",
   "execution_count": null,
   "id": "45e50035-fd9f-4ebc-8c35-2bc928469402",
   "metadata": {},
   "outputs": [],
   "source": [
    "# TODO\n",
    "redW = Dropdown(options = list(desisxarray.band.values))#prismaxarray.band.values.tolist())\n",
    "greenW = Dropdown(options = list(desisxarray.band.values))#prismaxarray.band.values.tolist())\n",
    "blueW = Dropdown(options = list(desisxarray.band.values))#prismaxarray.band.values.tolist())\n",
    "startW = Dropdown(options = ['Pause', 'Go'])\n",
    "\n",
    "@interact(red = redW, green = greenW, blue = blueW, start = startW)\n",
    "\n",
    "def rgb_combo(red, green, blue, start):\n",
    "    redW.options = list(desisxarray.band.values)#prismaxarray.band.values.tolist()\n",
    "    greenW.options = list(desisxarray.band.values)#prismaxarray.band.values.tolist()\n",
    "    blueW.options = list(desisxarray.band.values)#prismaxarray.band.values.tolist()\n",
    "    if start == 'Go' and red != green and green !=blue and red != blue:\n",
    "        #(prismaxarray[[red,green,blue]]/100).to_array().hvplot.rgb(x='x', y='y', bands='variable', data_aspect=1, flip_yaxis=False, xaxis=False, yaxis=None)\n",
    "        desisxarray.isel(band=[red,green,blue]).hvplot.rgb(x='x', y='y', bands='band', data_aspect=1, flip_yaxis=False, xaxis=False, yaxis=None, title=\"RGB Plot with HVPlot\", width=1200)\n",
    "    return(red,green,blue,start)"
   ]
  }
 ],
 "metadata": {
  "kernelspec": {
   "display_name": "Python 3 (ipykernel)",
   "language": "python",
   "name": "python3"
  },
  "language_info": {
   "codemirror_mode": {
    "name": "ipython",
    "version": 3
   },
   "file_extension": ".py",
   "mimetype": "text/x-python",
   "name": "python",
   "nbconvert_exporter": "python",
   "pygments_lexer": "ipython3",
   "version": "3.11.6"
  }
 },
 "nbformat": 4,
 "nbformat_minor": 5
}
