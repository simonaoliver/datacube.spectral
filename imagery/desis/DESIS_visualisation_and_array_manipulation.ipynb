{
 "cells": [
  {
   "cell_type": "code",
   "execution_count": null,
   "id": "6c62c423-975c-4817-9884-7af0cfdabe67",
   "metadata": {},
   "outputs": [],
   "source": [
    "import numpy as np\n",
    "import xarray \n",
    "import rioxarray\n",
    "import holoviews as hv\n",
    "from holoviews import opts\n",
    "import geoviews as gv\n",
    "import datashader as ds\n",
    "import cartopy.crs as ccrs\n",
    "import hvplot\n",
    "from holoviews.operation.datashader import regrid, shade\n",
    "from bokeh.tile_providers import STAMEN_TONER\n",
    "import rasterio\n",
    "from osgeo import gdal\n",
    "from pathlib import Path\n",
    "import panel\n",
    "import hvplot.xarray\n",
    "from ipywidgets import interact, Dropdown, FloatSlider, IntSlider, SelectMultiple, Text\n",
    "import matplotlib.pyplot as plt\n",
    "import xmltodict\n",
    "import zipfile\n",
    "\n",
    "hv.extension('bokeh', width=1000)"
   ]
  },
  {
   "cell_type": "markdown",
   "id": "83e9a6a8-3ec6-4dbd-803b-bb562b9985a4",
   "metadata": {},
   "source": [
    "# DESIS L2"
   ]
  },
  {
   "cell_type": "markdown",
   "id": "2221a02d-1116-4c41-977d-86fb4c05d934",
   "metadata": {},
   "source": [
    "## Extract GeoTIFF from zip package"
   ]
  },
  {
   "cell_type": "code",
   "execution_count": null,
   "id": "92d79339-a87c-49fa-8329-28d8606cc69c",
   "metadata": {},
   "outputs": [],
   "source": [
    "filename = '../../../data/DESIS/dims_op_oc_dfd2_693797361_1/DESIS.HSI.L2A/p1/DESIS-HSI-L2A-DT0581213156_014-20210427T051649-V0220.zip'\n",
    "desisfile = zipfile.ZipFile(filename, 'r')"
   ]
  },
  {
   "cell_type": "code",
   "execution_count": null,
   "id": "24506ac8-2244-4f75-a791-64116687df2f",
   "metadata": {},
   "outputs": [],
   "source": [
    "desisfile.filelist[1].filename"
   ]
  },
  {
   "cell_type": "code",
   "execution_count": null,
   "id": "e006c1cd-7090-4409-a89c-9d1d74527ab6",
   "metadata": {},
   "outputs": [],
   "source": [
    "desisfile.filelist[3].filename"
   ]
  },
  {
   "cell_type": "code",
   "execution_count": null,
   "id": "6b50118f-2edb-4ca5-b1a7-7b2548ae0660",
   "metadata": {},
   "outputs": [],
   "source": [
    "desistif = desisfile.read('DESIS-HSI-L2A-DT0581213156_014-20210427T051649-V0220/DESIS-HSI-L2A-DT0581213156_014-20210427T051649-V0220-SPECTRAL_IMAGE.tif')\n",
    "desismetadata = desisfile.read('DESIS-HSI-L2A-DT0581213156_014-20210427T051649-V0220/DESIS-HSI-L2A-DT0581213156_014-20210427T051649-V0220-SPECTRAL_IMAGE.tif')"
   ]
  },
  {
   "cell_type": "code",
   "execution_count": null,
   "id": "185eda8a-1aca-41e7-97fe-fd355a406a80",
   "metadata": {},
   "outputs": [],
   "source": [
    "filename = desisfile.extract('DESIS-HSI-L2A-DT0581213156_014-20210427T051649-V0220/DESIS-HSI-L2A-DT0581213156_014-20210427T051649-V0220-SPECTRAL_IMAGE.tif')"
   ]
  },
  {
   "cell_type": "code",
   "execution_count": null,
   "id": "a3096873-6fb4-4e75-9365-0bac70ff9f21",
   "metadata": {},
   "outputs": [],
   "source": [
    "filenamexml = desisfile.extract('DESIS-HSI-L2A-DT0581213156_014-20210427T051649-V0220/DESIS-HSI-L2A-DT0581213156_014-20210427T051649-V0220-METADATA.xml')"
   ]
  },
  {
   "cell_type": "code",
   "execution_count": null,
   "id": "0e015d78-4d15-46f5-9ac6-783e48259354",
   "metadata": {},
   "outputs": [],
   "source": [
    "fileptr = open(filenamexml,\"r\")"
   ]
  },
  {
   "cell_type": "code",
   "execution_count": null,
   "id": "7b2521d6-b281-4dc6-aa30-a26a2e93ff10",
   "metadata": {},
   "outputs": [],
   "source": [
    "xml_content= fileptr.read()"
   ]
  },
  {
   "cell_type": "code",
   "execution_count": null,
   "id": "18207f23-aa49-4aa7-896c-ba3809b6489e",
   "metadata": {},
   "outputs": [],
   "source": [
    "desisdict = xmltodict.parse(xml_content)"
   ]
  },
  {
   "cell_type": "code",
   "execution_count": null,
   "id": "79568dc0-76a6-4a60-a3be-6ab65d828e51",
   "metadata": {},
   "outputs": [],
   "source": [
    "#desisdict"
   ]
  },
  {
   "cell_type": "markdown",
   "id": "15fba53e-8cbd-4363-a28f-8fb9fc72d013",
   "metadata": {},
   "source": [
    "## Create useful band names and apply to GeoTIFF"
   ]
  },
  {
   "cell_type": "code",
   "execution_count": null,
   "id": "35991e5e-4692-4382-9c53-17bb5f5397d5",
   "metadata": {},
   "outputs": [],
   "source": [
    "bands = []\n",
    "for item in desisdict['hsi_doc']['specific']['bandCharacterisation']['band']:\n",
    "    #print(item['bandNumber'], item['wavelengthCenterOfBand'])#, item['response'], item['wavelengths'], item['gainOfBand'], item['offsetOfBand'])\n",
    "    bandnumber = (int(item['bandNumber']))\n",
    "    bands.append((bandnumber, 'VNIR'+str(bandnumber)+' '+str(int(item['wavelengthCenterOfBand'].split('.')[0]))))"
   ]
  },
  {
   "cell_type": "code",
   "execution_count": null,
   "id": "9863f6ca-7135-44bb-924f-bdf98b263cfc",
   "metadata": {},
   "outputs": [],
   "source": [
    "def set_band_descriptions(filepath, bands):\n",
    "    \"\"\"\n",
    "    filepath: path/virtual path/uri to raster\n",
    "    bands:    ((band, description), (band, description),...)\n",
    "    \"\"\"\n",
    "    ds = gdal.Open(filepath, gdal.GA_Update)\n",
    "    for band, desc in bands:\n",
    "        rb = ds.GetRasterBand(band)\n",
    "        rb.SetDescription(desc)\n",
    "    del ds"
   ]
  },
  {
   "cell_type": "code",
   "execution_count": null,
   "id": "a81c7be7-d198-487a-901e-72ee3f1e0f09",
   "metadata": {},
   "outputs": [],
   "source": [
    "# Update the GeoTIFF band names to enable easier correspondence with other bands - use cwl for bands from metadata\n",
    "set_band_descriptions(filename, bands)"
   ]
  },
  {
   "cell_type": "code",
   "execution_count": null,
   "id": "c7ea85ef-af15-48ab-813f-db4e276c1d53",
   "metadata": {},
   "outputs": [],
   "source": [
    "#gdal.Info(filename).split('\\n')"
   ]
  },
  {
   "cell_type": "code",
   "execution_count": null,
   "id": "d88ccdb7-1863-4e56-ba65-4192a82e2727",
   "metadata": {},
   "outputs": [],
   "source": [
    "geofilename = filename.replace('.tif', '_geo.tif')"
   ]
  },
  {
   "cell_type": "markdown",
   "id": "345f3dbe-5532-4b6a-b3d4-e0c70b8c6d26",
   "metadata": {},
   "source": [
    "## Warp GeoTIFF to lat/lon"
   ]
  },
  {
   "cell_type": "code",
   "execution_count": null,
   "id": "e6477d71-5186-4547-b660-3752ae3a4b09",
   "metadata": {},
   "outputs": [],
   "source": [
    "gdal.Warp(geofilename, filename, options=\"-t_srs EPSG:4326 -overwrite -tr 0.0003 0.0003 -tap\")"
   ]
  },
  {
   "cell_type": "code",
   "execution_count": null,
   "id": "b128b03f-69cd-4347-a7a6-b09490479e9c",
   "metadata": {},
   "outputs": [],
   "source": [
    "desisxarray = xarray.open_dataset(filename)"
   ]
  },
  {
   "cell_type": "code",
   "execution_count": null,
   "id": "852c8b52-cded-49db-826c-97832d36d29c",
   "metadata": {},
   "outputs": [],
   "source": [
    "desisxarraygeo = xarray.open_dataset(geofilename)"
   ]
  },
  {
   "cell_type": "code",
   "execution_count": null,
   "id": "100fc124-47ea-4b25-8d01-f85c4818e8fa",
   "metadata": {},
   "outputs": [],
   "source": [
    "#gdal.Info(filename+'_geo.tif').split('\\n')"
   ]
  },
  {
   "cell_type": "code",
   "execution_count": null,
   "id": "ed64b1e4-2c23-4ddb-ab1e-9c1ff357f74e",
   "metadata": {},
   "outputs": [],
   "source": [
    "(desisxarray.band_data[[1,45,95]]/5).hvplot.rgb( geo=True, x='x', y='y', bands='band', data_aspect=1, flip_yaxis=False, xaxis=False, yaxis=None, title=\"RGB Plot with HVPlot\", width=1200)"
   ]
  },
  {
   "cell_type": "code",
   "execution_count": null,
   "id": "0bacd0eb-4f5c-4a3f-bbfb-5319bde8ef94",
   "metadata": {},
   "outputs": [],
   "source": [
    "(desisxarraygeo.band_data[[1,45,95]]/5).hvplot.rgb( geo=True, x='x', y='y', bands='band',  title=\"RGB Plot with HVPlot\", width=1200, tiles='ESRI', alpha=0.5)"
   ]
  },
  {
   "cell_type": "markdown",
   "id": "4c29ad45-18b1-4d6d-ace6-c39323d7f0e7",
   "metadata": {},
   "source": [
    "## Make an interactive RGB plot"
   ]
  },
  {
   "cell_type": "code",
   "execution_count": null,
   "id": "45e50035-fd9f-4ebc-8c35-2bc928469402",
   "metadata": {},
   "outputs": [],
   "source": [
    "redW = Dropdown(options = list(desisxarray.band.values))#prismaxarray.band.values.tolist())\n",
    "greenW = Dropdown(options = list(desisxarray.band.values))#prismaxarray.band.values.tolist())\n",
    "blueW = Dropdown(options = list(desisxarray.band.values))#prismaxarray.band.values.tolist())\n",
    "startW = Dropdown(options = ['Pause', 'Go'])\n",
    "\n",
    "@interact(red = redW, green = greenW, blue = blueW, start = startW)\n",
    "\n",
    "def rgb_combo(red, green, blue, start):\n",
    "    redW.options = list(desisxarray.band.values)#prismaxarray.band.values.tolist()\n",
    "    greenW.options = list(desisxarray.band.values)#prismaxarray.band.values.tolist()\n",
    "    blueW.options = list(desisxarray.band.values)#prismaxarray.band.values.tolist()\n",
    "    if start == 'Go' and red != green and green !=blue and red != blue:\n",
    "        #(prismaxarray[[red,green,blue]]/100).to_array().hvplot.rgb(x='x', y='y', bands='variable', data_aspect=1, flip_yaxis=False, xaxis=False, yaxis=None)\n",
    "        desisxarray1000.isel(band=[red,green,blue]).hvplot.rgb(x='x', y='y', bands='band', data_aspect=1, flip_yaxis=False, xaxis=False, yaxis=None, title=\"RGB Plot with HVPlot\", width=1200)\n",
    "    return(red,green,blue,start)"
   ]
  },
  {
   "cell_type": "code",
   "execution_count": null,
   "id": "a8e83f5b-7c58-46b1-a691-0886d35dfc61",
   "metadata": {},
   "outputs": [],
   "source": [
    "(desisxarray.isel(band=[78,150,210])/50).hvplot.rgb(x='x', y='y', bands='band', data_aspect=1, flip_yaxis=False, xaxis=False, yaxis=None, title=\"RGB Plot with HVPlot\", width=1200)"
   ]
  },
  {
   "cell_type": "code",
   "execution_count": null,
   "id": "88e1497f-ebb2-439a-8fa5-46016365de72",
   "metadata": {},
   "outputs": [],
   "source": [
    "# TODO - Make the RGB plot interactive. It is possible as below but doesn't work with iwidget method above\n",
    "(desisxarray[['SWIR74 1687','SWIR18 1088','VNIR28 618']]/100).to_array().hvplot.rgb(x='x', y='y', bands='variable', data_aspect=1, flip_yaxis=False, xaxis=False, yaxis=None, title=\"RGB Plot with HVPlot\", width=1200)"
   ]
  },
  {
   "cell_type": "code",
   "execution_count": null,
   "id": "824541b5-7903-478b-aba5-5198981c36f2",
   "metadata": {},
   "outputs": [],
   "source": [
    "desisxarray"
   ]
  }
 ],
 "metadata": {
  "kernelspec": {
   "display_name": "Python 3 (ipykernel)",
   "language": "python",
   "name": "python3"
  },
  "language_info": {
   "codemirror_mode": {
    "name": "ipython",
    "version": 3
   },
   "file_extension": ".py",
   "mimetype": "text/x-python",
   "name": "python",
   "nbconvert_exporter": "python",
   "pygments_lexer": "ipython3",
   "version": "3.11.6"
  }
 },
 "nbformat": 4,
 "nbformat_minor": 5
}
