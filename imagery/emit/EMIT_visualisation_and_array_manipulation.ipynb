{
 "cells": [
  {
   "cell_type": "code",
   "execution_count": null,
   "id": "b1915c8b-9eb9-4f53-8fa7-59393206cb30",
   "metadata": {},
   "outputs": [],
   "source": [
    "# Import Packages\n",
    "import os\n",
    "import netCDF4 as nc\n",
    "from osgeo import gdal\n",
    "import numpy as np\n",
    "import xarray \n",
    "import rioxarray\n",
    "import holoviews as hv\n",
    "from holoviews import opts\n",
    "import geoviews as gv\n",
    "import geopandas as gpd\n",
    "import datashader as ds\n",
    "import cartopy.crs as ccrs\n",
    "import hvplot\n",
    "import hvplot.pandas\n",
    "from holoviews.operation.datashader import regrid, shade\n",
    "from bokeh.tile_providers import STAMEN_TONER\n",
    "import rasterio\n",
    "from osgeo import gdal\n",
    "from pathlib import Path\n",
    "import panel\n",
    "import hvplot.xarray\n",
    "from ipywidgets import interact, Dropdown, FloatSlider, IntSlider, SelectMultiple, Text\n",
    "import matplotlib.pyplot as plt\n",
    "import xmltodict\n",
    "import zipfile\n",
    "import tarfile\n",
    "import pandas\n",
    "import cv2\n",
    "from PIL import Image\n",
    "from skimage import exposure, img_as_float\n",
    "\n",
    "import sys\n",
    "import h5netcdf\n",
    "# Import functions from common hsi functions file\n",
    "sys.path.insert(0, os.path.abspath('../../'))\n",
    "from speclib import emit_xarray\n",
    "import speclib\n",
    "\n",
    "hv.extension('bokeh', width=1000)\n",
    "# Ortho and H5 read  taken directly from EMIT LPDAAC repository"
   ]
  },
  {
   "cell_type": "code",
   "execution_count": null,
   "id": "f7316787-87b7-41c9-8e9b-4a988559c59a",
   "metadata": {},
   "outputs": [],
   "source": [
    "filename = r'/mnt/c/Users/Simon/PycharmProjects/EMIT/EMIT-Data-Resources/python/data/EMIT_L2A_RFL_001_20231202T220507_2333614_006.nc'"
   ]
  },
  {
   "cell_type": "code",
   "execution_count": null,
   "id": "b14c48ab-89d9-419a-9c0a-bbc8a7690f83",
   "metadata": {},
   "outputs": [],
   "source": [
    "xds = emit_xarray(filename)\n",
    "xds"
   ]
  },
  {
   "cell_type": "code",
   "execution_count": null,
   "id": "9fc95733-ae72-413c-880f-0f8114a4aca0",
   "metadata": {},
   "outputs": [],
   "source": [
    "emitinfo = gdal.Info(filename)"
   ]
  },
  {
   "cell_type": "code",
   "execution_count": null,
   "id": "a427d329-4c6e-40c3-941b-1f0077b81baf",
   "metadata": {},
   "outputs": [],
   "source": [
    "emitinfo = emitinfo.split(\"\\n\")"
   ]
  },
  {
   "cell_type": "code",
   "execution_count": null,
   "id": "67818b4f-c243-492d-8c7a-b110d5a3954e",
   "metadata": {},
   "outputs": [],
   "source": [
    "emitinfodict = {}\n",
    "for i in emitinfo:\n",
    "    if ':' in i:\n",
    "        emitinfodict[i.split(':')[0].strip()] = i.split(':')[1]\n",
    "    else:\n",
    "        try:\n",
    "            emitinfodict[i.split('=')[0].strip()] = i.split('=')[1]\n",
    "        except:\n",
    "            print(i)"
   ]
  },
  {
   "cell_type": "code",
   "execution_count": null,
   "id": "cbf59015-cea6-4917-ba68-f98babac2b00",
   "metadata": {},
   "outputs": [],
   "source": [
    "emitinfodict"
   ]
  },
  {
   "cell_type": "code",
   "execution_count": null,
   "id": "31c6b3ff-b8f1-4fcc-83cd-8ea9f7e8a879",
   "metadata": {},
   "outputs": [],
   "source": [
    "# Get red, green and blue bands and plot example\n",
    "b = np.nanargmin(abs(xds['wavelengths'].data-650))\n",
    "g = np.nanargmin(abs(xds['wavelengths'].data-750))\n",
    "r = np.nanargmin(abs(xds['wavelengths'].data-850))"
   ]
  },
  {
   "cell_type": "code",
   "execution_count": null,
   "id": "60a2b11b-ef09-44a7-985c-174cf7672480",
   "metadata": {},
   "outputs": [],
   "source": [
    "#speclib.rgbhsi(xds.reflectance, r, g, b, 0.1, 0.99, 'bands').hvplot.rgb( geo=True, x='longitude', y='latitude', bands='band', data_aspect=1, flip_yaxis=False, xaxis=False, yaxis=None, title=\"RGB Plot with HVPlot\", width=1200)"
   ]
  },
  {
   "cell_type": "code",
   "execution_count": null,
   "id": "8310596e-c28e-49c8-90a4-3bd35cfd8c4f",
   "metadata": {},
   "outputs": [],
   "source": [
    "fill_value=-9999\n",
    "xds['reflectance'].data[xds['reflectance'].data == fill_value] = np.nan\n",
    "xds.isel(bands=b).hvplot.image(cmap='viridis', aspect = 'equal', frame_width=500, rasterize=True)"
   ]
  },
  {
   "cell_type": "code",
   "execution_count": null,
   "id": "c3dfb65b-7722-4883-9e23-18161587e9db",
   "metadata": {},
   "outputs": [],
   "source": [
    "geofilename = filename.replace('.nc', '_geo.TIF')\n",
    "mercfilename = filename.replace('.nc', '_3857.TIF')"
   ]
  },
  {
   "cell_type": "code",
   "execution_count": null,
   "id": "fbc10239-2c2f-49d6-b98a-7dcc4b11514e",
   "metadata": {},
   "outputs": [],
   "source": [
    "geofilename, mercfilename"
   ]
  },
  {
   "cell_type": "code",
   "execution_count": null,
   "id": "6f2f7f33-0ec8-4123-a5aa-b38d6d8d77d1",
   "metadata": {},
   "outputs": [],
   "source": [
    "#TODO write to GeoTIFF"
   ]
  },
  {
   "cell_type": "code",
   "execution_count": null,
   "id": "aebde7dd-266b-48b8-b91c-a03354acdebe",
   "metadata": {},
   "outputs": [],
   "source": [
    "emitinfodict['NC_GLOBAL#geotransform']"
   ]
  },
  {
   "cell_type": "code",
   "execution_count": null,
   "id": "6db16e48-b867-4b31-849c-f8e90de3ddb6",
   "metadata": {},
   "outputs": [],
   "source": [
    "emitinfodict['NC_GLOBAL#spatialResolution']"
   ]
  },
  {
   "cell_type": "code",
   "execution_count": null,
   "id": "12d46db2-0002-4eb4-8e5a-34c6df219568",
   "metadata": {},
   "outputs": [],
   "source": [
    "emitinfodict['NC_GLOBAL#spatial_ref']"
   ]
  },
  {
   "cell_type": "code",
   "execution_count": null,
   "id": "c93443ad-35dd-44de-a717-70934f30775b",
   "metadata": {},
   "outputs": [],
   "source": []
  }
 ],
 "metadata": {
  "kernelspec": {
   "display_name": "Python 3 (ipykernel)",
   "language": "python",
   "name": "python3"
  },
  "language_info": {
   "codemirror_mode": {
    "name": "ipython",
    "version": 3
   },
   "file_extension": ".py",
   "mimetype": "text/x-python",
   "name": "python",
   "nbconvert_exporter": "python",
   "pygments_lexer": "ipython3",
   "version": "3.11.6"
  }
 },
 "nbformat": 4,
 "nbformat_minor": 5
}
