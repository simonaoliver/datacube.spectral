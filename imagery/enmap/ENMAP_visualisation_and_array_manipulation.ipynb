{
 "cells": [
  {
   "cell_type": "code",
   "execution_count": null,
   "id": "5229a6c9-ea2d-4fe5-98b7-941a288d7a97",
   "metadata": {},
   "outputs": [],
   "source": [
    "import os, sys\n",
    "import h5py\n",
    "import numpy as np\n",
    "import xarray \n",
    "import rioxarray\n",
    "import holoviews as hv\n",
    "from holoviews import opts\n",
    "import geoviews as gv\n",
    "import geopandas as gpd\n",
    "import datashader as ds\n",
    "import cartopy.crs as ccrs\n",
    "import hvplot\n",
    "import hvplot.pandas\n",
    "from holoviews.operation.datashader import regrid, shade\n",
    "from bokeh.tile_providers import STAMEN_TONER\n",
    "import rasterio\n",
    "from osgeo import gdal\n",
    "from pathlib import Path\n",
    "import panel\n",
    "import hvplot.xarray\n",
    "from ipywidgets import interact, Dropdown, FloatSlider, IntSlider, SelectMultiple, Text\n",
    "import matplotlib.pyplot as plt\n",
    "import xmltodict\n",
    "import zipfile\n",
    "import tarfile\n",
    "import pandas\n",
    "import cv2\n",
    "from PIL import Image\n",
    "from skimage import exposure, img_as_float\n",
    "\n",
    "# Import functions from common hsi functions file\n",
    "sys.path.insert(0, os.path.abspath('../../'))\n",
    "import speclib\n",
    "\n",
    "hv.extension('bokeh', width=1000)"
   ]
  },
  {
   "cell_type": "markdown",
   "id": "fb83ae37-6913-4797-9ad1-a2323854698c",
   "metadata": {},
   "source": [
    "# EnMap "
   ]
  },
  {
   "cell_type": "markdown",
   "id": "732de238-7337-4552-bf41-4435567d154b",
   "metadata": {
    "jp-MarkdownHeadingCollapsed": true
   },
   "source": [
    "## Download from FTP"
   ]
  },
  {
   "cell_type": "code",
   "execution_count": null,
   "id": "ce018856-d6f4-4504-89b5-ca9cbb421221",
   "metadata": {},
   "outputs": [],
   "source": [
    "usernameText = Text(value='username')\n",
    "passwordText = Text(value='password')\n",
    "display(usernameText)\n",
    "display(passwordText)"
   ]
  },
  {
   "cell_type": "code",
   "execution_count": null,
   "id": "9f03eb0b-4edf-4e86-b1e3-111b3daf0e2d",
   "metadata": {},
   "outputs": [],
   "source": [
    "username = usernameText.value\n",
    "password = passwordText.value"
   ]
  },
  {
   "cell_type": "code",
   "execution_count": null,
   "id": "bb5ac565-8bd6-4287-9d55-bc3c9ab9d31e",
   "metadata": {},
   "outputs": [],
   "source": [
    "print(username, password)"
   ]
  },
  {
   "cell_type": "code",
   "execution_count": null,
   "id": "2d7b8e42-601f-4863-80a1-01d7db88b5c6",
   "metadata": {},
   "outputs": [],
   "source": [
    "!wget --user=$username --password=$password ftps://simonaoliver-cat1-A00001-P00348@download.dsda.dlr.de//dims_op_oc_oc-en_701103521_1.tar.gz"
   ]
  },
  {
   "cell_type": "markdown",
   "id": "fa425339-e8eb-49c1-b022-03277cfe49c8",
   "metadata": {},
   "source": [
    "## Unzip"
   ]
  },
  {
   "cell_type": "code",
   "execution_count": null,
   "id": "2165b82c-ee59-446b-a01a-d38ef860693e",
   "metadata": {},
   "outputs": [],
   "source": [
    "targzfiles = []\n",
    "targzfiles += [each for each in os.listdir() if each.endswith('.tar.gz')]"
   ]
  },
  {
   "cell_type": "code",
   "execution_count": null,
   "id": "a820d9dc-04a5-48f7-8ffa-611d524e1d3c",
   "metadata": {},
   "outputs": [],
   "source": [
    "targzfiles"
   ]
  },
  {
   "cell_type": "code",
   "execution_count": null,
   "id": "eaa6748a-2318-49a3-910b-0e1b118e1b40",
   "metadata": {},
   "outputs": [],
   "source": [
    "# Extract the Zip archive from the tar.gz - extract the required files from the Zip archive\n",
    "# TODO - fairly sure the logic here is not correct and unzips are happening for existing files\n",
    "filenames = []\n",
    "for filename in targzfiles:\n",
    "    enmaptarfile = tarfile.open(filename, 'r')\n",
    "    for i in enmaptarfile.getnames():\n",
    "        if 'ZIP' in i:\n",
    "            print(i)\n",
    "            enmaptarfilezip = i\n",
    "            enmaptarfile.extract(enmaptarfilezip)\n",
    "            enmapzipfile = zipfile.ZipFile(enmaptarfilezip, 'r')\n",
    "            if not Path(enmapzipfile.filename).is_file():\n",
    "                print(enmapzipfile.filename,' does not exist, untarring...')\n",
    "                enmaptarfile.extract(enmapzipfile.filename)\n",
    "            \n",
    "            for index, value in enumerate(enmapzipfile.filelist):\n",
    "                if 'SPECTRAL_IMAGE' in str(value.filename):\n",
    "                    enmapspectralzipfile = value.filename\n",
    "                if 'METADATA.XML' in str(value.filename):\n",
    "                    enmapmetadatazipfile = str(value.filename)\n",
    "\n",
    "            if not Path(enmapspectralzipfile).is_file():\n",
    "                print(enmapspectralzipfile, ' does not exist, unzipping...')\n",
    "                filename = enmapzipfile.extract(enmapspectralzipfile) \n",
    "            else: \n",
    "                filename = enmapspectralzipfile\n",
    "            \n",
    "            if not Path(enmapmetadatazipfile).is_file():\n",
    "                print(enmapmetadatazipfile, ' does not exist, unzipping...')\n",
    "                filenamexml = enmapzipfile.extract(enmapmetadatazipfile)\n",
    "            else:\n",
    "                filenamexml = enmapmetadatazipfile\n",
    "            \n",
    "            file = filename.split('/')[-1]\n",
    "            filenames.append({'file':file,'filename':filename,'xml': filenamexml})"
   ]
  },
  {
   "cell_type": "code",
   "execution_count": null,
   "id": "8602604f-b720-444c-b825-132858a01a10",
   "metadata": {},
   "outputs": [],
   "source": [
    "# prepare filenames for dropdown list\n",
    "filenamespd = pandas.DataFrame(filenames)"
   ]
  },
  {
   "cell_type": "markdown",
   "id": "69b6d67e-3d9c-47d5-8a10-bf3b578a951c",
   "metadata": {},
   "source": [
    "## Select file from dropdown list"
   ]
  },
  {
   "cell_type": "code",
   "execution_count": null,
   "id": "40b7392a-8e16-424a-8188-d9c079c407a3",
   "metadata": {},
   "outputs": [],
   "source": [
    "# Display dropdown list for file selection\n",
    "# TODO enable multiple filename selects\n",
    "#filenamesText =  SelectMultiple(options = list(filenamespd.file), layout={'width': 'max-content'})\n",
    "filenamesText =  Dropdown(options = list(filenamespd.file), layout={'width': 'max-content'})\n",
    "display(filenamesText)"
   ]
  },
  {
   "cell_type": "code",
   "execution_count": null,
   "id": "f334e85a-f017-4c52-900d-c2512382f85c",
   "metadata": {},
   "outputs": [],
   "source": [
    "filename = filenamespd[filenamespd['file']==filenamesText.value].reset_index().filename[0]\n",
    "filenamexml = (filenamespd[filenamespd['file']==filenamesText.value]).reset_index().xml[0]\n",
    "filename"
   ]
  },
  {
   "cell_type": "code",
   "execution_count": null,
   "id": "d11eb7eb-b1b4-415e-b24c-73c2f0c763c3",
   "metadata": {},
   "outputs": [],
   "source": [
    "#!gdalinfo $filename"
   ]
  },
  {
   "cell_type": "code",
   "execution_count": null,
   "id": "57d8f43d-49b1-41c1-a2ca-9c8822f54cd4",
   "metadata": {},
   "outputs": [],
   "source": [
    "# Prepare dict from metadata and extract band list\n",
    "fileptr = open(filenamexml,\"r\")\n",
    "xml_content= fileptr.read()\n",
    "enmapdict = xmltodict.parse(xml_content)\n",
    "vnirlist = enmapdict['level_X']['specific']['vnirProductQuality']['expectedChannelsList']\n",
    "swirlist = enmapdict['level_X']['specific']['swirProductQuality']['expectedChannelsList']\n",
    "filenames.append({'file':file,'filename':filename,'xml': filenamexml, 'vnirlist': vnirlist, 'swirlist':swirlist})"
   ]
  },
  {
   "cell_type": "code",
   "execution_count": null,
   "id": "15c6e7fb-919f-4129-af97-fb1b41bf0cf4",
   "metadata": {},
   "outputs": [],
   "source": [
    "#enmapdict"
   ]
  },
  {
   "cell_type": "markdown",
   "id": "749d112c-2bf3-4596-9f4e-fbdb29c47ede",
   "metadata": {},
   "source": [
    "## Create useful band names and apply to GeoTIFF"
   ]
  },
  {
   "cell_type": "code",
   "execution_count": null,
   "id": "0abeccd8-fb1c-4523-b634-c0bc64f71e33",
   "metadata": {},
   "outputs": [],
   "source": [
    "bands = []\n",
    "wavelengths = []\n",
    "fwhms = []\n",
    "for item in enmapdict['level_X']['specific']['bandCharacterisation']['bandID']:\n",
    "\n",
    "    bandnumber = (int(item['@number']))\n",
    "    if str(bandnumber) in vnirlist:\n",
    "        label = 'VNIR'\n",
    "    else:\n",
    "        label = 'SWIR'\n",
    "    centrewavelength = str(int(item['wavelengthCenterOfBand'].split('.')[0]))\n",
    "    #bands.append((bandnumber, label+str(bandnumber)+' '+centrewavelength, '{\"wavelength\": \"'+str(bandnumber)+'\" }, \"WAVELENGTH\"'))\n",
    "    bands.append((bandnumber, label+str(bandnumber)+' '+centrewavelength, str(item)+\"WAVELENGTH\"))\n",
    "    wavelengths.append(float(item['wavelengthCenterOfBand']))\n",
    "    fwhms.append(float(item['FWHMOfBand']))"
   ]
  },
  {
   "cell_type": "code",
   "execution_count": null,
   "id": "22c2684d-3182-449b-b153-618d324376ae",
   "metadata": {},
   "outputs": [],
   "source": [
    "#enmapdict['level_X']['product']"
   ]
  },
  {
   "cell_type": "code",
   "execution_count": null,
   "id": "d3d8a242-114a-4025-8b4b-0ead893205a4",
   "metadata": {},
   "outputs": [],
   "source": [
    "# Update the GeoTIFF band names to enable easier correspondence with other bands - use cwl for bands from metadata\n",
    "speclib.set_band_descriptions(filename, bands, -32768)"
   ]
  },
  {
   "cell_type": "code",
   "execution_count": null,
   "id": "5e344ef5-1305-482d-a1ca-f738b33cacac",
   "metadata": {},
   "outputs": [],
   "source": [
    "#gdal.Info(filename).split('\\n')"
   ]
  },
  {
   "cell_type": "code",
   "execution_count": null,
   "id": "cd2ef962-8d9a-43d5-8950-53b4521ec16d",
   "metadata": {},
   "outputs": [],
   "source": [
    "geofilename = filename.replace('.TIF', '_geo.TIF')\n",
    "mercfilename = filename.replace('.TIF', '_3857.TIF')"
   ]
  },
  {
   "cell_type": "code",
   "execution_count": null,
   "id": "03a78aa3-f65b-4c12-a86b-e64f2bf88c5e",
   "metadata": {},
   "outputs": [],
   "source": [
    "geofilename, mercfilename"
   ]
  },
  {
   "cell_type": "markdown",
   "id": "f04db777-254c-4791-8980-562c720c6f67",
   "metadata": {},
   "source": [
    "## Warp GeoTIFF to lat/lon"
   ]
  },
  {
   "cell_type": "code",
   "execution_count": null,
   "id": "15deb40a-6c4a-453b-9f65-0cdc449df8d8",
   "metadata": {},
   "outputs": [],
   "source": [
    "if not Path(geofilename).is_file():\n",
    "    gdal.Warp(geofilename, filename, options=\"-t_srs EPSG:4326 -overwrite -tr 0.0003 0.0003 -wo WRITE_FLUSH=YES\")\n",
    "if not Path(mercfilename).is_file():\n",
    "    gdal.Warp(mercfilename, filename, options=\"-t_srs EPSG:3857 -overwrite -wo WRITE_FLUSH=YES\")"
   ]
  },
  {
   "cell_type": "code",
   "execution_count": null,
   "id": "d44f0fff-2105-4c3e-a66d-82d909a2940b",
   "metadata": {},
   "outputs": [],
   "source": [
    "enmapxarray = xarray.open_dataset(filename)"
   ]
  },
  {
   "cell_type": "code",
   "execution_count": null,
   "id": "28a5ec48-6831-4a4a-954e-3035ff92bbca",
   "metadata": {},
   "outputs": [],
   "source": [
    "enmapxarraygeo = xarray.open_dataset(geofilename)"
   ]
  },
  {
   "cell_type": "code",
   "execution_count": null,
   "id": "ae378288-94ed-49eb-8b86-89426fe7eb88",
   "metadata": {},
   "outputs": [],
   "source": [
    "enmapxarraygeo"
   ]
  },
  {
   "cell_type": "code",
   "execution_count": null,
   "id": "2c607811-e372-490f-88c5-873a88887048",
   "metadata": {},
   "outputs": [],
   "source": [
    "enmapxarraymerc = xarray.open_dataset(mercfilename)"
   ]
  },
  {
   "cell_type": "code",
   "execution_count": null,
   "id": "540271f5-b60c-409c-bad3-049c37373d32",
   "metadata": {},
   "outputs": [],
   "source": [
    "enmapxarraygeo = updatexarray(enmapxarraygeo, 'bands', 'longitude', 'latitude', wavelengths, fwhms)\n",
    "enmapxarraymerc = updatexarray(enmapxarraymerc, 'bands', 'x', 'y', wavelengths, fwhms)"
   ]
  },
  {
   "cell_type": "code",
   "execution_count": null,
   "id": "16471652-8724-4549-a575-10f0473fb2ba",
   "metadata": {},
   "outputs": [],
   "source": [
    "def updatexarray(ds, banddim, xdim, ydim, wavelengthlist, fwhmlist): \n",
    "    if xdim !='x' and ydim != 'y':\n",
    "        ds = ds.rename_dims({'band':banddim, 'x': xdim,'y':ydim})\n",
    "        ds = ds.rename({'x':xdim, 'y':ydim})\n",
    "    ds = ds.assign_coords({'wavelengths':wavelengthlist, 'fwhm': fwhmlist})\n",
    "    ds = ds.rename({'band':banddim,'band_data':'reflectance'})\n",
    "    ds = ds.drop_indexes(['wavelengths', 'fwhm'])\n",
    "    ds = ds.drop_indexes('bands')\n",
    "    return(ds)"
   ]
  },
  {
   "cell_type": "code",
   "execution_count": null,
   "id": "95710169-c4b9-4a54-9f75-4b775a1c8235",
   "metadata": {},
   "outputs": [],
   "source": [
    "#(enmapxarray.band_data[[50,145,195]]/40).hvplot.rgb( geo=True, x='x', y='y', bands='band', data_aspect=1, flip_yaxis=False, xaxis=False, yaxis=None, title=\"RGB Plot with HVPlot\", width=1200)\n",
    "\"\"\"\n",
    " 'quicklook': {'vnir': {'channels': '3',\n",
    "   'qlChannels': {'red': '635.112', 'green': '550.687', 'blue': '463.73'},\n",
    "   'name': 'ENMAP01-____L2A-DT0000050503_20231118T011859Z_001_V010400_20231120T120732Z-QL_VNIR.TIF',\n",
    "   'size': {'@unit': 'Kbyte', '#text': '2127'},\n",
    "   'version': '01.04.00',\n",
    "   'format': 'binary',\n",
    "   'dimension': {'columns': '1286', 'rows': '1165'},\n",
    "   'dimensionGeographic': {'longitude': {'@unit': 'DEG', '#text': '0.3129176'},\n",
    "    'latitude': {'@unit': 'DEG', '#text': '0.3129176'}}},\n",
    "  'swir': {'channels': '3',\n",
    "   'qlChannels': {'red': '2199.45', 'green': '1653', 'blue': '1047.84'},\n",
    "\"\"\"\n",
    "# Get red, green and blue bands and plot example\n",
    "b = np.nanargmin(abs(enmapxarraygeo['wavelengths'].data-463.73))\n",
    "g = np.nanargmin(abs(enmapxarraygeo['wavelengths'].data-550.687))\n",
    "r = np.nanargmin(abs(enmapxarraygeo['wavelengths'].data-635.112))\n",
    "\n",
    "speclib.rgbhsi(enmapxarray.band_data, r, g, b, 0.1, 0.99, 'band').hvplot.rgb( geo=True, x='x', y='y', bands='band', data_aspect=1, flip_yaxis=False, xaxis=False, yaxis=None, title=\"RGB Plot with HVPlot\", width=1200)"
   ]
  },
  {
   "cell_type": "code",
   "execution_count": null,
   "id": "dde85d27-5765-424f-bc0d-626d2b834ad4",
   "metadata": {},
   "outputs": [],
   "source": [
    "#SWIR {'red': '2199.45', 'green': '1653', 'blue': '1047.84'},\n",
    "\n",
    "b = np.nanargmin(abs(enmapxarraygeo['wavelengths'].data-1047.84))\n",
    "g = np.nanargmin(abs(enmapxarraygeo['wavelengths'].data-1653))\n",
    "r = np.nanargmin(abs(enmapxarraygeo['wavelengths'].data-2199.45))\n",
    "\n",
    "speclib.rgbhsi(enmapxarraygeo.reflectance, r, g, b, 0.1, 0.99,'bands').hvplot.rgb( geo=True, x='longitude', y='latitude', bands='bands', data_aspect=1, flip_yaxis=False, xaxis=False, yaxis=None, title=\"RGB Plot with HVPlot\", width=1200, tiles='ESRI', alpha=0.6)"
   ]
  },
  {
   "cell_type": "markdown",
   "id": "31c08406-11a6-4ccb-94fa-2f6c791d594a",
   "metadata": {},
   "source": [
    "## Make an interactive RGB plot"
   ]
  },
  {
   "cell_type": "code",
   "execution_count": null,
   "id": "ba587771-7943-4057-95e3-db97bdc05502",
   "metadata": {},
   "outputs": [],
   "source": [
    "redW = Dropdown(options = list(enmapxarray.band.values))\n",
    "greenW = Dropdown(options = list(enmapxarray.band.values))\n",
    "blueW = Dropdown(options = list(enmapxarray.band.values))\n",
    "startW = Dropdown(options = ['Pause', 'Go'])\n",
    "\n",
    "@interact(red = redW, green = greenW, blue = blueW, start = startW)\n",
    "\n",
    "def rgb_combo(red, green, blue, start):\n",
    "    redW.options = list(enmapxarray.band.values)\n",
    "    greenW.options = list(enmapxarray.band.values)\n",
    "    blueW.options = list(enmapxarray.band.values)\n",
    "    \n",
    "    if start == 'Go' and red != green and green !=blue and red != blue:\n",
    "        #rgbhsi(enmapxarraygeo.band_data, red, green, blue, 0.1, 0.99).hvplot.rgb( geo=True, x='x', y='y', bands='band',  title=\"RGB Plot with HVPlot\", width=1200, tiles='ESRI', alpha=0.5)\n",
    "        #enmapxarraygeo.band_data[[red, green, blue]].hvplot.rgb( geo=True, x='x', y='y', bands='band',  title=\"RGB Plot with HVPlot\", width=1200, tiles='ESRI', alpha=0.5)\n",
    "        #speclib.rgbhsi(enmapxarraygeo.band_data, red, green, blue, 0.1, 0.99)\n",
    "        speclib.rgbhsi(enmapxarraygeo.reflectance, red, green, blue, 0.1, 0.99,'bands').hvplot.rgb( geo=True, x='longitude', y='latitude', bands='bands', data_aspect=1, flip_yaxis=False, xaxis=False, yaxis=None, title=\"RGB Plot with HVPlot\", width=1200, tiles='ESRI', alpha=0.6)\n",
    "    return(red,green,blue,start)"
   ]
  },
  {
   "cell_type": "markdown",
   "id": "c7946069-aad0-43fe-8b91-4946845dbda4",
   "metadata": {},
   "source": [
    "# Configure for Open Data Cube"
   ]
  },
  {
   "cell_type": "code",
   "execution_count": null,
   "id": "d095067f-5e74-41fa-b81d-375fc43271e3",
   "metadata": {},
   "outputs": [],
   "source": [
    "# TODO\n",
    "# https://eodatasets.readthedocs.io/en/latest/\n",
    "# Write metadata\n",
    "from eodatasets3 import DatasetPrepare\n",
    "\n",
    "dlr_enmapl2d = '/mnt/c/Users/Simon/PycharmProjects/datacube.spectral/imagery/enmap/ENMAP01-____L2A-DT0000050503_20231118T011859Z_001_V010400_20231120T120732Z/'\n",
    "metadata_path = dlr_enmapl2d+'/odc-metadata.yaml'\n",
    "\n",
    "with DatasetPrepare(\n",
    "    metadata_path=metadata_path,\n",
    ") as p:\n",
    "    p.product_family = \"l2d\"\n",
    "    p.datetime = datetime(2019, 7, 4, 13, 7, 5)\n",
    "    p.processed_now()\n",
    "\n",
    "    # Note the measurement in the metadata. (instead of ``write``)\n",
    "    p.note_measurement('red',\n",
    "      enmapl2a / 'LC08_L1TP_090084_20160121_20170405_01_T1_B4.TIF'\n",
    "    )\n",
    "\n",
    "    # Or give the path relative to the dataset location\n",
    "    # (eg. This will work unchanged on non-filesystem locations, such as ``s3://`` or tar files)\n",
    "    p.note_measurement('blue',\n",
    "       'LC08_L1TP_090084_20160121_20170405_01_T1_B2.TIF',\n",
    "       relative_to_dataset_location=True\n",
    "    )\n",
    "\n",
    "    # Add links to other files included in the package (\"accessories\"), such as\n",
    "    # alternative metadata files.\n",
    "    [mtl_path] = usgs_level1.glob('*_MTL.txt')\n",
    "    p.note_accessory_file('metadata:mtl', mtl_path)\n",
    "\n",
    "    # Add whatever else you want.\n",
    "    ...\n",
    "\n",
    "    # Validate and write our metadata document!\n",
    "    p.done()\n",
    "\n",
    "# We created a metadata file!\n",
    "assert metadata_path.exists()"
   ]
  },
  {
   "cell_type": "markdown",
   "id": "191bcc68-3fbe-4e6f-b1bb-412665a07a52",
   "metadata": {},
   "source": [
    "# Get coincident Landsat and Sentinel-2 ARD"
   ]
  },
  {
   "cell_type": "code",
   "execution_count": null,
   "id": "e0423980-348a-437d-ba6a-f08a82a5256a",
   "metadata": {},
   "outputs": [],
   "source": [
    "# https://docs.dea.ga.gov.au/notebooks/How_to_guides/Downloading_data_with_STAC/\n",
    "import urllib.request, json\n",
    "import geopandas as gpd\n",
    "import xarray as xr\n",
    "import rioxarray\n",
    "from pprint import pprint\n",
    "import boto3\n",
    "# ODC mamba/conda build fail - using wget on http instead\n",
    "#import odc.aws\n",
    "#import odc.geo.xr\n",
    "from datacube.testutils.io import rio_slurp_xarray"
   ]
  },
  {
   "cell_type": "code",
   "execution_count": null,
   "id": "ab800970-8597-44a2-8f7c-896943698328",
   "metadata": {},
   "outputs": [],
   "source": [
    "starttime = enmapdict['level_X']['base']['temporalCoverage']['startTime']\n",
    "ul_lat = float(enmapdict['level_X']['base']['spatialCoverage']['boundingPolygon']['point'][0]['latitude']['#text'])\n",
    "ul_lon = float(enmapdict['level_X']['base']['spatialCoverage']['boundingPolygon']['point'][0]['longitude']['#text'])\n",
    "ll_lat = float(enmapdict['level_X']['base']['spatialCoverage']['boundingPolygon']['point'][1]['latitude']['#text'])\n",
    "ll_lon = float(enmapdict['level_X']['base']['spatialCoverage']['boundingPolygon']['point'][1]['longitude']['#text'])\n",
    "lr_lat = float(enmapdict['level_X']['base']['spatialCoverage']['boundingPolygon']['point'][2]['latitude']['#text'])\n",
    "lr_lon = float(enmapdict['level_X']['base']['spatialCoverage']['boundingPolygon']['point'][2]['longitude']['#text'])\n",
    "ur_lat = float(enmapdict['level_X']['base']['spatialCoverage']['boundingPolygon']['point'][3]['latitude']['#text'])\n",
    "ur_lon = float(enmapdict['level_X']['base']['spatialCoverage']['boundingPolygon']['point'][3]['longitude']['#text'])"
   ]
  },
  {
   "cell_type": "code",
   "execution_count": null,
   "id": "ffe9734c-df85-4798-b6f6-831257f954bc",
   "metadata": {},
   "outputs": [],
   "source": [
    "product = 'ga_ls8c_ard_3'\n",
    "products = ['ga_ls8c_ard_3', 'ga_ls9c_ard_3', 'ga_s2bm_ard_3', 'ga_s2bm_ard_3']\n",
    "start_time = starttime.split('T')[0]\n",
    "end_time = start_time\n",
    "\n",
    "bbox = [min([ul_lon,ll_lon,lr_lon, ur_lon]), max([ul_lat,ll_lat,lr_lat, ur_lat]), max([ul_lon,ll_lon,lr_lon, ur_lon]),  min([ul_lat,ll_lat,lr_lat, ur_lat])]"
   ]
  },
  {
   "cell_type": "code",
   "execution_count": null,
   "id": "3422eb68-afc8-4705-b3fd-44a925cb793f",
   "metadata": {},
   "outputs": [],
   "source": [
    "from datetime import datetime, timedelta\n",
    "start = datetime.strptime(start_time, \"%Y-%m-%d\")-timedelta(days=3)\n",
    "end = datetime.strptime(start_time, \"%Y-%m-%d\")+timedelta(days=3)"
   ]
  },
  {
   "cell_type": "code",
   "execution_count": null,
   "id": "097e714e-3ef3-498f-8841-05506344e2b1",
   "metadata": {},
   "outputs": [],
   "source": [
    "start_time = start.strftime(\"%Y-%m-%d\")\n",
    "end_time = end.strftime(\"%Y-%m-%d\")\n",
    "start_time, end_time"
   ]
  },
  {
   "cell_type": "code",
   "execution_count": null,
   "id": "efbb726c-506a-47a2-8a56-1801c95a88da",
   "metadata": {},
   "outputs": [],
   "source": [
    "root_url = 'https://explorer.dea.ga.gov.au/stac'\n",
    "stac_url = f'{root_url}/search?collection={product}&time={start_time}/{end_time}&bbox={str(bbox).replace(\" \", \"\")}&limit=6'\n",
    "print(stac_url)"
   ]
  },
  {
   "cell_type": "code",
   "execution_count": null,
   "id": "1b1101f0-4118-4706-b5c5-5fd97bebc446",
   "metadata": {},
   "outputs": [],
   "source": [
    "with urllib.request.urlopen(stac_url) as url:\n",
    "    data = json.loads(url.read().decode())\n",
    "pprint(data, depth=1)"
   ]
  },
  {
   "cell_type": "code",
   "execution_count": null,
   "id": "65556e96-288b-4a6f-a35d-8a7269fcb2bf",
   "metadata": {},
   "outputs": [],
   "source": [
    "#pprint(data['features'], depth=2)"
   ]
  },
  {
   "cell_type": "code",
   "execution_count": null,
   "id": "f1b6fd71-9171-47ec-9dd4-751f353ed51b",
   "metadata": {},
   "outputs": [],
   "source": [
    "# Convert features to a GeoDataFrame\n",
    "gdf = gpd.GeoDataFrame.from_features(data['features'])\n",
    "\n",
    "# Plot the footprints of each dataset\n",
    "gdf.plot(alpha=0.8, edgecolor='black')"
   ]
  },
  {
   "cell_type": "code",
   "execution_count": null,
   "id": "aaf065b0-5d7d-43d1-8b4b-bd78cc83a475",
   "metadata": {},
   "outputs": [],
   "source": [
    "gdf"
   ]
  },
  {
   "cell_type": "code",
   "execution_count": null,
   "id": "bedb1405-e260-456e-8daa-a3ab846a3bb5",
   "metadata": {},
   "outputs": [],
   "source": [
    "# Colour features by cloud cover\n",
    "gdf.plot(column='eo:cloud_cover',\n",
    "         cmap='viridis',\n",
    "         alpha=0.8,\n",
    "         edgecolor='black',\n",
    "         legend=True)"
   ]
  },
  {
   "cell_type": "code",
   "execution_count": null,
   "id": "1a2024ae-337d-45c4-9a3e-d922427d54d1",
   "metadata": {},
   "outputs": [],
   "source": [
    "stac_item = data['features'][0]\n",
    "pprint(stac_item['assets'], depth=1)"
   ]
  },
  {
   "cell_type": "code",
   "execution_count": null,
   "id": "ad7e8a9c-d1fd-46ff-b966-fea915ab29ce",
   "metadata": {},
   "outputs": [],
   "source": [
    "pprint(stac_item['assets']['nbart_blue'])"
   ]
  },
  {
   "cell_type": "code",
   "execution_count": null,
   "id": "913ad32f-8c73-487a-aaec-1d295b0fafea",
   "metadata": {},
   "outputs": [],
   "source": [
    "filelist = []\n",
    "for stac_item in data['features']:\n",
    "     href = stac_item['assets']['thumbnail:nbart']['href']\n",
    "     href = href.replace('s3://dea-public-data', 'https://data.dea.ga.gov.au')\n",
    "     filelist.append(href.split('/')[-1])"
   ]
  },
  {
   "cell_type": "code",
   "execution_count": null,
   "id": "85ba3b76-b7e0-4021-9247-499c4b0257f6",
   "metadata": {},
   "outputs": [],
   "source": [
    "for file in filelist:\n",
    "    print(file)\n",
    "    !wget $href --no-clobber --no-parent"
   ]
  },
  {
   "cell_type": "code",
   "execution_count": null,
   "id": "a7deda46-e0a2-40ff-8ad5-c2919dc9e475",
   "metadata": {},
   "outputs": [],
   "source": [
    "image = Image.open(filename)\n",
    "image.show()"
   ]
  },
  {
   "cell_type": "markdown",
   "id": "337dea4b-5fa0-4c68-b50b-0f2c24f021de",
   "metadata": {},
   "source": [
    "# Get AOI extent"
   ]
  },
  {
   "cell_type": "code",
   "execution_count": null,
   "id": "bfa9a9ee-d374-4f32-b0f3-389b99f08aca",
   "metadata": {},
   "outputs": [],
   "source": [
    "import glob\n",
    "import os\n",
    "shplist = []\n",
    "# glob.glob() return a list of file name with specified pathname\n",
    "for file in glob.glob(r'../aoi/' + '*.shp', recursive=True):\n",
    "  # print the path name of selected files\n",
    "    print(os.path.join(r'../aoi/', file))\n",
    "    target = file.split('/')[-1].replace(\".shp\", '')\n",
    "    tgpd = gpd.GeoDataFrame.from_file(file)\n",
    "    tgpd['Name']=target\n",
    "    shplist.append(tgpd)\n",
    "aoi = pandas.concat(shplist)\n"
   ]
  },
  {
   "cell_type": "code",
   "execution_count": null,
   "id": "1c5170f0-d990-4f01-8a1c-515211d58429",
   "metadata": {},
   "outputs": [],
   "source": [
    "aoi.plot()"
   ]
  },
  {
   "cell_type": "code",
   "execution_count": null,
   "id": "10c6336e-400a-4546-bebf-9731910e965a",
   "metadata": {},
   "outputs": [],
   "source": [
    "# Select only the AOI that intersects our target hyperspectral image\n",
    "taoi = aoi.cx[min([ul_lon,ll_lon,lr_lon, ur_lon]): max([ul_lon,ll_lon,lr_lon, ur_lon]), min([ul_lat,ll_lat,lr_lat, ur_lat]):max([ul_lat,ll_lat,lr_lat, ur_lat])]\n",
    "taoi = taoi.to_crs('EPSG:3857')\n",
    "gdf = gdf.set_crs('EPSG:4326')\n",
    "tgdf = gdf.to_crs('EPSG:3857')"
   ]
  },
  {
   "cell_type": "code",
   "execution_count": null,
   "id": "7a7fca4f-1ffe-4bb7-8782-61fcd1580bd8",
   "metadata": {},
   "outputs": [],
   "source": [
    "taoi"
   ]
  },
  {
   "cell_type": "code",
   "execution_count": null,
   "id": "beecc00e-cfbd-457f-a978-b36ad65a46be",
   "metadata": {},
   "outputs": [],
   "source": [
    "(speclib.rgbhsi(enmapxarraygeo.band_data, 40, 120, 220, 0.15, 0.99).hvplot.rgb( geo=True, x='x', y='y', bands='band',  title=\"RGB Plot with HVPlot\", width=1200, height=1000, tiles='ESRI')) *\\\n",
    "tgdf.hvplot.polygons(geo=False, alpha=0.2, hover_cols=['title']) *\\\n",
    "taoi.hvplot.polygons(geo=False, alpha=0.5, hover_cols=['Name'])"
   ]
  },
  {
   "cell_type": "code",
   "execution_count": null,
   "id": "7b99dd42-8eda-4c25-b4c8-61e9c06bea78",
   "metadata": {},
   "outputs": [],
   "source": []
  }
 ],
 "metadata": {
  "kernelspec": {
   "display_name": "Python 3 (ipykernel)",
   "language": "python",
   "name": "python3"
  },
  "language_info": {
   "codemirror_mode": {
    "name": "ipython",
    "version": 3
   },
   "file_extension": ".py",
   "mimetype": "text/x-python",
   "name": "python",
   "nbconvert_exporter": "python",
   "pygments_lexer": "ipython3",
   "version": "3.11.6"
  }
 },
 "nbformat": 4,
 "nbformat_minor": 5
}
