{
 "cells": [
  {
   "cell_type": "code",
   "execution_count": null,
   "id": "5229a6c9-ea2d-4fe5-98b7-941a288d7a97",
   "metadata": {},
   "outputs": [],
   "source": [
    "import h5py\n",
    "import numpy as np\n",
    "#import cf_xarray as cfxr\n",
    "import xarray \n",
    "import rioxarray\n",
    "import holoviews as hv\n",
    "from holoviews import opts\n",
    "import geoviews as gv\n",
    "import datashader as ds\n",
    "import cartopy.crs as ccrs\n",
    "import hvplot\n",
    "from holoviews.operation.datashader import regrid, shade\n",
    "from bokeh.tile_providers import STAMEN_TONER\n",
    "import rasterio\n",
    "from osgeo import gdal\n",
    "from pathlib import Path\n",
    "import panel\n",
    "import hvplot.xarray\n",
    "from ipywidgets import interact, Dropdown, FloatSlider, IntSlider, SelectMultiple, Text\n",
    "import matplotlib.pyplot as plt\n",
    "import xmltodict\n",
    "import zipfile\n",
    "import tarfile\n",
    "\n",
    "hv.extension('bokeh', width=1000)"
   ]
  },
  {
   "cell_type": "markdown",
   "id": "fb83ae37-6913-4797-9ad1-a2323854698c",
   "metadata": {},
   "source": [
    "# EnMap "
   ]
  },
  {
   "cell_type": "markdown",
   "id": "31c516ba-036e-49cd-a325-872290eba4d0",
   "metadata": {},
   "source": [
    "## Extract files from EnMap package"
   ]
  },
  {
   "cell_type": "code",
   "execution_count": null,
   "id": "7fea4467-24bf-4c29-a9ce-9e36c77648d8",
   "metadata": {},
   "outputs": [],
   "source": [
    "filename = '../../../data/EnMap/dims_op_oc_oc-en_700948309_1.tar.gz'\n",
    "enmaptarfile = tarfile.open(filename, 'r')"
   ]
  },
  {
   "cell_type": "code",
   "execution_count": null,
   "id": "75b4be85-22e4-424e-a261-1e52d681083d",
   "metadata": {},
   "outputs": [],
   "source": [
    "for i in enmaptarfile.getnames():\n",
    "    if 'ZIP' in i:\n",
    "        enmaptarfilezip = i"
   ]
  },
  {
   "cell_type": "code",
   "execution_count": null,
   "id": "e5c09151-f9cf-45c3-ba2e-f37f6e5a3235",
   "metadata": {},
   "outputs": [],
   "source": [
    "enmaptarfile.extractfile(enmaptarfilezip)"
   ]
  },
  {
   "cell_type": "code",
   "execution_count": null,
   "id": "c8a70532-0c54-46cb-85ce-8bfe36778d5a",
   "metadata": {},
   "outputs": [],
   "source": [
    "enmapzipfile = zipfile.ZipFile(enmaptarfilezip, 'r')"
   ]
  },
  {
   "cell_type": "code",
   "execution_count": null,
   "id": "e6cac7e7-c753-407c-92c8-0fec2b2bec2d",
   "metadata": {},
   "outputs": [],
   "source": [
    "enmapzipfile.filename"
   ]
  },
  {
   "cell_type": "code",
   "execution_count": null,
   "id": "6da4587f-10bb-431a-bf6d-d1d5249274e4",
   "metadata": {},
   "outputs": [],
   "source": [
    "enmaptarfile.extract(enmapzipfile.filename)"
   ]
  },
  {
   "cell_type": "code",
   "execution_count": null,
   "id": "3b063f15-f901-45de-ae17-9c1980158f2b",
   "metadata": {},
   "outputs": [],
   "source": [
    "for index, value in enumerate(enmapzipfile.filelist):\n",
    "    if 'SPECTRAL_IMAGE' in str(value.filename):\n",
    "        enmapspectralzipfile = value.filename\n",
    "    if 'METADATA.XML' in str(value.filename):\n",
    "        enmapmetadatazipfile = str(value.filename)"
   ]
  },
  {
   "cell_type": "code",
   "execution_count": null,
   "id": "b15cde72-8f40-462b-ab3b-3893acd4ec2f",
   "metadata": {},
   "outputs": [],
   "source": [
    "filename = enmapzipfile.extract(enmapspectralzipfile)"
   ]
  },
  {
   "cell_type": "code",
   "execution_count": null,
   "id": "49550302-19c9-4fcd-8c13-f540a6b3ca32",
   "metadata": {},
   "outputs": [],
   "source": [
    "filenamexml = enmapzipfile.extract(enmapmetadatazipfile)"
   ]
  },
  {
   "cell_type": "code",
   "execution_count": null,
   "id": "1118bf4b-99a8-4dcf-8c0b-6fbef23d87c1",
   "metadata": {},
   "outputs": [],
   "source": [
    "fileptr = open(filenamexml,\"r\")"
   ]
  },
  {
   "cell_type": "code",
   "execution_count": null,
   "id": "81ab7206-a936-424e-b682-286014c38606",
   "metadata": {},
   "outputs": [],
   "source": [
    "xml_content= fileptr.read()"
   ]
  },
  {
   "cell_type": "code",
   "execution_count": null,
   "id": "f8360843-1e51-4b41-8649-185fde6591ae",
   "metadata": {},
   "outputs": [],
   "source": [
    "enmapdict = xmltodict.parse(xml_content)"
   ]
  },
  {
   "cell_type": "code",
   "execution_count": null,
   "id": "74b80d6a-5035-470a-88c4-b55554f34561",
   "metadata": {},
   "outputs": [],
   "source": [
    "vnirlist = enmapdict['level_X']['specific']['vnirProductQuality']['expectedChannelsList']"
   ]
  },
  {
   "cell_type": "code",
   "execution_count": null,
   "id": "0849ee74-ada7-4e9e-93cf-f26c76bd9f79",
   "metadata": {},
   "outputs": [],
   "source": [
    "swirlist = enmapdict['level_X']['specific']['swirProductQuality']['expectedChannelsList']"
   ]
  },
  {
   "cell_type": "markdown",
   "id": "749d112c-2bf3-4596-9f4e-fbdb29c47ede",
   "metadata": {},
   "source": [
    "## Create useful band names and apply to GeoTIFF"
   ]
  },
  {
   "cell_type": "code",
   "execution_count": null,
   "id": "0abeccd8-fb1c-4523-b634-c0bc64f71e33",
   "metadata": {},
   "outputs": [],
   "source": [
    "bands = []\n",
    "for item in enmapdict['level_X']['specific']['bandCharacterisation']['bandID']:\n",
    "    #print(item['bandNumber'], item['wavelengthCenterOfBand'])#, item['response'], item['wavelengths'], item['gainOfBand'], item['offsetOfBand'])\n",
    "    bandnumber = (int(item['@number']))\n",
    "    if str(bandnumber) in vnirlist:\n",
    "        label = 'VNIR'\n",
    "    else:\n",
    "        label = 'SWIR'\n",
    "    bands.append((bandnumber, label+str(bandnumber)+' '+str(int(item['wavelengthCenterOfBand'].split('.')[0]))))"
   ]
  },
  {
   "cell_type": "code",
   "execution_count": null,
   "id": "a7a6b93f-69db-4573-abcd-bb683e1ebc3a",
   "metadata": {},
   "outputs": [],
   "source": [
    "def set_band_descriptions(filepath, bands):\n",
    "    \"\"\"\n",
    "    filepath: path/virtual path/uri to raster\n",
    "    bands:    ((band, description), (band, description),...)\n",
    "    \"\"\"\n",
    "    ds = gdal.Open(filepath, gdal.GA_Update)\n",
    "    for band, desc in bands:\n",
    "        rb = ds.GetRasterBand(band)\n",
    "        rb.SetDescription(desc)\n",
    "    del ds"
   ]
  },
  {
   "cell_type": "code",
   "execution_count": null,
   "id": "d3d8a242-114a-4025-8b4b-0ead893205a4",
   "metadata": {},
   "outputs": [],
   "source": [
    "# Update the GeoTIFF band names to enable easier correspondence with other bands - use cwl for bands from metadata\n",
    "set_band_descriptions(filename, bands)"
   ]
  },
  {
   "cell_type": "code",
   "execution_count": null,
   "id": "5e344ef5-1305-482d-a1ca-f738b33cacac",
   "metadata": {},
   "outputs": [],
   "source": [
    "gdal.Info(filename).split('\\n')"
   ]
  },
  {
   "cell_type": "code",
   "execution_count": null,
   "id": "cd2ef962-8d9a-43d5-8950-53b4521ec16d",
   "metadata": {},
   "outputs": [],
   "source": [
    "geofilename = filename.replace('.TIF', '_geo.TIF')"
   ]
  },
  {
   "cell_type": "code",
   "execution_count": null,
   "id": "03a78aa3-f65b-4c12-a86b-e64f2bf88c5e",
   "metadata": {},
   "outputs": [],
   "source": [
    "geofilename"
   ]
  },
  {
   "cell_type": "markdown",
   "id": "f04db777-254c-4791-8980-562c720c6f67",
   "metadata": {},
   "source": [
    "## Warp GeoTIFF to lat/lon"
   ]
  },
  {
   "cell_type": "code",
   "execution_count": null,
   "id": "15deb40a-6c4a-453b-9f65-0cdc449df8d8",
   "metadata": {},
   "outputs": [],
   "source": [
    "gdal.Warp(geofilename, filename, options=\"-t_srs EPSG:4326 -overwrite -tr 0.0003 0.0003 -tap\")"
   ]
  },
  {
   "cell_type": "code",
   "execution_count": null,
   "id": "d44f0fff-2105-4c3e-a66d-82d909a2940b",
   "metadata": {},
   "outputs": [],
   "source": [
    "enmapxarray = xarray.open_dataset(filename)"
   ]
  },
  {
   "cell_type": "code",
   "execution_count": null,
   "id": "28a5ec48-6831-4a4a-954e-3035ff92bbca",
   "metadata": {},
   "outputs": [],
   "source": [
    "enmapxarraygeo = xarray.open_dataset(geofilename)"
   ]
  },
  {
   "cell_type": "code",
   "execution_count": null,
   "id": "084d6ec2-e6a6-4d1b-9212-4be4be21a9d0",
   "metadata": {},
   "outputs": [],
   "source": [
    "enmapxarray"
   ]
  },
  {
   "cell_type": "code",
   "execution_count": null,
   "id": "95710169-c4b9-4a54-9f75-4b775a1c8235",
   "metadata": {},
   "outputs": [],
   "source": [
    "(enmapxarray.band_data[[50,145,195]]/40).hvplot.rgb( geo=True, x='x', y='y', bands='band', data_aspect=1, flip_yaxis=False, xaxis=False, yaxis=None, title=\"RGB Plot with HVPlot\", width=1200)"
   ]
  },
  {
   "cell_type": "code",
   "execution_count": null,
   "id": "dde85d27-5765-424f-bc0d-626d2b834ad4",
   "metadata": {},
   "outputs": [],
   "source": [
    "(enmapxarraygeo.band_data[[1,45,95]]/5).hvplot.rgb( geo=True, x='x', y='y', bands='band',  title=\"RGB Plot with HVPlot\", width=1200, tiles='ESRI', alpha=0.5)"
   ]
  },
  {
   "cell_type": "markdown",
   "id": "31c08406-11a6-4ccb-94fa-2f6c791d594a",
   "metadata": {},
   "source": [
    "## Make an interactive RGB plot"
   ]
  },
  {
   "cell_type": "code",
   "execution_count": null,
   "id": "ba587771-7943-4057-95e3-db97bdc05502",
   "metadata": {},
   "outputs": [],
   "source": [
    "redW = Dropdown(options = list(enmapxarray.band.values))\n",
    "greenW = Dropdown(options = list(enmapxarray.band.values))\n",
    "blueW = Dropdown(options = list(enmapxarray.band.values))\n",
    "startW = Dropdown(options = ['Pause', 'Go'])\n",
    "\n",
    "@interact(red = redW, green = greenW, blue = blueW, start = startW)\n",
    "\n",
    "def rgb_combo(red, green, blue, start):\n",
    "    redW.options = list(enmapxarray.band.values)#prismaxarray.band.values.tolist()\n",
    "    greenW.options = list(enmapxarray.band.values)#prismaxarray.band.values.tolist()\n",
    "    blueW.options = list(enmapxarray.band.values)#prismaxarray.band.values.tolist()\n",
    "    if start == 'Go' and red != green and green !=blue and red != blue:\n",
    "        (enmapxarray[[red,green,blue]]/100).to_array().hvplot.rgb(x='x', y='y', bands='bands', data_aspect=1, flip_yaxis=False, xaxis=False, yaxis=None)\n",
    "        #enmapxarray.isel(band=[red,green,blue]).hvplot.rgb(x='x', y='y', bands='band', data_aspect=1, flip_yaxis=False, xaxis=False, yaxis=None, title=\"RGB Plot with HVPlot\", width=1200)\n",
    "    return(red,green,blue,start)"
   ]
  },
  {
   "cell_type": "code",
   "execution_count": null,
   "id": "00d401ee-e556-4b0b-a9ac-6b25b6e97695",
   "metadata": {},
   "outputs": [],
   "source": [
    "(enmapxarray.isel(band=[78,150,210])/50).hvplot.rgb(x='x', y='y', bands='band', data_aspect=1, flip_yaxis=False, xaxis=False, yaxis=None, title=\"RGB Plot with HVPlot\", width=1200)"
   ]
  },
  {
   "cell_type": "code",
   "execution_count": null,
   "id": "cfeb9eea-ed15-4ad0-b4dc-1aed733634d3",
   "metadata": {},
   "outputs": [],
   "source": [
    "enmapxarray"
   ]
  }
 ],
 "metadata": {
  "kernelspec": {
   "display_name": "Python 3 (ipykernel)",
   "language": "python",
   "name": "python3"
  },
  "language_info": {
   "codemirror_mode": {
    "name": "ipython",
    "version": 3
   },
   "file_extension": ".py",
   "mimetype": "text/x-python",
   "name": "python",
   "nbconvert_exporter": "python",
   "pygments_lexer": "ipython3",
   "version": "3.11.6"
  }
 },
 "nbformat": 4,
 "nbformat_minor": 5
}
