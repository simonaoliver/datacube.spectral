{
 "cells": [
  {
   "cell_type": "markdown",
   "id": "91e19e26-6cd5-44cb-b967-7257130f02a2",
   "metadata": {},
   "source": [
    "# PRISMA Overview"
   ]
  },
  {
   "cell_type": "code",
   "execution_count": null,
   "id": "d26c6415",
   "metadata": {},
   "outputs": [],
   "source": [
    "import h5py\n",
    "import numpy as np\n",
    "#import cf_xarray as cfxr\n",
    "import xarray \n",
    "import rioxarray\n",
    "import holoviews as hv\n",
    "from holoviews import opts\n",
    "import geoviews as gv\n",
    "import datashader as ds\n",
    "from cartopy import crs \n",
    "import hvplot\n",
    "import hvplot.pandas\n",
    "from holoviews.operation.datashader import regrid, shade\n",
    "from bokeh.tile_providers import STAMEN_TONER\n",
    "import rasterio\n",
    "from osgeo import gdal\n",
    "from pathlib import Path\n",
    "import panel\n",
    "import hvplot.xarray\n",
    "from ipywidgets import interact, Dropdown, FloatSlider, IntSlider, SelectMultiple, Text\n",
    "import matplotlib.pyplot as plt\n",
    "import geopandas\n",
    "\n",
    "from sklearn.decomposition import PCA\n",
    "from spectral import *\n",
    "\n",
    "hv.extension('bokeh', width=1000)"
   ]
  },
  {
   "cell_type": "markdown",
   "id": "9dd06e3a-09f2-4b16-87dd-c18682c6256d",
   "metadata": {},
   "source": [
    "# PRISMA L2D"
   ]
  },
  {
   "cell_type": "code",
   "execution_count": null,
   "id": "e2ba5d91-19cd-4f9e-912f-a05bf9fa1fbc",
   "metadata": {},
   "outputs": [],
   "source": [
    "filename = '../../../data/PRISMA/PRS_L2D_STD_20220718001152_20220718001156_0001/PRS_L2D_STD_20220718001152_20220718001156_0001.he5'\n",
    "with rasterio.open(filename) as src:\n",
    "    subdatasets = src.subdatasets"
   ]
  },
  {
   "cell_type": "code",
   "execution_count": null,
   "id": "fe235b2d-159c-4246-9b10-aaba1eac8e0f",
   "metadata": {},
   "outputs": [],
   "source": [
    "subdatasets"
   ]
  },
  {
   "cell_type": "markdown",
   "id": "015969f3-3bb8-4b7f-89ca-59e9a7db838f",
   "metadata": {},
   "source": [
    "# h5py methods to read, display numpy arrays"
   ]
  },
  {
   "cell_type": "code",
   "execution_count": null,
   "id": "797a673e-1107-45f3-9b56-bbf210d1f565",
   "metadata": {},
   "outputs": [],
   "source": [
    "f = h5py.File('../../../data/PRISMA/PRS_L2D_STD_20220718001152_20220718001156_0001/PRS_L2D_STD_20220718001152_20220718001156_0001.he5', 'r')"
   ]
  },
  {
   "cell_type": "code",
   "execution_count": null,
   "id": "993293b7-eb5f-452d-90d1-12c9314f19fa",
   "metadata": {},
   "outputs": [],
   "source": [
    "f.keys()"
   ]
  },
  {
   "cell_type": "code",
   "execution_count": null,
   "id": "538648c9-e5b9-4635-9e49-ea60343d6a1d",
   "metadata": {},
   "outputs": [],
   "source": [
    "f['HDFEOS/SWATHS/PRS_L2D_HCO/Data Fields/VNIR_Cube']"
   ]
  },
  {
   "cell_type": "code",
   "execution_count": null,
   "id": "6df778e6-5fe1-40b9-b80f-60d975157ec3",
   "metadata": {},
   "outputs": [],
   "source": [
    "latitude = f['HDFEOS/SWATHS/PRS_L2D_HCO/Geolocation Fields/Latitude']"
   ]
  },
  {
   "cell_type": "code",
   "execution_count": null,
   "id": "f6b91033-26ec-4781-8594-ce487410c036",
   "metadata": {},
   "outputs": [],
   "source": [
    "longitude = f['HDFEOS/SWATHS/PRS_L2D_HCO/Geolocation Fields/Longitude']"
   ]
  },
  {
   "cell_type": "code",
   "execution_count": null,
   "id": "dcde21a9-4a62-4160-8ffd-50178c73e9f1",
   "metadata": {},
   "outputs": [],
   "source": [
    "time = f['HDFEOS/SWATHS/PRS_L2D_HCO/Geolocation Fields/Time']"
   ]
  },
  {
   "cell_type": "code",
   "execution_count": null,
   "id": "7b5f13da-6361-42c0-8b5d-668514bd3fea",
   "metadata": {},
   "outputs": [],
   "source": [
    "vnir = f['HDFEOS/SWATHS/PRS_L2D_HCO/Data Fields/VNIR_Cube']\n",
    "swir = f['HDFEOS/SWATHS/PRS_L2D_HCO/Data Fields/SWIR_Cube']\n",
    "\n",
    "print('VNIR '+str(vnir.shape), 'SWIR '+str(swir.shape))"
   ]
  },
  {
   "cell_type": "code",
   "execution_count": null,
   "id": "dda6715c-2927-4a9e-a3b1-939dfeb15b1e",
   "metadata": {},
   "outputs": [],
   "source": [
    "def reshapeprisma(ndarray):\n",
    "    '''Consume the PRISMA 3D nparray as read by h5py and reshape to be more consistent with the y,x,band arrangement'''\n",
    "    reshaped = []\n",
    "    count = 0\n",
    "    while count < ndarray.shape[1]:\n",
    "        if count == 0:\n",
    "            reshaped = ndarray[:,count,:]\n",
    "            reshaped = reshaped[..., np.newaxis]\n",
    "        else:\n",
    "            newnp = ndarray[:,count,:]\n",
    "            newnp = newnp[..., np.newaxis]   \n",
    "            reshaped = np.append(reshaped, newnp, axis=2) \n",
    "        count = count+1\n",
    "\n",
    "    return(reshaped)"
   ]
  },
  {
   "cell_type": "code",
   "execution_count": null,
   "id": "0f9a2c5c-a9ed-42e8-8f07-8cdc86b19288",
   "metadata": {},
   "outputs": [],
   "source": [
    "vnirnp = np.moveaxis(vnir, 1, 2)\n",
    "swirnp = np.moveaxis(swir, 1, 2)"
   ]
  },
  {
   "cell_type": "code",
   "execution_count": null,
   "id": "25d95943-91f3-4b6d-a27b-b0b6848ea774",
   "metadata": {},
   "outputs": [],
   "source": [
    "vnirnp.shape"
   ]
  },
  {
   "cell_type": "code",
   "execution_count": null,
   "id": "3f0bf54d-7222-474b-8cf3-0c8e90361cd6",
   "metadata": {},
   "outputs": [],
   "source": [
    "swirnp.shape"
   ]
  },
  {
   "cell_type": "code",
   "execution_count": null,
   "id": "89e6bd18-9757-4106-9a47-7ce9bbe0c15f",
   "metadata": {},
   "outputs": [],
   "source": [
    "plt.imshow(vnirnp[:,:,35], cmap='pink')"
   ]
  },
  {
   "cell_type": "code",
   "execution_count": null,
   "id": "15c53656-23e6-488a-9209-6588ea72ddc7",
   "metadata": {},
   "outputs": [],
   "source": [
    "plt.imshow(swirnp[:,:,35], cmap='pink')"
   ]
  },
  {
   "cell_type": "code",
   "execution_count": null,
   "id": "3d348158-72c5-4aa7-a8bb-b784a51e31b4",
   "metadata": {},
   "outputs": [],
   "source": [
    "vnirnpstd = vnirnp.std(axis=2)\n",
    "swirnpstd = swirnp.std(axis=2)"
   ]
  },
  {
   "cell_type": "code",
   "execution_count": null,
   "id": "0a877578-b1ad-452b-a206-e9e158356a84",
   "metadata": {},
   "outputs": [],
   "source": [
    "plt.imshow(vnirnpstd, cmap='pink')"
   ]
  },
  {
   "cell_type": "code",
   "execution_count": null,
   "id": "55a40e3a-6bdc-4f49-be17-e2cffdbad2ed",
   "metadata": {},
   "outputs": [],
   "source": [
    "plt.imshow(swirnpstd, cmap='pink')"
   ]
  },
  {
   "cell_type": "code",
   "execution_count": null,
   "id": "00d5568e-93a6-477e-bbef-cfe8a1ce86a9",
   "metadata": {},
   "outputs": [],
   "source": [
    "prismaallnp = np.concatenate((vnirnp,swirnp), axis=2)"
   ]
  },
  {
   "cell_type": "code",
   "execution_count": null,
   "id": "cd352d20-0f0f-4b9f-89d2-ee936efa2bca",
   "metadata": {},
   "outputs": [],
   "source": [
    "prismaallnpstd = prismaallnp.std(axis=2)"
   ]
  },
  {
   "cell_type": "code",
   "execution_count": null,
   "id": "b60e1309-7ac8-4596-9933-f73d3b219615",
   "metadata": {},
   "outputs": [],
   "source": [
    "plt.imshow(prismaallnpstd, cmap='pink')"
   ]
  },
  {
   "cell_type": "markdown",
   "id": "e7789464-4f09-42d8-b4b8-6951187b3b65",
   "metadata": {},
   "source": [
    "# Export to a GIS friendly format\n",
    "## Get geocoding info"
   ]
  },
  {
   "cell_type": "code",
   "execution_count": null,
   "id": "5a17e9b3-acd0-4527-ab24-ce0d123e6d15",
   "metadata": {},
   "outputs": [],
   "source": [
    "prismainfo = gdal.Info('../../../data/PRISMA/PRS_L2D_STD_20220718001152_20220718001156_0001/PRS_L2D_STD_20220718001152_20220718001156_0001.he5')"
   ]
  },
  {
   "cell_type": "code",
   "execution_count": null,
   "id": "0cc94089-55f2-486a-8d6c-783dfcaa93ca",
   "metadata": {},
   "outputs": [],
   "source": [
    "prismainfo = prismainfo.split(\"\\n\")"
   ]
  },
  {
   "cell_type": "code",
   "execution_count": null,
   "id": "8bd221e6-da50-4c51-a623-d4372946e14d",
   "metadata": {},
   "outputs": [],
   "source": [
    "prismainfodict = {}\n",
    "for i in prismainfo:\n",
    "    if ':' in i:\n",
    "        #print(i.split(':')[0],i.split(':')[1])\n",
    "        prismainfodict[i.split(':')[0].strip()] = i.split(':')[1]\n",
    "    else:\n",
    "        try:\n",
    "            prismainfodict[i.split('=')[0].strip()] = i.split('=')[1]\n",
    "        except:\n",
    "            print(i)"
   ]
  },
  {
   "cell_type": "markdown",
   "id": "0ad820cc-7ea1-49d2-821f-1e4c80eaedf1",
   "metadata": {},
   "source": [
    "## Extract parameters from metadata to enable their application to the array"
   ]
  },
  {
   "cell_type": "markdown",
   "id": "27518fb9-2bd2-4e26-b3c4-41f040977527",
   "metadata": {},
   "source": [
    "## Confirm pixels centre or edge"
   ]
  },
  {
   "cell_type": "code",
   "execution_count": null,
   "id": "fc6c5d95-3494-475b-8fa4-fe1d0336a68f",
   "metadata": {},
   "outputs": [],
   "source": [
    "(float(prismainfodict['Product_LLcorner_easting']) - float(prismainfodict['Product_LRcorner_easting'])) / 1194"
   ]
  },
  {
   "cell_type": "code",
   "execution_count": null,
   "id": "167a406a-4318-4b10-b13a-b4d6cc8cdd7e",
   "metadata": {},
   "outputs": [],
   "source": [
    "(float(prismainfodict['Product_ULcorner_northing']) - float(prismainfodict['Product_LLcorner_northing'])) / 1171"
   ]
  },
  {
   "cell_type": "markdown",
   "id": "cb42596c-1f79-450d-9e7d-fbb87ebcf8f5",
   "metadata": {},
   "source": [
    "## Construct the geotransform"
   ]
  },
  {
   "cell_type": "markdown",
   "id": "f9cb5cc1-cca9-4030-a97f-21c448957696",
   "metadata": {},
   "source": [
    "- GT(0) x-coordinate of the upper-left corner of the upper-left pixel.\n",
    "- GT(1) w-e pixel resolution / pixel width.\n",
    "- GT(2) row rotation (typically zero).\n",
    "- GT(3) y-coordinate of the upper-left corner of the upper-left pixel.\n",
    "- GT(4) column rotation (typically zero).\n",
    "- GT(5) n-s pixel resolution / pixel height (negative value for a north-up image)."
   ]
  },
  {
   "cell_type": "code",
   "execution_count": null,
   "id": "7463e3bf-823a-4913-8d4e-c665add0668e",
   "metadata": {},
   "outputs": [],
   "source": [
    "transform = [ float(prismainfodict['Product_ULcorner_easting']), 30, 0, float(prismainfodict['Product_ULcorner_northing']), 0, -30 ]\n",
    "transform"
   ]
  },
  {
   "cell_type": "markdown",
   "id": "3da25ef9-5b28-44e6-944c-299e1cee467e",
   "metadata": {},
   "source": [
    "## Construct the WKT from the EPSG code"
   ]
  },
  {
   "cell_type": "code",
   "execution_count": null,
   "id": "74c40fd0-d6bb-44cd-bfa1-6462de876635",
   "metadata": {},
   "outputs": [],
   "source": [
    "import pyproj\n",
    "projcrs = pyproj.CRS.from_epsg(int(prismainfodict['Epsg_Code']))\n",
    "projection = projcrs.to_wkt()"
   ]
  },
  {
   "cell_type": "markdown",
   "id": "5cfd9e85-915a-4776-9433-10b1cd0c33ad",
   "metadata": {},
   "source": [
    "## Scale to radiances"
   ]
  },
  {
   "cell_type": "code",
   "execution_count": null,
   "id": "82d16948-ed06-472e-ab82-bfc35c460dd5",
   "metadata": {},
   "outputs": [],
   "source": [
    "# https://prisma.asi.it/missionselect/docs/PRISMA%20Product%20Specifications_Is2_3.pdf\n",
    "# Scaling factor for SWIR cube \n",
    "# in order to transform uint16 \n",
    "# DN to radiances units \n",
    "# [W/(m2+sr+um)] as follows: \n",
    "# Radiance_f32 = \n",
    "# L2ScaleSwirMin+DN_uint16*(\n",
    "# L2ScaleSwirMax\u0002L2ScaleSwirMin) /65535 \n",
    "\n",
    "vnirnpf = (float(prismainfodict['L2ScaleVnirMin'][0])+vnirnp*(float(prismainfodict['L2ScaleVnirMax'])-float(prismainfodict['L2ScaleVnirMin'][0]))/65535)*10000\n",
    "\n",
    "vnirnpf.max()\n"
   ]
  },
  {
   "cell_type": "code",
   "execution_count": null,
   "id": "7fde7805-3968-42c1-b955-ceebe68700db",
   "metadata": {},
   "outputs": [],
   "source": [
    "swirnpf = (float(prismainfodict['L2ScaleSwirMin'][0])+vnirnp*(float(prismainfodict['L2ScaleSwirMax'])-float(prismainfodict['L2ScaleSwirMin'][0]))/65535)*10000\n",
    "swirnpf.max()"
   ]
  },
  {
   "cell_type": "markdown",
   "id": "f49a2d44-030e-4fb1-90e7-7e9d2e49187b",
   "metadata": {},
   "source": [
    "## Create and export the array as GeoTIFF"
   ]
  },
  {
   "cell_type": "code",
   "execution_count": null,
   "id": "226953a2-bd3e-4a86-a2b3-9d2d33b035a6",
   "metadata": {},
   "outputs": [],
   "source": [
    "# TODO - combine all VNIR and SWIR arrays, ordered by centre wavelength"
   ]
  },
  {
   "cell_type": "code",
   "execution_count": null,
   "id": "b0883fa7-d5d5-4de5-8fa6-471285ab6234",
   "metadata": {},
   "outputs": [],
   "source": [
    "def CreateGeoTiff(outRaster, data, projection, geo_transform):\n",
    "    driver = gdal.GetDriverByName('GTiff')\n",
    "    rows, cols, no_bands = data.shape\n",
    "    DataSet = driver.Create(outRaster, cols, rows, no_bands, gdal.GDT_Int16)\n",
    "    DataSet.SetGeoTransform(geo_transform)\n",
    "    DataSet.SetProjection(projection)\n",
    "\n",
    "    #data = np.moveaxis(data, -1, 0)\n",
    "    data = np.moveaxis(data, 2, 0)\n",
    "    count = 1\n",
    "    for i, image in reversed(list(enumerate(data, 1))):\n",
    "        \n",
    "        DataSet.GetRasterBand(count).WriteArray(image)\n",
    "        count = count + 1\n",
    "    DataSet = None"
   ]
  },
  {
   "cell_type": "code",
   "execution_count": null,
   "id": "b762a0a6-e5f8-4118-a4ea-33e48592e099",
   "metadata": {},
   "outputs": [],
   "source": [
    "def set_band_descriptions(filepath, bands):\n",
    "    \"\"\"\n",
    "    filepath: path/virtual path/uri to raster\n",
    "    bands:    ((band, description), (band, description),...)\n",
    "    \"\"\"\n",
    "    ds = gdal.Open(filepath, gdal.GA_Update)\n",
    "    for band, desc in bands:\n",
    "        rb = ds.GetRasterBand(band)\n",
    "        rb.SetNoDataValue(0)\n",
    "        rb.SetDescription(desc)\n",
    "    del ds"
   ]
  },
  {
   "cell_type": "code",
   "execution_count": null,
   "id": "6e755f30-3f6d-4e61-842b-a6931646ba55",
   "metadata": {},
   "outputs": [],
   "source": [
    "def getbands(nparray, prefix, cwl):\n",
    "    tmpbands = list(range(1,nparray.shape[2]+1))\n",
    "    bands = []\n",
    "    count = 0\n",
    "    cwl = list(reversed(cwl.split()))\n",
    "    for band in tmpbands:\n",
    "        bands.append((band, prefix+str(band)+\" \"+str(int(float(cwl[count])))))\n",
    "        count = count+1\n",
    "    return(bands)"
   ]
  },
  {
   "cell_type": "code",
   "execution_count": null,
   "id": "8a23e859-7442-4767-a52b-9185e51b3f6b",
   "metadata": {},
   "outputs": [],
   "source": [
    "filename = Path(filename)"
   ]
  },
  {
   "cell_type": "code",
   "execution_count": null,
   "id": "704b8dc5-5e03-4341-bfdf-f9fc51813822",
   "metadata": {},
   "outputs": [],
   "source": [
    "vnirfile = filename.name.removesuffix('.he5')+'_VNIR.tif'\n",
    "vnirfilecog = filename.name.removesuffix('.he5')+'_VNIR_COG.tif'\n",
    "swirfile = filename.name.removesuffix('.he5')+'_SWIR.tif'\n",
    "swirfilecog = filename.name.removesuffix('.he5')+'_SWIR_COG.tif'"
   ]
  },
  {
   "cell_type": "code",
   "execution_count": null,
   "id": "02ce77fc-e983-4160-849d-446c3b7c2e97",
   "metadata": {},
   "outputs": [],
   "source": [
    "CreateGeoTiff(vnirfile, vnirnpf,projection, transform)\n",
    "CreateGeoTiff(swirfile, swirnpf,projection, transform)"
   ]
  },
  {
   "cell_type": "code",
   "execution_count": null,
   "id": "397e99c7-6c6b-40cd-9a07-59cbdd33b05c",
   "metadata": {},
   "outputs": [],
   "source": [
    "set_band_descriptions(vnirfile, getbands(vnirnpf, \"VNIR\", prismainfodict['List_Cw_Vnir']))\n",
    "set_band_descriptions(swirfile, getbands(swirnpf, \"SWIR\", prismainfodict['List_Cw_Swir']))"
   ]
  },
  {
   "cell_type": "code",
   "execution_count": null,
   "id": "308b193c-8477-4969-a449-d6377fbb5978",
   "metadata": {},
   "outputs": [],
   "source": [
    "getbands(vnirnpf, \"VNIR\", prismainfodict['List_Cw_Vnir'])"
   ]
  },
  {
   "cell_type": "markdown",
   "id": "de161842-dbe2-4e00-829d-7813560dd4d1",
   "metadata": {},
   "source": [
    "## Export as a COG"
   ]
  },
  {
   "cell_type": "code",
   "execution_count": null,
   "id": "8c54ea09-9878-417b-bdaf-63aca568cba3",
   "metadata": {},
   "outputs": [],
   "source": [
    "#gdal_translate world.tif world_webmerc_cog.tif -of COG -co TILING_SCHEME=GoogleMapsCompatible -co COMPRESS=JPEG\n",
    "gdal.Translate(vnirfilecog,vnirfile, options=\"-of COG\")\n",
    "gdal.Translate(swirfilecog,swirfile, options=\"-of COG\")"
   ]
  },
  {
   "cell_type": "code",
   "execution_count": null,
   "id": "fb632b4c-1bc4-47c3-8e10-b016f6b19674",
   "metadata": {},
   "outputs": [],
   "source": [
    "#gdal.Info(vnirfile).split('\\n')"
   ]
  },
  {
   "cell_type": "markdown",
   "id": "611e2256-f614-4090-80d8-20313ea1fb51",
   "metadata": {},
   "source": [
    "## Warp to lat/lon"
   ]
  },
  {
   "cell_type": "code",
   "execution_count": null,
   "id": "19911839-dd1b-4aff-80c1-66d5e904c555",
   "metadata": {},
   "outputs": [],
   "source": [
    "gdal.Warp(vnirfile+'_geo.tif', vnirfile, options=\"-t_srs EPSG:4326 -overwrite -tr 0.0003 0.0003\")"
   ]
  },
  {
   "cell_type": "code",
   "execution_count": null,
   "id": "e5c48257-3f31-4869-9282-600fabe38ce3",
   "metadata": {},
   "outputs": [],
   "source": [
    "#gdal.Info(vnirfile+'_geo.tif').split('\\n')"
   ]
  },
  {
   "cell_type": "code",
   "execution_count": null,
   "id": "b2dd6c97-3d39-4357-bca5-1a8664f05f13",
   "metadata": {},
   "outputs": [],
   "source": [
    "prismaxarraygeo = xarray.open_dataset(vnirfile+'_geo.tif')"
   ]
  },
  {
   "cell_type": "code",
   "execution_count": null,
   "id": "d07da94d-8cea-4af8-9c1a-4243887673aa",
   "metadata": {},
   "outputs": [],
   "source": [
    "prismaxarraygeo.band_data[[10,45,65]]"
   ]
  },
  {
   "cell_type": "markdown",
   "id": "3a9e99d3-9d61-4d51-9ae2-84425ffb576d",
   "metadata": {},
   "source": [
    "## COVETool PRISMA footprints were implemented in late 2023 - validating below"
   ]
  },
  {
   "cell_type": "code",
   "execution_count": null,
   "id": "e57dd65f-8e36-4680-9c6a-8a60c2092830",
   "metadata": {},
   "outputs": [],
   "source": [
    "# Validating CEOS COVE PRISMA - using export as CSV feature in https://ceos-cove.org/en/acquisition_forecaster/\n",
    "from shapely.geometry import Polygon, MultiPolygon\n",
    "import pandas as pd\n",
    "df = pd.read_csv('../prisma/ceos_cove_prediction.csv')\n",
    "df.columns"
   ]
  },
  {
   "cell_type": "code",
   "execution_count": null,
   "id": "62388b4c-4f83-4a6c-80ad-eb9334d977d9",
   "metadata": {},
   "outputs": [],
   "source": [
    "polygons = []\n",
    "for polygon in df['scene_coords']:\n",
    "    latitude = []\n",
    "    longitude = []\n",
    "    for index, value in enumerate(polygon.split(',')):\n",
    "        if index % 2 == 0:\n",
    "            longitude.append(float(value))\n",
    "        else:\n",
    "            latitude.append(float(value))\n",
    "    lonlats = []\n",
    "    for index, value in enumerate(latitude):\n",
    "          lonlats.append([longitude[index], latitude[index]])\n",
    "    polygons.append(Polygon(lonlats))\n",
    "multipolygon_geom = MultiPolygon(polygons)\n",
    "    "
   ]
  },
  {
   "cell_type": "code",
   "execution_count": null,
   "id": "998375fe-9086-463d-b268-d526de1d02bd",
   "metadata": {},
   "outputs": [],
   "source": [
    "polygon_gdf =  geopandas.GeoDataFrame(geometry=polygons)\n"
   ]
  },
  {
   "cell_type": "code",
   "execution_count": null,
   "id": "f15cf585-b016-4f6c-a2bf-71c2d238a36e",
   "metadata": {},
   "outputs": [],
   "source": [
    "polygon_gdf.hvplot(geo=True)"
   ]
  },
  {
   "cell_type": "code",
   "execution_count": null,
   "id": "10418ebe-42b7-4cd9-bd78-5f2923d12149",
   "metadata": {},
   "outputs": [],
   "source": [
    "polygon_gdf.set_crs = {'init' :'epsg:4326'}"
   ]
  },
  {
   "cell_type": "code",
   "execution_count": null,
   "id": "3744745a-5586-400d-a3d5-3795d0ddca1a",
   "metadata": {},
   "outputs": [],
   "source": [
    "polygon_gdf.to_file('cove.shp')"
   ]
  },
  {
   "cell_type": "code",
   "execution_count": null,
   "id": "1660bff4-f8ea-4666-822f-db3aa98eb975",
   "metadata": {},
   "outputs": [],
   "source": [
    "polygon_gdf.hvplot.polygons(tiles='ESRI', alpha=0.2)"
   ]
  },
  {
   "cell_type": "code",
   "execution_count": null,
   "id": "bf43e8e9-6697-4177-a81c-ff77a0508ac0",
   "metadata": {},
   "outputs": [],
   "source": [
    "polygon_gdf.hvplot.polygons(tiles='ESRI', alpha=0.2) * (prismaxarraygeo.isel(band = [17,40,59])/100).hvplot.rgb( geo=True, x='x', y='y', bands='band',  title=\"RGB Plot with HVPlot\", width=1200, tiles='ESRI', alpha=0.5)"
   ]
  },
  {
   "cell_type": "markdown",
   "id": "67d2e20d-973c-4fe3-b496-197fcf296051",
   "metadata": {},
   "source": [
    "# RioXarray import to DataArray"
   ]
  },
  {
   "cell_type": "code",
   "execution_count": null,
   "id": "51fa7c31-5578-439a-8946-564ade3939bf",
   "metadata": {},
   "outputs": [],
   "source": [
    "# RioXarray import GeoTIFF to DataArray\n",
    "#rio_vnir_array = rioxarray.open_rasterio(vnirfile)\n",
    "#rio_swir_array = rioxarray.open_rasterio(swirfile)\n",
    "\n",
    "rio_vnir_array = xarray.open_dataarray(vnirfile)\n",
    "rio_swir_array = xarray.open_dataarray(swirfile)\n",
    "# Export to Xarray Dataset by band (takes band out of the keys which makes slicing less convenient\n",
    "rio_vnir = rio_vnir_array.to_dataset('band')\n",
    "rio_swir = rio_swir_array.to_dataset('band')"
   ]
  },
  {
   "cell_type": "code",
   "execution_count": null,
   "id": "4066dd63-1424-4ebc-bb4c-4c1bf29a5db0",
   "metadata": {},
   "outputs": [],
   "source": [
    "(rio_vnir_array.isel(band = [17,40,59])/100).hvplot.rgb(x='x', y='y', bands='band', data_aspect=1,   title=\"RGB Plot with HVPlot\", width=1200, crs=crs.epsg(int(prismainfodict['Epsg_Code'])))"
   ]
  },
  {
   "cell_type": "code",
   "execution_count": null,
   "id": "fd3cb3b4-79e9-46f3-83f9-ea76f66c9bcb",
   "metadata": {},
   "outputs": [],
   "source": [
    "def renamevars(rioxr, prefix):\n",
    "    count= 0\n",
    "    renamedict = {}\n",
    "    while count < len(rioxr.data_vars):\n",
    "        #name = (prefix+str(count+1)+_+rioxr.attrs['long_name'][count])\n",
    "        name = rioxr.attrs['long_name'][count]\n",
    "        renamedict[count+1] = name\n",
    "        count=count+1\n",
    "    return(rioxr.rename(renamedict))"
   ]
  },
  {
   "cell_type": "code",
   "execution_count": null,
   "id": "76d0c6bd-817b-478d-8097-07916b020c9f",
   "metadata": {},
   "outputs": [],
   "source": [
    "rio_swir=renamevars(rio_swir, 'SWIR')\n",
    "rio_vnir=renamevars(rio_vnir, 'VNIR')"
   ]
  },
  {
   "cell_type": "code",
   "execution_count": null,
   "id": "c2917f04-551e-4116-aa18-1676fdc41da6",
   "metadata": {},
   "outputs": [],
   "source": [
    "prismaxarray = xarray.merge([rio_vnir, rio_swir])"
   ]
  },
  {
   "cell_type": "code",
   "execution_count": null,
   "id": "2f2e17e7-da4c-41fd-9df6-8cb03c062d0d",
   "metadata": {},
   "outputs": [],
   "source": [
    "band = \"VNIR63 977\"\n",
    "prismaxarray[band].hvplot(data_aspect=1, flip_yaxis=False, invert=True, xaxis=True, yaxis=True, title=\"PRISMA VNIR band \"+band, cmap=\"Pink\")"
   ]
  },
  {
   "cell_type": "code",
   "execution_count": null,
   "id": "d1d34b0c-ed62-41bd-aa16-3d02c1b5bea7",
   "metadata": {},
   "outputs": [],
   "source": [
    "# Make an interactive RGB plot\n",
    "redW = Dropdown(options = list(prismaxarray.data_vars))#prismaxarray.band.values.tolist())\n",
    "greenW = Dropdown(options = list(prismaxarray.data_vars))#prismaxarray.band.values.tolist())\n",
    "blueW = Dropdown(options = list(prismaxarray.data_vars))#prismaxarray.band.values.tolist())\n",
    "startW = Dropdown(options = ['Pause', 'Go'])\n",
    "\n",
    "@interact(red = redW, green = greenW, blue = blueW, start = startW)\n",
    "\n",
    "def rgb_combo(red, green, blue, start):\n",
    "    redW.options = list(prismaxarray.data_vars)#prismaxarray.band.values.tolist()\n",
    "    greenW.options = list(prismaxarray.data_vars)#prismaxarray.band.values.tolist()\n",
    "    blueW.options = list(prismaxarray.data_vars)#prismaxarray.band.values.tolist()\n",
    "    if start == 'Go' and red != green and green !=blue and red != blue:\n",
    "        #(prismaxarray[[red,green,blue]]/100).to_array().hvplot.rgb(x='x', y='y', bands='variable', data_aspect=1, flip_yaxis=False, xaxis=False, yaxis=None)\n",
    "        prismaxarray[[red,green,blue]].to_array().plot.imshow(rgb='variable', robust=True)\n",
    "    return(red,green,blue,start)"
   ]
  },
  {
   "cell_type": "code",
   "execution_count": null,
   "id": "c856b19a-3566-4ba0-ac6d-208c14ba6cea",
   "metadata": {},
   "outputs": [],
   "source": [
    "# TODO - Make the RGB plot interactive. It is possible as below but doesn't work with iwidget method above\n",
    "(prismaxarray[['SWIR74 1687','SWIR18 1088','VNIR28 618']]/100).to_array().hvplot.rgb(x='x', y='y', bands='variable', data_aspect=1, flip_yaxis=False, xaxis=False, yaxis=None, title=\"RGB Plot with HVPlot\", width=1200)"
   ]
  },
  {
   "cell_type": "code",
   "execution_count": null,
   "id": "d8f4d578-806d-404a-aea5-b3dfdcad63db",
   "metadata": {},
   "outputs": [],
   "source": [
    "prismaxarray.spatial_ref.attrs"
   ]
  },
  {
   "cell_type": "markdown",
   "id": "609cb8c0-dec6-49a6-bdc8-602c36741fa5",
   "metadata": {},
   "source": [
    "## Principal Components Analysis"
   ]
  },
  {
   "cell_type": "code",
   "execution_count": null,
   "id": "8a5c8f9d-04d4-4157-9393-b4b89b62b309",
   "metadata": {},
   "outputs": [],
   "source": [
    "# https://www.spectralpython.net/algorithms.html#principal-components"
   ]
  },
  {
   "cell_type": "code",
   "execution_count": null,
   "id": "96441998-b668-4851-becc-ce6a849972e4",
   "metadata": {},
   "outputs": [],
   "source": [
    "(m, c)  = kmeans(prismaallnp, 20, 30)"
   ]
  },
  {
   "cell_type": "code",
   "execution_count": null,
   "id": "52418e90-19fb-4140-8cf0-f0126c6643ac",
   "metadata": {},
   "outputs": [],
   "source": [
    "m.shape"
   ]
  },
  {
   "cell_type": "code",
   "execution_count": null,
   "id": "d923bd60-e554-4305-8c7e-6310cd183c1c",
   "metadata": {},
   "outputs": [],
   "source": [
    "c.shape"
   ]
  },
  {
   "cell_type": "code",
   "execution_count": null,
   "id": "252937c3-5a78-4993-a733-c5cb7810795d",
   "metadata": {},
   "outputs": [],
   "source": [
    "imshow(m)"
   ]
  },
  {
   "cell_type": "code",
   "execution_count": null,
   "id": "a58fea63-f843-4d75-b5e7-a3f9060fbdbe",
   "metadata": {},
   "outputs": [],
   "source": [
    "for i in range(c.shape[0]):\n",
    "    plt.plot(c[i])\n",
    "plt.grid()"
   ]
  },
  {
   "cell_type": "code",
   "execution_count": null,
   "id": "44df1e9d-b0af-46db-9a8a-84642c71d1dc",
   "metadata": {},
   "outputs": [],
   "source": [
    "pc = principal_components(prismaallnp)"
   ]
  },
  {
   "cell_type": "code",
   "execution_count": null,
   "id": "a0118669-5e5c-4ee3-9134-2b4a8ed06131",
   "metadata": {},
   "outputs": [],
   "source": [
    " v = imshow(pc.cov)"
   ]
  },
  {
   "cell_type": "code",
   "execution_count": null,
   "id": "6267c98e-baff-4065-8497-64ed866131d7",
   "metadata": {},
   "outputs": [],
   "source": [
    "pc_0999 = pc.reduce(fraction=0.9999)"
   ]
  },
  {
   "cell_type": "code",
   "execution_count": null,
   "id": "692d85b1-ac7d-4bb3-b204-5cfcc45bc17c",
   "metadata": {},
   "outputs": [],
   "source": [
    "len(pc_0999.eigenvalues)"
   ]
  },
  {
   "cell_type": "code",
   "execution_count": null,
   "id": "d6421daf-7fa5-4057-8753-76b1451b1f97",
   "metadata": {},
   "outputs": [],
   "source": [
    "img_pc = pc_0999.transform(prismaallnp)"
   ]
  },
  {
   "cell_type": "code",
   "execution_count": null,
   "id": "19042169-49bd-455d-8e0b-19fdd06a2666",
   "metadata": {},
   "outputs": [],
   "source": [
    "img_pc.shape"
   ]
  },
  {
   "cell_type": "code",
   "execution_count": null,
   "id": "2479a787-fbd1-421f-a2bd-9e287579d3ee",
   "metadata": {},
   "outputs": [],
   "source": [
    "v = imshow(img_pc[:,:,:3], stretch_all=True)"
   ]
  },
  {
   "cell_type": "code",
   "execution_count": null,
   "id": "5ebdfda8-6e7f-4b1c-bf68-11aa43f267e5",
   "metadata": {},
   "outputs": [],
   "source": [
    "pcafile = filename.name.removesuffix('.he5')+'_PCA.tif'"
   ]
  },
  {
   "cell_type": "code",
   "execution_count": null,
   "id": "99e36d1f-9ba1-4328-929f-63a0961fc405",
   "metadata": {},
   "outputs": [],
   "source": [
    "CreateGeoTiff(pcafile, img_pc,projection, transform) #TODO Figure out how to construct an Xarray from arrays - Inefficient"
   ]
  },
  {
   "cell_type": "code",
   "execution_count": null,
   "id": "adcb48e7-3c9d-44f1-acd8-a7b1254c58c1",
   "metadata": {},
   "outputs": [],
   "source": [
    "rio_pca_array = xarray.open_dataarray(pcafile)"
   ]
  },
  {
   "cell_type": "code",
   "execution_count": null,
   "id": "719657e6-1d57-4fb1-bfab-5023c3877128",
   "metadata": {},
   "outputs": [],
   "source": [
    "pcafile"
   ]
  },
  {
   "cell_type": "code",
   "execution_count": null,
   "id": "0dab5c3e-88e7-47fc-9eb1-9ea09493924a",
   "metadata": {},
   "outputs": [],
   "source": [
    "img_pc.shape[2]"
   ]
  },
  {
   "cell_type": "code",
   "execution_count": null,
   "id": "894ab324-36ef-43dc-b761-f7c143616a13",
   "metadata": {},
   "outputs": [],
   "source": [
    "index = img_pc.shape[2]\n",
    "blue = index-1\n",
    "green = index-2\n",
    "red = index-3"
   ]
  },
  {
   "cell_type": "code",
   "execution_count": null,
   "id": "1923ddcd-1df6-481d-9846-9df258216183",
   "metadata": {},
   "outputs": [],
   "source": [
    "# TODO - Make the RGB plot interactive. It is possible as below but doesn't work with iwidget method above\n",
    "(rio_pca_array[[blue,green,red]]/100).hvplot.rgb(x='x', y='y', bands= 'band', data_aspect=1, flip_yaxis=False, xaxis=False, yaxis=None, title=\"RGB PCA Plot with HVPlot\", width=1200)"
   ]
  },
  {
   "cell_type": "markdown",
   "id": "213018db-f1ba-4890-8ed6-671c3ed49425",
   "metadata": {},
   "source": [
    "# PRISMA L2C"
   ]
  },
  {
   "cell_type": "code",
   "execution_count": null,
   "id": "677361d3",
   "metadata": {},
   "outputs": [],
   "source": [
    "f = h5py.File('../../../data/PRISMA/PRS_L2C_STD_20201130005043_20201130005047_0001/PRS_L2C_STD_20201130005043_20201130005047_0001.he5', 'r')"
   ]
  },
  {
   "cell_type": "code",
   "execution_count": null,
   "id": "ef1c4540",
   "metadata": {},
   "outputs": [],
   "source": [
    "latitude = f['HDFEOS/SWATHS/PRS_L2C_HCO/Geolocation Fields/Latitude']"
   ]
  },
  {
   "cell_type": "code",
   "execution_count": null,
   "id": "3874dd6a",
   "metadata": {},
   "outputs": [],
   "source": [
    "longitude = f['HDFEOS/SWATHS/PRS_L2C_HCO/Geolocation Fields/Longitude']"
   ]
  },
  {
   "cell_type": "code",
   "execution_count": null,
   "id": "9a29fa44",
   "metadata": {},
   "outputs": [],
   "source": [
    "time = f['HDFEOS/SWATHS/PRS_L2C_HCO/Geolocation Fields/Time']"
   ]
  },
  {
   "cell_type": "code",
   "execution_count": null,
   "id": "df26599f",
   "metadata": {},
   "outputs": [],
   "source": [
    "swir = f['HDFEOS/SWATHS/PRS_L2C_HCO/Data Fields/VNIR_Cube']\n",
    "vnir = f['HDFEOS/SWATHS/PRS_L2C_HCO/Data Fields/SWIR_Cube']\n",
    "\n",
    "print('VNIR '+str(vnir.shape), 'SWIR '+str(swir.shape))"
   ]
  },
  {
   "cell_type": "code",
   "execution_count": null,
   "id": "799cc0eb",
   "metadata": {},
   "outputs": [],
   "source": [
    "plt.imshow(vnir[0:,70,0:])"
   ]
  },
  {
   "cell_type": "code",
   "execution_count": null,
   "id": "21bda2e8-d58c-4da9-92ba-9ce0c6a5c150",
   "metadata": {},
   "outputs": [],
   "source": [
    "plt.imshow(latitude[:])"
   ]
  },
  {
   "cell_type": "code",
   "execution_count": null,
   "id": "12c930eb-d3b8-4a85-b880-70a574f40c5c",
   "metadata": {},
   "outputs": [],
   "source": [
    "plt.imshow(longitude[:])"
   ]
  },
  {
   "cell_type": "code",
   "execution_count": null,
   "id": "8f7cbbe3-fae9-4910-b067-d61b273a3cd2",
   "metadata": {},
   "outputs": [],
   "source": [
    "prismaxarray = xarray.DataArray(data=swir[:], coords=dict(lon=([\"x\",\"y\"], longitude[:]),lat=([\"x\",\"y\"], latitude[:])), dims=[\"y\",\"band\",\"x\"])"
   ]
  },
  {
   "cell_type": "code",
   "execution_count": null,
   "id": "f9f454b2-c306-4802-b7d2-d799f4d0719b",
   "metadata": {},
   "outputs": [],
   "source": [
    "prismaxarray.isel(band=[4]).plot(robust=True)"
   ]
  },
  {
   "cell_type": "code",
   "execution_count": null,
   "id": "8266ff8e-6c08-441f-a9fa-68d0dc5adfa9",
   "metadata": {},
   "outputs": [],
   "source": [
    "#red, green, blue\n",
    "prismaxarray.isel(band=[6,16,35]).plot.imshow(rgb='band', robust=True)"
   ]
  },
  {
   "cell_type": "code",
   "execution_count": null,
   "id": "089f18af-bef7-44fb-9435-13ed2f06f23b",
   "metadata": {
    "scrolled": true
   },
   "outputs": [],
   "source": [
    "redW = Dropdown(options = prismaxarray.band.values.tolist())\n",
    "greenW = Dropdown(options = prismaxarray.band.values.tolist())\n",
    "blueW = Dropdown(options = prismaxarray.band.values.tolist())\n",
    "startW = Dropdown(options = ['Pause', 'Go'])\n",
    "\n",
    "@interact(red = redW, green = greenW, blue = blueW, start = startW)\n",
    "\n",
    "def rgb_combo(red, green, blue, start):\n",
    "    redW.options = prismaxarray.band.values.tolist()\n",
    "    greenW.options = prismaxarray.band.values.tolist()\n",
    "    blueW.options = prismaxarray.band.values.tolist()\n",
    "    if start == 'Go':\n",
    "        prismaxarray.isel(band=[red,green,blue]).plot.imshow(rgb='band', robust=True)\n"
   ]
  },
  {
   "cell_type": "code",
   "execution_count": null,
   "id": "53746746-7052-483b-b63c-2fe2984d809c",
   "metadata": {},
   "outputs": [],
   "source": [
    "#TODO - Adapt and implement warp routine from EMIT "
   ]
  },
  {
   "cell_type": "code",
   "execution_count": null,
   "id": "c7277004-cd19-453a-bb58-22f9098027f8",
   "metadata": {},
   "outputs": [],
   "source": []
  }
 ],
 "metadata": {
  "kernelspec": {
   "display_name": "Python 3 (ipykernel)",
   "language": "python",
   "name": "python3"
  },
  "language_info": {
   "codemirror_mode": {
    "name": "ipython",
    "version": 3
   },
   "file_extension": ".py",
   "mimetype": "text/x-python",
   "name": "python",
   "nbconvert_exporter": "python",
   "pygments_lexer": "ipython3",
   "version": "3.11.6"
  }
 },
 "nbformat": 4,
 "nbformat_minor": 5
}
